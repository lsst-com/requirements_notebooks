{
 "cells": [
  {
   "cell_type": "code",
   "execution_count": 1,
   "metadata": {},
   "outputs": [],
   "source": [
    "%matplotlib inline\n",
    "import matplotlib.pyplot as plt\n",
    "\n",
    "import os\n",
    "import json\n",
    "import numpy as np\n",
    "data_dir = '/project/danielsf'\n",
    "valid_visit_path = os.path.join(data_dir, 'valid_hsc_visits_DM_20525.txt')\n",
    "assert os.path.isfile(valid_visit_path)\n",
    "valid_data_id_list = []\n",
    "with open(valid_visit_path, 'r') as in_file:\n",
    "    for line in in_file:\n",
    "        data_id = json.loads(line)\n",
    "        valid_data_id_list.append(data_id)"
   ]
  },
  {
   "cell_type": "code",
   "execution_count": 2,
   "metadata": {},
   "outputs": [],
   "source": [
    "unq_id = set()\n",
    "for data_id in valid_data_id_list:\n",
    "    visit_ccd = (data_id['visit'], data_id['ccd'])\n",
    "    assert visit_ccd not in unq_id\n",
    "    unq_id.add(visit_ccd)"
   ]
  },
  {
   "cell_type": "code",
   "execution_count": 3,
   "metadata": {},
   "outputs": [
    {
     "data": {
      "text/plain": [
       "44496"
      ]
     },
     "execution_count": 3,
     "metadata": {},
     "output_type": "execute_result"
    }
   ],
   "source": [
    "len(unq_id)"
   ]
  },
  {
   "cell_type": "code",
   "execution_count": 4,
   "metadata": {},
   "outputs": [
    {
     "data": {
      "text/plain": [
       "44496"
      ]
     },
     "execution_count": 4,
     "metadata": {},
     "output_type": "execute_result"
    }
   ],
   "source": [
    "len(valid_data_id_list)"
   ]
  },
  {
   "cell_type": "code",
   "execution_count": 5,
   "metadata": {},
   "outputs": [],
   "source": [
    "from lsst.daf.persistence import Butler\n",
    "#repo_dir = '/datasets/hsc/repo/rerun/DM-13666/UDEEP'\n",
    "repo_dir = '/datasets/hsc/repo/rerun/RC/w_2019_30/DM-20525'\n",
    "butler = Butler(repo_dir)"
   ]
  },
  {
   "cell_type": "code",
   "execution_count": 6,
   "metadata": {},
   "outputs": [],
   "source": [
    "import time\n",
    "from astropy.coordinates import SkyCoord\n",
    "from astropy import units as u"
   ]
  },
  {
   "cell_type": "code",
   "execution_count": 7,
   "metadata": {},
   "outputs": [
    {
     "name": "stdout",
     "output_type": "stream",
     "text": [
      "{'visit': 318, 'ccd': 0, 'filter': 'HSC-Y'}\n"
     ]
    }
   ],
   "source": [
    "print(valid_data_id_list[0])"
   ]
  },
  {
   "cell_type": "code",
   "execution_count": 8,
   "metadata": {},
   "outputs": [],
   "source": [
    "def extent_from_data_id(data_id_list, output_dict, my_lock, repo_dir):\n",
    "    t_start = time.time()\n",
    "    local_butler = Butler(repo_dir)\n",
    "    bounds = {}\n",
    "    ct = 0\n",
    "    #theta = np.arange(0.0,2.0*np.pi,0.01)\n",
    "\n",
    "    n_data = len(data_id_list)\n",
    "    ccd = np.zeros(n_data, dtype=int)\n",
    "    visit = np.zeros(n_data, dtype=int)\n",
    "    hsc_filter = np.empty(n_data, dtype=(str,5))\n",
    "    ra_center = np.zeros(n_data, dtype=float)\n",
    "    dec_center = np.zeros(n_data, dtype=float)\n",
    "    ra_min = np.zeros(n_data, dtype=float)\n",
    "    ra_max = np.zeros(n_data, dtype=float)\n",
    "    dec_min = np.zeros(n_data, dtype=float)\n",
    "    dec_max = np.zeros(n_data, dtype=float)\n",
    "    for ii, data_id in enumerate(data_id_list):\n",
    "        tag = (data_id['visit'], data_id['ccd'])\n",
    "        src = local_butler.get('src', dataId=data_id)\n",
    "        _ra_max = src['coord_ra'].max()\n",
    "        _ra_min = src['coord_ra'].min()\n",
    "        _dec_max = src['coord_dec'].max()\n",
    "        _dec_min = src['coord_dec'].min()\n",
    "        _ra_center = 0.5*(_ra_max+_ra_min)\n",
    "        _dec_center = 0.5*(_dec_max+_dec_min)\n",
    "\n",
    "        ccd[ii] = data_id['ccd']\n",
    "        visit[ii] = data_id['visit']\n",
    "        hsc_filter[ii] = data_id['filter']\n",
    "        ra_center[ii] = _ra_center\n",
    "        dec_center[ii] = _dec_center\n",
    "        ra_min[ii] = _ra_min\n",
    "        ra_max[ii] = _ra_max\n",
    "        dec_min[ii] = _dec_min\n",
    "        dec_max[ii] = _dec_max\n",
    "    \n",
    "        ct += 1\n",
    "        if ct%500 == 0:\n",
    "            duration = (time.time()-t_start)/3600.0\n",
    "            pred = duration/ct\n",
    "            print(os.getpid(),ct,duration,pred)\n",
    "\n",
    "    with my_lock:\n",
    "        output_dict['ccd'].append(ccd)\n",
    "        output_dict['visit'].append(visit)\n",
    "        output_dict['filter'].append(hsc_filter)\n",
    "        output_dict['ra_center'].append(ra_center)\n",
    "        output_dict['dec_center'].append(dec_center)\n",
    "        output_dict['ra_min'].append(ra_min)\n",
    "        output_dict['dec_min'].append(dec_min)\n",
    "        output_dict['ra_max'].append(ra_max)\n",
    "        output_dict['dec_max'].append(dec_max)\n",
    "    "
   ]
  },
  {
   "cell_type": "code",
   "execution_count": 9,
   "metadata": {},
   "outputs": [
    {
     "name": "stdout",
     "output_type": "stream",
     "text": [
      "7653 500 0.012919162445598178 2.5838324891196356e-05\n",
      "7656 500 0.01643142408794827 3.286284817589654e-05\n",
      "7659 500 0.019451782239807976 3.890356447961595e-05\n",
      "7653 1000 0.025986652970314026 2.5986652970314027e-05\n",
      "7656 1000 0.03561800009674496 3.561800009674496e-05\n",
      "7662 500 0.036186169452137415 7.237233890427483e-05\n",
      "7653 1500 0.03849785155720181 2.5665234371467874e-05\n",
      "7659 1000 0.03962838285499149 3.962838285499149e-05\n",
      "7653 2000 0.05172263264656067 2.5861316323280336e-05\n",
      "7656 1500 0.05227557990286085 3.485038660190723e-05\n",
      "7662 1000 0.06046123312579261 6.0461233125792606e-05\n",
      "7659 1500 0.06186602320935991 4.124401547290661e-05\n",
      "7656 2000 0.07110524608029259 3.55526230401463e-05\n",
      "7704 500 0.03287602424621582 6.575204849243164e-05\n",
      "7662 1500 0.08953588869836596 5.96905924655773e-05\n",
      "7737 500 0.021416866580645243 4.283373316129049e-05\n",
      "7659 2000 0.09653404626581404 4.826702313290702e-05\n",
      "7769 500 0.01876058320204417 3.752116640408834e-05\n",
      "7704 1000 0.06663344542185466 6.663344542185466e-05\n",
      "7737 1000 0.04794089012675815 4.7940890126758155e-05\n",
      "7662 2000 0.12607956071694693 6.303978035847347e-05\n",
      "7769 1000 0.036453001101811724 3.645300110181172e-05\n",
      "7737 1500 0.07359222922060225 4.906148614706817e-05\n",
      "7704 1500 0.09952021208074358 6.634680805382905e-05\n",
      "7801 500 0.029165974855422973 5.8331949710845943e-05\n",
      "7737 2000 0.09373675240410699 4.68683762020535e-05\n",
      "7769 1500 0.06844243738386366 4.562829158924244e-05\n",
      "7704 2000 0.11487862262460921 5.7439311312304606e-05\n",
      "7801 1000 0.05906017475657993 5.906017475657993e-05\n",
      "7836 500 0.020709154937002393 4.141830987400479e-05\n",
      "7864 500 0.021324548522631326 4.264909704526265e-05\n",
      "7769 2000 0.09836822291215261 4.9184111456076304e-05\n",
      "7836 1000 0.04044667866494921 4.044667866494921e-05\n",
      "7864 1000 0.04501637485292223 4.501637485292223e-05\n",
      "7801 1500 0.09054219557179345 6.036146371452897e-05\n",
      "7896 500 0.023886677225430808 4.777335445086162e-05\n",
      "7836 1500 0.058080897728602095 3.872059848573473e-05\n",
      "7864 1500 0.06751756767431895 4.50117117828793e-05\n",
      "7801 2000 0.11221041606532203 5.6105208032661016e-05\n",
      "7836 2000 0.07486523727575937 3.743261863787969e-05\n",
      "7896 1000 0.056908216741349965 5.690821674134996e-05\n",
      "7864 2000 0.08604599780506558 4.302299890253279e-05\n",
      "7961 500 0.022965857055452135 4.593171411090427e-05\n",
      "7934 500 0.030195073750283984 6.039014750056797e-05\n",
      "7989 500 0.02178751567999522 4.357503135999044e-05\n",
      "7896 1500 0.08950026055177053 5.966684036784702e-05\n",
      "7961 1000 0.0483877780702379 4.83877780702379e-05\n",
      "7934 1000 0.05182004537847307 5.182004537847307e-05\n",
      "7989 1000 0.04576261262098948 4.576261262098948e-05\n",
      "7934 1500 0.07442700511879391 4.961800341252927e-05\n",
      "7961 1500 0.0746422310007943 4.9761487333862867e-05\n",
      "7896 2000 0.12274975233607822 6.137487616803911e-05\n",
      "7989 1500 0.06954799248112573 4.6365328320750484e-05\n",
      "7934 2000 0.10046755539046394 5.023377769523197e-05\n",
      "7961 2000 0.10063682734966278 5.031841367483139e-05\n",
      "7989 2000 0.09092610637346904 4.546305318673452e-05\n",
      "8033 500 0.02633127444320255 5.2662548886405096e-05\n",
      "8062 500 0.017337593502468534 3.4675187004937064e-05\n",
      "8088 500 0.021751060088475545 4.350212017695109e-05\n",
      "8114 500 0.023035244875484043 4.607048975096808e-05\n",
      "8033 1000 0.04956204354763031 4.956204354763031e-05\n",
      "8062 1000 0.036089261439111495 3.6089261439111496e-05\n",
      "8088 1000 0.045508274965816074 4.550827496581607e-05\n",
      "8114 1000 0.04629207127624088 4.629207127624088e-05\n",
      "8062 1500 0.05527168677912818 3.684779118608545e-05\n",
      "8033 1500 0.0775940775209003 5.1729385013933535e-05\n",
      "8088 1500 0.07247344666057162 4.8315631107047746e-05\n",
      "8062 2000 0.07427359455161625 3.713679727580812e-05\n",
      "8114 1500 0.07721931318442027 5.147954212294685e-05\n",
      "8033 2000 0.10758326272169749 5.379163136084875e-05\n",
      "8088 2000 0.10344015737374623 5.172007868687312e-05\n",
      "8163 500 0.035067030986150105 7.01340619723002e-05\n",
      "8191 500 0.027359134157498678 5.471826831499736e-05\n",
      "8114 2000 0.11005163649717967 5.502581824858983e-05\n",
      "8217 500 0.024705539411968656 4.941107882393731e-05\n",
      "8191 1000 0.046449176536666026 4.6449176536666025e-05\n",
      "8247 500 0.018482273287243313 3.6964546574486626e-05\n",
      "8163 1000 0.07049426919884152 7.049426919884153e-05\n",
      "8217 1000 0.04490536000993517 4.490536000993517e-05\n",
      "8191 1500 0.06605655590693156 4.4037703937954374e-05\n",
      "8247 1000 0.038753561576207476 3.875356157620748e-05\n",
      "8217 1500 0.0638377312819163 4.2558487521277534e-05\n",
      "8191 2000 0.08807708137565189 4.403854068782594e-05\n",
      "8247 1500 0.06049163301785787 4.032775534523858e-05\n",
      "8163 1500 0.10587157474623786 7.058104983082524e-05\n",
      "8217 2000 0.08257800698280335 4.128900349140168e-05\n",
      "8247 2000 0.08366052349408468 4.183026174704234e-05\n",
      "8163 2000 0.1380544729365243 6.902723646826214e-05\n",
      "all done\n"
     ]
    }
   ],
   "source": [
    "import multiprocessing\n",
    "\n",
    "mgr = multiprocessing.Manager()\n",
    "output_dict = mgr.dict()\n",
    "for k in ['ccd', 'visit', 'filter', 'ra_center',\n",
    "         'dec_center', 'ra_min', 'dec_min',\n",
    "         'ra_max', 'dec_max']:\n",
    "\n",
    "    output_dict[k] = mgr.list()\n",
    "\n",
    "my_lock = mgr.Lock()\n",
    "p_list = []\n",
    "d_data_id = 2000\n",
    "for i_start in range(0,len(valid_data_id_list), d_data_id):\n",
    "    p = multiprocessing.Process(target=extent_from_data_id,\n",
    "                                args=(valid_data_id_list[i_start:i_start+d_data_id],\n",
    "                                      output_dict, my_lock, repo_dir))\n",
    "    p.start()\n",
    "    p_list.append(p)\n",
    "    while len(p_list)>=4:\n",
    "        exit_code_list = []\n",
    "        for p in p_list:\n",
    "            exit_code_list.append(p.exitcode)\n",
    "        for i_p in range(len(exit_code_list)-1, -1, -1):\n",
    "            if exit_code_list[i_p] is not None:\n",
    "                p_list.pop(i_p)\n",
    "for p in p_list:\n",
    "    p.join()\n",
    "print('all done')\n",
    "with open('/project/danielsf/DM-20525-spatial-log.txt','w') as out_file:\n",
    "    out_file.write('all done\\n')"
   ]
  },
  {
   "cell_type": "code",
   "execution_count": 10,
   "metadata": {},
   "outputs": [],
   "source": [
    "out_dir = '/project/danielsf'\n",
    "assert os.path.isdir(out_dir)"
   ]
  },
  {
   "cell_type": "code",
   "execution_count": 11,
   "metadata": {},
   "outputs": [],
   "source": [
    "out_name = os.path.join(out_dir, 'valid_hsc_visit_extent_DM_20525.h5')\n",
    "assert not os.path.exists(out_name)"
   ]
  },
  {
   "cell_type": "code",
   "execution_count": 12,
   "metadata": {},
   "outputs": [],
   "source": [
    "import h5py\n",
    "with h5py.File(out_name, 'w') as out_file:\n",
    "\n",
    "    for k in ['ccd', 'visit', 'filter', 'ra_center',\n",
    "             'dec_center', 'ra_min', 'dec_min',\n",
    "             'ra_max', 'dec_max']:\n",
    "        d_set = np.concatenate(output_dict[k])\n",
    "        if k == 'filter':\n",
    "            d_set = d_set.astype(bytes)\n",
    "        out_file.create_dataset(k, data=d_set)"
   ]
  },
  {
   "cell_type": "code",
   "execution_count": null,
   "metadata": {},
   "outputs": [],
   "source": []
  },
  {
   "cell_type": "code",
   "execution_count": 13,
   "metadata": {},
   "outputs": [
    {
     "name": "stdout",
     "output_type": "stream",
     "text": [
      "44496\n"
     ]
    }
   ],
   "source": [
    "with h5py.File(out_name, 'r') as in_file:\n",
    "    print(len(in_file['filter'][()]))"
   ]
  },
  {
   "cell_type": "code",
   "execution_count": null,
   "metadata": {},
   "outputs": [],
   "source": [
    "out_name"
   ]
  },
  {
   "cell_type": "code",
   "execution_count": null,
   "metadata": {},
   "outputs": [],
   "source": []
  }
 ],
 "metadata": {
  "kernelspec": {
   "display_name": "LSST",
   "language": "python",
   "name": "lsst"
  },
  "language_info": {
   "codemirror_mode": {
    "name": "ipython",
    "version": 3
   },
   "file_extension": ".py",
   "mimetype": "text/x-python",
   "name": "python",
   "nbconvert_exporter": "python",
   "pygments_lexer": "ipython3",
   "version": "3.7.2"
  }
 },
 "nbformat": 4,
 "nbformat_minor": 2
}
