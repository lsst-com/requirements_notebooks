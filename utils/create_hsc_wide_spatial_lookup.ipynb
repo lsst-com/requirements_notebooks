{
 "cells": [
  {
   "cell_type": "code",
   "execution_count": 1,
   "metadata": {},
   "outputs": [],
   "source": [
    "%matplotlib inline\n",
    "import matplotlib.pyplot as plt\n",
    "\n",
    "import os\n",
    "import json\n",
    "import numpy as np\n",
    "data_dir = '/project/danielsf'\n",
    "valid_visit_path = os.path.join(data_dir, 'valid_hsc_visits.txt')\n",
    "assert os.path.isfile(valid_visit_path)\n",
    "valid_data_id_list = []\n",
    "with open(valid_visit_path, 'r') as in_file:\n",
    "    for line in in_file:\n",
    "        data_id = json.loads(line)\n",
    "        valid_data_id_list.append(data_id)"
   ]
  },
  {
   "cell_type": "code",
   "execution_count": 2,
   "metadata": {},
   "outputs": [],
   "source": [
    "unq_id = set()\n",
    "for data_id in valid_data_id_list:\n",
    "    visit_ccd = (data_id['visit'], data_id['ccd'])\n",
    "    assert visit_ccd not in unq_id\n",
    "    unq_id.add(visit_ccd)"
   ]
  },
  {
   "cell_type": "code",
   "execution_count": 3,
   "metadata": {},
   "outputs": [
    {
     "data": {
      "text/plain": [
       "473680"
      ]
     },
     "execution_count": 3,
     "metadata": {},
     "output_type": "execute_result"
    }
   ],
   "source": [
    "len(unq_id)"
   ]
  },
  {
   "cell_type": "code",
   "execution_count": 4,
   "metadata": {},
   "outputs": [
    {
     "data": {
      "text/plain": [
       "473680"
      ]
     },
     "execution_count": 4,
     "metadata": {},
     "output_type": "execute_result"
    }
   ],
   "source": [
    "len(valid_data_id_list)"
   ]
  },
  {
   "cell_type": "code",
   "execution_count": 5,
   "metadata": {},
   "outputs": [],
   "source": [
    "from lsst.daf.persistence import Butler\n",
    "repo_dir = '/datasets/hsc/repo/rerun/DM-13666/WIDE'\n",
    "butler = Butler(repo_dir)"
   ]
  },
  {
   "cell_type": "code",
   "execution_count": 6,
   "metadata": {},
   "outputs": [],
   "source": [
    "import time\n",
    "from astropy.coordinates import SkyCoord\n",
    "from astropy import units as u"
   ]
  },
  {
   "cell_type": "code",
   "execution_count": 19,
   "metadata": {},
   "outputs": [
    {
     "name": "stdout",
     "output_type": "stream",
     "text": [
      "{'ccd': 0, 'filter': 'HSC-Y', 'visit': 374}\n"
     ]
    }
   ],
   "source": [
    "print(valid_data_id_list[0])"
   ]
  },
  {
   "cell_type": "code",
   "execution_count": 23,
   "metadata": {},
   "outputs": [
    {
     "name": "stdout",
     "output_type": "stream",
     "text": [
      "100 0.0007405369149314033 7.405369149314033e-06 3.5077752586470714\n",
      "200 0.001877575914065043 9.387879570325215e-06 4.446850794871648\n",
      "300 0.002601358493169149 8.671194977230496e-06 4.107371636814541\n",
      "400 0.0036619530783759224 9.154882695939807e-06 4.336484835412768\n",
      "500 0.004429953826798333 8.859907653596667e-06 4.196761057355669\n"
     ]
    }
   ],
   "source": [
    "t_start = time.time()\n",
    "bounds = {}\n",
    "ct = 0\n",
    "#theta = np.arange(0.0,2.0*np.pi,0.01)\n",
    "\n",
    "n_data = len(valid_data_id_list)\n",
    "ccd = np.zeros(n_data, dtype=int)\n",
    "visit = np.zeros(n_data, dtype=int)\n",
    "hsc_filter = np.empty(n_data, dtype=(str,5))\n",
    "ra_center = np.zeros(n_data, dtype=float)\n",
    "dec_center = np.zeros(n_data, dtype=float)\n",
    "ra_min = np.zeros(n_data, dtype=float)\n",
    "ra_max = np.zeros(n_data, dtype=float)\n",
    "dec_min = np.zeros(n_data, dtype=float)\n",
    "dec_max = np.zeros(n_data, dtype=float)\n",
    "for ii, data_id in enumerate(valid_data_id_list):\n",
    "    tag = (data_id['visit'], data_id['ccd'])\n",
    "    src = butler.get('src', dataId=data_id)\n",
    "    _ra_max = src['coord_ra'].max()\n",
    "    _ra_min = src['coord_ra'].min()\n",
    "    _dec_max = src['coord_dec'].max()\n",
    "    _dec_min = src['coord_dec'].min()\n",
    "    _ra_center = 0.5*(_ra_max+_ra_min)\n",
    "    _dec_center = 0.5*(_dec_max+_dec_min)\n",
    "\n",
    "    ccd[ii] = data_id['ccd']\n",
    "    visit[ii] = data_id['visit']\n",
    "    hsc_filter[ii] = data_id['filter']\n",
    "    ra_center[ii] = _ra_center\n",
    "    dec_center[ii] = _dec_center\n",
    "    ra_min[ii] = _ra_min\n",
    "    ra_max[ii] = _ra_max\n",
    "    dec_min[ii] = _dec_min\n",
    "    dec_max[ii] = _dec_max\n",
    "    \n",
    "    #center_pt = SkyCoord(ra_center*u.rad,\n",
    "    #                     dec_center*u.rad)\n",
    "    #astropy_src = SkyCoord(src['coord_ra']*u.rad,\n",
    "    #                       src['coord_dec']*u.rad)\n",
    "    #dist = center_pt.separation(astropy_src)\n",
    "    #max_dist = dist.max()/u.deg\n",
    "    #plt.figure()\n",
    "    #plt.scatter(np.degrees(src['coord_ra']), np.degrees(src['coord_dec']), color='b')\n",
    "    #plt.scatter(np.degrees(ra_center), np.degrees(dec_center), color='r')\n",
    "    #plt.scatter(np.degrees(ra_center)+max_dist*np.cos(theta),\n",
    "    #            np.degrees(dec_center)+max_dist*np.sin(theta), color='r')\n",
    "    #plt.show()\n",
    "\n",
    "    #bounds[tag] = (ra_center, dec_center, ra_min, ra_max, dec_min, dec_max)\n",
    "    \n",
    "    ct += 1\n",
    "    if ct%100 == 0:\n",
    "        duration = (time.time()-t_start)/3600.0\n",
    "        per = duration/ct\n",
    "        pred = per*len(valid_data_id_list)\n",
    "        print(ct,duration,per,pred)\n",
    "    if ct>500:\n",
    "        break\n",
    "    "
   ]
  },
  {
   "cell_type": "code",
   "execution_count": 41,
   "metadata": {},
   "outputs": [],
   "source": [
    "out_dir = '/project/danielsf'\n",
    "assert os.path.isdir(out_dir)"
   ]
  },
  {
   "cell_type": "code",
   "execution_count": 42,
   "metadata": {},
   "outputs": [],
   "source": [
    "out_name = os.path.join(out_dir, 'valid_hsc_visit_extent.h5')\n",
    "assert not os.path.exists(out_name)"
   ]
  },
  {
   "cell_type": "code",
   "execution_count": 45,
   "metadata": {},
   "outputs": [],
   "source": [
    "with h5py.File(out_name, 'w') as out_file:\n",
    "    out_file.create_dataset('visit', data = visit)\n",
    "    out_file.create_dataset('ccd', data=ccd)\n",
    "    out_file.create_dataset('filter', data=hsc_filter.astype(bytes))\n",
    "    out_file.create_dataset('ra_center', data=ra_center)\n",
    "    out_file.create_dataset('dec_center', data=dec_center)\n",
    "    out_file.create_dataset('ra_min', data=ra_min)\n",
    "    out_file.create_dataset('ra_max', data=ra_max)\n",
    "    out_file.create_dataset('dec_min', data=dec_min)\n",
    "    out_file.create_dataset('dec_max', data=dec_max)"
   ]
  },
  {
   "cell_type": "code",
   "execution_count": 38,
   "metadata": {},
   "outputs": [
    {
     "data": {
      "text/plain": [
       "103"
      ]
     },
     "execution_count": 38,
     "metadata": {},
     "output_type": "execute_result"
    }
   ],
   "source": []
  },
  {
   "cell_type": "code",
   "execution_count": 46,
   "metadata": {},
   "outputs": [
    {
     "name": "stdout",
     "output_type": "stream",
     "text": [
      "b'HSC-Y'\n"
     ]
    }
   ],
   "source": [
    "with h5py.File(out_name, 'r') as in_file:\n",
    "    print(in_file['filter'][10])"
   ]
  },
  {
   "cell_type": "code",
   "execution_count": 40,
   "metadata": {},
   "outputs": [
    {
     "data": {
      "text/plain": [
       "2.4558171800393103"
      ]
     },
     "execution_count": 40,
     "metadata": {},
     "output_type": "execute_result"
    }
   ],
   "source": []
  },
  {
   "cell_type": "code",
   "execution_count": null,
   "metadata": {},
   "outputs": [],
   "source": []
  }
 ],
 "metadata": {
  "kernelspec": {
   "display_name": "LSST",
   "language": "python",
   "name": "lsst"
  },
  "language_info": {
   "codemirror_mode": {
    "name": "ipython",
    "version": 3
   },
   "file_extension": ".py",
   "mimetype": "text/x-python",
   "name": "python",
   "nbconvert_exporter": "python",
   "pygments_lexer": "ipython3",
   "version": "3.7.2"
  }
 },
 "nbformat": 4,
 "nbformat_minor": 2
}
