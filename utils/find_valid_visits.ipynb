{
 "cells": [
  {
   "cell_type": "markdown",
   "metadata": {},
   "source": [
    "Some comments"
   ]
  },
  {
   "cell_type": "code",
   "execution_count": 1,
   "metadata": {},
   "outputs": [],
   "source": [
    "import os\n",
    "import h5py\n",
    "import json\n",
    "repo_dir = '/datasets/hsc/repo/rerun/RC/w_2019_30/DM-20525/'\n",
    "assert os.path.isdir(repo_dir)"
   ]
  },
  {
   "cell_type": "code",
   "execution_count": 2,
   "metadata": {},
   "outputs": [],
   "source": [
    "import lsst.daf.persistence as daf_persist"
   ]
  },
  {
   "cell_type": "code",
   "execution_count": 3,
   "metadata": {},
   "outputs": [],
   "source": [
    "butler = daf_persist.Butler(repo_dir)"
   ]
  },
  {
   "cell_type": "code",
   "execution_count": 7,
   "metadata": {},
   "outputs": [],
   "source": [
    "result = butler.queryMetadata('src',['visit','ccd','filter'])"
   ]
  },
  {
   "cell_type": "code",
   "execution_count": 8,
   "metadata": {},
   "outputs": [
    {
     "data": {
      "text/plain": [
       "(204, 0, 'HSC-Y')"
      ]
     },
     "execution_count": 8,
     "metadata": {},
     "output_type": "execute_result"
    }
   ],
   "source": [
    "result[0]"
   ]
  },
  {
   "cell_type": "code",
   "execution_count": 10,
   "metadata": {},
   "outputs": [
    {
     "data": {
      "text/plain": [
       "False"
      ]
     },
     "execution_count": 10,
     "metadata": {},
     "output_type": "execute_result"
    }
   ],
   "source": [
    "data_id = {}\n",
    "data_id={'visit': int(result[0][0]), 'ccd':int(result[0][1]), 'filter':result[0][2]}\n",
    "butler.datasetExists('src', dataId=data_id)"
   ]
  },
  {
   "cell_type": "code",
   "execution_count": 12,
   "metadata": {},
   "outputs": [],
   "source": [
    "project_dir = '/project/danielsf'\n",
    "assert os.path.isdir(project_dir)\n",
    "\n",
    "valid_visit_name = os.path.join(project_dir, 'valid_hsc_visits_DM_20525.txt')\n",
    "spatial_extent_name = os.path.join(project_dir, 'valid_hsc_visits_DM_20525.h5')\n",
    "assert not os.path.isfile(valid_visit_name)\n",
    "assert not os.path.isfile(spatial_extent_name)"
   ]
  },
  {
   "cell_type": "code",
   "execution_count": 13,
   "metadata": {},
   "outputs": [
    {
     "name": "stdout",
     "output_type": "stream",
     "text": [
      "1154258\n"
     ]
    }
   ],
   "source": [
    "print(len(result))"
   ]
  },
  {
   "cell_type": "code",
   "execution_count": 14,
   "metadata": {},
   "outputs": [
    {
     "name": "stdout",
     "output_type": "stream",
     "text": [
      "got 10000 in 1.13e-02 hrs (1.13e-06 1.30e+00)\n",
      "got 20000 in 2.19e-02 hrs (1.10e-06 1.26e+00)\n",
      "got 30000 in 3.32e-02 hrs (1.11e-06 1.28e+00)\n",
      "got 40000 in 4.47e-02 hrs (1.12e-06 1.29e+00)\n",
      "got 50000 in 5.57e-02 hrs (1.11e-06 1.29e+00)\n",
      "got 60000 in 6.63e-02 hrs (1.11e-06 1.28e+00)\n",
      "got 70000 in 7.69e-02 hrs (1.10e-06 1.27e+00)\n",
      "got 80000 in 8.77e-02 hrs (1.10e-06 1.27e+00)\n",
      "got 90000 in 9.88e-02 hrs (1.10e-06 1.27e+00)\n",
      "got 100000 in 1.10e-01 hrs (1.10e-06 1.27e+00)\n",
      "got 110000 in 1.21e-01 hrs (1.10e-06 1.27e+00)\n",
      "got 120000 in 1.33e-01 hrs (1.11e-06 1.28e+00)\n",
      "got 130000 in 1.44e-01 hrs (1.11e-06 1.28e+00)\n",
      "got 140000 in 1.55e-01 hrs (1.11e-06 1.28e+00)\n",
      "got 150000 in 1.66e-01 hrs (1.11e-06 1.28e+00)\n",
      "got 160000 in 1.77e-01 hrs (1.11e-06 1.28e+00)\n",
      "got 170000 in 1.88e-01 hrs (1.11e-06 1.28e+00)\n",
      "got 180000 in 2.00e-01 hrs (1.11e-06 1.28e+00)\n",
      "got 190000 in 2.11e-01 hrs (1.11e-06 1.28e+00)\n",
      "got 200000 in 2.22e-01 hrs (1.11e-06 1.28e+00)\n",
      "got 210000 in 2.33e-01 hrs (1.11e-06 1.28e+00)\n",
      "got 220000 in 2.44e-01 hrs (1.11e-06 1.28e+00)\n",
      "got 230000 in 2.55e-01 hrs (1.11e-06 1.28e+00)\n",
      "got 240000 in 2.66e-01 hrs (1.11e-06 1.28e+00)\n",
      "got 250000 in 2.77e-01 hrs (1.11e-06 1.28e+00)\n",
      "got 260000 in 2.88e-01 hrs (1.11e-06 1.28e+00)\n",
      "got 270000 in 3.00e-01 hrs (1.11e-06 1.28e+00)\n",
      "got 280000 in 3.12e-01 hrs (1.11e-06 1.29e+00)\n",
      "got 290000 in 3.23e-01 hrs (1.12e-06 1.29e+00)\n",
      "got 300000 in 3.34e-01 hrs (1.11e-06 1.29e+00)\n",
      "got 310000 in 3.46e-01 hrs (1.12e-06 1.29e+00)\n",
      "got 320000 in 3.58e-01 hrs (1.12e-06 1.29e+00)\n",
      "got 330000 in 3.70e-01 hrs (1.12e-06 1.29e+00)\n",
      "got 340000 in 3.82e-01 hrs (1.12e-06 1.30e+00)\n",
      "got 350000 in 3.94e-01 hrs (1.12e-06 1.30e+00)\n",
      "got 360000 in 4.05e-01 hrs (1.13e-06 1.30e+00)\n",
      "got 370000 in 4.17e-01 hrs (1.13e-06 1.30e+00)\n",
      "got 380000 in 4.29e-01 hrs (1.13e-06 1.30e+00)\n",
      "got 390000 in 4.41e-01 hrs (1.13e-06 1.30e+00)\n",
      "got 400000 in 4.52e-01 hrs (1.13e-06 1.30e+00)\n",
      "got 410000 in 4.63e-01 hrs (1.13e-06 1.30e+00)\n",
      "got 420000 in 4.75e-01 hrs (1.13e-06 1.31e+00)\n",
      "got 430000 in 4.86e-01 hrs (1.13e-06 1.31e+00)\n",
      "got 440000 in 4.98e-01 hrs (1.13e-06 1.31e+00)\n",
      "got 450000 in 5.10e-01 hrs (1.13e-06 1.31e+00)\n",
      "got 460000 in 5.20e-01 hrs (1.13e-06 1.31e+00)\n",
      "got 470000 in 5.32e-01 hrs (1.13e-06 1.31e+00)\n",
      "got 480000 in 5.44e-01 hrs (1.13e-06 1.31e+00)\n",
      "got 490000 in 5.56e-01 hrs (1.14e-06 1.31e+00)\n",
      "got 500000 in 5.68e-01 hrs (1.14e-06 1.31e+00)\n",
      "got 510000 in 5.79e-01 hrs (1.14e-06 1.31e+00)\n",
      "got 520000 in 5.91e-01 hrs (1.14e-06 1.31e+00)\n",
      "got 530000 in 6.02e-01 hrs (1.14e-06 1.31e+00)\n",
      "got 540000 in 6.14e-01 hrs (1.14e-06 1.31e+00)\n",
      "got 550000 in 6.25e-01 hrs (1.14e-06 1.31e+00)\n",
      "got 560000 in 6.36e-01 hrs (1.14e-06 1.31e+00)\n",
      "got 570000 in 6.47e-01 hrs (1.13e-06 1.31e+00)\n",
      "got 580000 in 6.58e-01 hrs (1.13e-06 1.31e+00)\n",
      "got 590000 in 6.70e-01 hrs (1.13e-06 1.31e+00)\n",
      "got 600000 in 6.81e-01 hrs (1.14e-06 1.31e+00)\n",
      "got 610000 in 6.93e-01 hrs (1.14e-06 1.31e+00)\n",
      "got 620000 in 7.05e-01 hrs (1.14e-06 1.31e+00)\n",
      "got 630000 in 7.16e-01 hrs (1.14e-06 1.31e+00)\n",
      "got 640000 in 7.28e-01 hrs (1.14e-06 1.31e+00)\n",
      "got 650000 in 7.39e-01 hrs (1.14e-06 1.31e+00)\n",
      "got 660000 in 7.51e-01 hrs (1.14e-06 1.31e+00)\n",
      "got 670000 in 7.62e-01 hrs (1.14e-06 1.31e+00)\n",
      "got 680000 in 7.74e-01 hrs (1.14e-06 1.31e+00)\n",
      "got 690000 in 7.86e-01 hrs (1.14e-06 1.31e+00)\n",
      "got 700000 in 7.97e-01 hrs (1.14e-06 1.31e+00)\n",
      "got 710000 in 8.08e-01 hrs (1.14e-06 1.31e+00)\n",
      "got 720000 in 8.19e-01 hrs (1.14e-06 1.31e+00)\n",
      "got 730000 in 8.30e-01 hrs (1.14e-06 1.31e+00)\n",
      "got 740000 in 8.41e-01 hrs (1.14e-06 1.31e+00)\n",
      "got 750000 in 8.53e-01 hrs (1.14e-06 1.31e+00)\n",
      "got 760000 in 8.65e-01 hrs (1.14e-06 1.31e+00)\n",
      "got 770000 in 8.76e-01 hrs (1.14e-06 1.31e+00)\n",
      "got 780000 in 8.87e-01 hrs (1.14e-06 1.31e+00)\n",
      "got 790000 in 8.98e-01 hrs (1.14e-06 1.31e+00)\n",
      "got 800000 in 9.09e-01 hrs (1.14e-06 1.31e+00)\n",
      "got 810000 in 9.20e-01 hrs (1.14e-06 1.31e+00)\n",
      "got 820000 in 9.31e-01 hrs (1.14e-06 1.31e+00)\n",
      "got 830000 in 9.42e-01 hrs (1.14e-06 1.31e+00)\n",
      "got 840000 in 9.53e-01 hrs (1.13e-06 1.31e+00)\n",
      "got 850000 in 9.64e-01 hrs (1.13e-06 1.31e+00)\n",
      "got 860000 in 9.75e-01 hrs (1.13e-06 1.31e+00)\n",
      "got 870000 in 9.87e-01 hrs (1.13e-06 1.31e+00)\n",
      "got 880000 in 9.98e-01 hrs (1.13e-06 1.31e+00)\n",
      "got 890000 in 1.01e+00 hrs (1.13e-06 1.31e+00)\n",
      "got 900000 in 1.02e+00 hrs (1.13e-06 1.31e+00)\n",
      "got 910000 in 1.03e+00 hrs (1.13e-06 1.31e+00)\n",
      "got 920000 in 1.04e+00 hrs (1.13e-06 1.31e+00)\n",
      "got 930000 in 1.05e+00 hrs (1.13e-06 1.31e+00)\n",
      "got 940000 in 1.06e+00 hrs (1.13e-06 1.31e+00)\n",
      "got 950000 in 1.08e+00 hrs (1.13e-06 1.31e+00)\n",
      "got 960000 in 1.09e+00 hrs (1.13e-06 1.31e+00)\n",
      "got 970000 in 1.10e+00 hrs (1.13e-06 1.30e+00)\n",
      "got 980000 in 1.11e+00 hrs (1.13e-06 1.30e+00)\n",
      "got 990000 in 1.12e+00 hrs (1.13e-06 1.30e+00)\n",
      "got 1000000 in 1.13e+00 hrs (1.13e-06 1.30e+00)\n",
      "got 1010000 in 1.14e+00 hrs (1.13e-06 1.30e+00)\n",
      "got 1020000 in 1.15e+00 hrs (1.13e-06 1.30e+00)\n",
      "got 1030000 in 1.16e+00 hrs (1.13e-06 1.30e+00)\n",
      "got 1040000 in 1.17e+00 hrs (1.13e-06 1.30e+00)\n",
      "got 1050000 in 1.18e+00 hrs (1.13e-06 1.30e+00)\n",
      "got 1060000 in 1.19e+00 hrs (1.13e-06 1.30e+00)\n",
      "got 1070000 in 1.20e+00 hrs (1.13e-06 1.30e+00)\n",
      "got 1080000 in 1.21e+00 hrs (1.12e-06 1.30e+00)\n",
      "got 1090000 in 1.23e+00 hrs (1.12e-06 1.30e+00)\n",
      "got 1100000 in 1.24e+00 hrs (1.12e-06 1.30e+00)\n",
      "got 1110000 in 1.25e+00 hrs (1.12e-06 1.30e+00)\n",
      "got 1120000 in 1.26e+00 hrs (1.12e-06 1.30e+00)\n",
      "got 1130000 in 1.27e+00 hrs (1.12e-06 1.30e+00)\n",
      "got 1140000 in 1.28e+00 hrs (1.12e-06 1.30e+00)\n",
      "got 1150000 in 1.29e+00 hrs (1.12e-06 1.30e+00)\n"
     ]
    }
   ],
   "source": [
    "import time\n",
    "t_start = time.time()\n",
    "ct = 0\n",
    "with open(valid_visit_name, 'w') as visit_file:\n",
    "    for r in result:\n",
    "        data_id = {'visit': int(r[0]), 'ccd': int(r[1]), 'filter':r[2]}\n",
    "        if butler.datasetExists('src', dataId=data_id):\n",
    "            #print('found one')\n",
    "            data_id_string = json.dumps(data_id)\n",
    "            visit_file.write('%s\\n' % data_id_string)\n",
    "            #print(data_id_string)\n",
    "            #break\n",
    "        ct += 1\n",
    "        if ct%10000 == 0:\n",
    "            duration = (time.time()-t_start)/3600.0\n",
    "            per = duration/ct\n",
    "            pred = len(result)*per\n",
    "            print('got %d in %.2e hrs (%.2e %.2e)' % (ct, duration, per, pred))\n",
    "\n",
    "with open(os.path.join(project_dir,'DM_20525_visit_log.txt'), 'w') as out_file:\n",
    "    out_file.write('done finding valid visits\\n')"
   ]
  },
  {
   "cell_type": "code",
   "execution_count": null,
   "metadata": {},
   "outputs": [],
   "source": []
  }
 ],
 "metadata": {
  "kernelspec": {
   "display_name": "LSST",
   "language": "python",
   "name": "lsst"
  },
  "language_info": {
   "codemirror_mode": {
    "name": "ipython",
    "version": 3
   },
   "file_extension": ".py",
   "mimetype": "text/x-python",
   "name": "python",
   "nbconvert_exporter": "python",
   "pygments_lexer": "ipython3",
   "version": "3.7.2"
  }
 },
 "nbformat": 4,
 "nbformat_minor": 2
}
