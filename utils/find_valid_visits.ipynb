{
 "cells": [
  {
   "cell_type": "markdown",
   "metadata": {},
   "source": [
    "Some comments"
   ]
  },
  {
   "cell_type": "code",
   "execution_count": 21,
   "metadata": {},
   "outputs": [],
   "source": [
    "import os\n",
    "import h5py\n",
    "import json\n",
    "repo_dir = '/datasets/hsc/repo/rerun/DM-13666/UDEEP'\n",
    "assert os.path.isdir(repo_dir)"
   ]
  },
  {
   "cell_type": "code",
   "execution_count": 22,
   "metadata": {},
   "outputs": [],
   "source": [
    "import lsst.daf.persistence as daf_persist"
   ]
  },
  {
   "cell_type": "code",
   "execution_count": 23,
   "metadata": {},
   "outputs": [],
   "source": [
    "butler = daf_persist.Butler(repo_dir)"
   ]
  },
  {
   "cell_type": "code",
   "execution_count": 24,
   "metadata": {},
   "outputs": [],
   "source": [
    "result = butler.queryMetadata('src',['visit','ccd','filter'])"
   ]
  },
  {
   "cell_type": "code",
   "execution_count": 25,
   "metadata": {},
   "outputs": [
    {
     "data": {
      "text/plain": [
       "(204, 0, 'HSC-Y')"
      ]
     },
     "execution_count": 25,
     "metadata": {},
     "output_type": "execute_result"
    }
   ],
   "source": [
    "result[0]"
   ]
  },
  {
   "cell_type": "code",
   "execution_count": 26,
   "metadata": {},
   "outputs": [
    {
     "data": {
      "text/plain": [
       "False"
      ]
     },
     "execution_count": 26,
     "metadata": {},
     "output_type": "execute_result"
    }
   ],
   "source": [
    "data_id = {}\n",
    "data_id={'visit': result[0][0], 'ccd':result[0][1], 'filter':result[0][2]}\n",
    "butler.datasetExists('src', dataId=data_id)"
   ]
  },
  {
   "cell_type": "code",
   "execution_count": 27,
   "metadata": {},
   "outputs": [],
   "source": [
    "project_dir = '/project/danielsf'\n",
    "assert os.path.isdir(project_dir)\n",
    "\n",
    "valid_visit_name = os.path.join(project_dir, 'valid_hsc_visits_udeep.txt')\n",
    "spatial_extent_name = os.path.join(project_dir, 'valid_hsc_visits_udeep_extent.h5')\n",
    "assert not os.path.isfile(valid_visit_name)\n",
    "assert not os.path.isfile(spatial_extent_name)"
   ]
  },
  {
   "cell_type": "code",
   "execution_count": 28,
   "metadata": {},
   "outputs": [
    {
     "name": "stdout",
     "output_type": "stream",
     "text": [
      "1154258\n",
      "found one\n",
      "{\"visit\": 318, \"ccd\": 0, \"filter\": \"HSC-Y\"}\n"
     ]
    }
   ],
   "source": [
    "print(len(result))\n",
    "with open(valid_visit_name, 'w') as visit_file:\n",
    "    for r in result:\n",
    "        data_id = {'visit': r[0], 'ccd': r[1], 'filter':r[2]}\n",
    "        if butler.datasetExists('src', dataId=data_id):\n",
    "            #print('found one')\n",
    "            data_id_string = json.dumps(data_id)\n",
    "            visit_file.write('%s\\n' % data_id_string)\n",
    "            #print(data_id_string)\n",
    "            #break\n",
    "\n",
    "with open(os.path.join(project_dir,'udeep_visit_log.txt'), 'w') as out_file:\n",
    "    out_file.write('done finding valid visits\\n')"
   ]
  },
  {
   "cell_type": "code",
   "execution_count": null,
   "metadata": {},
   "outputs": [],
   "source": []
  }
 ],
 "metadata": {
  "kernelspec": {
   "display_name": "LSST",
   "language": "python",
   "name": "lsst"
  },
  "language_info": {
   "codemirror_mode": {
    "name": "ipython",
    "version": 3
   },
   "file_extension": ".py",
   "mimetype": "text/x-python",
   "name": "python",
   "nbconvert_exporter": "python",
   "pygments_lexer": "ipython3",
   "version": "3.7.2"
  }
 },
 "nbformat": 4,
 "nbformat_minor": 2
}
