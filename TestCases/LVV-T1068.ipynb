{
 "cells": [
  {
   "cell_type": "markdown",
   "metadata": {},
   "source": [
    "This test case attempts to search for ghosts by comparing an LSST catalog with an external truth catalog over the same area and verifying that all of the LSST sources within the truth catalog's detection limit correspond to sources in the truth catalog.\n",
    "\n",
    "Comparing one HSC catalog to Gaia DR2 demonstrates that this test may not be adequate, as there are dozens of HSC sources that do not appear in Gaia (though not much effort was put into making sure that we could compare Gaia and HSC magnitudes)."
   ]
  },
  {
   "cell_type": "code",
   "execution_count": null,
   "metadata": {},
   "outputs": [],
   "source": [
    "%matplotlib inline\n",
    "import matplotlib.pyplot as plt"
   ]
  },
  {
   "cell_type": "code",
   "execution_count": null,
   "metadata": {},
   "outputs": [],
   "source": [
    "import os\n",
    "import json\n",
    "import numpy as np\n",
    "import pandas\n",
    "data_dir = '/project/danielsf'\n",
    "valid_visit_path = os.path.join(data_dir, 'valid_hsc_visits.txt')\n",
    "gaia_overlap_pickle_path = os.path.join(data_dir, 'gaia_hsc_overlap_pandas_with_photometry.pickle')\n",
    "assert os.path.isfile(valid_visit_path)\n",
    "assert os.path.isfile(gaia_overlap_pickle_path)"
   ]
  },
  {
   "cell_type": "code",
   "execution_count": null,
   "metadata": {},
   "outputs": [],
   "source": [
    "from lsst.daf.persistence import Butler\n",
    "repo_dir = '/datasets/hsc/repo/rerun/DM-13666/WIDE'\n",
    "butler = Butler(repo_dir)"
   ]
  },
  {
   "cell_type": "markdown",
   "metadata": {},
   "source": [
    "Assemble a list of valid HSC WIDE dataIds"
   ]
  },
  {
   "cell_type": "code",
   "execution_count": null,
   "metadata": {},
   "outputs": [],
   "source": [
    "valid_data_id = []\n",
    "with open(valid_visit_path, 'r') as in_file:\n",
    "    for line in in_file:\n",
    "        data_id = json.loads(line)\n",
    "        valid_data_id.append(data_id)\n",
    "data_id = valid_data_id[10]"
   ]
  },
  {
   "cell_type": "code",
   "execution_count": null,
   "metadata": {},
   "outputs": [],
   "source": [
    "gaia_df = pandas.read_pickle(gaia_overlap_pickle_path)"
   ]
  },
  {
   "cell_type": "code",
   "execution_count": null,
   "metadata": {},
   "outputs": [],
   "source": [
    "hsc_src = butler.get('src', dataId=valid_data_id[10])"
   ]
  },
  {
   "cell_type": "markdown",
   "metadata": {},
   "source": [
    "find rough RA, Dec bounds of HSC region and get the Gaia overlap therewith"
   ]
  },
  {
   "cell_type": "code",
   "execution_count": null,
   "metadata": {},
   "outputs": [],
   "source": [
    "ra_min = np.degrees(hsc_src['coord_ra'].min())\n",
    "ra_max = np.degrees(hsc_src['coord_ra'].max())\n",
    "dec_min = np.degrees(hsc_src['coord_dec'].min())\n",
    "dec_max = np.degrees(hsc_src['coord_dec'].max())"
   ]
  },
  {
   "cell_type": "code",
   "execution_count": null,
   "metadata": {},
   "outputs": [],
   "source": [
    "gaia_df_overlap = gaia_df[(gaia_df.ra<=ra_max) & (gaia_df.ra>=ra_min)\n",
    "                          & (gaia_df.dec<=dec_max) & (gaia_df.dec>=dec_min)]"
   ]
  },
  {
   "cell_type": "markdown",
   "metadata": {},
   "source": [
    "Find HSC sources that are brighter than the dimmest Gaia magnitude"
   ]
  },
  {
   "cell_type": "code",
   "execution_count": null,
   "metadata": {},
   "outputs": [],
   "source": [
    "photo_calib = butler.get('calexp_photoCalib', dataId=data_id)"
   ]
  },
  {
   "cell_type": "code",
   "execution_count": null,
   "metadata": {},
   "outputs": [],
   "source": [
    "hsc_mag = photo_calib.instFluxToMagnitude(hsc_src, 'base_PsfFlux')"
   ]
  },
  {
   "cell_type": "code",
   "execution_count": null,
   "metadata": {},
   "outputs": [],
   "source": [
    "max_gaia_mag = gaia_df_overlap.phot_g_mean_mag.max()"
   ]
  },
  {
   "cell_type": "code",
   "execution_count": null,
   "metadata": {},
   "outputs": [],
   "source": [
    "mag_cut_dexes = np.where(hsc_mag[:,0]<=max_gaia_mag)"
   ]
  },
  {
   "cell_type": "markdown",
   "metadata": {},
   "source": [
    "spatially associate Gaia and HSC sources"
   ]
  },
  {
   "cell_type": "code",
   "execution_count": null,
   "metadata": {},
   "outputs": [],
   "source": [
    "import scipy.spatial as scipy_spatial"
   ]
  },
  {
   "cell_type": "code",
   "execution_count": null,
   "metadata": {},
   "outputs": [],
   "source": [
    "normalized_gaia_ra = gaia_df_overlap.ra.values*np.cos(np.radians(gaia_df_overlap.dec.values))\n",
    "gaia_spatial_data = np.array([normalized_gaia_ra, gaia_df_overlap.dec.values]).transpose()"
   ]
  },
  {
   "cell_type": "code",
   "execution_count": null,
   "metadata": {},
   "outputs": [],
   "source": [
    "normalized_hsc_ra = np.degrees(hsc_src['coord_ra'][mag_cut_dexes])*np.cos(hsc_src['coord_dec'][mag_cut_dexes])\n",
    "hsc_dec = np.degrees(hsc_src['coord_dec'][mag_cut_dexes])\n",
    "hsc_spatial_data = np.array([normalized_hsc_ra, hsc_dec]).transpose()"
   ]
  },
  {
   "cell_type": "code",
   "execution_count": null,
   "metadata": {},
   "outputs": [],
   "source": [
    "%time\n",
    "gaia_tree = scipy_spatial.cKDTree(gaia_spatial_data, leafsize=4)"
   ]
  },
  {
   "cell_type": "code",
   "execution_count": null,
   "metadata": {},
   "outputs": [],
   "source": [
    "%time\n",
    "hsc_dist, hsc_dex = gaia_tree.query(hsc_spatial_data)"
   ]
  },
  {
   "cell_type": "code",
   "execution_count": null,
   "metadata": {},
   "outputs": [],
   "source": [
    "%time\n",
    "hsc_tree = scipy_spatial.cKDTree(hsc_spatial_data, leafsize=4)"
   ]
  },
  {
   "cell_type": "code",
   "execution_count": null,
   "metadata": {},
   "outputs": [],
   "source": [
    "%time\n",
    "gaia_dist, gaia_dex = hsc_tree.query(gaia_spatial_data)"
   ]
  },
  {
   "cell_type": "code",
   "execution_count": null,
   "metadata": {},
   "outputs": [],
   "source": [
    "calexp = butler.get('calexp', dataId=data_id)"
   ]
  },
  {
   "cell_type": "code",
   "execution_count": null,
   "metadata": {},
   "outputs": [],
   "source": [
    "wcs = calexp.getWcs()"
   ]
  },
  {
   "cell_type": "markdown",
   "metadata": {},
   "source": [
    "Plot images and sources.  Gaia sources in the field are yellow circles.  HSC sources that are (probably?) bright enough to be detected by Gaia are cyan crosses."
   ]
  },
  {
   "cell_type": "code",
   "execution_count": null,
   "metadata": {},
   "outputs": [],
   "source": [
    "import lsst.geom as lsst_geom"
   ]
  },
  {
   "cell_type": "code",
   "execution_count": null,
   "metadata": {},
   "outputs": [],
   "source": [
    "gaia_sky_pts = [lsst_geom.SpherePoint(rr, dd, lsst_geom.degrees)\n",
    "                for rr, dd in zip(gaia_df_overlap.ra.values, gaia_df_overlap.dec.values)]"
   ]
  },
  {
   "cell_type": "code",
   "execution_count": null,
   "metadata": {},
   "outputs": [],
   "source": [
    "gaia_pixel_points = wcs.skyToPixel(gaia_sky_pts)"
   ]
  },
  {
   "cell_type": "code",
   "execution_count": null,
   "metadata": {},
   "outputs": [],
   "source": [
    "gaia_pixel_points[70]"
   ]
  },
  {
   "cell_type": "code",
   "execution_count": null,
   "metadata": {},
   "outputs": [],
   "source": [
    "gaia_x = [p.getX() for p in gaia_pixel_points]\n",
    "gaia_y = [p.getY() for p in gaia_pixel_points]"
   ]
  },
  {
   "cell_type": "code",
   "execution_count": null,
   "metadata": {},
   "outputs": [],
   "source": [
    "hsc_sky_points = [lsst_geom.SpherePoint(rr, dd, lsst_geom.radians)\n",
    "                  for rr, dd in zip(hsc_src['coord_ra'][mag_cut_dexes],\n",
    "                                    hsc_src['coord_dec'][mag_cut_dexes])]"
   ]
  },
  {
   "cell_type": "code",
   "execution_count": null,
   "metadata": {},
   "outputs": [],
   "source": [
    "hsc_pixel_points = wcs.skyToPixel(hsc_sky_points)\n",
    "hsc_x = [p.getX() for p in hsc_pixel_points]\n",
    "hsc_y = [p.getY() for p in hsc_pixel_points]"
   ]
  },
  {
   "cell_type": "code",
   "execution_count": null,
   "metadata": {},
   "outputs": [],
   "source": [
    "import lsst.afw.display as afwDisplay"
   ]
  },
  {
   "cell_type": "code",
   "execution_count": null,
   "metadata": {},
   "outputs": [],
   "source": [
    "plt.rcParams['figure.figsize'] = (22.0, 22.0) \n",
    "plt.rcParams['lines.markeredgewidth'] = 2.0\n",
    "plt.rcParams['lines.markerfacecolor'] = 'none'\n",
    "plt.rcParams['lines.markersize'] = 12.0\n",
    "plt.figure()\n",
    "afwDisplay.setDefaultBackend('matplotlib')\n",
    "afw_display = afwDisplay.Display()\n",
    "afw_display.scale('asinh', 'zscale')\n",
    "afw_display.mtv(calexp)\n",
    "plt.plot(gaia_x, gaia_y, color='y', alpha=1.0,\n",
    "        marker='o', linestyle='none')\n",
    "plt.plot(hsc_x, hsc_y, color='c', marker='+', linestyle='none')\n",
    "#plt.ylim(2000,2500)\n",
    "#plt.xlim(0,250)\n",
    "plt.show()"
   ]
  },
  {
   "cell_type": "markdown",
   "metadata": {},
   "source": [
    "Note source in pixel ~ (250, 2100); Gaia finds something that HSC does not"
   ]
  },
  {
   "cell_type": "markdown",
   "metadata": {},
   "source": [
    "### Everything below here is junk"
   ]
  },
  {
   "cell_type": "code",
   "execution_count": null,
   "metadata": {},
   "outputs": [],
   "source": [
    "plt.rcParams.keys()"
   ]
  },
  {
   "cell_type": "code",
   "execution_count": null,
   "metadata": {},
   "outputs": [],
   "source": [
    "my_channel = '{}_test_channel'.format(os.environ['USER'])\n",
    "server = 'https://lsst-lsp-stable.ncsa.illinois.edu'"
   ]
  },
  {
   "cell_type": "code",
   "execution_count": null,
   "metadata": {},
   "outputs": [],
   "source": [
    "ff='{}/firefly/slate.html?__wsch={}'.format(server, my_channel)\n",
    "IFrame(ff,800,600)"
   ]
  },
  {
   "cell_type": "code",
   "execution_count": null,
   "metadata": {},
   "outputs": [],
   "source": [
    "afwDisplay.setDefaultBackend('firefly')\n",
    "afw_display = afwDisplay.getDisplay(frame=0, \n",
    "                                    host=server,\n",
    "                                    name=my_channel)"
   ]
  },
  {
   "cell_type": "code",
   "execution_count": null,
   "metadata": {},
   "outputs": [],
   "source": []
  },
  {
   "cell_type": "code",
   "execution_count": null,
   "metadata": {},
   "outputs": [],
   "source": [
    "calexp = butler.get('calexp', dataId=data_id)"
   ]
  },
  {
   "cell_type": "code",
   "execution_count": null,
   "metadata": {},
   "outputs": [],
   "source": [
    "plt.rcParams['figure.figsize'] = (22.0, 22.0) \n",
    "plt.figure()\n",
    "afwDisplay.setDefaultBackend('matplotlib')\n",
    "afw_display = afwDisplay.Display()\n",
    "afw_display.scale('asinh', 'zscale')\n",
    "afw_display.mtv(calexp)\n",
    "plt.show()"
   ]
  },
  {
   "cell_type": "code",
   "execution_count": null,
   "metadata": {},
   "outputs": [],
   "source": [
    "data_id"
   ]
  },
  {
   "cell_type": "code",
   "execution_count": null,
   "metadata": {},
   "outputs": [],
   "source": [
    "wcs = calexp.getWcs()"
   ]
  },
  {
   "cell_type": "code",
   "execution_count": null,
   "metadata": {},
   "outputs": [],
   "source": [
    "help(wcs.skyToPixel)"
   ]
  },
  {
   "cell_type": "code",
   "execution_count": null,
   "metadata": {},
   "outputs": [],
   "source": [
    "plt.figure()\n",
    "plt.plot([1,2,3],[4,5,6])"
   ]
  },
  {
   "cell_type": "code",
   "execution_count": null,
   "metadata": {},
   "outputs": [],
   "source": []
  }
 ],
 "metadata": {
  "kernelspec": {
   "display_name": "LSST",
   "language": "python",
   "name": "lsst"
  },
  "language_info": {
   "codemirror_mode": {
    "name": "ipython",
    "version": 3
   },
   "file_extension": ".py",
   "mimetype": "text/x-python",
   "name": "python",
   "nbconvert_exporter": "python",
   "pygments_lexer": "ipython3",
   "version": "3.7.2"
  }
 },
 "nbformat": 4,
 "nbformat_minor": 2
}
