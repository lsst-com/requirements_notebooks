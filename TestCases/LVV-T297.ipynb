{
 "cells": [
  {
   "cell_type": "markdown",
   "metadata": {},
   "source": [
    "# LVV-T297: Absolute Astrometric Performance\n",
    "\n",
    "**Written By: Bryce Kalmbach**\n",
    "\n",
    "**Last updated: 07-18-2019**\n",
    "\n",
    "**Tested on Stack Version: w_2019_28**\n",
    "\n",
    "## Requirements:\n",
    "\n",
    "[OSS-REQ-0388](https://docushare.lsst.org/docushare/dsweb/Get/LSE-030#page=68)\n",
    "\n",
    "Median error in absolute position for each axis, RA and DEC, shall be less than 50 milliarcseconds.\n",
    "\n",
    "## Proposed Test Case:\n",
    "\n",
    "1. Take images from region overlapping the Gaia footprint.  Repeat at multiple airmasses.\n",
    "\n",
    "2. Perform source detection and astrometric measurement on images from step 1\n",
    "\n",
    "3. Cross-match catalog from step 2 with Gaia catalog.  Select sources that are consistent with zero proper motion (according to Gaia).\n",
    "\n",
    "4. Verify that the median error of the LSST positions (relative to the Gaia positions) is **50 milliarcseconds in RA, Dec independently**"
   ]
  },
  {
   "cell_type": "markdown",
   "metadata": {},
   "source": [
    "### Import necessary tools"
   ]
  },
  {
   "cell_type": "code",
   "execution_count": null,
   "metadata": {},
   "outputs": [],
   "source": [
    "import os\n",
    "import numpy as np\n",
    "import matplotlib as mpl\n",
    "import matplotlib.pyplot as plt\n",
    "import pandas as pd"
   ]
  },
  {
   "cell_type": "code",
   "execution_count": null,
   "metadata": {},
   "outputs": [],
   "source": [
    "from lsst.daf.persistence import Butler\n",
    "import lsst.daf.persistence as daf_persistence\n",
    "\n",
    "from astropy.coordinates import SkyCoord\n",
    "from astropy import units as u"
   ]
  },
  {
   "cell_type": "code",
   "execution_count": null,
   "metadata": {},
   "outputs": [],
   "source": [
    "# Make our plots nice and readable\n",
    "plt.rcParams.update({'font.size': 18})"
   ]
  },
  {
   "cell_type": "markdown",
   "metadata": {},
   "source": [
    "### Identify HSC Data to use\n",
    "\n",
    "We want to get data from a single visit for this requirement so we choose a visit from the HSC Wide dataset. https://hsc-release.mtk.nao.ac.jp/doc/index.php/database/ has info \n",
    "on which tracts are included in the Wide data. We randomly choose tract 9348 for testing. To choose a different band for testing change `band` below."
   ]
  },
  {
   "cell_type": "code",
   "execution_count": null,
   "metadata": {},
   "outputs": [],
   "source": [
    "# Load a butler for the HSC Wide data\n",
    "depth = 'WIDE'\n",
    "band = 'HSC-R'\n",
    "butler = daf_persistence.Butler('/datasets/hsc/repo/rerun/DM-13666/%s/'%(depth))"
   ]
  },
  {
   "cell_type": "code",
   "execution_count": null,
   "metadata": {},
   "outputs": [],
   "source": [
    "# Find a visit in the WIDE data for specified band in the tract 9348\n",
    "warp_list = os.listdir('/datasets/hsc/repo/rerun/DM-13666/WIDE/deepCoadd/%s/9348/0,0' % band)\n",
    "warp_list.sort()\n",
    "visit = int(warp_list[0].split('-')[-1].split('.')[0])"
   ]
  },
  {
   "cell_type": "code",
   "execution_count": null,
   "metadata": {},
   "outputs": [],
   "source": [
    "subset = butler.subset('src', filter=band, visit=visit)"
   ]
  },
  {
   "cell_type": "code",
   "execution_count": null,
   "metadata": {},
   "outputs": [],
   "source": [
    "# Load in sources from visit making exceptions for bad ccd 9 and focusing ccds.\n",
    "hsc_sources_df = None\n",
    "ccd_lims = []\n",
    "for dataId in subset.cache:\n",
    "    if dataId['ccd'] % 10 == 0:\n",
    "        print('On CCD #%i' % dataId['ccd'])\n",
    "    try:\n",
    "        src_cat = butler.get('src', dataId=dataId)\n",
    "        src_cat_df = src_cat.asAstropy().to_pandas()\n",
    "        if hsc_sources_df is None:\n",
    "            hsc_sources_df = pd.DataFrame([], columns=src_cat_df.columns)\n",
    "            hsc_sources_df = hsc_sources_df.append(src_cat_df, sort=False)\n",
    "        else:\n",
    "            hsc_sources_df = hsc_sources_df.append(src_cat_df, sort=False)\n",
    "        ccd_lims.append([np.degrees(np.max(src_cat_df['coord_ra'])),\n",
    "                         np.degrees(np.min(src_cat_df['coord_ra'])),\n",
    "                         np.degrees(np.max(src_cat_df['coord_dec'])),\n",
    "                         np.degrees(np.min(src_cat_df['coord_dec']))])\n",
    "    except daf_persistence.butlerExceptions.NoResults as inst:\n",
    "        print('No results for CCD #%i' % dataId['ccd'])"
   ]
  },
  {
   "cell_type": "code",
   "execution_count": null,
   "metadata": {},
   "outputs": [],
   "source": [
    "# Total number of HSC Sources\n",
    "len(hsc_sources_df)"
   ]
  },
  {
   "cell_type": "code",
   "execution_count": null,
   "metadata": {},
   "outputs": [],
   "source": [
    "hsc_sources_coords = SkyCoord(hsc_sources_df['coord_ra']*u.rad, hsc_sources_df['coord_dec']*u.rad)"
   ]
  },
  {
   "cell_type": "code",
   "execution_count": null,
   "metadata": {},
   "outputs": [],
   "source": [
    "fig = plt.figure(figsize=(8, 8))\n",
    "plt.scatter(hsc_sources_coords.ra.deg, hsc_sources_coords.dec.deg, s=8, lw=0)\n",
    "plt.xlabel('RA (deg)')\n",
    "plt.ylabel('dec (deg)')\n",
    "plt.title('HSC Sources in Visit %i' %visit)\n",
    "ax = plt.gca()\n",
    "ax.set_xticks(ax.get_xticks()[1::2]) # Clean up ticks in RA"
   ]
  },
  {
   "cell_type": "markdown",
   "metadata": {},
   "source": [
    "### Load Gaia data\n",
    "\n",
    "We have previously created a pandas dataframe with Gaia data that overlaps the HSC Wide data footprint. Here we load it in and select the data in the region of the visit."
   ]
  },
  {
   "cell_type": "code",
   "execution_count": null,
   "metadata": {},
   "outputs": [],
   "source": [
    "# Load in cached gaia data\n",
    "gaia_df = pd.read_pickle('/project/danielsf/gaia_hsc_overlap_pandas.pickle')"
   ]
  },
  {
   "cell_type": "code",
   "execution_count": null,
   "metadata": {},
   "outputs": [],
   "source": [
    "gaia_df.head()"
   ]
  },
  {
   "cell_type": "code",
   "execution_count": null,
   "metadata": {},
   "outputs": [],
   "source": [
    "# Only select data that falls in the bounds of the HSC CCDs\n",
    "gaia_visit_df = pd.DataFrame([], columns=gaia_df.columns)\n",
    "for ccd_corners in ccd_lims:\n",
    "    gaia_visit_df = gaia_visit_df.append(gaia_df.query('ra < %f and ra > %f and dec < %f and dec > %f' % (ccd_corners[0], ccd_corners[1],\n",
    "                                                                                                          ccd_corners[2], ccd_corners[3])))"
   ]
  },
  {
   "cell_type": "code",
   "execution_count": null,
   "metadata": {},
   "outputs": [],
   "source": [
    "# Pick low proper motion sources (gaia proper motions are in mas/year)\n",
    "low_pm = np.where((gaia_visit_df['pmra'] > -5) & (gaia_visit_df['pmra'] < 5) &\n",
    "                  (gaia_visit_df['pmdec'] > -5) & (gaia_visit_df['pmdec'] < 5))[0]\n",
    "gaia_visit_df = gaia_visit_df.iloc[low_pm]"
   ]
  },
  {
   "cell_type": "code",
   "execution_count": null,
   "metadata": {},
   "outputs": [],
   "source": [
    "gaia_coords = SkyCoord(gaia_visit_df['ra']*u.deg, gaia_visit_df['dec']*u.deg)"
   ]
  },
  {
   "cell_type": "code",
   "execution_count": null,
   "metadata": {},
   "outputs": [],
   "source": [
    "fig = plt.figure(figsize=(8, 8))\n",
    "plt.scatter(gaia_coords.ra.deg, gaia_coords.dec.deg, s=8, lw=0)\n",
    "plt.xlabel('RA (deg)')\n",
    "plt.ylabel('dec (deg)')\n",
    "plt.title('Gaia Sources in Visit %i' %visit)\n",
    "ax = plt.gca()\n",
    "ax.set_xticks(ax.get_xticks()[1::2]) # Clean up ticks in RA"
   ]
  },
  {
   "cell_type": "markdown",
   "metadata": {},
   "source": [
    "### Use astropy to match\n",
    "\n",
    "We will use the `match_to_catalog_sky` method from astropy to do the catalog match."
   ]
  },
  {
   "cell_type": "code",
   "execution_count": null,
   "metadata": {},
   "outputs": [],
   "source": [
    "idx, sep2d, sep3d = gaia_coords.match_to_catalog_sky(hsc_sources_coords)"
   ]
  },
  {
   "cell_type": "code",
   "execution_count": null,
   "metadata": {},
   "outputs": [],
   "source": [
    "fig = plt.figure(figsize=(10,8))\n",
    "plt.scatter(gaia_coords.ra.deg, gaia_coords.dec.deg, c=sep2d.arcsec*1000, s=20, vmax=50)\n",
    "cb = plt.colorbar()\n",
    "plt.xlabel('RA (deg)')\n",
    "plt.ylabel('dec (deg)')\n",
    "cb.set_label('Distance to match (milliarcsec)')\n",
    "ax = plt.gca()\n",
    "ax.set_xticks(ax.get_xticks()[1::2]) # Clean up ticks in RA"
   ]
  },
  {
   "cell_type": "markdown",
   "metadata": {},
   "source": [
    "### Plot results against requirements"
   ]
  },
  {
   "cell_type": "code",
   "execution_count": null,
   "metadata": {},
   "outputs": [],
   "source": [
    "# Look at overall separation\n",
    "fig = plt.figure(figsize=(10, 8))\n",
    "n, bins, _ = plt.hist(sep2d.arcsec, label='Gaia Objects', range=(0, 0.1))\n",
    "plt.axvline(np.median(sep2d.arcsec), 0, np.max(n), c='r', lw=4, label='Median Separation = %.2f milliarcsec' % (1000*np.median(sep2d.arcsec)))\n",
    "plt.title('Test of Absolute Astrometry')\n",
    "plt.xlabel('Distance to match (arcsec)')\n",
    "plt.ylabel('Number of Gaia Objects in Visit')\n",
    "plt.legend()"
   ]
  },
  {
   "cell_type": "code",
   "execution_count": null,
   "metadata": {},
   "outputs": [],
   "source": [
    "# Requirement specifies looking at RA and dec inpendently\n",
    "sep_ra = gaia_coords.ra.arcsec - hsc_sources_coords.ra.arcsec[idx]\n",
    "sep_dec = gaia_coords.dec.arcsec - hsc_sources_coords.dec.arcsec[idx]\n",
    "ra_median_sep = np.median(np.abs(sep_ra))\n",
    "dec_median_sep = np.median(np.abs(sep_dec))"
   ]
  },
  {
   "cell_type": "code",
   "execution_count": null,
   "metadata": {},
   "outputs": [],
   "source": [
    "# Requirement specifies RA, dec individually so we look at those here\n",
    "fig = plt.figure(figsize=(20, 8))\n",
    "\n",
    "fig.add_subplot(1,2,1)\n",
    "n, bins, _ = plt.hist(np.abs(sep_ra), label='Gaia Objects', range=(0, 0.1))\n",
    "plt.axvline(ra_median_sep, 0, np.max(n), c='r', lw=4, label='Median Separation = %.2f milliarcsec' % (1000*ra_median_sep))\n",
    "plt.axvline(.05, 0, np.max(n), label='Requirement =  50 milliarcsec', c='k', lw=4)\n",
    "plt.title('Test of Absolute Astrometry RA')\n",
    "plt.xlabel('Distance to match (arcsec)')\n",
    "plt.ylabel('Number of Gaia Objects in Visit')\n",
    "plt.legend()\n",
    "\n",
    "fig.add_subplot(1,2,2)\n",
    "n, bins, _ = plt.hist(np.abs(sep_dec), label='Gaia Objects', range=(0, 0.1))\n",
    "plt.axvline(dec_median_sep, 0, np.max(n), c='r', lw=4, label='Median Separation = %.2f milliarcsec' % (1000*dec_median_sep))\n",
    "plt.axvline(0.05, 0, np.max(n), label='Requirement =  50 milliarcsec', c='k', lw=4)\n",
    "plt.title('Test of Absolute Astrometry dec')\n",
    "plt.xlabel('Distance to match (arcsec)')\n",
    "plt.ylabel('Number of Gaia Objects in Visit')\n",
    "plt.legend()"
   ]
  },
  {
   "cell_type": "markdown",
   "metadata": {},
   "source": [
    "The requirements are satisfied if both RA and dec median values are less than 50 milliarcseconds."
   ]
  },
  {
   "cell_type": "markdown",
   "metadata": {},
   "source": [
    "### Test against requirements\n",
    "\n",
    "If these fail with a new version of the stack our CI testing of notebooks will also fail and alert us."
   ]
  },
  {
   "cell_type": "code",
   "execution_count": null,
   "metadata": {},
   "outputs": [],
   "source": [
    "class RequirementFailure(ValueError):\n",
    "    \"Requirement not met.\""
   ]
  },
  {
   "cell_type": "code",
   "execution_count": null,
   "metadata": {},
   "outputs": [],
   "source": [
    "# Set up for potential error messages\n",
    "error_msg = \"\"\n",
    "error_present = False\n",
    "error_val = 0"
   ]
  },
  {
   "cell_type": "code",
   "execution_count": null,
   "metadata": {},
   "outputs": [],
   "source": [
    "# Test RA. Convert to milliarcsec by multiplying by 1000.\n",
    "if ra_median_sep*1000. > 50:\n",
    "    error_present = True\n",
    "    error_val += 1\n",
    "    error_msg += str('Error #%i: \\n' % error_val + \n",
    "                     'Median RA Astrometry Error greater than 50 milliarcsec. Test Value: %.2f mas \\n' % (ra_median_sep*1000.))"
   ]
  },
  {
   "cell_type": "code",
   "execution_count": null,
   "metadata": {},
   "outputs": [],
   "source": [
    "# Test dec. Convert to milliarcsec by multiplying by 1000.\n",
    "if dec_median_sep*1000. > 50:\n",
    "    error_present = True\n",
    "    error_val += 1\n",
    "    error_msg += str('Error #%i: \\n' % error_val +\n",
    "                     'Median dec Astrometry Error greater than 50 milliarcsec. Test Value: %.2f mas' % (dec_median_sep*1000.))"
   ]
  },
  {
   "cell_type": "code",
   "execution_count": null,
   "metadata": {},
   "outputs": [],
   "source": [
    "if error_present is True:\n",
    "    error_msg = str('%i Total Errors: \\n' % error_val + error_msg)\n",
    "    raise RequirementFailure(error_msg)"
   ]
  }
 ],
 "metadata": {
  "kernelspec": {
   "display_name": "LSST",
   "language": "python",
   "name": "lsst"
  },
  "language_info": {
   "codemirror_mode": {
    "name": "ipython",
    "version": 3
   },
   "file_extension": ".py",
   "mimetype": "text/x-python",
   "name": "python",
   "nbconvert_exporter": "python",
   "pygments_lexer": "ipython3",
   "version": "3.7.2"
  }
 },
 "nbformat": 4,
 "nbformat_minor": 2
}
