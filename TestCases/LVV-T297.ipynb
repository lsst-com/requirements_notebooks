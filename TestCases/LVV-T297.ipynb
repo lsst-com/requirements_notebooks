{
 "cells": [
  {
   "cell_type": "markdown",
   "metadata": {},
   "source": [
    "# LVV-T297: Absolute Astrometric Performance\n",
    "\n",
    "**Written By: Bryce Kalmbach**\n",
    "\n",
    "**Last updated: 08-28-2019**\n",
    "\n",
    "**Tested on Stack Version: w_2019_33**\n",
    "\n",
    "## Requirements:\n",
    "\n",
    "[OSS-REQ-0388](https://docushare.lsst.org/docushare/dsweb/Get/LSE-030#page=66)\n",
    "\n",
    "Median error in absolute position for each axis, RA and DEC, shall be less than 50 milliarcseconds.\n",
    "\n",
    "## Proposed Test Case:\n",
    "\n",
    "1. Take images from region overlapping the Gaia footprint.  Repeat at multiple airmasses.\n",
    "\n",
    "2. Perform source detection and astrometric measurement on images from step 1\n",
    "\n",
    "3. Cross-match catalog from step 2 with Gaia catalog.  Select sources that are consistent with zero proper motion (according to Gaia).\n",
    "\n",
    "4. Verify that the median error of the LSST positions (relative to the Gaia positions) is **50 milliarcseconds in RA, Dec independently**"
   ]
  },
  {
   "cell_type": "markdown",
   "metadata": {},
   "source": [
    "### Import necessary tools"
   ]
  },
  {
   "cell_type": "code",
   "execution_count": null,
   "metadata": {},
   "outputs": [],
   "source": [
    "import os\n",
    "import numpy as np\n",
    "import matplotlib as mpl\n",
    "import matplotlib.pyplot as plt\n",
    "import pandas as pd"
   ]
  },
  {
   "cell_type": "code",
   "execution_count": null,
   "metadata": {},
   "outputs": [],
   "source": [
    "from lsst.daf.persistence import Butler\n",
    "import lsst.daf.persistence as daf_persistence\n",
    "\n",
    "from astropy.coordinates import SkyCoord, Angle\n",
    "from astropy import units as u\n",
    "\n",
    "from lsst.meas.algorithms import (LoadIndexedReferenceObjectsTask, \n",
    "                                  LoadIndexedReferenceObjectsConfig)\n",
    "\n",
    "import lsst.geom as geom\n",
    "from lsst.meas.astrom import DirectMatchTask"
   ]
  },
  {
   "cell_type": "code",
   "execution_count": null,
   "metadata": {},
   "outputs": [],
   "source": [
    "# Make our plots nice and readable\n",
    "plt.rcParams.update({'font.size': 18})"
   ]
  },
  {
   "cell_type": "markdown",
   "metadata": {},
   "source": [
    "### Set parameters for testing\n",
    "\n",
    "* `test_bandpass`: The notebook will set up to test astrometry in this bandpass"
   ]
  },
  {
   "cell_type": "code",
   "execution_count": null,
   "metadata": {},
   "outputs": [],
   "source": [
    "test_bandpass = 'HSC-R'"
   ]
  },
  {
   "cell_type": "markdown",
   "metadata": {},
   "source": [
    "### Identify HSC Data to use\n",
    "\n",
    "We want to get data from a single visit for this requirement so we choose a visit from the HSC Wide dataset. https://hsc-release.mtk.nao.ac.jp/doc/index.php/database/ has info \n",
    "on which tracts are included in the Wide data. We randomly choose tract 9348 for testing. To choose a different band for testing change `band` below."
   ]
  },
  {
   "cell_type": "code",
   "execution_count": null,
   "metadata": {},
   "outputs": [],
   "source": [
    "# Load a butler for the HSC Wide data\n",
    "depth = 'WIDE'\n",
    "band = test_bandpass\n",
    "butler = daf_persistence.Butler('/datasets/hsc/repo/rerun/DM-13666/%s/'%(depth))"
   ]
  },
  {
   "cell_type": "code",
   "execution_count": null,
   "metadata": {},
   "outputs": [],
   "source": [
    "# Find a visit in the WIDE data for specified band in the tract 9348\n",
    "warp_list = os.listdir('/datasets/hsc/repo/rerun/DM-13666/WIDE/deepCoadd/%s/9348/0,0' % band)\n",
    "warp_list.sort()\n",
    "visit = int(warp_list[0].split('-')[-1].split('.')[0])"
   ]
  },
  {
   "cell_type": "code",
   "execution_count": null,
   "metadata": {},
   "outputs": [],
   "source": [
    "subset = butler.subset('src', filter=band, visit=visit)"
   ]
  },
  {
   "cell_type": "code",
   "execution_count": null,
   "metadata": {},
   "outputs": [],
   "source": [
    "# Load in sources from visit making exceptions for bad ccd 9 and focusing ccds.\n",
    "hsc_sources_df = None\n",
    "ccd_lims = []\n",
    "for dataId in subset.cache:\n",
    "    if dataId['ccd'] % 10 == 0:\n",
    "        print('On CCD #%i' % dataId['ccd'])\n",
    "    try:\n",
    "        src_cat = butler.get('src', dataId=dataId)\n",
    "        src_cat_df = src_cat.asAstropy().to_pandas()\n",
    "        src_cat_df['ccd'] = dataId['ccd']\n",
    "        if hsc_sources_df is None:\n",
    "            hsc_sources_df = pd.DataFrame([], columns=src_cat_df.columns)\n",
    "            hsc_sources_df = hsc_sources_df.append(src_cat_df, sort=False)\n",
    "        else:\n",
    "            hsc_sources_df = hsc_sources_df.append(src_cat_df, sort=False)\n",
    "        ccd_lims.append([np.degrees(np.min(src_cat_df['coord_ra'])),\n",
    "                         np.degrees(np.max(src_cat_df['coord_ra'])),\n",
    "                         np.degrees(np.min(src_cat_df['coord_dec'])),\n",
    "                         np.degrees(np.max(src_cat_df['coord_dec']))])\n",
    "    except daf_persistence.butlerExceptions.NoResults as inst:\n",
    "        print('No results for CCD #%i' % dataId['ccd'])"
   ]
  },
  {
   "cell_type": "code",
   "execution_count": null,
   "metadata": {},
   "outputs": [],
   "source": [
    "# Total number of HSC Sources\n",
    "len(hsc_sources_df)"
   ]
  },
  {
   "cell_type": "code",
   "execution_count": null,
   "metadata": {},
   "outputs": [],
   "source": [
    "# Set up a bounding box for Gaia data retrieval using the edges of the CCDs available\n",
    "ccd_lims = np.array(ccd_lims)\n",
    "ra_min, ra_max, dec_min, dec_max = np.min(ccd_lims[:,0])-0.5, np.max(ccd_lims[:,1])+0.5, np.min(ccd_lims[:,2])-0.5, np.max(ccd_lims[:, 3])+0.5"
   ]
  },
  {
   "cell_type": "code",
   "execution_count": null,
   "metadata": {},
   "outputs": [],
   "source": [
    "hsc_sources_coords = SkyCoord(hsc_sources_df['coord_ra']*u.rad, hsc_sources_df['coord_dec']*u.rad)"
   ]
  },
  {
   "cell_type": "code",
   "execution_count": null,
   "metadata": {},
   "outputs": [],
   "source": [
    "fig = plt.figure(figsize=(8, 8))\n",
    "plt.scatter(hsc_sources_coords.ra.deg, hsc_sources_coords.dec.deg, s=8, lw=0)\n",
    "plt.xlabel('RA (deg)')\n",
    "plt.ylabel('dec (deg)')\n",
    "plt.title('HSC Sources in Visit %i' %visit)\n",
    "ax = plt.gca()\n",
    "ax.set_xticks(ax.get_xticks()[1::2]) # Clean up ticks in RA"
   ]
  },
  {
   "cell_type": "markdown",
   "metadata": {},
   "source": [
    "### Load Gaia data\n",
    "\n",
    "We load the Gaia reference catalog to match against."
   ]
  },
  {
   "cell_type": "code",
   "execution_count": null,
   "metadata": {},
   "outputs": [],
   "source": [
    "config = LoadIndexedReferenceObjectsConfig()"
   ]
  },
  {
   "cell_type": "code",
   "execution_count": null,
   "metadata": {},
   "outputs": [],
   "source": [
    "config.ref_dataset_name='gaia_DR2'"
   ]
  },
  {
   "cell_type": "code",
   "execution_count": null,
   "metadata": {},
   "outputs": [],
   "source": [
    "config.filterMap = {}\n",
    "for source in ('u', 'g', 'r', 'i', 'z', 'y'):\n",
    "    config.filterMap[source] = \"phot_g_mean\""
   ]
  },
  {
   "cell_type": "code",
   "execution_count": null,
   "metadata": {},
   "outputs": [],
   "source": [
    "ref_task = LoadIndexedReferenceObjectsTask(butler, config=config)"
   ]
  },
  {
   "cell_type": "code",
   "execution_count": null,
   "metadata": {},
   "outputs": [],
   "source": [
    "ra_mid = (ra_min + ra_max)/2.\n",
    "dec_mid = (dec_min + dec_max)/2."
   ]
  },
  {
   "cell_type": "code",
   "execution_count": null,
   "metadata": {},
   "outputs": [],
   "source": [
    "ra_mid, dec_mid"
   ]
  },
  {
   "cell_type": "code",
   "execution_count": null,
   "metadata": {},
   "outputs": [],
   "source": [
    "ref_cat = ref_task.loadSkyCircle(geom.SpherePoint(geom.Angle(ra_mid, geom.degrees), \n",
    "                                                  geom.Angle(dec_mid, geom.degrees)),\n",
    "                                 geom.Angle(1., geom.degrees), filterName='g')"
   ]
  },
  {
   "cell_type": "code",
   "execution_count": null,
   "metadata": {},
   "outputs": [],
   "source": [
    "ref_cat_df = ref_cat.refCat.asAstropy().to_pandas()"
   ]
  },
  {
   "cell_type": "code",
   "execution_count": null,
   "metadata": {},
   "outputs": [],
   "source": [
    "ref_cat_df.head()"
   ]
  },
  {
   "cell_type": "code",
   "execution_count": null,
   "metadata": {},
   "outputs": [],
   "source": [
    "gaia_coords = SkyCoord(ref_cat_df['coord_ra']*u.rad, ref_cat_df['coord_dec']*u.rad)"
   ]
  },
  {
   "cell_type": "code",
   "execution_count": null,
   "metadata": {},
   "outputs": [],
   "source": [
    "fig = plt.figure(figsize=(8, 8))\n",
    "plt.scatter(gaia_coords.ra.deg, gaia_coords.dec.deg, s=8, lw=0)\n",
    "plt.xlabel('RA (deg)')\n",
    "plt.ylabel('dec (deg)')\n",
    "plt.title('Possible Gaia Sources in Visit %i' %visit)\n",
    "ax = plt.gca()\n",
    "ax.set_xticks(ax.get_xticks()[1::2]) # Clean up ticks in RA"
   ]
  },
  {
   "cell_type": "markdown",
   "metadata": {},
   "source": [
    "### Use astropy to match\n",
    "\n",
    "We will use the `match_to_catalog_sky` method from astropy to do the catalog match."
   ]
  },
  {
   "cell_type": "code",
   "execution_count": null,
   "metadata": {},
   "outputs": [],
   "source": [
    "def get_best_catalog_match(base_cat, ref_cat):\n",
    "    \n",
    "    \"\"\"\n",
    "    `match_to_catalog_sky` will give a match for every object in the base_cat. We only want to keep the best match to an object in the ref catalog.\n",
    "    This function gives the ordered indices for the best match in base_cat to an object in the ref_cat and the separation measured.\n",
    "    \n",
    "    Inputs\n",
    "    ------\n",
    "    base_cat: astropy SkyCoord object\n",
    "        The catalog with ra, dec locations of objects we observed and now want to match to a reference catalog.\n",
    "        \n",
    "    ref_cat: astropy SkyCoord object\n",
    "        The ra, dec coordinates of objects from the reference catalog (the \"truth\" catalog).\n",
    "        \n",
    "    Returns\n",
    "    -------\n",
    "    base_cat_idx: list of integers\n",
    "        The indices of the objects from base_cat that are the best (\"closest\") match to an object in the ref_cat.\n",
    "        \n",
    "    ref_cat_idx: list of integers\n",
    "        The indices of objects in the ref_cat that matched to an observed object in the base_cat.\n",
    "        \n",
    "    single_match_seps: astropy Angle object\n",
    "        The angular separation between the locations of the matched objects in the two catalogs.\n",
    "    \"\"\"\n",
    "    \n",
    "    idx, sep2d, sep3d = base_cat.match_to_catalog_sky(ref_cat)\n",
    "    unique_idx = np.unique(idx)\n",
    "    base_cat_idx = []\n",
    "    ref_cat_idx = []\n",
    "    single_match_seps = []\n",
    "    for index in unique_idx:\n",
    "        base_cat_rows = np.where(idx == index)[0]\n",
    "        seps = sep2d[base_cat_rows]\n",
    "        min_sep_idx = np.argmin(seps)\n",
    "        base_cat_idx.append(base_cat_rows[min_sep_idx])\n",
    "        ref_cat_idx.append(index)\n",
    "        single_match_seps.append(seps[min_sep_idx])\n",
    "        \n",
    "    single_match_seps = Angle(single_match_seps)\n",
    "        \n",
    "    return base_cat_idx, ref_cat_idx, single_match_seps"
   ]
  },
  {
   "cell_type": "code",
   "execution_count": null,
   "metadata": {},
   "outputs": [],
   "source": [
    "base_idx, ref_idx, matched_seps = get_best_catalog_match(hsc_sources_coords, gaia_coords)"
   ]
  },
  {
   "cell_type": "code",
   "execution_count": null,
   "metadata": {},
   "outputs": [],
   "source": [
    "fig = plt.figure(figsize=(10,8))\n",
    "plt.scatter(hsc_sources_coords[base_idx].ra.deg, hsc_sources_coords[base_idx].dec.deg, c=matched_seps.arcsec*1000, s=20, vmax=50, vmin=0)\n",
    "cb = plt.colorbar()\n",
    "plt.xlabel('RA (deg)')\n",
    "plt.ylabel('dec (deg)')\n",
    "cb.set_label('Distance to match (milliarcsec)')\n",
    "ax = plt.gca()\n",
    "ax.set_xticks(ax.get_xticks()[1::2]) # Clean up ticks in RA"
   ]
  },
  {
   "cell_type": "markdown",
   "metadata": {},
   "source": [
    "### Plot results against requirements"
   ]
  },
  {
   "cell_type": "code",
   "execution_count": null,
   "metadata": {},
   "outputs": [],
   "source": [
    "# Look at overall separation\n",
    "fig = plt.figure(figsize=(10, 8))\n",
    "n, bins, _ = plt.hist(matched_seps.arcsec, label='Gaia Objects', range=(0, 0.1), bins=20)\n",
    "plt.axvline(np.median(matched_seps.arcsec), 0, np.max(n), c='r', lw=4, label='Median Separation = %.2f milliarcsec' % (1000*np.median(matched_seps.arcsec)))\n",
    "plt.title('Test of Absolute Astrometry')\n",
    "plt.xlabel('Distance to match (arcsec)')\n",
    "plt.ylabel('Number of Gaia Objects in Visit')\n",
    "plt.legend()"
   ]
  },
  {
   "cell_type": "code",
   "execution_count": null,
   "metadata": {},
   "outputs": [],
   "source": [
    "# Requirement specifies looking at RA and dec inpendently\n",
    "sep_ra = gaia_coords.ra.arcsec[ref_idx] - hsc_sources_coords.ra.arcsec[base_idx]\n",
    "sep_dec = gaia_coords.dec.arcsec[ref_idx] - hsc_sources_coords.dec.arcsec[base_idx]\n",
    "ra_median_sep = np.median(np.abs(sep_ra))\n",
    "dec_median_sep = np.median(np.abs(sep_dec))"
   ]
  },
  {
   "cell_type": "code",
   "execution_count": null,
   "metadata": {},
   "outputs": [],
   "source": [
    "# Requirement specifies RA, dec individually so we look at those here\n",
    "fig = plt.figure(figsize=(20, 8))\n",
    "\n",
    "fig.add_subplot(1,2,1)\n",
    "n, bins, _ = plt.hist(np.abs(sep_ra), label='Gaia Objects', range=(0, 0.1), bins=20)\n",
    "plt.axvline(ra_median_sep, 0, np.max(n), c='k', lw=4, label='Median Separation = %.2f milliarcsec' % (1000*ra_median_sep))\n",
    "plt.axvline(.05, 0, np.max(n), label='Requirement =  50 milliarcsec', c='r', lw=4)\n",
    "plt.title('Test of Absolute Astrometry RA')\n",
    "plt.xlabel('Distance to match (arcsec)')\n",
    "plt.ylabel('Number of Gaia Objects in Visit')\n",
    "plt.legend()\n",
    "\n",
    "fig.add_subplot(1,2,2)\n",
    "n, bins, _ = plt.hist(np.abs(sep_dec), label='Gaia Objects', range=(0, 0.1), bins=20)\n",
    "plt.axvline(dec_median_sep, 0, np.max(n), c='k', lw=4, label='Median Separation = %.2f milliarcsec' % (1000*dec_median_sep))\n",
    "plt.axvline(0.05, 0, np.max(n), label='Requirement =  50 milliarcsec', c='r', lw=4)\n",
    "plt.title('Test of Absolute Astrometry dec')\n",
    "plt.xlabel('Distance to match (arcsec)')\n",
    "plt.ylabel('Number of Gaia Objects in Visit')\n",
    "plt.legend()"
   ]
  },
  {
   "cell_type": "markdown",
   "metadata": {},
   "source": [
    "The requirements are satisfied if both RA and dec median values are less than 50 milliarcseconds."
   ]
  },
  {
   "cell_type": "markdown",
   "metadata": {},
   "source": [
    "### Test against requirements\n",
    "\n",
    "If these fail with a new version of the stack our CI testing of notebooks will also fail and alert us."
   ]
  },
  {
   "cell_type": "code",
   "execution_count": null,
   "metadata": {},
   "outputs": [],
   "source": [
    "class RequirementFailure(ValueError):\n",
    "    \"Requirement not met.\""
   ]
  },
  {
   "cell_type": "code",
   "execution_count": null,
   "metadata": {},
   "outputs": [],
   "source": [
    "# Set up for potential error messages\n",
    "error_msg = \"\"\n",
    "error_present = False\n",
    "error_val = 0"
   ]
  },
  {
   "cell_type": "code",
   "execution_count": null,
   "metadata": {},
   "outputs": [],
   "source": [
    "# Test RA. Convert to milliarcsec by multiplying by 1000.\n",
    "if ra_median_sep*1000. > 50:\n",
    "    error_present = True\n",
    "    error_val += 1\n",
    "    error_msg += str('Error #%i: \\n' % error_val + \n",
    "                     'Median RA Astrometry Error greater than 50 milliarcsec. Test Value: %.2f mas \\n' % (ra_median_sep*1000.))"
   ]
  },
  {
   "cell_type": "code",
   "execution_count": null,
   "metadata": {},
   "outputs": [],
   "source": [
    "# Test dec. Convert to milliarcsec by multiplying by 1000.\n",
    "if dec_median_sep*1000. > 50:\n",
    "    error_present = True\n",
    "    error_val += 1\n",
    "    error_msg += str('Error #%i: \\n' % error_val +\n",
    "                     'Median dec Astrometry Error greater than 50 milliarcsec. Test Value: %.2f mas' % (dec_median_sep*1000.))"
   ]
  },
  {
   "cell_type": "code",
   "execution_count": null,
   "metadata": {},
   "outputs": [],
   "source": [
    "if error_present is True:\n",
    "    error_msg = str('%i Total Errors: \\n' % error_val + error_msg)"
   ]
  },
  {
   "cell_type": "markdown",
   "metadata": {},
   "source": [
    "### Test Failure Diagnostics\n",
    "\n",
    "Here we run code to help identify where problems are occurring. In this test we look at the results in each CCD to identify if there are issues within a particular subset of CCDs."
   ]
  },
  {
   "cell_type": "code",
   "execution_count": null,
   "metadata": {},
   "outputs": [],
   "source": [
    "ccd_ids = []\n",
    "ccd_median_sep_ra = []\n",
    "ccd_median_sep_dec = []\n",
    "ccd_num_sources = []\n",
    "matched_ccd_nums = hsc_sources_df['ccd'].iloc[base_idx]\n",
    "for ccd_on in np.unique(matched_ccd_nums):\n",
    "    ccd_ids.append(ccd_on)\n",
    "    ccd_idx = np.where(matched_ccd_nums == ccd_on)\n",
    "    ccd_median_sep_ra.append(np.median(np.abs(sep_ra)[ccd_on]))\n",
    "    ccd_median_sep_dec.append(np.median(np.abs(sep_dec)[ccd_on]))\n",
    "    ccd_num_sources.append(len(ccd_idx[0]))\n",
    "ccd_median_sep_ra = np.array(ccd_median_sep_ra)\n",
    "ccd_median_sep_dec = np.array(ccd_median_sep_dec)\n",
    "sep_ra_colors = (ccd_median_sep_ra < 50) * 1.\n",
    "sep_dec_colors = (ccd_median_sep_dec < 50) * 1."
   ]
  },
  {
   "cell_type": "code",
   "execution_count": null,
   "metadata": {},
   "outputs": [],
   "source": [
    "fig = plt.figure(figsize=(20, 8))\n",
    "\n",
    "fig.add_subplot(1,2,1)\n",
    "plt.scatter(ccd_ids, ccd_median_sep_ra, c=sep_ra_colors, vmin=0.1, vmax=0.9, cmap=plt.cm.bwr_r)\n",
    "plt.xlabel('CCD Number')\n",
    "plt.ylabel('Median Separation of matched objects in CCD (arcsec)')\n",
    "plt.title('Median RA Separation by CCD')\n",
    "\n",
    "fig.add_subplot(1,2,2)\n",
    "plt.scatter(ccd_ids, ccd_median_sep_dec, c=sep_dec_colors, vmin=0.1, vmax=0.9, cmap=plt.cm.bwr_r)\n",
    "plt.xlabel('CCD Number')\n",
    "plt.title('Median dec Separation by CCD')"
   ]
  },
  {
   "cell_type": "code",
   "execution_count": null,
   "metadata": {},
   "outputs": [],
   "source": [
    "if error_present is True:\n",
    "    failing_idx_ra = np.where(ccd_median_sep_ra > 50.)[0]\n",
    "    failing_idx_dec = np.where(ccd_median_sep_dec > 50.)[0]\n",
    "\n",
    "    diag_msg = \"\\nAdditional Diagnostic Information: \\n\"\n",
    "    if len(failing_idx_ra) > 0:\n",
    "        diag_msg += 'CCD(s) #'\n",
    "        for fail_ccd in np.array(ccd_ids)[failing_idx_ra]:\n",
    "            diag_msg += '%s ' % fail_ccd\n",
    "        diag_msg += 'failing 50 mas requirement in RA.\\n'\n",
    "\n",
    "    if len(failing_idx_dec) > 0:\n",
    "        diag_msg += 'CCD(s) #'\n",
    "        for fail_ccd in np.array(ccd_ids)[failing_idx_dec]:\n",
    "            diag_msg += '%s ' % fail_ccd\n",
    "        diag_msg += 'failing 50 mas requirement in dec.\\n'\n"
   ]
  },
  {
   "cell_type": "markdown",
   "metadata": {},
   "source": [
    "### Report Error Messages\n",
    "\n",
    "Set `fail_in_notebook` to `True` if you want notebook CI to fail based upon test output. Otherwise notebook will run all the way through in CI and produce plots that will be pushed to github and only fail when changes in the DM Stack cause the testing code to break."
   ]
  },
  {
   "cell_type": "code",
   "execution_count": null,
   "metadata": {},
   "outputs": [],
   "source": [
    "fail_in_notebook = False"
   ]
  },
  {
   "cell_type": "code",
   "execution_count": null,
   "metadata": {},
   "outputs": [],
   "source": [
    "if fail_in_notebook is True:\n",
    "    if error_present is True:\n",
    "        raise RequirementFailure(str(error_msg + '\\n' + diag_msg))\n",
    "else:\n",
    "    if error_present is True:\n",
    "        print(str(error_msg + '\\n' + diag_msg))"
   ]
  },
  {
   "cell_type": "code",
   "execution_count": null,
   "metadata": {},
   "outputs": [],
   "source": []
  }
 ],
 "metadata": {
  "kernelspec": {
   "display_name": "LSST",
   "language": "python",
   "name": "lsst"
  },
  "language_info": {
   "codemirror_mode": {
    "name": "ipython",
    "version": 3
   },
   "file_extension": ".py",
   "mimetype": "text/x-python",
   "name": "python",
   "nbconvert_exporter": "python",
   "pygments_lexer": "ipython3",
   "version": "3.7.2"
  }
 },
 "nbformat": 4,
 "nbformat_minor": 2
}
