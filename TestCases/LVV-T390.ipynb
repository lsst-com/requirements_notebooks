{
 "cells": [
  {
   "cell_type": "code",
   "execution_count": null,
   "metadata": {},
   "outputs": [],
   "source": []
  },
  {
   "cell_type": "code",
   "execution_count": 26,
   "metadata": {},
   "outputs": [],
   "source": [
    "%matplotlib inline\n",
    "import matplotlib.pyplot as plt\n",
    "\n",
    "import os\n",
    "import numpy as np\n",
    "import scipy.spatial as scipy_spatial"
   ]
  },
  {
   "cell_type": "code",
   "execution_count": 2,
   "metadata": {},
   "outputs": [],
   "source": [
    "from utils import plot_color_mesh\n",
    "from utils import select_stars\n",
    "import lsst.daf.persistence as daf_persistence\n",
    "from lsst.meas.algorithms import LoadIndexedReferenceObjectsTask\n",
    "from lsst.meas.algorithms import LoadIndexedReferenceObjectsConfig\n",
    "import lsst.geom as lsst_geom"
   ]
  },
  {
   "cell_type": "code",
   "execution_count": 3,
   "metadata": {},
   "outputs": [],
   "source": [
    "hsc_dir = '/project/danielsf/hsc_reprocessing/190930/single_visit'\n",
    "assert os.path.isdir(hsc_dir)\n",
    "hsc_butler = daf_persistence.Butler(hsc_dir)"
   ]
  },
  {
   "cell_type": "code",
   "execution_count": 4,
   "metadata": {},
   "outputs": [],
   "source": [
    "ref_cat_name = 'ps1_pv3_3pi_20170110'"
   ]
  },
  {
   "cell_type": "code",
   "execution_count": 5,
   "metadata": {},
   "outputs": [],
   "source": [
    "g_visits=[6320, 34338, 34342, 34362, 34366, 34382, 34384, 34400, 34402, 34412, 34414,\n",
    "          34422, 34424, 34448, 34450, 34464, 34468, 34478, 34480, 34482, 34484, 34486]\n",
    "r_visits=[7138, 34640, 34644, 34648, 34652, 34664, 34670, 34672, 34674, 34676, 34686,\n",
    "          34688, 34690, 34698, 34706, 34708, 34712, 34714, 34734, 34758, 34760, 34772]\n",
    "i_visits=[35870, 35890, 35892, 35906, 35936, 35950, 35974, 36114, 36118, 36140, 36144,\n",
    "          36148, 36158, 36160, 36170, 36172, 36180, 36182, 36190, 36192, 36202, 36204,\n",
    "          36212, 36214, 36216, 36218, 36234, 36236, 36238, 36240, 36258, 36260, 36262]\n",
    "z_visits=[36404, 36408, 36412, 36416, 36424, 36426, 36428, 36430, 36432, 36434, 36438,\n",
    "          36442, 36444, 36446, 36448, 36456, 36458, 36460, 36466, 36474, 36476, 36480,\n",
    "          36488, 36490, 36492, 36494, 36498, 36504, 36506, 36508, 38938, 38944, 38950]\n",
    "y_visits=[34874, 34942, 34944, 34946, 36726, 36730, 36738, 36750, 36754, 36756, 36758,\n",
    "          36762, 36768, 36772, 36774, 36776, 36778, 36788, 36790, 36792, 36794, 36800,\n",
    "          36802, 36808, 36810, 36812, 36818, 36820, 36828, 36830, 36834, 36836, 36838]\n",
    "\n",
    "visit_dict = {}\n",
    "visit_dict['g'] = g_visits\n",
    "visit_dict['r'] = r_visits\n",
    "visit_dict['i'] = i_visits\n",
    "visit_dict['z'] = z_visits\n",
    "visit_dict['y'] = y_visits"
   ]
  },
  {
   "cell_type": "code",
   "execution_count": 9,
   "metadata": {},
   "outputs": [],
   "source": [
    "ccd_num_list = list(range(0,9))+list(range(10,104))"
   ]
  },
  {
   "cell_type": "code",
   "execution_count": 46,
   "metadata": {},
   "outputs": [
    {
     "name": "stdout",
     "output_type": "stream",
     "text": [
      "1 0.0079559635453754 0.17503119799825878\n",
      "2 0.01476507888899909 0.16241586777899\n",
      "3 0.02127997789118025 0.1560531712019885\n",
      "4 0.02776568611462911 0.1527112736304601\n",
      "5 0.03428844061162737 0.15086913869116042\n",
      "6 0.04123321056365967 0.15118843873341878\n",
      "7 0.048182723654641046 0.15143141720030043\n",
      "8 0.05531454821427663 0.15211500758926072\n",
      "9 0.06231296731366052 0.15232058676672572\n",
      "10 0.06893868936432733 0.15166511660152013\n",
      "11 0.07582401712735494 0.15164803425470988\n",
      "12 0.08286675479676989 0.15192238379407813\n",
      "13 0.08981943070888519 0.15200211350734416\n",
      "14 0.09703338185946146 0.1524810286362966\n",
      "15 0.10413657036092547 0.15273363652935734\n",
      "16 0.1112617986732059 0.15298497317565812\n",
      "17 0.11846763650576274 0.15331105900745767\n",
      "18 0.12571056829558477 0.15364625013904806\n",
      "19 0.1330387955904007 0.15404492120993765\n",
      "20 0.1404508184724384 0.15449590031968224\n",
      "21 0.14760212865140704 0.15463080144433117\n",
      "22 0.1550403756565518 0.1550403756565518\n"
     ]
    }
   ],
   "source": [
    "import time\n",
    "coord_ra = []\n",
    "coord_dec = []\n",
    "g_flux = []\n",
    "calib_phot_used = []\n",
    "calib_phot_reserved = []\n",
    "t_start = time.time()\n",
    "ct=0\n",
    "for visit_num in visit_dict['g']:\n",
    "    for ccd_num in ccd_num_list:\n",
    "        data_id = {'visit': visit_num, 'ccd':ccd_num}\n",
    "        src = hsc_butler.get('src', dataId=data_id)\n",
    "        calib = hsc_butler.get('calexp_photoCalib', dataId=data_id)\n",
    "        valid = (src['calib_photometry_used'] | src['calib_photometry_reserved'])\n",
    "        src = src[valid]\n",
    "        g_flux_and_err = calib.instFluxToNanojansky(src, 'base_PsfFlux')\n",
    "        coord_ra.append(src['coord_ra'])\n",
    "        coord_dec.append(src['coord_dec'])\n",
    "        g_flux.append(g_flux_and_err[:,0])\n",
    "        calib_phot_used.append(src['calib_photometry_used'])\n",
    "        calib_phot_reserved.append(src['calib_photometry_reserved'])\n",
    "\n",
    "    ct += 1\n",
    "    duration = (time.time()-t_start)/3600.0\n",
    "    per = duration/ct\n",
    "    pred = per*len(visit_dict['g'])\n",
    "    print(ct,duration,pred)\n",
    "\n",
    "coord_ra = np.concatenate(coord_ra)\n",
    "coord_dec = np.concatenate(coord_dec)\n",
    "g_flux = np.concatenate(g_flux)\n",
    "calib_phot_used = np.concatenate(calib_phot_used)\n",
    "calib_phot_reserved = np.concatenate(calib_phot_reserved)"
   ]
  },
  {
   "cell_type": "code",
   "execution_count": 47,
   "metadata": {},
   "outputs": [
    {
     "name": "stdout",
     "output_type": "stream",
     "text": [
      "used  69725\n",
      "reserved  17438\n"
     ]
    }
   ],
   "source": [
    "print('used ',calib_phot_used.sum())\n",
    "print('reserved ',calib_phot_reserved.sum())"
   ]
  },
  {
   "cell_type": "code",
   "execution_count": 48,
   "metadata": {},
   "outputs": [],
   "source": [
    "ref_config = LoadIndexedReferenceObjectsConfig()\n",
    "ref_config.ref_dataset_name = ref_cat_name\n",
    "ref_task = LoadIndexedReferenceObjectsTask(hsc_butler, config=ref_config)"
   ]
  },
  {
   "cell_type": "code",
   "execution_count": 49,
   "metadata": {},
   "outputs": [],
   "source": [
    "ra_mid = np.median(coord_ra)\n",
    "dec_mid = np.median(coord_dec)\n",
    "xyz_mid = np.array([np.cos(dec_mid)*np.cos(ra_mid), np.cos(dec_mid)*np.sin(ra_mid), np.sin(dec_mid)])\n",
    "xyz = np.array([np.cos(coord_dec)*np.cos(coord_ra),\n",
    "                np.cos(coord_dec)*np.sin(coord_ra),\n",
    "                np.sin(coord_dec)])\n",
    "\n",
    "dist = np.arccos(np.dot(xyz.transpose(), xyz_mid))"
   ]
  },
  {
   "cell_type": "code",
   "execution_count": 50,
   "metadata": {},
   "outputs": [],
   "source": [
    "ref_cat = ref_task.loadSkyCircle(lsst_geom.SpherePoint(ra_mid*lsst_geom.radians, dec_mid*lsst_geom.radians),\n",
    "                                 lsst_geom.Angle(1.05*dist.max()*lsst_geom.radians),\n",
    "                                 filterName='g')"
   ]
  },
  {
   "cell_type": "code",
   "execution_count": 51,
   "metadata": {},
   "outputs": [],
   "source": []
  },
  {
   "cell_type": "code",
   "execution_count": null,
   "metadata": {},
   "outputs": [],
   "source": []
  },
  {
   "cell_type": "code",
   "execution_count": null,
   "metadata": {},
   "outputs": [],
   "source": []
  },
  {
   "cell_type": "code",
   "execution_count": null,
   "metadata": {},
   "outputs": [],
   "source": []
  },
  {
   "cell_type": "code",
   "execution_count": 52,
   "metadata": {},
   "outputs": [],
   "source": [
    "del ref_cat_astropy"
   ]
  },
  {
   "cell_type": "code",
   "execution_count": 39,
   "metadata": {},
   "outputs": [
    {
     "name": "stdout",
     "output_type": "stream",
     "text": [
      "(Key<D>(offset=760, nElements=1), Field['D'](name=\"base_PsfFlux_instFlux\", doc=\"instFlux derived from linear least-squares fit of PSF model\", units=\"count\"))\n",
      "(Key<D>(offset=768, nElements=1), Field['D'](name=\"base_PsfFlux_instFluxErr\", doc=\"1-sigma instFlux uncertainty\", units=\"count\"))\n",
      "(Key<F>(offset=776, nElements=1), Field['F'](name=\"base_PsfFlux_area\", doc=\"effective area of PSF\", units=\"pixel\"))\n",
      "(Key['Flag'](offset=640, bit=28), Field['Flag'](name=\"base_PsfFlux_flag\", doc=\"General Failure Flag\"))\n",
      "(Key['Flag'](offset=640, bit=29), Field['Flag'](name=\"base_PsfFlux_flag_noGoodPixels\", doc=\"not enough non-rejected pixels in data to attempt the fit\"))\n",
      "(Key['Flag'](offset=640, bit=30), Field['Flag'](name=\"base_PsfFlux_flag_edge\", doc=\"object was too close to the edge of the image to use the full PSF model\"))\n",
      "(Key<D>(offset=840, nElements=1), Field['D'](name=\"base_PsfFlux_apCorr\", doc=\"aperture correction applied to base_PsfFlux\"))\n",
      "(Key<D>(offset=848, nElements=1), Field['D'](name=\"base_PsfFlux_apCorrErr\", doc=\"standard deviation of aperture correction applied to base_PsfFlux\"))\n",
      "(Key['Flag'](offset=640, bit=44), Field['Flag'](name=\"base_PsfFlux_flag_apCorr\", doc=\"set if unable to aperture correct base_PsfFlux\"))\n"
     ]
    }
   ],
   "source": [
    "for line in src.schema:\n",
    "    name = line[1].getName()\n",
    "    if 'base_PsfFlux' in name:\n",
    "        print(line)"
   ]
  },
  {
   "cell_type": "code",
   "execution_count": 45,
   "metadata": {},
   "outputs": [
    {
     "data": {
      "text/plain": [
       "array([[2.83365425e+03, 4.23136558e+01],\n",
       "       [4.36405422e+03, 4.49792195e+01],\n",
       "       [1.36955083e+04, 5.89366853e+01],\n",
       "       [5.04223434e+04, 1.03302501e+02],\n",
       "       [1.01155882e+04, 5.51786266e+01],\n",
       "       [3.05975781e+03, 4.49736843e+01],\n",
       "       [6.35249088e+03, 4.85085406e+01],\n",
       "       [1.26032572e+03, 4.19930914e+01],\n",
       "       [2.94207685e+04, 8.33914278e+01],\n",
       "       [2.50623403e+03, 4.46072070e+01],\n",
       "       [6.64680595e+03, 5.53081035e+01],\n",
       "       [4.28915723e+03, 5.06732063e+01],\n",
       "       [1.25123847e+04, 6.21246494e+01],\n",
       "       [8.16810203e+04, 1.47553690e+02],\n",
       "       [2.77197841e+05, 3.37688066e+02],\n",
       "       [5.65934145e+03, 4.77046306e+01],\n",
       "       [5.35069792e+03, 5.11995386e+01],\n",
       "       [7.18771964e+04, 1.35717199e+02]])"
      ]
     },
     "execution_count": 45,
     "metadata": {},
     "output_type": "execute_result"
    }
   ],
   "source": [
    "calib.instFluxToNanojansky(src, 'base_PsfFlux')\n"
   ]
  },
  {
   "cell_type": "code",
   "execution_count": 44,
   "metadata": {},
   "outputs": [
    {
     "data": {
      "text/plain": [
       "['__class__',\n",
       " '__delattr__',\n",
       " '__dir__',\n",
       " '__doc__',\n",
       " '__eq__',\n",
       " '__format__',\n",
       " '__ge__',\n",
       " '__getattribute__',\n",
       " '__gt__',\n",
       " '__hash__',\n",
       " '__init__',\n",
       " '__init_subclass__',\n",
       " '__le__',\n",
       " '__lt__',\n",
       " '__module__',\n",
       " '__ne__',\n",
       " '__new__',\n",
       " '__reduce__',\n",
       " '__reduce_ex__',\n",
       " '__repr__',\n",
       " '__setattr__',\n",
       " '__sizeof__',\n",
       " '__str__',\n",
       " '__subclasshook__',\n",
       " '_getFlux',\n",
       " '_getFluxMag0',\n",
       " '_getMagnitude',\n",
       " '_getThrowOnNegativeFlux',\n",
       " '_setThrowOnNegativeFlux',\n",
       " 'calibrateCatalog',\n",
       " 'calibrateImage',\n",
       " 'computeScaledCalibration',\n",
       " 'computeScalingTo',\n",
       " 'getCalibrationErr',\n",
       " 'getCalibrationMean',\n",
       " 'getFlux',\n",
       " 'getFluxMag0',\n",
       " 'getInstFluxAtZeroMagnitude',\n",
       " 'getLocalCalibration',\n",
       " 'getMagnitude',\n",
       " 'getThrowOnNegativeFlux',\n",
       " 'instFluxToMagnitude',\n",
       " 'instFluxToNanojansky',\n",
       " 'isPersistable',\n",
       " 'magnitudeToInstFlux',\n",
       " 'readFits',\n",
       " 'setFluxMag0',\n",
       " 'setThrowOnNegativeFlux',\n",
       " 'writeFits']"
      ]
     },
     "execution_count": 44,
     "metadata": {},
     "output_type": "execute_result"
    }
   ],
   "source": [
    "dir(calib)"
   ]
  },
  {
   "cell_type": "code",
   "execution_count": null,
   "metadata": {},
   "outputs": [],
   "source": []
  }
 ],
 "metadata": {
  "kernelspec": {
   "display_name": "LSST",
   "language": "python",
   "name": "lsst"
  },
  "language_info": {
   "codemirror_mode": {
    "name": "ipython",
    "version": 3
   },
   "file_extension": ".py",
   "mimetype": "text/x-python",
   "name": "python",
   "nbconvert_exporter": "python",
   "pygments_lexer": "ipython3",
   "version": "3.7.2"
  }
 },
 "nbformat": 4,
 "nbformat_minor": 2
}
