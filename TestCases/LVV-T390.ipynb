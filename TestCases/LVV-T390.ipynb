{
 "cells": [
  {
   "cell_type": "code",
   "execution_count": null,
   "metadata": {},
   "outputs": [],
   "source": []
  },
  {
   "cell_type": "code",
   "execution_count": 3,
   "metadata": {},
   "outputs": [],
   "source": [
    "%matplotlib inline\n",
    "import matplotlib.pyplot as plt\n",
    "\n",
    "import os\n",
    "import numpy as np"
   ]
  },
  {
   "cell_type": "code",
   "execution_count": 5,
   "metadata": {},
   "outputs": [],
   "source": [
    "from utils import plot_color_mesh\n",
    "from utils import select_stars\n",
    "import lsst.daf.persistence as daf_persistence\n",
    "from lsst.meas.algorithms import LoadIndexedReferenceObjectsTask\n",
    "from lsst.meas.algorithms import LoadIndexedReferenceObjectsConfig\n",
    "import lsst.geom as lsst_geom"
   ]
  },
  {
   "cell_type": "code",
   "execution_count": 15,
   "metadata": {},
   "outputs": [],
   "source": [
    "hsc_dir = '/project/danielsf/hsc_reprocessing/190930/single_visit'\n",
    "assert os.path.isdir(hsc_dir)\n",
    "hsc_butler = daf_persistence.Butler(hsc_dir)"
   ]
  },
  {
   "cell_type": "code",
   "execution_count": 16,
   "metadata": {},
   "outputs": [],
   "source": [
    "ref_cat_name = 'ps1_pv3_3pi_20170110'"
   ]
  },
  {
   "cell_type": "code",
   "execution_count": 17,
   "metadata": {},
   "outputs": [],
   "source": [
    "g_visits=[6320, 34338, 34342, 34362, 34366, 34382, 34384, 34400, 34402, 34412, 34414,\n",
    "          34422, 34424, 34448, 34450, 34464, 34468, 34478, 34480, 34482, 34484, 34486]\n",
    "r_visits=[7138, 34640, 34644, 34648, 34652, 34664, 34670, 34672, 34674, 34676, 34686,\n",
    "          34688, 34690, 34698, 34706, 34708, 34712, 34714, 34734, 34758, 34760, 34772]\n",
    "i_visits=[35870, 35890, 35892, 35906, 35936, 35950, 35974, 36114, 36118, 36140, 36144,\n",
    "          36148, 36158, 36160, 36170, 36172, 36180, 36182, 36190, 36192, 36202, 36204,\n",
    "          36212, 36214, 36216, 36218, 36234, 36236, 36238, 36240, 36258, 36260, 36262]\n",
    "z_visits=[36404, 36408, 36412, 36416, 36424, 36426, 36428, 36430, 36432, 36434, 36438,\n",
    "          36442, 36444, 36446, 36448, 36456, 36458, 36460, 36466, 36474, 36476, 36480,\n",
    "          36488, 36490, 36492, 36494, 36498, 36504, 36506, 36508, 38938, 38944, 38950]\n",
    "y_visits=[34874, 34942, 34944, 34946, 36726, 36730, 36738, 36750, 36754, 36756, 36758,\n",
    "          36762, 36768, 36772, 36774, 36776, 36778, 36788, 36790, 36792, 36794, 36800,\n",
    "          36802, 36808, 36810, 36812, 36818, 36820, 36828, 36830, 36834, 36836, 36838]"
   ]
  },
  {
   "cell_type": "code",
   "execution_count": null,
   "metadata": {},
   "outputs": [],
   "source": []
  }
 ],
 "metadata": {
  "kernelspec": {
   "display_name": "LSST",
   "language": "python",
   "name": "lsst"
  },
  "language_info": {
   "codemirror_mode": {
    "name": "ipython",
    "version": 3
   },
   "file_extension": ".py",
   "mimetype": "text/x-python",
   "name": "python",
   "nbconvert_exporter": "python",
   "pygments_lexer": "ipython3",
   "version": "3.7.2"
  }
 },
 "nbformat": 4,
 "nbformat_minor": 2
}
