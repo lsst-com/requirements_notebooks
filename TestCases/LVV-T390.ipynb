{
 "cells": [
  {
   "cell_type": "code",
   "execution_count": null,
   "metadata": {},
   "outputs": [],
   "source": []
  },
  {
   "cell_type": "code",
   "execution_count": 1,
   "metadata": {},
   "outputs": [],
   "source": [
    "%matplotlib inline\n",
    "import matplotlib.pyplot as plt\n",
    "\n",
    "import os\n",
    "import numpy as np\n",
    "import scipy.spatial as scipy_spatial"
   ]
  },
  {
   "cell_type": "code",
   "execution_count": 2,
   "metadata": {},
   "outputs": [],
   "source": [
    "from utils import plot_color_mesh\n",
    "from utils import select_stars\n",
    "import lsst.daf.persistence as daf_persistence\n",
    "from lsst.meas.algorithms import LoadIndexedReferenceObjectsTask\n",
    "from lsst.meas.algorithms import LoadIndexedReferenceObjectsConfig\n",
    "import lsst.geom as lsst_geom"
   ]
  },
  {
   "cell_type": "code",
   "execution_count": 3,
   "metadata": {},
   "outputs": [],
   "source": [
    "hsc_dir = '/project/danielsf/hsc_reprocessing/190930/single_visit'\n",
    "assert os.path.isdir(hsc_dir)\n",
    "hsc_butler = daf_persistence.Butler(hsc_dir)"
   ]
  },
  {
   "cell_type": "code",
   "execution_count": 4,
   "metadata": {},
   "outputs": [],
   "source": [
    "ref_cat_name = 'ps1_pv3_3pi_20170110'"
   ]
  },
  {
   "cell_type": "code",
   "execution_count": 5,
   "metadata": {},
   "outputs": [],
   "source": [
    "g_visits=[6320, 34338, 34342, 34362, 34366, 34382, 34384, 34400, 34402, 34412, 34414,\n",
    "          34422, 34424, 34448, 34450, 34464, 34468, 34478, 34480, 34482, 34484, 34486]\n",
    "r_visits=[7138, 34640, 34644, 34648, 34652, 34664, 34670, 34672, 34674, 34676, 34686,\n",
    "          34688, 34690, 34698, 34706, 34708, 34712, 34714, 34734, 34758, 34760, 34772]\n",
    "i_visits=[35870, 35890, 35892, 35906, 35936, 35950, 35974, 36114, 36118, 36140, 36144,\n",
    "          36148, 36158, 36160, 36170, 36172, 36180, 36182, 36190, 36192, 36202, 36204,\n",
    "          36212, 36214, 36216, 36218, 36234, 36236, 36238, 36240, 36258, 36260, 36262]\n",
    "z_visits=[36404, 36408, 36412, 36416, 36424, 36426, 36428, 36430, 36432, 36434, 36438,\n",
    "          36442, 36444, 36446, 36448, 36456, 36458, 36460, 36466, 36474, 36476, 36480,\n",
    "          36488, 36490, 36492, 36494, 36498, 36504, 36506, 36508, 38938, 38944, 38950]\n",
    "y_visits=[34874, 34942, 34944, 34946, 36726, 36730, 36738, 36750, 36754, 36756, 36758,\n",
    "          36762, 36768, 36772, 36774, 36776, 36778, 36788, 36790, 36792, 36794, 36800,\n",
    "          36802, 36808, 36810, 36812, 36818, 36820, 36828, 36830, 36834, 36836, 36838]\n",
    "\n",
    "visit_dict = {}\n",
    "visit_dict['g'] = g_visits\n",
    "visit_dict['r'] = r_visits\n",
    "visit_dict['i'] = i_visits\n",
    "visit_dict['z'] = z_visits\n",
    "visit_dict['y'] = y_visits"
   ]
  },
  {
   "cell_type": "code",
   "execution_count": 6,
   "metadata": {},
   "outputs": [],
   "source": [
    "ccd_num_list = list(range(0,9))+list(range(10,104))"
   ]
  },
  {
   "cell_type": "code",
   "execution_count": 72,
   "metadata": {},
   "outputs": [
    {
     "name": "stdout",
     "output_type": "stream",
     "text": [
      "1 0.0032221743795606823 0.070887836350335\n",
      "2 0.005837074518203735 0.06420781970024109\n",
      "3 0.008067555824915569 0.05916207604938084\n",
      "4 0.010303444729910956 0.05666894601451026\n",
      "5 0.012511160969734193 0.05504910826683045\n",
      "6 0.02039215173986223 0.07477122304616152\n",
      "7 0.02753419664171007 0.08653604658823165\n",
      "8 0.03474214249187046 0.09554089185264376\n",
      "9 0.04181325501865811 0.1022101789344976\n",
      "10 0.04848644024795956 0.10667016854551103\n",
      "11 0.05553445842530992 0.11106891685061984\n",
      "12 0.06272107793225182 0.114988642875795\n",
      "13 0.06954772644572788 0.1176961524466164\n",
      "14 0.07695605761475033 0.12093094768032193\n",
      "15 0.08406825270917681 0.12330010397345932\n",
      "16 0.09090103083186679 0.12498891739381685\n",
      "17 0.09778482079505921 0.12654506220537076\n",
      "18 0.10501265989409553 0.12834880653722788\n",
      "19 0.11233876347541809 0.13007646297153674\n",
      "20 0.11969169828626845 0.1316608681148953\n",
      "21 0.12673568917645348 0.13277072199437984\n",
      "22 0.1340418008963267 0.1340418008963267\n"
     ]
    }
   ],
   "source": [
    "import time\n",
    "coord_ra = []\n",
    "coord_dec = []\n",
    "g_flux = []\n",
    "calib_phot_used = []\n",
    "calib_phot_reserved = []\n",
    "t_start = time.time()\n",
    "ct=0\n",
    "for visit_num in visit_dict['g']:\n",
    "    for ccd_num in ccd_num_list:\n",
    "        data_id = {'visit': visit_num, 'ccd':ccd_num}\n",
    "        src = hsc_butler.get('src', dataId=data_id)\n",
    "        calib = hsc_butler.get('calexp_photoCalib', dataId=data_id)\n",
    "        valid = (src['calib_photometry_used'] | src['calib_photometry_reserved'])\n",
    "        src = src[valid]\n",
    "        g_flux_and_err = calib.instFluxToNanojansky(src, 'base_PsfFlux')\n",
    "        coord_ra.append(src['coord_ra'])\n",
    "        coord_dec.append(src['coord_dec'])\n",
    "        g_flux.append(g_flux_and_err[:,0])\n",
    "        calib_phot_used.append(src['calib_photometry_used'])\n",
    "        calib_phot_reserved.append(src['calib_photometry_reserved'])\n",
    "\n",
    "    ct += 1\n",
    "    duration = (time.time()-t_start)/3600.0\n",
    "    per = duration/ct\n",
    "    pred = per*len(visit_dict['g'])\n",
    "    print(ct,duration,pred)\n",
    "\n",
    "coord_ra = np.concatenate(coord_ra)\n",
    "coord_dec = np.concatenate(coord_dec)\n",
    "g_flux = np.concatenate(g_flux)\n",
    "calib_phot_used = np.concatenate(calib_phot_used)\n",
    "calib_phot_reserved = np.concatenate(calib_phot_reserved)"
   ]
  },
  {
   "cell_type": "code",
   "execution_count": 73,
   "metadata": {},
   "outputs": [
    {
     "name": "stdout",
     "output_type": "stream",
     "text": [
      "used  69725\n",
      "reserved  17438\n",
      "87153\n"
     ]
    }
   ],
   "source": [
    "print('used ',calib_phot_used.sum())\n",
    "print('reserved ',calib_phot_reserved.sum())\n",
    "print(len(coord_ra))"
   ]
  },
  {
   "cell_type": "code",
   "execution_count": 74,
   "metadata": {},
   "outputs": [],
   "source": [
    "ref_config = LoadIndexedReferenceObjectsConfig()\n",
    "ref_config.ref_dataset_name = ref_cat_name\n",
    "ref_task = LoadIndexedReferenceObjectsTask(hsc_butler, config=ref_config)"
   ]
  },
  {
   "cell_type": "code",
   "execution_count": 75,
   "metadata": {},
   "outputs": [
    {
     "name": "stdout",
     "output_type": "stream",
     "text": [
      "0.040120179818363466\n",
      "5.893352774894023 0.012878150321096675\n",
      "-0.4138303090878554 -0.34553529688682527\n"
     ]
    }
   ],
   "source": [
    "ra_mid = np.median(coord_ra)\n",
    "dec_mid = np.median(coord_dec)\n",
    "xyz_mid = np.array([np.cos(dec_mid)*np.cos(ra_mid), np.cos(dec_mid)*np.sin(ra_mid), np.sin(dec_mid)])\n",
    "xyz = np.array([np.cos(coord_dec)*np.cos(coord_ra),\n",
    "                np.cos(coord_dec)*np.sin(coord_ra),\n",
    "                np.sin(coord_dec)])\n",
    "\n",
    "dist = np.arccos(np.dot(xyz.transpose(), xyz_mid))\n",
    "print(dist.max())\n",
    "print(ra_mid, dec_mid)\n",
    "print(xyz[1].min(),xyz[1].max())"
   ]
  },
  {
   "cell_type": "code",
   "execution_count": 76,
   "metadata": {},
   "outputs": [],
   "source": [
    "ref_cat = ref_task.loadSkyCircle(lsst_geom.SpherePoint(ra_mid*lsst_geom.radians, dec_mid*lsst_geom.radians),\n",
    "                                 lsst_geom.Angle(1.05*dist.max()*lsst_geom.radians),\n",
    "                                 filterName='g')"
   ]
  },
  {
   "cell_type": "code",
   "execution_count": 77,
   "metadata": {},
   "outputs": [],
   "source": [
    "cdec = np.cos(ref_cat.refCat['coord_dec'])\n",
    "ref_cat_spatial_data = np.array([cdec*np.cos(ref_cat.refCat['coord_ra']),\n",
    "                                 cdec*np.sin(ref_cat.refCat['coord_ra']),\n",
    "                                 np.sin(ref_cat.refCat['coord_dec'])])\n",
    "ref_cat_spatial_tree = scipy_spatial.cKDTree(ref_cat_spatial_data.transpose(), leafsize=16)"
   ]
  },
  {
   "cell_type": "code",
   "execution_count": 78,
   "metadata": {},
   "outputs": [],
   "source": [
    "cdec = np.cos(coord_dec)\n",
    "hsc_spatial_data = np.array([cdec*np.cos(coord_ra),\n",
    "                             cdec*np.sin(coord_ra),\n",
    "                             np.sin(coord_dec)]).transpose()"
   ]
  },
  {
   "cell_type": "code",
   "execution_count": 79,
   "metadata": {},
   "outputs": [
    {
     "name": "stdout",
     "output_type": "stream",
     "text": [
      "CPU times: user 119 ms, sys: 72 µs, total: 119 ms\n",
      "Wall time: 133 ms\n"
     ]
    }
   ],
   "source": [
    "%%time\n",
    "fit_dist, fit_dex = ref_cat_spatial_tree.query(hsc_spatial_data, k=2)"
   ]
  },
  {
   "cell_type": "code",
   "execution_count": 80,
   "metadata": {},
   "outputs": [
    {
     "name": "stdout",
     "output_type": "stream",
     "text": [
      "[1.56720480e-07 1.61012973e-07]\n",
      "0.0025981618239821046\n",
      "87132\n"
     ]
    }
   ],
   "source": [
    "dex = np.argmax(fit_dist[:,0]/fit_dist[:,1])\n",
    "print(fit_dist[dex])\n",
    "dist_rat = fit_dist[:,0]/fit_dist[:,1]\n",
    "print(np.median(dist_rat))\n",
    "print(np.sum(dist_rat<0.5))"
   ]
  },
  {
   "cell_type": "code",
   "execution_count": 81,
   "metadata": {},
   "outputs": [
    {
     "name": "stdout",
     "output_type": "stream",
     "text": [
      "87153\n",
      "35688\n"
     ]
    }
   ],
   "source": [
    "print(len(fit_dex[:,0]))\n",
    "print(len(np.unique(fit_dex[:,0])))"
   ]
  },
  {
   "cell_type": "code",
   "execution_count": 82,
   "metadata": {},
   "outputs": [
    {
     "data": {
      "text/plain": [
       "[<matplotlib.lines.Line2D at 0x7f54c482e5f8>]"
      ]
     },
     "execution_count": 82,
     "metadata": {},
     "output_type": "execute_result"
    },
    {
     "data": {
      "image/png": "[encoded data removed]",
      "text/plain": [
       "<Figure size 720x720 with 2 Axes>"
      ]
     },
     "metadata": {
      "needs_background": "light"
     },
     "output_type": "display_data"
    }
   ],
   "source": [
    "plt.figure(figsize=(10,10))\n",
    "fit_dex_used = fit_dex[:,0][calib_phot_used]\n",
    "plot_color_mesh(np.log10(g_flux[calib_phot_used]),\n",
    "                np.log10(ref_cat.refCat['g_flux'][fit_dex_used]),\n",
    "                0.05,0.05)\n",
    "plt.plot([2.5,7.1], [2.5,7.1], linestyle='--', color='r', alpha=0.3)"
   ]
  },
  {
   "cell_type": "code",
   "execution_count": 83,
   "metadata": {},
   "outputs": [
    {
     "data": {
      "text/plain": [
       "[<matplotlib.lines.Line2D at 0x7f54c4819240>]"
      ]
     },
     "execution_count": 83,
     "metadata": {},
     "output_type": "execute_result"
    },
    {
     "data": {
      "image/png": "[encoded data removed]",
      "text/plain": [
       "<Figure size 720x720 with 2 Axes>"
      ]
     },
     "metadata": {
      "needs_background": "light"
     },
     "output_type": "display_data"
    }
   ],
   "source": [
    "plt.figure(figsize=(10,10))\n",
    "fit_dex_reserved = fit_dex[:,0][calib_phot_reserved]\n",
    "plot_color_mesh(np.log10(g_flux[calib_phot_reserved]),\n",
    "                np.log10(ref_cat.refCat['g_flux'][fit_dex_reserved]),\n",
    "                0.05,0.05)\n",
    "plt.plot([2.5,7.1], [2.5,7.1], linestyle='--', color='r', alpha=0.3)"
   ]
  },
  {
   "cell_type": "code",
   "execution_count": null,
   "metadata": {},
   "outputs": [],
   "source": []
  },
  {
   "cell_type": "code",
   "execution_count": 36,
   "metadata": {},
   "outputs": [
    {
     "name": "stdout",
     "output_type": "stream",
     "text": [
      "-0.037813548073103415 0.04394311498154817\n"
     ]
    }
   ],
   "source": [
    "print(ref_cat_spatial_data[1].min(),ref_cat_spatial_data[1].max())"
   ]
  },
  {
   "cell_type": "code",
   "execution_count": 38,
   "metadata": {},
   "outputs": [
    {
     "name": "stdout",
     "output_type": "stream",
     "text": [
      "-0.4138303090878554 -0.3510377850512252\n"
     ]
    }
   ],
   "source": [
    "print(hsc_spatial_data[:,1].min(),hsc_spatial_data[:,1].max())"
   ]
  },
  {
   "cell_type": "code",
   "execution_count": 44,
   "metadata": {},
   "outputs": [
    {
     "name": "stdout",
     "output_type": "stream",
     "text": [
      "5.856525283231127 5.924492901108867\n",
      "-0.019582414737115986 0.02522986385398839\n"
     ]
    }
   ],
   "source": [
    "print(coord_ra.min(),coord_ra.max())\n",
    "print(coord_dec.min(),coord_dec.max())"
   ]
  },
  {
   "cell_type": "code",
   "execution_count": 45,
   "metadata": {},
   "outputs": [
    {
     "name": "stdout",
     "output_type": "stream",
     "text": [
      "5.846780794510347 5.9286246184170475\n",
      "-0.03784968666042615 0.04399988187301415\n"
     ]
    }
   ],
   "source": [
    "print(ref_cat.refCat['coord_ra'].min(), ref_cat.refCat['coord_ra'].max())\n",
    "print(ref_cat.refCat['coord_dec'].min(), ref_cat.refCat['coord_dec'].max())"
   ]
  },
  {
   "cell_type": "code",
   "execution_count": null,
   "metadata": {},
   "outputs": [],
   "source": []
  },
  {
   "cell_type": "code",
   "execution_count": null,
   "metadata": {},
   "outputs": [],
   "source": []
  },
  {
   "cell_type": "code",
   "execution_count": null,
   "metadata": {},
   "outputs": [],
   "source": [
    "for line in src.schema:\n",
    "    name = line[1].getName()\n",
    "    if 'base_PsfFlux' in name:\n",
    "        print(line)"
   ]
  },
  {
   "cell_type": "code",
   "execution_count": null,
   "metadata": {},
   "outputs": [],
   "source": [
    "calib.instFluxToNanojansky(src, 'base_PsfFlux')\n"
   ]
  },
  {
   "cell_type": "code",
   "execution_count": null,
   "metadata": {},
   "outputs": [],
   "source": [
    "dir(calib)"
   ]
  },
  {
   "cell_type": "code",
   "execution_count": null,
   "metadata": {},
   "outputs": [],
   "source": []
  }
 ],
 "metadata": {
  "kernelspec": {
   "display_name": "LSST",
   "language": "python",
   "name": "lsst"
  },
  "language_info": {
   "codemirror_mode": {
    "name": "ipython",
    "version": 3
   },
   "file_extension": ".py",
   "mimetype": "text/x-python",
   "name": "python",
   "nbconvert_exporter": "python",
   "pygments_lexer": "ipython3",
   "version": "3.7.2"
  }
 },
 "nbformat": 4,
 "nbformat_minor": 2
}
