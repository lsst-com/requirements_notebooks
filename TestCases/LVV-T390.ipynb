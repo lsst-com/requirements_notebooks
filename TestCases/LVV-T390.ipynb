{
 "cells": [
  {
   "cell_type": "code",
   "execution_count": null,
   "metadata": {},
   "outputs": [],
   "source": []
  },
  {
   "cell_type": "code",
   "execution_count": 1,
   "metadata": {},
   "outputs": [],
   "source": [
    "%matplotlib inline\n",
    "import matplotlib.pyplot as plt\n",
    "\n",
    "import os\n",
    "import numpy as np\n",
    "import scipy.spatial as scipy_spatial"
   ]
  },
  {
   "cell_type": "code",
   "execution_count": 2,
   "metadata": {},
   "outputs": [],
   "source": [
    "from utils import plot_color_mesh\n",
    "from utils import select_stars\n",
    "import lsst.daf.persistence as daf_persistence\n",
    "from lsst.meas.algorithms import LoadIndexedReferenceObjectsTask\n",
    "from lsst.meas.algorithms import LoadIndexedReferenceObjectsConfig\n",
    "import lsst.geom as lsst_geom"
   ]
  },
  {
   "cell_type": "code",
   "execution_count": 3,
   "metadata": {},
   "outputs": [],
   "source": [
    "hsc_dir = '/project/danielsf/hsc_reprocessing/190930/single_visit'\n",
    "assert os.path.isdir(hsc_dir)\n",
    "hsc_butler = daf_persistence.Butler(hsc_dir)"
   ]
  },
  {
   "cell_type": "code",
   "execution_count": 4,
   "metadata": {},
   "outputs": [],
   "source": [
    "ref_cat_name = 'ps1_pv3_3pi_20170110'"
   ]
  },
  {
   "cell_type": "code",
   "execution_count": 5,
   "metadata": {},
   "outputs": [],
   "source": [
    "g_visits=[6320, 34338, 34342, 34362, 34366, 34382, 34384, 34400, 34402, 34412, 34414,\n",
    "          34422, 34424, 34448, 34450, 34464, 34468, 34478, 34480, 34482, 34484, 34486]\n",
    "r_visits=[7138, 34640, 34644, 34648, 34652, 34664, 34670, 34672, 34674, 34676, 34686,\n",
    "          34688, 34690, 34698, 34706, 34708, 34712, 34714, 34734, 34758, 34760, 34772]\n",
    "i_visits=[35870, 35890, 35892, 35906, 35936, 35950, 35974, 36114, 36118, 36140, 36144,\n",
    "          36148, 36158, 36160, 36170, 36172, 36180, 36182, 36190, 36192, 36202, 36204,\n",
    "          36212, 36214, 36216, 36218, 36234, 36236, 36238, 36240, 36258, 36260, 36262]\n",
    "z_visits=[36404, 36408, 36412, 36416, 36424, 36426, 36428, 36430, 36432, 36434, 36438,\n",
    "          36442, 36444, 36446, 36448, 36456, 36458, 36460, 36466, 36474, 36476, 36480,\n",
    "          36488, 36490, 36492, 36494, 36498, 36504, 36506, 36508, 38938, 38944, 38950]\n",
    "y_visits=[34874, 34942, 34944, 34946, 36726, 36730, 36738, 36750, 36754, 36756, 36758,\n",
    "          36762, 36768, 36772, 36774, 36776, 36778, 36788, 36790, 36792, 36794, 36800,\n",
    "          36802, 36808, 36810, 36812, 36818, 36820, 36828, 36830, 36834, 36836, 36838]\n",
    "\n",
    "visit_dict = {}\n",
    "visit_dict['g'] = g_visits\n",
    "visit_dict['r'] = r_visits\n",
    "visit_dict['i'] = i_visits\n",
    "visit_dict['z'] = z_visits\n",
    "visit_dict['y'] = y_visits"
   ]
  },
  {
   "cell_type": "code",
   "execution_count": 6,
   "metadata": {},
   "outputs": [],
   "source": [
    "ccd_num_list = list(range(0,9))+list(range(10,104))"
   ]
  },
  {
   "cell_type": "code",
   "execution_count": 7,
   "metadata": {},
   "outputs": [
    {
     "name": "stdout",
     "output_type": "stream",
     "text": [
      "1 0.00778956671555837 0.17137046774228415\n",
      "2 0.014530803958574931 0.15983884354432423\n",
      "3 0.021687009930610658 0.15903807282447815\n",
      "4 0.028765708141856722 0.15821139478021196\n",
      "5 0.03599546101358202 0.15838002845976087\n"
     ]
    }
   ],
   "source": [
    "import time\n",
    "coord_ra = []\n",
    "coord_dec = []\n",
    "g_flux = []\n",
    "calib_phot_used = []\n",
    "calib_phot_reserved = []\n",
    "t_start = time.time()\n",
    "ct=0\n",
    "for visit_num in visit_dict['g'][:5]:\n",
    "    for ccd_num in ccd_num_list:\n",
    "        data_id = {'visit': visit_num, 'ccd':ccd_num}\n",
    "        src = hsc_butler.get('src', dataId=data_id)\n",
    "        calib = hsc_butler.get('calexp_photoCalib', dataId=data_id)\n",
    "        valid = (src['calib_photometry_used'] | src['calib_photometry_reserved'])\n",
    "        src = src[valid]\n",
    "        g_flux_and_err = calib.instFluxToNanojansky(src, 'base_PsfFlux')\n",
    "        coord_ra.append(src['coord_ra'])\n",
    "        coord_dec.append(src['coord_dec'])\n",
    "        g_flux.append(g_flux_and_err[:,0])\n",
    "        calib_phot_used.append(src['calib_photometry_used'])\n",
    "        calib_phot_reserved.append(src['calib_photometry_reserved'])\n",
    "\n",
    "    ct += 1\n",
    "    duration = (time.time()-t_start)/3600.0\n",
    "    per = duration/ct\n",
    "    pred = per*len(visit_dict['g'])\n",
    "    print(ct,duration,pred)\n",
    "\n",
    "coord_ra = np.concatenate(coord_ra)\n",
    "coord_dec = np.concatenate(coord_dec)\n",
    "g_flux = np.concatenate(g_flux)\n",
    "calib_phot_used = np.concatenate(calib_phot_used)\n",
    "calib_phot_reserved = np.concatenate(calib_phot_reserved)"
   ]
  },
  {
   "cell_type": "code",
   "execution_count": 8,
   "metadata": {},
   "outputs": [
    {
     "name": "stdout",
     "output_type": "stream",
     "text": [
      "used  15843\n",
      "reserved  3954\n",
      "19797\n"
     ]
    }
   ],
   "source": [
    "print('used ',calib_phot_used.sum())\n",
    "print('reserved ',calib_phot_reserved.sum())\n",
    "print(len(coord_ra))"
   ]
  },
  {
   "cell_type": "code",
   "execution_count": 9,
   "metadata": {},
   "outputs": [],
   "source": [
    "ref_config = LoadIndexedReferenceObjectsConfig()\n",
    "ref_config.ref_dataset_name = ref_cat_name\n",
    "ref_task = LoadIndexedReferenceObjectsTask(hsc_butler, config=ref_config)"
   ]
  },
  {
   "cell_type": "code",
   "execution_count": 43,
   "metadata": {},
   "outputs": [
    {
     "name": "stdout",
     "output_type": "stream",
     "text": [
      "0.03897788117880707\n",
      "5.8876997613116435 0.0030744558963970163\n",
      "-0.4138303090878554 -0.3510377850512252\n"
     ]
    }
   ],
   "source": [
    "ra_mid = np.median(coord_ra)\n",
    "dec_mid = np.median(coord_dec)\n",
    "xyz_mid = np.array([np.cos(dec_mid)*np.cos(ra_mid), np.cos(dec_mid)*np.sin(ra_mid), np.sin(dec_mid)])\n",
    "xyz = np.array([np.cos(coord_dec)*np.cos(coord_ra),\n",
    "                np.cos(coord_dec)*np.sin(coord_ra),\n",
    "                np.sin(coord_dec)])\n",
    "\n",
    "dist = np.arccos(np.dot(xyz.transpose(), xyz_mid))\n",
    "print(dist.max())\n",
    "print(ra_mid, dec_mid)\n",
    "print(xyz[1].min(),xyz[1].max())"
   ]
  },
  {
   "cell_type": "code",
   "execution_count": 11,
   "metadata": {},
   "outputs": [],
   "source": [
    "ref_cat = ref_task.loadSkyCircle(lsst_geom.SpherePoint(ra_mid*lsst_geom.radians, dec_mid*lsst_geom.radians),\n",
    "                                 lsst_geom.Angle(1.05*dist.max()*lsst_geom.radians),\n",
    "                                 filterName='g')"
   ]
  },
  {
   "cell_type": "code",
   "execution_count": 46,
   "metadata": {},
   "outputs": [],
   "source": [
    "cdec = np.cos(ref_cat.refCat['coord_dec'])\n",
    "ref_cat_spatial_data = np.array([cdec*np.cos(ref_cat.refCat['coord_ra']),\n",
    "                                 cdec*np.sin(ref_cat.refCat['coord_ra']),\n",
    "                                 np.sin(ref_cat.refCat['coord_dec'])])\n",
    "ref_cat_spatial_tree = scipy_spatial.cKDTree(ref_cat_spatial_data.transpose(), leafsize=16)"
   ]
  },
  {
   "cell_type": "code",
   "execution_count": 48,
   "metadata": {},
   "outputs": [],
   "source": [
    "cdec = np.cos(coord_dec)\n",
    "hsc_spatial_data = np.array([cdec*np.cos(coord_ra),\n",
    "                             cdec*np.sin(coord_ra),\n",
    "                             np.sin(coord_dec)]).transpose()"
   ]
  },
  {
   "cell_type": "code",
   "execution_count": 53,
   "metadata": {},
   "outputs": [
    {
     "name": "stdout",
     "output_type": "stream",
     "text": [
      "CPU times: user 31.9 ms, sys: 915 µs, total: 32.9 ms\n",
      "Wall time: 32.1 ms\n"
     ]
    }
   ],
   "source": [
    "%%time\n",
    "fit_dist, fit_dex = ref_cat_spatial_tree.query(hsc_spatial_data, k=2)"
   ]
  },
  {
   "cell_type": "code",
   "execution_count": 59,
   "metadata": {},
   "outputs": [
    {
     "name": "stdout",
     "output_type": "stream",
     "text": [
      "[1.09409422e-07 1.36163371e-07]\n",
      "0.0025746034183409833\n"
     ]
    }
   ],
   "source": [
    "dex = np.argmax(fit_dist[:,0]/fit_dist[:,1])\n",
    "print(fit_dist[dex])\n",
    "dist_rat = fit_dist[:,0]/fit_dist[:,1]\n",
    "print(np.median(dist_rat))"
   ]
  },
  {
   "cell_type": "code",
   "execution_count": null,
   "metadata": {},
   "outputs": [],
   "source": []
  },
  {
   "cell_type": "code",
   "execution_count": null,
   "metadata": {},
   "outputs": [],
   "source": []
  },
  {
   "cell_type": "code",
   "execution_count": null,
   "metadata": {},
   "outputs": [],
   "source": []
  },
  {
   "cell_type": "code",
   "execution_count": null,
   "metadata": {},
   "outputs": [],
   "source": []
  },
  {
   "cell_type": "code",
   "execution_count": 36,
   "metadata": {},
   "outputs": [
    {
     "name": "stdout",
     "output_type": "stream",
     "text": [
      "-0.037813548073103415 0.04394311498154817\n"
     ]
    }
   ],
   "source": [
    "print(ref_cat_spatial_data[1].min(),ref_cat_spatial_data[1].max())"
   ]
  },
  {
   "cell_type": "code",
   "execution_count": 38,
   "metadata": {},
   "outputs": [
    {
     "name": "stdout",
     "output_type": "stream",
     "text": [
      "-0.4138303090878554 -0.3510377850512252\n"
     ]
    }
   ],
   "source": [
    "print(hsc_spatial_data[:,1].min(),hsc_spatial_data[:,1].max())"
   ]
  },
  {
   "cell_type": "code",
   "execution_count": 44,
   "metadata": {},
   "outputs": [
    {
     "name": "stdout",
     "output_type": "stream",
     "text": [
      "5.856525283231127 5.924492901108867\n",
      "-0.019582414737115986 0.02522986385398839\n"
     ]
    }
   ],
   "source": [
    "print(coord_ra.min(),coord_ra.max())\n",
    "print(coord_dec.min(),coord_dec.max())"
   ]
  },
  {
   "cell_type": "code",
   "execution_count": 45,
   "metadata": {},
   "outputs": [
    {
     "name": "stdout",
     "output_type": "stream",
     "text": [
      "5.846780794510347 5.9286246184170475\n",
      "-0.03784968666042615 0.04399988187301415\n"
     ]
    }
   ],
   "source": [
    "print(ref_cat.refCat['coord_ra'].min(), ref_cat.refCat['coord_ra'].max())\n",
    "print(ref_cat.refCat['coord_dec'].min(), ref_cat.refCat['coord_dec'].max())"
   ]
  },
  {
   "cell_type": "code",
   "execution_count": null,
   "metadata": {},
   "outputs": [],
   "source": []
  },
  {
   "cell_type": "code",
   "execution_count": null,
   "metadata": {},
   "outputs": [],
   "source": []
  },
  {
   "cell_type": "code",
   "execution_count": null,
   "metadata": {},
   "outputs": [],
   "source": [
    "for line in src.schema:\n",
    "    name = line[1].getName()\n",
    "    if 'base_PsfFlux' in name:\n",
    "        print(line)"
   ]
  },
  {
   "cell_type": "code",
   "execution_count": null,
   "metadata": {},
   "outputs": [],
   "source": [
    "calib.instFluxToNanojansky(src, 'base_PsfFlux')\n"
   ]
  },
  {
   "cell_type": "code",
   "execution_count": null,
   "metadata": {},
   "outputs": [],
   "source": [
    "dir(calib)"
   ]
  },
  {
   "cell_type": "code",
   "execution_count": null,
   "metadata": {},
   "outputs": [],
   "source": []
  }
 ],
 "metadata": {
  "kernelspec": {
   "display_name": "LSST",
   "language": "python",
   "name": "lsst"
  },
  "language_info": {
   "codemirror_mode": {
    "name": "ipython",
    "version": 3
   },
   "file_extension": ".py",
   "mimetype": "text/x-python",
   "name": "python",
   "nbconvert_exporter": "python",
   "pygments_lexer": "ipython3",
   "version": "3.7.2"
  }
 },
 "nbformat": 4,
 "nbformat_minor": 2
}
