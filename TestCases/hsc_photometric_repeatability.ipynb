{
 "cells": [
  {
   "cell_type": "markdown",
   "metadata": {},
   "source": [
    "Some comments"
   ]
  },
  {
   "cell_type": "code",
   "execution_count": 1,
   "metadata": {},
   "outputs": [],
   "source": [
    "%matplotlib inline\n",
    "import matplotlib.pyplot as plt"
   ]
  },
  {
   "cell_type": "code",
   "execution_count": 2,
   "metadata": {},
   "outputs": [],
   "source": [
    "import os\n",
    "import copy\n",
    "import numpy as np\n",
    "repo_dir = '/datasets/hsc/repo/rerun/DM-13666/UDEEP'\n",
    "assert os.path.isdir(repo_dir)\n",
    "\n",
    "import lsst.daf.persistence as daf_persistence\n",
    "butler = daf_persistence.Butler(repo_dir)"
   ]
  },
  {
   "cell_type": "code",
   "execution_count": 3,
   "metadata": {},
   "outputs": [],
   "source": [
    "coadd_skymap = butler.get('deepCoadd_skyMap')"
   ]
  },
  {
   "cell_type": "code",
   "execution_count": 4,
   "metadata": {},
   "outputs": [],
   "source": [
    "# Some plotting utilities for myself\n",
    "\n",
    "def make_2d_histogram(xx, yy, dx, dy):\n",
    "    \"\"\"\n",
    "    returns indices and counts of unique points on the map\n",
    "    \"\"\"\n",
    "    i_color1 = np.round(xx/dx).astype(int)\n",
    "    i_color2 = np.round(yy/dy).astype(int)\n",
    "    dex_reverse = np.array([i_color1, i_color2])\n",
    "    dex_arr = dex_reverse.transpose()\n",
    "    # see http://stackoverflow.com/questions/16970982/find-unique-rows-in-numpy-array\n",
    "    dex_raw = np.ascontiguousarray(dex_arr).view(np.dtype((np.void, dex_arr.dtype.itemsize*dex_arr.shape[1])))\n",
    "    _, unique_rows, unique_counts = np.unique(dex_raw, return_index=True, return_counts=True)\n",
    "\n",
    "    return unique_rows, unique_counts\n",
    "\n",
    "\n",
    "def plot_color(xx, yy, dx, dy):\n",
    "    dexes, cts = make_2d_histogram(xx, yy, dx, dy)\n",
    "    sorted_dex = np.argsort(cts)\n",
    "    dexes = dexes[sorted_dex]\n",
    "    cts = cts[sorted_dex]\n",
    "    plt.scatter(xx[dexes], yy[dexes], c=cts, s=5,\n",
    "                cmap=plt.cm.gist_ncar, edgecolor='')\n",
    "\n",
    "    plt.colorbar()\n",
    "\n",
    "\n",
    "def plot_color_mesh(xx, yy, dx, dy, vmin=None, vmax=None):\n",
    "    i_x_arr = np.round((xx-xx.min())/dx).astype(int)\n",
    "    i_y_arr = np.round((yy-yy.min())/dy).astype(int)\n",
    "    new_x = i_x_arr*dx\n",
    "    new_y = i_y_arr*dy\n",
    "    dex_list, ct_list = make_2d_histogram(new_x, new_y, dx, dy)\n",
    "\n",
    "    if i_x_arr.min()<0 or i_y_arr.min()<0:\n",
    "        raise RuntimeError('negative dex %e %d %e %d' %\n",
    "                           (xx.min(), i_x_arr.min(), yy.min(), i_y_arr.min()))\n",
    "\n",
    "    x_mesh=np.arange(xx.min(),xx.max()+0.1,dx)\n",
    "    y_mesh=np.arange(yy.min(),yy.max()+0.1,dy)\n",
    "    x_mesh,y_mesh = np.meshgrid(x_mesh,y_mesh,indexing='xy')\n",
    "    z_mesh = np.zeros(shape=x_mesh.shape, dtype=int)\n",
    "    ct_1000b = 0\n",
    "\n",
    "    for dex, ct in zip(dex_list, ct_list):\n",
    "        ix = i_x_arr[dex]\n",
    "        iy = i_y_arr[dex]\n",
    "        z_mesh[iy][ix] += ct\n",
    "\n",
    "    z_mesh = np.ma.masked_where(z_mesh==0,z_mesh)\n",
    "    plt.pcolormesh(x_mesh,y_mesh,z_mesh, vmin=vmin, vmax=vmax)\n",
    "                   #norm=matplotlib.colors.LogNorm(vmin=1.0,\n",
    "                   #                               vmax=1.2e6))\n",
    "    plt.colorbar(label='sources per pixel')\n",
    "\n",
    "    ct_1000 = 0\n",
    "    big_min = np.round((2.8-xx.min())/dx).astype(int)\n",
    "    big_max = x_mesh.shape[0]"
   ]
  },
  {
   "cell_type": "code",
   "execution_count": null,
   "metadata": {},
   "outputs": [],
   "source": [
    "#dir(coadd_skymap)"
   ]
  },
  {
   "cell_type": "code",
   "execution_count": null,
   "metadata": {},
   "outputs": [],
   "source": [
    "#help(coadd_skymap.findTractPatchList)"
   ]
  },
  {
   "cell_type": "code",
   "execution_count": 5,
   "metadata": {},
   "outputs": [],
   "source": [
    "import h5py\n",
    "\n",
    "# this file contains the minimum and maximum RA, Dec values for each\n",
    "# visit that actually exists in the HSC UDEEP rerun\n",
    "spatial_lookup_filename = '/project/danielsf/valid_hsc_visit_extent_udeep.h5'\n",
    "assert os.path.isfile(spatial_lookup_filename)\n",
    "spatial_lookup = h5py.File(spatial_lookup_filename, 'r')"
   ]
  },
  {
   "cell_type": "markdown",
   "metadata": {},
   "source": [
    "Find a (somewhat arbitrary) region on the sky"
   ]
  },
  {
   "cell_type": "code",
   "execution_count": 6,
   "metadata": {},
   "outputs": [],
   "source": [
    "visit_num = spatial_lookup['visit'][11625]"
   ]
  },
  {
   "cell_type": "code",
   "execution_count": 7,
   "metadata": {},
   "outputs": [],
   "source": [
    "all_visit = np.where(spatial_lookup['visit'][()]==visit_num)"
   ]
  },
  {
   "cell_type": "code",
   "execution_count": 8,
   "metadata": {},
   "outputs": [],
   "source": [
    "ra_min = spatial_lookup['ra_min'][()][all_visit].min()\n",
    "ra_max = spatial_lookup['ra_max'][()][all_visit].max()\n",
    "dec_min = spatial_lookup['dec_min'][()][all_visit].min()\n",
    "dec_max = spatial_lookup['dec_max'][()][all_visit].max()"
   ]
  },
  {
   "cell_type": "code",
   "execution_count": 9,
   "metadata": {},
   "outputs": [],
   "source": [
    "all_coverage = np.where(np.logical_and(spatial_lookup['ra_center'][()]>ra_min,\n",
    "                        np.logical_and(spatial_lookup['ra_center'][()]<ra_max,\n",
    "                        np.logical_and(spatial_lookup['dec_center'][()]>dec_min,\n",
    "                                       spatial_lookup['dec_center'][()]<dec_max))))"
   ]
  },
  {
   "cell_type": "markdown",
   "metadata": {},
   "source": [
    "Find all the (tract, patch) pairs in that region"
   ]
  },
  {
   "cell_type": "code",
   "execution_count": 10,
   "metadata": {},
   "outputs": [],
   "source": [
    "import lsst.geom as lsst_geom"
   ]
  },
  {
   "cell_type": "code",
   "execution_count": 11,
   "metadata": {},
   "outputs": [],
   "source": [
    "pt_list = []\n",
    "for ra in np.arange(ra_min, ra_max, 0.005):\n",
    "    for dec in np.arange(dec_min, dec_max, 0.005):\n",
    "        pt_list.append(lsst_geom.SpherePoint(ra, dec, lsst_geom.radians))"
   ]
  },
  {
   "cell_type": "code",
   "execution_count": 12,
   "metadata": {},
   "outputs": [],
   "source": [
    "tract_patch_list = coadd_skymap.findTractPatchList(pt_list)"
   ]
  },
  {
   "cell_type": "markdown",
   "metadata": {},
   "source": [
    "Define a method to select stars"
   ]
  },
  {
   "cell_type": "code",
   "execution_count": 13,
   "metadata": {},
   "outputs": [],
   "source": [
    "def select_stars(dataset, calib):\n",
    "    \"\"\"\n",
    "    Select all sources with\n",
    "    base_ClassificationExtendedness_value == 0\n",
    "    & base_PsfFlux_flag == 0\n",
    "    & np.abs(PsfMag-CModelMag)<0.03\n",
    "    & PsfMag<25.0\n",
    "    \n",
    "    Parameters\n",
    "    ----------\n",
    "    dataset -- a src or deepCoadd_forcedSrc catalog\n",
    "    calib -- the photometric calibration object needed to convert fluxes into mags\n",
    "    \n",
    "    Returns\n",
    "    -------\n",
    "    numpy array of PSF magnitudes\n",
    "    numpy array of cModel magnitudes\n",
    "    numpy array of booleans set to 'True' for everything that meets the criteria above\n",
    "    \"\"\"\n",
    "    extendedness_flag = dataset['base_ClassificationExtendedness_value']==0\n",
    "    well_measured_flag = dataset['base_PsfFlux_flag']==0\n",
    "    mag_and_error = calib.instFluxToMagnitude(dataset, 'base_PsfFlux')\n",
    "    mag = mag_and_error[:,0]\n",
    "    mag_error = mag_and_error[:,1]\n",
    "    colnames = dataset.getSchema().getNames()\n",
    "    if 'modelfit_CModel_flux' in colnames:\n",
    "        model_mag = calib.instFluxToMagnitude(dataset, 'modelfit_CModel')[:,0]\n",
    "        mag_m_model_flag = np.abs(mag-model_mag)<0.03\n",
    "    else:\n",
    "        model_mag = np.NaN*np.ones(len(mag), dtype=float)\n",
    "        mag_m_model_flag = np.ones(len(mag), dtype=bool)\n",
    "    brightness_flag = mag<25.0\n",
    "    brightness_finite = np.isfinite(mag)\n",
    "    flag = extendedness_flag & well_measured_flag & mag_m_model_flag & brightness_finite & brightness_flag\n",
    "    return mag, mag_error, model_mag, flag"
   ]
  },
  {
   "cell_type": "markdown",
   "metadata": {},
   "source": [
    "Get all the clear stars from the deepCoadd_forcedSrc catalog.  Plot the stellar locus."
   ]
  },
  {
   "cell_type": "code",
   "execution_count": 15,
   "metadata": {},
   "outputs": [
    {
     "name": "stderr",
     "output_type": "stream",
     "text": [
      "/opt/lsst/software/stack/python/miniconda3-4.5.12/envs/lsst-scipipe-1172c30/lib/python3.7/site-packages/ipykernel/__main__.py:28: RuntimeWarning: invalid value encountered in less\n"
     ]
    },
    {
     "name": "stdout",
     "output_type": "stream",
     "text": [
      "CPU times: user 1min 9s, sys: 12.3 s, total: 1min 21s\n",
      "Wall time: 2min\n"
     ]
    }
   ],
   "source": [
    "%%time\n",
    "coadd_unq_id = []\n",
    "coadd_g_mags = []\n",
    "coadd_r_mags = []\n",
    "coadd_i_mags = []\n",
    "\n",
    "coadd_g_model = []\n",
    "coadd_r_model = []\n",
    "coadd_i_model = []\n",
    "\n",
    "coadd_ra = []\n",
    "coadd_dec = []\n",
    "\n",
    "coadd_full_ra = []\n",
    "coadd_full_dec = []\n",
    "coadd_full_stars = []\n",
    "\n",
    "ct_full_src = 0\n",
    "\n",
    "for tract_sublist in tract_patch_list:\n",
    "    tract_id = tract_sublist[0].getId()\n",
    "    for patch_obj in tract_sublist[1]:\n",
    "        patch_id = str(patch_obj.getIndex()).replace('(','').replace(')','').replace(' ','')\n",
    "        blank_data_id = {'tract': tract_id, 'patch':patch_id}\n",
    "\n",
    "        data_id_g = copy.deepcopy(blank_data_id)\n",
    "        data_id_g['filter'] = 'HSC-G'\n",
    "        data_id_r = copy.deepcopy(blank_data_id)\n",
    "        data_id_r['filter'] = 'HSC-R'\n",
    "        data_id_i = copy.deepcopy(blank_data_id)\n",
    "        data_id_i['filter'] = 'HSC-I'\n",
    "\n",
    "        if not butler.datasetExists('deepCoadd_forced_src', dataId=data_id_g):\n",
    "            continue\n",
    "\n",
    "        if not butler.datasetExists('deepCoadd_forced_src', dataId=data_id_r):\n",
    "            continue\n",
    "\n",
    "        if not butler.datasetExists('deepCoadd_forced_src', dataId=data_id_i):\n",
    "            continue\n",
    "        #print('loading %s' % str(blank_data_id))\n",
    "        \n",
    "        data_g = butler.get('deepCoadd_forced_src', dataId=data_id_g)#.asAstropy()\n",
    "        data_r = butler.get('deepCoadd_forced_src', dataId=data_id_r)#.asAstropy()\n",
    "        data_i = butler.get('deepCoadd_forced_src', dataId=data_id_i)#.asAstropy()\n",
    "\n",
    "        np.testing.assert_array_equal(data_g['id'], data_r['id'])\n",
    "        np.testing.assert_array_equal(data_g['id'], data_i['id'])\n",
    "        np.testing.assert_array_equal(data_g['coord_ra'], data_r['coord_ra'])\n",
    "        np.testing.assert_array_equal(data_g['coord_ra'], data_i['coord_ra'])\n",
    "        np.testing.assert_array_equal(data_g['coord_dec'], data_r['coord_dec'])\n",
    "        np.testing.assert_array_equal(data_g['coord_dec'], data_r['coord_dec'])\n",
    "\n",
    "        calib_g = butler.get('deepCoadd_calexp_photoCalib', dataId=data_id_g)\n",
    "        calib_r = butler.get('deepCoadd_calexp_photoCalib', dataId=data_id_r)\n",
    "        calib_i = butler.get('deepCoadd_calexp_photoCalib', dataId=data_id_i)\n",
    "    \n",
    "        g_mag, g_mag_error, g_model, star_g = select_stars(data_g, calib_g)\n",
    "        r_mag, r_mag_error, r_model, star_r = select_stars(data_r, calib_r)\n",
    "        i_mag, i_mag_error, i_model, star_i = select_stars(data_i, calib_i)\n",
    "        stars = star_g & star_r & star_i\n",
    "\n",
    "        coadd_g_mags.append(g_mag[stars])\n",
    "        coadd_g_model.append(g_model[stars])\n",
    "        coadd_r_mags.append(r_mag[stars])\n",
    "        coadd_r_model.append(r_model[stars])\n",
    "        coadd_i_mags.append(i_mag[stars])\n",
    "        coadd_i_model.append(i_model[stars])\n",
    "    \n",
    "        coadd_ra.append(data_g['coord_ra'][stars])\n",
    "        coadd_dec.append(data_g['coord_dec'][stars])\n",
    "        coadd_unq_id.append(data_g['id'][stars])\n",
    "        coadd_full_ra.append(data_g['coord_ra'])\n",
    "        coadd_full_dec.append(data_g['coord_dec'])\n",
    "        coadd_full_stars.append(stars)\n",
    "\n",
    "        ct_full_src += len(data_g['coord_ra'])    \n",
    "\n",
    "        #coadd_g_mags.append(calib_g.instFluxToMagnitude(data_g['base_PsfFlux_instFlux']))\n",
    "        #coadd_r_mags.append(calib_r.instFluxToMagnitude(data_r['base_PsfFlux_instFlux']))\n",
    "        #coadd_i_mags.append(calib_i.instFluxToMagnitude(data_i['base_PsfFlux_instFlux']))\n",
    "\n",
    "    \n",
    "coadd_unq_id = np.concatenate(coadd_unq_id)\n",
    "coadd_ra = np.concatenate(coadd_ra)\n",
    "coadd_dec = np.concatenate(coadd_dec)\n",
    "coadd_g_mags = np.concatenate(coadd_g_mags)\n",
    "coadd_r_mags = np.concatenate(coadd_r_mags)\n",
    "coadd_i_mags = np.concatenate(coadd_i_mags)\n",
    "coadd_g_model = np.concatenate(coadd_g_model)\n",
    "coadd_r_model = np.concatenate(coadd_r_model)\n",
    "coadd_i_model = np.concatenate(coadd_i_model)\n",
    "\n",
    "coadd_full_ra = np.concatenate(coadd_full_ra)\n",
    "coadd_full_dec = np.concatenate(coadd_full_dec)\n",
    "coadd_full_stars = np.concatenate(coadd_full_stars)"
   ]
  },
  {
   "cell_type": "code",
   "execution_count": 16,
   "metadata": {},
   "outputs": [
    {
     "name": "stdout",
     "output_type": "stream",
     "text": [
      "18129\n",
      "2207686\n",
      "2207686\n"
     ]
    }
   ],
   "source": [
    "print(len(coadd_g_mags))\n",
    "print(len(coadd_full_ra))\n",
    "print(ct_full_src)"
   ]
  },
  {
   "cell_type": "code",
   "execution_count": 17,
   "metadata": {},
   "outputs": [
    {
     "data": {
      "image/png": "[encoded data removed]",
      "text/plain": [
       "<Figure size 720x720 with 2 Axes>"
      ]
     },
     "metadata": {
      "needs_background": "light"
     },
     "output_type": "display_data"
    },
    {
     "name": "stdout",
     "output_type": "stream",
     "text": [
      "18.918516828728663\n"
     ]
    }
   ],
   "source": [
    "plt.figure(figsize=(10,10))\n",
    "#plt.scatter(coadd_g_mags, coadd_g_mags-coadd_g_model)\n",
    "plot_color_mesh(coadd_g_mags, coadd_g_mags-coadd_g_model, 0.002, 0.001)\n",
    "plt.xlabel('g(PSF)')\n",
    "plt.ylabel('g(PSF)-g(cModel)')\n",
    "plt.ylim(-0.03,0.03)\n",
    "plt.show()\n",
    "print(coadd_g_mags.min())"
   ]
  },
  {
   "cell_type": "code",
   "execution_count": 18,
   "metadata": {},
   "outputs": [
    {
     "name": "stdout",
     "output_type": "stream",
     "text": [
      "18129\n"
     ]
    },
    {
     "data": {
      "image/png": "[encoded data removed]",
      "text/plain": [
       "<Figure size 720x720 with 2 Axes>"
      ]
     },
     "metadata": {
      "needs_background": "light"
     },
     "output_type": "display_data"
    }
   ],
   "source": [
    "plt.figure(figsize=(10,10))\n",
    "#plt.scatter(coadd_g_mags-coadd_r_mags, coadd_r_mags-coadd_i_mags,s=0.5)\n",
    "valid_meas = np.logical_and(np.isfinite(coadd_g_mags),\n",
    "                 np.logical_and(np.isfinite(coadd_r_mags), np.isfinite(coadd_i_mags)))\n",
    "\n",
    "bright_enough = np.logical_and(coadd_g_mags<25.0,\n",
    "                np.logical_and(coadd_r_mags<25.0, coadd_i_mags<25.0))\n",
    "\n",
    "valid = np.where(np.logical_and(valid_meas, bright_enough))\n",
    "print(len(valid[0]))\n",
    "#plt.scatter(coadd_g_mags-coadd_r_mags,\n",
    "#            coadd_r_mags-coadd_i_mags,s=0.5)\n",
    "\n",
    "plot_color_mesh(coadd_g_mags-coadd_r_mags,\n",
    "                coadd_r_mags-coadd_i_mags,\n",
    "               0.02, 0.02)\n",
    "\n",
    "#plt.hist2d(coadd_g_mags[valid]-coadd_r_mags[valid],\n",
    "#           coadd_r_mags[valid]-coadd_i_mags[valid], bins=(200,200), cmap=plt.cm.jet)\n",
    "plt.xlabel('g-r')\n",
    "plt.ylabel('r-i')\n",
    "#plt.ylim(20,35)\n",
    "#plt.xlim(-5,5)\n",
    "plt.show()"
   ]
  },
  {
   "cell_type": "markdown",
   "metadata": {},
   "source": [
    "Build a KDTree of these sources for association with single image sources later on"
   ]
  },
  {
   "cell_type": "code",
   "execution_count": 19,
   "metadata": {},
   "outputs": [],
   "source": [
    "import scipy.spatial as scipy_spatial\n",
    "cdec = np.cos(coadd_full_dec)\n",
    "coadd_spatial_data = np.array([cdec*np.cos(coadd_full_ra),\n",
    "                               cdec*np.sin(coadd_full_ra),\n",
    "                               np.sin(coadd_full_dec)]).transpose()\n",
    "coadd_spatial_tree = scipy_spatial.cKDTree(coadd_spatial_data, leafsize=16)"
   ]
  },
  {
   "cell_type": "code",
   "execution_count": 20,
   "metadata": {},
   "outputs": [
    {
     "name": "stdout",
     "output_type": "stream",
     "text": [
      "19123\n"
     ]
    }
   ],
   "source": [
    "print(len(all_coverage[0]))"
   ]
  },
  {
   "cell_type": "markdown",
   "metadata": {},
   "source": [
    "Find all the single calexp visits in G, R, I that overlap the coadd region"
   ]
  },
  {
   "cell_type": "code",
   "execution_count": 21,
   "metadata": {},
   "outputs": [
    {
     "name": "stdout",
     "output_type": "stream",
     "text": [
      "6657\n",
      "6657\n",
      "39744\n"
     ]
    }
   ],
   "source": [
    "ct_visits = 0\n",
    "s_ra_min = spatial_lookup['ra_min'][()]\n",
    "s_ra_max= spatial_lookup['ra_max'][()]\n",
    "s_dec_min = spatial_lookup['dec_min'][()]\n",
    "s_dec_max = spatial_lookup['dec_max'][()]\n",
    "s_filter = spatial_lookup['filter'][()]\n",
    "s_visit = spatial_lookup['visit'][()]\n",
    "s_ccd = spatial_lookup['ccd'][()]\n",
    "fset = set([b'HSC-G', b'HSC-R', b'HSC-I'])\n",
    "desired_data_id_list = []\n",
    "for rmin, rmax, dmin, dmax, fname, vv, ccd in \\\n",
    "zip(s_ra_min, s_ra_max, s_dec_min, s_dec_max, s_filter, s_visit, s_ccd):\n",
    "    if fname not in fset:\n",
    "        continue\n",
    "    valid = (coadd_ra>=rmin) & (coadd_ra<=rmax) & (coadd_dec>=dmin) & (coadd_dec<=dmax)\n",
    "    if np.sum(valid)>0:\n",
    "        ct_visits += 1\n",
    "        data_id = {'filter': fname.decode(), 'ccd': int(ccd), 'visit': int(vv)}\n",
    "        desired_data_id_list.append(data_id)\n",
    "print(ct_visits)\n",
    "print(len(desired_data_id_list))\n",
    "print(len(s_ra_min))"
   ]
  },
  {
   "cell_type": "code",
   "execution_count": 57,
   "metadata": {},
   "outputs": [],
   "source": [
    "# define a method so that we can load the calexp data in parallel with multiprocessing\n",
    "\n",
    "import time\n",
    "def load_data_id(data_id_list, output_dict, my_lock):\n",
    "\n",
    "    t_start = time.time()\n",
    "    repo_dir = '/datasets/hsc/repo/rerun/DM-13666/UDEEP'\n",
    "    assert os.path.isdir(repo_dir)\n",
    "\n",
    "    local_butler = daf_persistence.Butler(repo_dir)\n",
    "    print('PID %d considering %d data_ids (butler loaded in %e seconds)' %\n",
    "          (os.getpid(),len(data_id_list),time.time()-t_start))\n",
    "    t_start = time.time()\n",
    "    ct_good = 0\n",
    "    ct_bad = 0\n",
    "    n_visits = len(data_id_list)\n",
    "    local_ra = []\n",
    "    local_dec = []\n",
    "    local_mag = []\n",
    "    local_mag_error = []\n",
    "    local_filter=  []\n",
    "    wcs_dict = {}\n",
    "    calib_dict = {}\n",
    "    for data_id_single in data_id_list:\n",
    "        data_single = local_butler.get('src', dataId=data_id_single, immediate=True)\n",
    "        tract_id_list = []\n",
    "        for ra, dec in zip(data_single['coord_ra'], data_single['coord_dec']):\n",
    "            pt = lsst_geom.SpherePoint(ra, dec, lsst_geom.radians)\n",
    "            tract_id_list.append(coadd_skymap.findTract(pt).getId())\n",
    "        tract_id_list = np.array(tract_id_list)\n",
    "        unq_tract_id_list = np.unique(tract_id_list)\n",
    "        for tract_id in unq_tract_id_list:\n",
    "            is_tract = np.where(tract_id_list==tract_id)\n",
    "            if tract_id not in wcs_dict:\n",
    "                data_id_single['tract'] = int(tract_id)\n",
    "                print(data_id_single)\n",
    "                calib_single = local_butler.get('jointcal_photoCalib', dataId=data_id_single)\n",
    "                wcs = local_butler.get('jointcal_wcs', dataId=data_id_single)\n",
    "                wcs_dict[tract_id] = wcs\n",
    "                calib_dict[tract_id] = calib_single\n",
    "            else:\n",
    "                wcs = wcs_dict[tract_id]\n",
    "                calib_single = calib_dict[tract_id]\n",
    "\n",
    "            active_data = data_single[is_tract]\n",
    "            for record in active_data:\n",
    "                record.updateCoord(wcs)\n",
    "\n",
    "            psf_mag, psf_mag_error, model_mag, star_dex = select_stars(active_data, calib_single)\n",
    "        \n",
    "            local_ra.append(active_data['coord_ra'][star_dex])\n",
    "            local_dec.append(active_data['coord_dec'][star_dex])\n",
    "            local_mag.append(psf_mag[star_dex])\n",
    "            local_mag_error.append(psf_mag_error[star_dex])\n",
    "            local_filter.append([active_data['filter']]*np.sum(star_dex))\n",
    "            assert len(local_filter[-1]) == len(local_ra[-1])\n",
    "        \n",
    "        ct_good += 1\n",
    "    duration = (time.time()-t_start)/3600.0\n",
    "    print('good: %d bad: %d in %.2e hrs' % (ct_good, ct_bad, duration))\n",
    "\n",
    "    if len(local_ra)>0:\n",
    "        with my_lock:\n",
    "            output_dict['ra'] += local_ra\n",
    "            output_dict['dec'] += local_dec\n",
    "            output_dict['filter'] += local_filter\n",
    "            output_dict['mag'] += local_mag\n",
    "            output_dict['mag_error'] += local_mag_error\n",
    "    #print('%d is done good: %d bad: %d' % (os.getpid(),ct_good,ct_bad))\n"
   ]
  },
  {
   "cell_type": "markdown",
   "metadata": {},
   "source": [
    "Get the RA, Dec, magnitue, and filter of all of the single image stars in HSC UDEEP\n",
    "\n",
    "(This will take about five minutes to run)"
   ]
  },
  {
   "cell_type": "code",
   "execution_count": 58,
   "metadata": {},
   "outputs": [
    {
     "name": "stdout",
     "output_type": "stream",
     "text": [
      "6657 1664\n",
      "PID 813 considering 10 data_ids (butler loaded in 1.661487e+00 seconds)\n",
      "{'filter': 'HSC-I', 'ccd': 0, 'visit': 7274, 'tract': 8523}\n"
     ]
    },
    {
     "ename": "RuntimeError",
     "evalue": "Unsupported version (version 0 was defined in maggies): 0; loading object with id=1, name='PhotoCalib'",
     "output_type": "error",
     "traceback": [
      "\u001b[0;31m---------------------------------------------------------------------------\u001b[0m",
      "\u001b[0;31mRuntimeError\u001b[0m                              Traceback (most recent call last)",
      "\u001b[0;32m<timed exec>\u001b[0m in \u001b[0;36m<module>\u001b[0;34m\u001b[0m\n",
      "\u001b[0;32m<ipython-input-57-4288a6fc16ee>\u001b[0m in \u001b[0;36mload_data_id\u001b[0;34m(data_id_list, output_dict, my_lock)\u001b[0m\n\u001b[1;32m     35\u001b[0m                 \u001b[0mdata_id_single\u001b[0m\u001b[0;34m[\u001b[0m\u001b[0;34m'tract'\u001b[0m\u001b[0;34m]\u001b[0m \u001b[0;34m=\u001b[0m \u001b[0mint\u001b[0m\u001b[0;34m(\u001b[0m\u001b[0mtract_id\u001b[0m\u001b[0;34m)\u001b[0m\u001b[0;34m\u001b[0m\u001b[0;34m\u001b[0m\u001b[0m\n\u001b[1;32m     36\u001b[0m                 \u001b[0mprint\u001b[0m\u001b[0;34m(\u001b[0m\u001b[0mdata_id_single\u001b[0m\u001b[0;34m)\u001b[0m\u001b[0;34m\u001b[0m\u001b[0;34m\u001b[0m\u001b[0m\n\u001b[0;32m---> 37\u001b[0;31m                 \u001b[0mcalib_single\u001b[0m \u001b[0;34m=\u001b[0m \u001b[0mlocal_butler\u001b[0m\u001b[0;34m.\u001b[0m\u001b[0mget\u001b[0m\u001b[0;34m(\u001b[0m\u001b[0;34m'jointcal_photoCalib'\u001b[0m\u001b[0;34m,\u001b[0m \u001b[0mdataId\u001b[0m\u001b[0;34m=\u001b[0m\u001b[0mdata_id_single\u001b[0m\u001b[0;34m)\u001b[0m\u001b[0;34m\u001b[0m\u001b[0;34m\u001b[0m\u001b[0m\n\u001b[0m\u001b[1;32m     38\u001b[0m                 \u001b[0mwcs\u001b[0m \u001b[0;34m=\u001b[0m \u001b[0mlocal_butler\u001b[0m\u001b[0;34m.\u001b[0m\u001b[0mget\u001b[0m\u001b[0;34m(\u001b[0m\u001b[0;34m'jointcal_wcs'\u001b[0m\u001b[0;34m,\u001b[0m \u001b[0mdataId\u001b[0m\u001b[0;34m=\u001b[0m\u001b[0mdata_id_single\u001b[0m\u001b[0;34m)\u001b[0m\u001b[0;34m\u001b[0m\u001b[0;34m\u001b[0m\u001b[0m\n\u001b[1;32m     39\u001b[0m                 \u001b[0mwcs_dict\u001b[0m\u001b[0;34m[\u001b[0m\u001b[0mtract_id\u001b[0m\u001b[0;34m]\u001b[0m \u001b[0;34m=\u001b[0m \u001b[0mwcs\u001b[0m\u001b[0;34m\u001b[0m\u001b[0;34m\u001b[0m\u001b[0m\n",
      "\u001b[0;32m/opt/lsst/software/stack/stack/miniconda3-4.5.12-1172c30/Linux64/daf_persistence/18.0.0-1-g5e4b7ea+9/python/lsst/daf/persistence/butler.py\u001b[0m in \u001b[0;36mget\u001b[0;34m(self, datasetType, dataId, immediate, **rest)\u001b[0m\n\u001b[1;32m   1394\u001b[0m                 \u001b[0;32mreturn\u001b[0m \u001b[0mlocation\u001b[0m\u001b[0;34m.\u001b[0m\u001b[0mmapper\u001b[0m\u001b[0;34m.\u001b[0m\u001b[0mstandardize\u001b[0m\u001b[0;34m(\u001b[0m\u001b[0mlocation\u001b[0m\u001b[0;34m.\u001b[0m\u001b[0mdatasetType\u001b[0m\u001b[0;34m,\u001b[0m \u001b[0minnerCallback\u001b[0m\u001b[0;34m(\u001b[0m\u001b[0;34m)\u001b[0m\u001b[0;34m,\u001b[0m \u001b[0mdataId\u001b[0m\u001b[0;34m)\u001b[0m\u001b[0;34m\u001b[0m\u001b[0;34m\u001b[0m\u001b[0m\n\u001b[1;32m   1395\u001b[0m         \u001b[0;32mif\u001b[0m \u001b[0mimmediate\u001b[0m\u001b[0;34m:\u001b[0m\u001b[0;34m\u001b[0m\u001b[0;34m\u001b[0m\u001b[0m\n\u001b[0;32m-> 1396\u001b[0;31m             \u001b[0;32mreturn\u001b[0m \u001b[0mcallback\u001b[0m\u001b[0;34m(\u001b[0m\u001b[0;34m)\u001b[0m\u001b[0;34m\u001b[0m\u001b[0;34m\u001b[0m\u001b[0m\n\u001b[0m\u001b[1;32m   1397\u001b[0m         \u001b[0;32mreturn\u001b[0m \u001b[0mReadProxy\u001b[0m\u001b[0;34m(\u001b[0m\u001b[0mcallback\u001b[0m\u001b[0;34m)\u001b[0m\u001b[0;34m\u001b[0m\u001b[0;34m\u001b[0m\u001b[0m\n\u001b[1;32m   1398\u001b[0m \u001b[0;34m\u001b[0m\u001b[0m\n",
      "\u001b[0;32m/opt/lsst/software/stack/stack/miniconda3-4.5.12-1172c30/Linux64/daf_persistence/18.0.0-1-g5e4b7ea+9/python/lsst/daf/persistence/butler.py\u001b[0m in \u001b[0;36mcallback\u001b[0;34m()\u001b[0m\n\u001b[1;32m   1387\u001b[0m         \u001b[0;32melse\u001b[0m\u001b[0;34m:\u001b[0m\u001b[0;34m\u001b[0m\u001b[0;34m\u001b[0m\u001b[0m\n\u001b[1;32m   1388\u001b[0m             \u001b[0;32mdef\u001b[0m \u001b[0mcallback\u001b[0m\u001b[0;34m(\u001b[0m\u001b[0;34m)\u001b[0m\u001b[0;34m:\u001b[0m\u001b[0;34m\u001b[0m\u001b[0;34m\u001b[0m\u001b[0m\n\u001b[0;32m-> 1389\u001b[0;31m                 \u001b[0;32mreturn\u001b[0m \u001b[0mself\u001b[0m\u001b[0;34m.\u001b[0m\u001b[0m_read\u001b[0m\u001b[0;34m(\u001b[0m\u001b[0mlocation\u001b[0m\u001b[0;34m)\u001b[0m\u001b[0;34m\u001b[0m\u001b[0;34m\u001b[0m\u001b[0m\n\u001b[0m\u001b[1;32m   1390\u001b[0m         \u001b[0;32mif\u001b[0m \u001b[0mlocation\u001b[0m\u001b[0;34m.\u001b[0m\u001b[0mmapper\u001b[0m\u001b[0;34m.\u001b[0m\u001b[0mcanStandardize\u001b[0m\u001b[0;34m(\u001b[0m\u001b[0mlocation\u001b[0m\u001b[0;34m.\u001b[0m\u001b[0mdatasetType\u001b[0m\u001b[0;34m)\u001b[0m\u001b[0;34m:\u001b[0m\u001b[0;34m\u001b[0m\u001b[0;34m\u001b[0m\u001b[0m\n\u001b[1;32m   1391\u001b[0m             \u001b[0minnerCallback\u001b[0m \u001b[0;34m=\u001b[0m \u001b[0mcallback\u001b[0m\u001b[0;34m\u001b[0m\u001b[0;34m\u001b[0m\u001b[0m\n",
      "\u001b[0;32m/opt/lsst/software/stack/stack/miniconda3-4.5.12-1172c30/Linux64/daf_persistence/18.0.0-1-g5e4b7ea+9/python/lsst/daf/persistence/butler.py\u001b[0m in \u001b[0;36m_read\u001b[0;34m(self, location)\u001b[0m\n\u001b[1;32m   1588\u001b[0m             \u001b[0;32mreturn\u001b[0m \u001b[0mresults\u001b[0m\u001b[0;34m\u001b[0m\u001b[0;34m\u001b[0m\u001b[0m\n\u001b[1;32m   1589\u001b[0m         \u001b[0;32melse\u001b[0m\u001b[0;34m:\u001b[0m\u001b[0;34m\u001b[0m\u001b[0;34m\u001b[0m\u001b[0m\n\u001b[0;32m-> 1590\u001b[0;31m             \u001b[0mresults\u001b[0m \u001b[0;34m=\u001b[0m \u001b[0mlocation\u001b[0m\u001b[0;34m.\u001b[0m\u001b[0mrepository\u001b[0m\u001b[0;34m.\u001b[0m\u001b[0mread\u001b[0m\u001b[0;34m(\u001b[0m\u001b[0mlocation\u001b[0m\u001b[0;34m)\u001b[0m\u001b[0;34m\u001b[0m\u001b[0;34m\u001b[0m\u001b[0m\n\u001b[0m\u001b[1;32m   1591\u001b[0m             \u001b[0;32mif\u001b[0m \u001b[0mlen\u001b[0m\u001b[0;34m(\u001b[0m\u001b[0mresults\u001b[0m\u001b[0;34m)\u001b[0m \u001b[0;34m==\u001b[0m \u001b[0;36m1\u001b[0m\u001b[0;34m:\u001b[0m\u001b[0;34m\u001b[0m\u001b[0;34m\u001b[0m\u001b[0m\n\u001b[1;32m   1592\u001b[0m                 \u001b[0mresults\u001b[0m \u001b[0;34m=\u001b[0m \u001b[0mresults\u001b[0m\u001b[0;34m[\u001b[0m\u001b[0;36m0\u001b[0m\u001b[0;34m]\u001b[0m\u001b[0;34m\u001b[0m\u001b[0;34m\u001b[0m\u001b[0m\n",
      "\u001b[0;32m/opt/lsst/software/stack/stack/miniconda3-4.5.12-1172c30/Linux64/daf_persistence/18.0.0-1-g5e4b7ea+9/python/lsst/daf/persistence/repository.py\u001b[0m in \u001b[0;36mread\u001b[0;34m(self, butlerLocation)\u001b[0m\n\u001b[1;32m    195\u001b[0m         \u001b[0mbutlerLocationStorage\u001b[0m \u001b[0;34m=\u001b[0m \u001b[0mbutlerLocation\u001b[0m\u001b[0;34m.\u001b[0m\u001b[0mgetStorage\u001b[0m\u001b[0;34m(\u001b[0m\u001b[0;34m)\u001b[0m\u001b[0;34m\u001b[0m\u001b[0;34m\u001b[0m\u001b[0m\n\u001b[1;32m    196\u001b[0m         \u001b[0;32mif\u001b[0m \u001b[0mbutlerLocationStorage\u001b[0m\u001b[0;34m:\u001b[0m\u001b[0;34m\u001b[0m\u001b[0;34m\u001b[0m\u001b[0m\n\u001b[0;32m--> 197\u001b[0;31m             \u001b[0;32mreturn\u001b[0m \u001b[0mbutlerLocationStorage\u001b[0m\u001b[0;34m.\u001b[0m\u001b[0mread\u001b[0m\u001b[0;34m(\u001b[0m\u001b[0mbutlerLocation\u001b[0m\u001b[0;34m)\u001b[0m\u001b[0;34m\u001b[0m\u001b[0;34m\u001b[0m\u001b[0m\n\u001b[0m\u001b[1;32m    198\u001b[0m         \u001b[0;32melse\u001b[0m\u001b[0;34m:\u001b[0m\u001b[0;34m\u001b[0m\u001b[0;34m\u001b[0m\u001b[0m\n\u001b[1;32m    199\u001b[0m             \u001b[0;32mreturn\u001b[0m \u001b[0mself\u001b[0m\u001b[0;34m.\u001b[0m\u001b[0m_storage\u001b[0m\u001b[0;34m.\u001b[0m\u001b[0mread\u001b[0m\u001b[0;34m(\u001b[0m\u001b[0mbutlerLocation\u001b[0m\u001b[0;34m)\u001b[0m\u001b[0;34m\u001b[0m\u001b[0;34m\u001b[0m\u001b[0m\n",
      "\u001b[0;32m/opt/lsst/software/stack/stack/miniconda3-4.5.12-1172c30/Linux64/daf_persistence/18.0.0-1-g5e4b7ea+9/python/lsst/daf/persistence/posixStorage.py\u001b[0m in \u001b[0;36mread\u001b[0;34m(self, butlerLocation)\u001b[0m\n\u001b[1;32m    278\u001b[0m             \u001b[0mreadFormatter\u001b[0m \u001b[0;34m=\u001b[0m \u001b[0mself\u001b[0m\u001b[0;34m.\u001b[0m\u001b[0mgetReadFormatter\u001b[0m\u001b[0;34m(\u001b[0m\u001b[0mbutlerLocation\u001b[0m\u001b[0;34m.\u001b[0m\u001b[0mgetPythonType\u001b[0m\u001b[0;34m(\u001b[0m\u001b[0;34m)\u001b[0m\u001b[0;34m)\u001b[0m\u001b[0;34m\u001b[0m\u001b[0;34m\u001b[0m\u001b[0m\n\u001b[1;32m    279\u001b[0m         \u001b[0;32mif\u001b[0m \u001b[0mreadFormatter\u001b[0m\u001b[0;34m:\u001b[0m\u001b[0;34m\u001b[0m\u001b[0;34m\u001b[0m\u001b[0m\n\u001b[0;32m--> 280\u001b[0;31m             \u001b[0;32mreturn\u001b[0m \u001b[0mreadFormatter\u001b[0m\u001b[0;34m(\u001b[0m\u001b[0mbutlerLocation\u001b[0m\u001b[0;34m)\u001b[0m\u001b[0;34m\u001b[0m\u001b[0;34m\u001b[0m\u001b[0m\n\u001b[0m\u001b[1;32m    281\u001b[0m \u001b[0;34m\u001b[0m\u001b[0m\n\u001b[1;32m    282\u001b[0m         \u001b[0;32mraise\u001b[0m\u001b[0;34m(\u001b[0m\u001b[0mRuntimeError\u001b[0m\u001b[0;34m(\u001b[0m\u001b[0;34m\"No formatter for location:{}\"\u001b[0m\u001b[0;34m.\u001b[0m\u001b[0mformat\u001b[0m\u001b[0;34m(\u001b[0m\u001b[0mbutlerLocation\u001b[0m\u001b[0;34m)\u001b[0m\u001b[0;34m)\u001b[0m\u001b[0;34m)\u001b[0m\u001b[0;34m\u001b[0m\u001b[0;34m\u001b[0m\u001b[0m\n",
      "\u001b[0;32m/opt/lsst/software/stack/stack/miniconda3-4.5.12-1172c30/Linux64/daf_persistence/18.0.0-1-g5e4b7ea+9/python/lsst/daf/persistence/posixStorage.py\u001b[0m in \u001b[0;36mreadFitsCatalogStorage\u001b[0;34m(butlerLocation)\u001b[0m\n\u001b[1;32m    794\u001b[0m         \u001b[0;32mif\u001b[0m \u001b[0madditionalData\u001b[0m\u001b[0;34m.\u001b[0m\u001b[0mexists\u001b[0m\u001b[0;34m(\u001b[0m\u001b[0;34m\"flags\"\u001b[0m\u001b[0;34m)\u001b[0m\u001b[0;34m:\u001b[0m\u001b[0;34m\u001b[0m\u001b[0;34m\u001b[0m\u001b[0m\n\u001b[1;32m    795\u001b[0m             \u001b[0mkwds\u001b[0m\u001b[0;34m[\u001b[0m\u001b[0;34m\"flags\"\u001b[0m\u001b[0;34m]\u001b[0m \u001b[0;34m=\u001b[0m \u001b[0madditionalData\u001b[0m\u001b[0;34m.\u001b[0m\u001b[0mgetInt\u001b[0m\u001b[0;34m(\u001b[0m\u001b[0;34m\"flags\"\u001b[0m\u001b[0;34m)\u001b[0m\u001b[0;34m\u001b[0m\u001b[0;34m\u001b[0m\u001b[0m\n\u001b[0;32m--> 796\u001b[0;31m         \u001b[0mfinalItem\u001b[0m \u001b[0;34m=\u001b[0m \u001b[0mpythonType\u001b[0m\u001b[0;34m.\u001b[0m\u001b[0mreadFits\u001b[0m\u001b[0;34m(\u001b[0m\u001b[0mlogLoc\u001b[0m\u001b[0;34m.\u001b[0m\u001b[0mlocString\u001b[0m\u001b[0;34m(\u001b[0m\u001b[0;34m)\u001b[0m\u001b[0;34m,\u001b[0m \u001b[0;34m**\u001b[0m\u001b[0mkwds\u001b[0m\u001b[0;34m)\u001b[0m\u001b[0;34m\u001b[0m\u001b[0;34m\u001b[0m\u001b[0m\n\u001b[0m\u001b[1;32m    797\u001b[0m         \u001b[0mresults\u001b[0m\u001b[0;34m.\u001b[0m\u001b[0mappend\u001b[0m\u001b[0;34m(\u001b[0m\u001b[0mfinalItem\u001b[0m\u001b[0;34m)\u001b[0m\u001b[0;34m\u001b[0m\u001b[0;34m\u001b[0m\u001b[0m\n\u001b[1;32m    798\u001b[0m     \u001b[0;32mreturn\u001b[0m \u001b[0mresults\u001b[0m\u001b[0;34m\u001b[0m\u001b[0;34m\u001b[0m\u001b[0m\n",
      "\u001b[0;31mRuntimeError\u001b[0m: Unsupported version (version 0 was defined in maggies): 0; loading object with id=1, name='PhotoCalib'"
     ]
    }
   ],
   "source": [
    "%%time\n",
    "import multiprocessing\n",
    "\n",
    "mgr = multiprocessing.Manager()\n",
    "my_lock = mgr.Lock()\n",
    "output_dict = mgr.dict()\n",
    "butler_dict = mgr.dict()\n",
    "for k in ['ra', 'dec', 'mag', 'mag_error', 'filter']:\n",
    "    output_dict[k] = mgr.list()\n",
    "\n",
    "t_start = time.time()\n",
    "single_ra = []\n",
    "single_dec = []\n",
    "single_mag = []\n",
    "single_mag_error= []\n",
    "single_model_mag = []\n",
    "single_filter = []\n",
    "ct_single = 0\n",
    "n_visits = len(desired_data_id_list)\n",
    "\n",
    "n_fourth = n_visits//4\n",
    "print(n_visits, n_fourth)\n",
    "p_list = []\n",
    "\n",
    "#test_data_id_list = desired_data_id_list[:800]\n",
    "#n_visits = len(test_data_id_list)\n",
    "\n",
    "\n",
    "load_data_id(desired_data_id_list[:10], output_dict, my_lock)\n",
    "\n",
    "\"\"\"\n",
    "d_data_id=500\n",
    "for i_start in range(0,n_visits,d_data_id):\n",
    "    p = multiprocessing.Process(target=load_data_id,\n",
    "                                args=[desired_data_id_list[i_start:i_start+d_data_id],\n",
    "                                      output_dict, my_lock])\n",
    "\n",
    "    p.start()\n",
    "    p_list.append(p)\n",
    "    while len(p_list)>=4:\n",
    "        exit_code_list = []\n",
    "        for p in p_list:\n",
    "            exit_code_list.append(p.exitcode)\n",
    "        for i_p in range(len(exit_code_list)-1, -1, -1):\n",
    "            if exit_code_list[i_p] is not None:\n",
    "                p_list.pop(i_p)\n",
    "\n",
    "for p in p_list:\n",
    "    p.join()\n",
    "\n",
    "single_ra = np.concatenate(output_dict['ra'])\n",
    "single_dec = np.concatenate(output_dict['dec'])\n",
    "single_mag = np.concatenate(output_dict['mag'])\n",
    "single_mag_error = np.concatenate(output_dict['mag_error'])\n",
    "single_filter = np.concatenate(output_dict['filter'])\n",
    "\n",
    "\n",
    "print('all done')\n",
    "\"\"\"\n",
    "\n"
   ]
  },
  {
   "cell_type": "markdown",
   "metadata": {},
   "source": [
    "Associate single image sources with coadd forced sources"
   ]
  },
  {
   "cell_type": "markdown",
   "metadata": {},
   "source": [
    "First associate single detections with all coadd sources (not just stars) and only select those whose nearest neighbor is a star"
   ]
  },
  {
   "cell_type": "code",
   "execution_count": null,
   "metadata": {},
   "outputs": [],
   "source": [
    "cdec = np.cos(single_dec)\n",
    "single_spatial_data = np.array([cdec*np.cos(single_ra),\n",
    "                                cdec*np.sin(single_ra),\n",
    "                                np.sin(single_dec)]).transpose()"
   ]
  },
  {
   "cell_type": "code",
   "execution_count": null,
   "metadata": {},
   "outputs": [],
   "source": [
    "raw_fit_dist, raw_fit_dex = coadd_spatial_tree.query(single_spatial_data, k=2)"
   ]
  },
  {
   "cell_type": "code",
   "execution_count": null,
   "metadata": {},
   "outputs": [],
   "source": [
    "# select only sources whose nearest neighbor has been identified as a star in the coadd,\n",
    "# who are within 0.05 arcsec of their nearest neighbor\n",
    "# and are 10 times closer to their nearest neighbor than to their second nearest neighbor\n",
    "# and are at least 2 arcsec away from their second nearest neighbor\n",
    "\n",
    "raw_fit_d_trans = raw_fit_dist.transpose()\n",
    "raw_fit_d_ratio = raw_fit_d_trans[0]/raw_fit_d_trans[1]\n",
    "raw_fit_d_arcsec= raw_fit_d_trans[0]/np.radians(1/3600)\n",
    "raw_fit_d2_arcsec = raw_fit_d_trans[1]/np.radians(1/3600)\n",
    "raw_fit_is_star = coadd_full_stars[raw_fit_dex.transpose()[0]]\n",
    "\n",
    "assoc_to_stars = np.where(np.logical_and(raw_fit_d_ratio<0.1,\n",
    "                          np.logical_and(raw_fit_d_arcsec<0.05,\n",
    "                          np.logical_and(raw_fit_d2_arcsec>2.0,\n",
    "                                         raw_fit_is_star))))"
   ]
  },
  {
   "cell_type": "code",
   "execution_count": null,
   "metadata": {},
   "outputs": [],
   "source": [
    "print(len(assoc_to_stars[0]))"
   ]
  },
  {
   "cell_type": "markdown",
   "metadata": {},
   "source": [
    "Select down to only those single exposure sources that were associated with stars"
   ]
  },
  {
   "cell_type": "code",
   "execution_count": null,
   "metadata": {},
   "outputs": [],
   "source": [
    "single_ra_stellar = single_ra[assoc_to_stars]\n",
    "single_dec_stellar = single_dec[assoc_to_stars]\n",
    "single_mag_stellar = single_mag[assoc_to_stars]\n",
    "single_mag_error_stellar = single_mag_error[assoc_to_stars]\n",
    "single_filter_stellar = single_filter[assoc_to_stars]"
   ]
  },
  {
   "cell_type": "markdown",
   "metadata": {},
   "source": [
    "Re-do the nearest neighbor fit, only checking against coadd stars"
   ]
  },
  {
   "cell_type": "code",
   "execution_count": null,
   "metadata": {},
   "outputs": [],
   "source": [
    "cdec = np.cos(single_dec_stellar)\n",
    "single_spatial_data = np.array([cdec*np.cos(single_ra_stellar),\n",
    "                                cdec*np.sin(single_ra_stellar),\n",
    "                                np.sin(single_dec_stellar)]).transpose()"
   ]
  },
  {
   "cell_type": "code",
   "execution_count": null,
   "metadata": {},
   "outputs": [],
   "source": [
    "%%time\n",
    "cdec = np.cos(coadd_dec)\n",
    "coadd_stellar_spatial = np.array([np.cos(coadd_ra)*cdec,\n",
    "                                  np.sin(coadd_ra)*cdec,\n",
    "                                  np.sin(coadd_dec)]).transpose()\n",
    "coadd_spatial_tree_stellar = scipy_spatial.cKDTree(coadd_stellar_spatial, leafsize=16)\n",
    "fit_dist, fit_dex = coadd_spatial_tree_stellar.query(single_spatial_data, k=2)"
   ]
  },
  {
   "cell_type": "code",
   "execution_count": null,
   "metadata": {},
   "outputs": [],
   "source": [
    "# Select only those stars that are within 0.05 arcseconds of a coadd force source\n",
    "# and for whom the nearest neighbor is 10 times closer than the next nearest neighbor\n",
    "\n",
    "fit_d_trans = fit_dist.transpose()\n",
    "fit_d_ratio = fit_d_trans[0]/fit_d_trans[1]\n",
    "fit_d_arcsec= fit_d_trans[0]/np.radians(1/3600)\n",
    "fit_d2_arcsec = fit_d_trans[1]/np.radians(1/3600)\n",
    "print(fit_d2_arcsec.min())\n",
    "\n",
    "valid = np.where(np.logical_and(fit_d_ratio<0.1,\n",
    "                 np.logical_and(fit_d2_arcsec>2.0,\n",
    "                                fit_d_arcsec<0.05,)))\n",
    "np.testing.assert_array_equal(valid[0], np.arange(0,len(single_ra_stellar), dtype=int))\n",
    "\n",
    "single_ra_stellar = single_ra_stellar[valid]\n",
    "single_dec_stellar = single_dec_stellar[valid]\n",
    "single_mag_stellar = single_mag_stellar[valid]\n",
    "single_mag_error_stellar = single_mag_stellar[valid]\n",
    "single_filter_stellar = single_filter_stellar[valid]\n",
    "single_fit_dex = fit_dex[:,0][valid]"
   ]
  },
  {
   "cell_type": "code",
   "execution_count": null,
   "metadata": {},
   "outputs": [],
   "source": [
    "# double check that sources are correctly associated\n",
    "\n",
    "d_max = -1.0\n",
    "for sra, sdec, dex in zip(single_ra_stellar, single_dec_stellar, single_fit_dex):\n",
    "    cdec = np.cos(sdec)\n",
    "    xyz_s = np.array([cdec*np.cos(sra), cdec*np.sin(sra), np.sin(sdec)])\n",
    "    \n",
    "    cdec = np.cos(coadd_dec[dex])\n",
    "    cra = coadd_ra[dex]\n",
    "    xyz_c = np.array([cdec*np.cos(cra), cdec*np.sin(cra), np.sin(coadd_dec[dex])])\n",
    "    dot_prod = np.dot(xyz_s, xyz_c)\n",
    "    dd = np.arccos(dot_prod)/np.radians(1.0/3600.0)\n",
    "    if dd>d_max:\n",
    "        d_max = dd\n",
    "        print('d_max %.2e arcsec' % d_max)\n",
    "    "
   ]
  },
  {
   "cell_type": "code",
   "execution_count": null,
   "metadata": {},
   "outputs": [],
   "source": [
    "coadd_mag_dict = {'HSC-G': coadd_g_mags,\n",
    "                 'HSC-R': coadd_r_mags,\n",
    "                 'HSC-I': coadd_i_mags}\n",
    "bp_list = ['HSC-G', 'HSC-R', 'HSC-I']"
   ]
  },
  {
   "cell_type": "code",
   "execution_count": null,
   "metadata": {},
   "outputs": [],
   "source": [
    "# compare single calexp magnitudes to coadd magnitudes\n",
    "\n",
    "for bp in bp_list:\n",
    "    valid = np.where(np.char.find(single_filter_stellar, bp)==0)\n",
    "    plt.figure(figsize=(10,10))\n",
    "    s = single_mag_stellar[valid]\n",
    "    plot_color_mesh(s,\n",
    "                    coadd_mag_dict[bp][single_fit_dex[valid]],\n",
    "                    0.04, 0.04)\n",
    "    plt.plot([s.min(),s.max()], [s.min(),s.max()], linestyle='--',\n",
    "             color='y', zorder=3)\n",
    "    plt.xlabel('calexp %s magnitude' % bp, fontsize=20)\n",
    "    plt.ylabel('coadd %s magnitude' % bp, fontsize=20)\n",
    "    "
   ]
  },
  {
   "cell_type": "code",
   "execution_count": null,
   "metadata": {},
   "outputs": [],
   "source": [
    "for bp in bp_list:\n",
    "    mag_scatter = []\n",
    "    mag_coadd_scatter = []\n",
    "    mag_rms = []\n",
    "    is_filter = np.where(np.char.find(single_filter_stellar, bp)==0)\n",
    "    mag = single_mag_stellar[is_filter]\n",
    "    dex = single_fit_dex[is_filter]\n",
    "    unq_id_list = np.unique(single_fit_dex)\n",
    "    for unq_id in unq_id_list:\n",
    "        is_obj = np.where(dex==unq_id)\n",
    "        mag_arr = mag[is_obj]\n",
    "        mean_mag = np.mean(mag_arr)\n",
    "        mag_scatter.append(mag_arr-mean_mag)\n",
    "        mag_coadd_scatter.append(mag_arr-coadd_mag_dict[bp][unq_id])\n",
    "        if len(mag_arr) > 10:\n",
    "            mag_rms.append(np.std(mag_arr))\n",
    "    mag_scatter = np.concatenate(mag_scatter)\n",
    "    mag_coadd_scatter = np.concatenate(mag_coadd_scatter)\n",
    "    mag_rms = np.array(mag_rms)\n",
    "    assert len(mag)==len(mag_scatter)\n",
    "    plt.figure(figsize=(10,10))\n",
    "    plt.subplot(1,2,1)\n",
    "    plt.hist(mag_scatter, bins=50, label='baseline=mean', zorder=0)\n",
    "    plt.hist(mag_coadd_scatter, bins=50, label='baseline=coadd', zorder=1, alpha=0.5)\n",
    "    plt.xlabel('mag - baseline  %s' % bp, fontsize=15)\n",
    "    plt.yticks(fontsize=15)\n",
    "    #plt.xticks(fontsize=15)\n",
    "    plt.legend()\n",
    "    \n",
    "    plt.subplot(1,2,2)\n",
    "    plt.hist(mag_rms, bins=50)\n",
    "    plt.xlabel('RMS(mag)  %s' % bp, fontsize=15)\n",
    "    plt.yticks(fontsize=15)\n",
    "    #plt.xticks(fontsize=15)\n",
    "    \n",
    "    plt.tight_layout()"
   ]
  },
  {
   "cell_type": "code",
   "execution_count": null,
   "metadata": {},
   "outputs": [],
   "source": [
    "test = butler.get('src', dataId=desired_data_id_list[0])"
   ]
  },
  {
   "cell_type": "code",
   "execution_count": null,
   "metadata": {},
   "outputs": [],
   "source": [
    "valid = np.where(np.abs(mag_coadd_scatter)<0.05)\n",
    "print(len(valid[0]))\n",
    "print(mag_rms.min())\n",
    "print(len(mag_coadd_scatter))"
   ]
  },
  {
   "cell_type": "code",
   "execution_count": 35,
   "metadata": {},
   "outputs": [
    {
     "data": {
      "text/plain": [
       "{'filter': str, 'tract': int, 'visit': int, 'ccd': int}"
      ]
     },
     "execution_count": 35,
     "metadata": {},
     "output_type": "execute_result"
    }
   ],
   "source": [
    "butler.getKeys('jointcal_photoCalib')"
   ]
  },
  {
   "cell_type": "code",
   "execution_count": 36,
   "metadata": {},
   "outputs": [
    {
     "data": {
      "text/plain": [
       "{'filter': str, 'tract': int, 'visit': int, 'ccd': int}"
      ]
     },
     "execution_count": 36,
     "metadata": {},
     "output_type": "execute_result"
    }
   ],
   "source": [
    "butler.getKeys('jointcal_wcs')"
   ]
  },
  {
   "cell_type": "code",
   "execution_count": 40,
   "metadata": {},
   "outputs": [
    {
     "name": "stdout",
     "output_type": "stream",
     "text": [
      "TractInfo(id=8523)\n",
      "TractInfo(id=8765)\n",
      "TractInfo(id=8524)\n",
      "TractInfo(id=8766)\n"
     ]
    }
   ],
   "source": [
    "for tt in tract_patch_list:\n",
    "    print(tt[0])"
   ]
  },
  {
   "cell_type": "code",
   "execution_count": 43,
   "metadata": {},
   "outputs": [
    {
     "data": {
      "text/plain": [
       "['ConfigClass',\n",
       " '__class__',\n",
       " '__delattr__',\n",
       " '__dict__',\n",
       " '__dir__',\n",
       " '__doc__',\n",
       " '__eq__',\n",
       " '__format__',\n",
       " '__ge__',\n",
       " '__getattribute__',\n",
       " '__getitem__',\n",
       " '__gt__',\n",
       " '__hash__',\n",
       " '__init__',\n",
       " '__init_subclass__',\n",
       " '__iter__',\n",
       " '__le__',\n",
       " '__len__',\n",
       " '__lt__',\n",
       " '__module__',\n",
       " '__ne__',\n",
       " '__new__',\n",
       " '__reduce__',\n",
       " '__reduce_ex__',\n",
       " '__repr__',\n",
       " '__setattr__',\n",
       " '__sizeof__',\n",
       " '__str__',\n",
       " '__subclasshook__',\n",
       " '__weakref__',\n",
       " '_decToRingNum',\n",
       " '_numTracts',\n",
       " '_raStart',\n",
       " '_raToTractNum',\n",
       " '_ringNums',\n",
       " '_ringSize',\n",
       " '_sha1',\n",
       " '_tractCache',\n",
       " '_tractInfo',\n",
       " '_tractInfoList',\n",
       " '_version',\n",
       " '_wcsFactory',\n",
       " 'config',\n",
       " 'findAllTracts',\n",
       " 'findClosestTractPatchList',\n",
       " 'findTract',\n",
       " 'findTractPatchList',\n",
       " 'generateTract',\n",
       " 'getRingIndices',\n",
       " 'getSha1',\n",
       " 'logSkyMapInfo',\n",
       " 'register',\n",
       " 'updateSha1']"
      ]
     },
     "execution_count": 43,
     "metadata": {},
     "output_type": "execute_result"
    }
   ],
   "source": [
    "dir(coadd_skymap)"
   ]
  },
  {
   "cell_type": "code",
   "execution_count": 53,
   "metadata": {},
   "outputs": [
    {
     "data": {
      "text/plain": [
       "8523"
      ]
     },
     "execution_count": 53,
     "metadata": {},
     "output_type": "execute_result"
    }
   ],
   "source": [
    "coadd_skymap.findTract(pt_list[1]).getId()"
   ]
  },
  {
   "cell_type": "code",
   "execution_count": 59,
   "metadata": {},
   "outputs": [],
   "source": [
    "data_id = {'filter': 'HSC-I', 'ccd': 0, 'visit': 7274, 'tract': 8523}"
   ]
  },
  {
   "cell_type": "code",
   "execution_count": 61,
   "metadata": {},
   "outputs": [
    {
     "data": {
      "text/plain": [
       "True"
      ]
     },
     "execution_count": 61,
     "metadata": {},
     "output_type": "execute_result"
    }
   ],
   "source": [
    "butler.datasetExists('jointcal_photoCalib', dataId=data_id)"
   ]
  },
  {
   "cell_type": "code",
   "execution_count": 62,
   "metadata": {},
   "outputs": [
    {
     "ename": "RuntimeError",
     "evalue": "Unsupported version (version 0 was defined in maggies): 0; loading object with id=1, name='PhotoCalib'",
     "output_type": "error",
     "traceback": [
      "\u001b[0;31m---------------------------------------------------------------------------\u001b[0m",
      "\u001b[0;31mRuntimeError\u001b[0m                              Traceback (most recent call last)",
      "\u001b[0;32m<ipython-input-62-5091ce90e240>\u001b[0m in \u001b[0;36m<module>\u001b[0;34m\u001b[0m\n\u001b[0;32m----> 1\u001b[0;31m \u001b[0mpc\u001b[0m \u001b[0;34m=\u001b[0m \u001b[0mbutler\u001b[0m\u001b[0;34m.\u001b[0m\u001b[0mget\u001b[0m\u001b[0;34m(\u001b[0m\u001b[0;34m'jointcal_photoCalib'\u001b[0m\u001b[0;34m,\u001b[0m \u001b[0mdataId\u001b[0m\u001b[0;34m=\u001b[0m\u001b[0mdata_id\u001b[0m\u001b[0;34m)\u001b[0m\u001b[0;34m\u001b[0m\u001b[0;34m\u001b[0m\u001b[0m\n\u001b[0m",
      "\u001b[0;32m/opt/lsst/software/stack/stack/miniconda3-4.5.12-1172c30/Linux64/daf_persistence/18.0.0-1-g5e4b7ea+9/python/lsst/daf/persistence/butler.py\u001b[0m in \u001b[0;36mget\u001b[0;34m(self, datasetType, dataId, immediate, **rest)\u001b[0m\n\u001b[1;32m   1394\u001b[0m                 \u001b[0;32mreturn\u001b[0m \u001b[0mlocation\u001b[0m\u001b[0;34m.\u001b[0m\u001b[0mmapper\u001b[0m\u001b[0;34m.\u001b[0m\u001b[0mstandardize\u001b[0m\u001b[0;34m(\u001b[0m\u001b[0mlocation\u001b[0m\u001b[0;34m.\u001b[0m\u001b[0mdatasetType\u001b[0m\u001b[0;34m,\u001b[0m \u001b[0minnerCallback\u001b[0m\u001b[0;34m(\u001b[0m\u001b[0;34m)\u001b[0m\u001b[0;34m,\u001b[0m \u001b[0mdataId\u001b[0m\u001b[0;34m)\u001b[0m\u001b[0;34m\u001b[0m\u001b[0;34m\u001b[0m\u001b[0m\n\u001b[1;32m   1395\u001b[0m         \u001b[0;32mif\u001b[0m \u001b[0mimmediate\u001b[0m\u001b[0;34m:\u001b[0m\u001b[0;34m\u001b[0m\u001b[0;34m\u001b[0m\u001b[0m\n\u001b[0;32m-> 1396\u001b[0;31m             \u001b[0;32mreturn\u001b[0m \u001b[0mcallback\u001b[0m\u001b[0;34m(\u001b[0m\u001b[0;34m)\u001b[0m\u001b[0;34m\u001b[0m\u001b[0;34m\u001b[0m\u001b[0m\n\u001b[0m\u001b[1;32m   1397\u001b[0m         \u001b[0;32mreturn\u001b[0m \u001b[0mReadProxy\u001b[0m\u001b[0;34m(\u001b[0m\u001b[0mcallback\u001b[0m\u001b[0;34m)\u001b[0m\u001b[0;34m\u001b[0m\u001b[0;34m\u001b[0m\u001b[0m\n\u001b[1;32m   1398\u001b[0m \u001b[0;34m\u001b[0m\u001b[0m\n",
      "\u001b[0;32m/opt/lsst/software/stack/stack/miniconda3-4.5.12-1172c30/Linux64/daf_persistence/18.0.0-1-g5e4b7ea+9/python/lsst/daf/persistence/butler.py\u001b[0m in \u001b[0;36mcallback\u001b[0;34m()\u001b[0m\n\u001b[1;32m   1387\u001b[0m         \u001b[0;32melse\u001b[0m\u001b[0;34m:\u001b[0m\u001b[0;34m\u001b[0m\u001b[0;34m\u001b[0m\u001b[0m\n\u001b[1;32m   1388\u001b[0m             \u001b[0;32mdef\u001b[0m \u001b[0mcallback\u001b[0m\u001b[0;34m(\u001b[0m\u001b[0;34m)\u001b[0m\u001b[0;34m:\u001b[0m\u001b[0;34m\u001b[0m\u001b[0;34m\u001b[0m\u001b[0m\n\u001b[0;32m-> 1389\u001b[0;31m                 \u001b[0;32mreturn\u001b[0m \u001b[0mself\u001b[0m\u001b[0;34m.\u001b[0m\u001b[0m_read\u001b[0m\u001b[0;34m(\u001b[0m\u001b[0mlocation\u001b[0m\u001b[0;34m)\u001b[0m\u001b[0;34m\u001b[0m\u001b[0;34m\u001b[0m\u001b[0m\n\u001b[0m\u001b[1;32m   1390\u001b[0m         \u001b[0;32mif\u001b[0m \u001b[0mlocation\u001b[0m\u001b[0;34m.\u001b[0m\u001b[0mmapper\u001b[0m\u001b[0;34m.\u001b[0m\u001b[0mcanStandardize\u001b[0m\u001b[0;34m(\u001b[0m\u001b[0mlocation\u001b[0m\u001b[0;34m.\u001b[0m\u001b[0mdatasetType\u001b[0m\u001b[0;34m)\u001b[0m\u001b[0;34m:\u001b[0m\u001b[0;34m\u001b[0m\u001b[0;34m\u001b[0m\u001b[0m\n\u001b[1;32m   1391\u001b[0m             \u001b[0minnerCallback\u001b[0m \u001b[0;34m=\u001b[0m \u001b[0mcallback\u001b[0m\u001b[0;34m\u001b[0m\u001b[0;34m\u001b[0m\u001b[0m\n",
      "\u001b[0;32m/opt/lsst/software/stack/stack/miniconda3-4.5.12-1172c30/Linux64/daf_persistence/18.0.0-1-g5e4b7ea+9/python/lsst/daf/persistence/butler.py\u001b[0m in \u001b[0;36m_read\u001b[0;34m(self, location)\u001b[0m\n\u001b[1;32m   1588\u001b[0m             \u001b[0;32mreturn\u001b[0m \u001b[0mresults\u001b[0m\u001b[0;34m\u001b[0m\u001b[0;34m\u001b[0m\u001b[0m\n\u001b[1;32m   1589\u001b[0m         \u001b[0;32melse\u001b[0m\u001b[0;34m:\u001b[0m\u001b[0;34m\u001b[0m\u001b[0;34m\u001b[0m\u001b[0m\n\u001b[0;32m-> 1590\u001b[0;31m             \u001b[0mresults\u001b[0m \u001b[0;34m=\u001b[0m \u001b[0mlocation\u001b[0m\u001b[0;34m.\u001b[0m\u001b[0mrepository\u001b[0m\u001b[0;34m.\u001b[0m\u001b[0mread\u001b[0m\u001b[0;34m(\u001b[0m\u001b[0mlocation\u001b[0m\u001b[0;34m)\u001b[0m\u001b[0;34m\u001b[0m\u001b[0;34m\u001b[0m\u001b[0m\n\u001b[0m\u001b[1;32m   1591\u001b[0m             \u001b[0;32mif\u001b[0m \u001b[0mlen\u001b[0m\u001b[0;34m(\u001b[0m\u001b[0mresults\u001b[0m\u001b[0;34m)\u001b[0m \u001b[0;34m==\u001b[0m \u001b[0;36m1\u001b[0m\u001b[0;34m:\u001b[0m\u001b[0;34m\u001b[0m\u001b[0;34m\u001b[0m\u001b[0m\n\u001b[1;32m   1592\u001b[0m                 \u001b[0mresults\u001b[0m \u001b[0;34m=\u001b[0m \u001b[0mresults\u001b[0m\u001b[0;34m[\u001b[0m\u001b[0;36m0\u001b[0m\u001b[0;34m]\u001b[0m\u001b[0;34m\u001b[0m\u001b[0;34m\u001b[0m\u001b[0m\n",
      "\u001b[0;32m/opt/lsst/software/stack/stack/miniconda3-4.5.12-1172c30/Linux64/daf_persistence/18.0.0-1-g5e4b7ea+9/python/lsst/daf/persistence/repository.py\u001b[0m in \u001b[0;36mread\u001b[0;34m(self, butlerLocation)\u001b[0m\n\u001b[1;32m    195\u001b[0m         \u001b[0mbutlerLocationStorage\u001b[0m \u001b[0;34m=\u001b[0m \u001b[0mbutlerLocation\u001b[0m\u001b[0;34m.\u001b[0m\u001b[0mgetStorage\u001b[0m\u001b[0;34m(\u001b[0m\u001b[0;34m)\u001b[0m\u001b[0;34m\u001b[0m\u001b[0;34m\u001b[0m\u001b[0m\n\u001b[1;32m    196\u001b[0m         \u001b[0;32mif\u001b[0m \u001b[0mbutlerLocationStorage\u001b[0m\u001b[0;34m:\u001b[0m\u001b[0;34m\u001b[0m\u001b[0;34m\u001b[0m\u001b[0m\n\u001b[0;32m--> 197\u001b[0;31m             \u001b[0;32mreturn\u001b[0m \u001b[0mbutlerLocationStorage\u001b[0m\u001b[0;34m.\u001b[0m\u001b[0mread\u001b[0m\u001b[0;34m(\u001b[0m\u001b[0mbutlerLocation\u001b[0m\u001b[0;34m)\u001b[0m\u001b[0;34m\u001b[0m\u001b[0;34m\u001b[0m\u001b[0m\n\u001b[0m\u001b[1;32m    198\u001b[0m         \u001b[0;32melse\u001b[0m\u001b[0;34m:\u001b[0m\u001b[0;34m\u001b[0m\u001b[0;34m\u001b[0m\u001b[0m\n\u001b[1;32m    199\u001b[0m             \u001b[0;32mreturn\u001b[0m \u001b[0mself\u001b[0m\u001b[0;34m.\u001b[0m\u001b[0m_storage\u001b[0m\u001b[0;34m.\u001b[0m\u001b[0mread\u001b[0m\u001b[0;34m(\u001b[0m\u001b[0mbutlerLocation\u001b[0m\u001b[0;34m)\u001b[0m\u001b[0;34m\u001b[0m\u001b[0;34m\u001b[0m\u001b[0m\n",
      "\u001b[0;32m/opt/lsst/software/stack/stack/miniconda3-4.5.12-1172c30/Linux64/daf_persistence/18.0.0-1-g5e4b7ea+9/python/lsst/daf/persistence/posixStorage.py\u001b[0m in \u001b[0;36mread\u001b[0;34m(self, butlerLocation)\u001b[0m\n\u001b[1;32m    278\u001b[0m             \u001b[0mreadFormatter\u001b[0m \u001b[0;34m=\u001b[0m \u001b[0mself\u001b[0m\u001b[0;34m.\u001b[0m\u001b[0mgetReadFormatter\u001b[0m\u001b[0;34m(\u001b[0m\u001b[0mbutlerLocation\u001b[0m\u001b[0;34m.\u001b[0m\u001b[0mgetPythonType\u001b[0m\u001b[0;34m(\u001b[0m\u001b[0;34m)\u001b[0m\u001b[0;34m)\u001b[0m\u001b[0;34m\u001b[0m\u001b[0;34m\u001b[0m\u001b[0m\n\u001b[1;32m    279\u001b[0m         \u001b[0;32mif\u001b[0m \u001b[0mreadFormatter\u001b[0m\u001b[0;34m:\u001b[0m\u001b[0;34m\u001b[0m\u001b[0;34m\u001b[0m\u001b[0m\n\u001b[0;32m--> 280\u001b[0;31m             \u001b[0;32mreturn\u001b[0m \u001b[0mreadFormatter\u001b[0m\u001b[0;34m(\u001b[0m\u001b[0mbutlerLocation\u001b[0m\u001b[0;34m)\u001b[0m\u001b[0;34m\u001b[0m\u001b[0;34m\u001b[0m\u001b[0m\n\u001b[0m\u001b[1;32m    281\u001b[0m \u001b[0;34m\u001b[0m\u001b[0m\n\u001b[1;32m    282\u001b[0m         \u001b[0;32mraise\u001b[0m\u001b[0;34m(\u001b[0m\u001b[0mRuntimeError\u001b[0m\u001b[0;34m(\u001b[0m\u001b[0;34m\"No formatter for location:{}\"\u001b[0m\u001b[0;34m.\u001b[0m\u001b[0mformat\u001b[0m\u001b[0;34m(\u001b[0m\u001b[0mbutlerLocation\u001b[0m\u001b[0;34m)\u001b[0m\u001b[0;34m)\u001b[0m\u001b[0;34m)\u001b[0m\u001b[0;34m\u001b[0m\u001b[0;34m\u001b[0m\u001b[0m\n",
      "\u001b[0;32m/opt/lsst/software/stack/stack/miniconda3-4.5.12-1172c30/Linux64/daf_persistence/18.0.0-1-g5e4b7ea+9/python/lsst/daf/persistence/posixStorage.py\u001b[0m in \u001b[0;36mreadFitsCatalogStorage\u001b[0;34m(butlerLocation)\u001b[0m\n\u001b[1;32m    794\u001b[0m         \u001b[0;32mif\u001b[0m \u001b[0madditionalData\u001b[0m\u001b[0;34m.\u001b[0m\u001b[0mexists\u001b[0m\u001b[0;34m(\u001b[0m\u001b[0;34m\"flags\"\u001b[0m\u001b[0;34m)\u001b[0m\u001b[0;34m:\u001b[0m\u001b[0;34m\u001b[0m\u001b[0;34m\u001b[0m\u001b[0m\n\u001b[1;32m    795\u001b[0m             \u001b[0mkwds\u001b[0m\u001b[0;34m[\u001b[0m\u001b[0;34m\"flags\"\u001b[0m\u001b[0;34m]\u001b[0m \u001b[0;34m=\u001b[0m \u001b[0madditionalData\u001b[0m\u001b[0;34m.\u001b[0m\u001b[0mgetInt\u001b[0m\u001b[0;34m(\u001b[0m\u001b[0;34m\"flags\"\u001b[0m\u001b[0;34m)\u001b[0m\u001b[0;34m\u001b[0m\u001b[0;34m\u001b[0m\u001b[0m\n\u001b[0;32m--> 796\u001b[0;31m         \u001b[0mfinalItem\u001b[0m \u001b[0;34m=\u001b[0m \u001b[0mpythonType\u001b[0m\u001b[0;34m.\u001b[0m\u001b[0mreadFits\u001b[0m\u001b[0;34m(\u001b[0m\u001b[0mlogLoc\u001b[0m\u001b[0;34m.\u001b[0m\u001b[0mlocString\u001b[0m\u001b[0;34m(\u001b[0m\u001b[0;34m)\u001b[0m\u001b[0;34m,\u001b[0m \u001b[0;34m**\u001b[0m\u001b[0mkwds\u001b[0m\u001b[0;34m)\u001b[0m\u001b[0;34m\u001b[0m\u001b[0;34m\u001b[0m\u001b[0m\n\u001b[0m\u001b[1;32m    797\u001b[0m         \u001b[0mresults\u001b[0m\u001b[0;34m.\u001b[0m\u001b[0mappend\u001b[0m\u001b[0;34m(\u001b[0m\u001b[0mfinalItem\u001b[0m\u001b[0;34m)\u001b[0m\u001b[0;34m\u001b[0m\u001b[0;34m\u001b[0m\u001b[0m\n\u001b[1;32m    798\u001b[0m     \u001b[0;32mreturn\u001b[0m \u001b[0mresults\u001b[0m\u001b[0;34m\u001b[0m\u001b[0;34m\u001b[0m\u001b[0m\n",
      "\u001b[0;31mRuntimeError\u001b[0m: Unsupported version (version 0 was defined in maggies): 0; loading object with id=1, name='PhotoCalib'"
     ]
    }
   ],
   "source": [
    "pc = butler.get('jointcal_photoCalib', dataId=data_id)"
   ]
  },
  {
   "cell_type": "code",
   "execution_count": 64,
   "metadata": {},
   "outputs": [
    {
     "data": {
      "text/plain": [
       "['GENERATION',\n",
       " '__class__',\n",
       " '__delattr__',\n",
       " '__dict__',\n",
       " '__dir__',\n",
       " '__doc__',\n",
       " '__eq__',\n",
       " '__format__',\n",
       " '__ge__',\n",
       " '__getattribute__',\n",
       " '__gt__',\n",
       " '__hash__',\n",
       " '__init__',\n",
       " '__init_subclass__',\n",
       " '__le__',\n",
       " '__lt__',\n",
       " '__module__',\n",
       " '__ne__',\n",
       " '__new__',\n",
       " '__reduce__',\n",
       " '__reduce_ex__',\n",
       " '__repr__',\n",
       " '__setattr__',\n",
       " '__sizeof__',\n",
       " '__str__',\n",
       " '__subclasshook__',\n",
       " '__weakref__',\n",
       " '_addParents',\n",
       " '_assignDefaultMapper',\n",
       " '_connectParentRepoDatas',\n",
       " '_convertV1Args',\n",
       " '_getBypassFunc',\n",
       " '_getCfgs',\n",
       " '_getDefaultMapper',\n",
       " '_getOldButlerRepositoryCfg',\n",
       " '_getParentRepoData',\n",
       " '_getParentVal',\n",
       " '_getParents',\n",
       " '_getRepositoryCfg',\n",
       " '_initArgs',\n",
       " '_initRepo',\n",
       " '_locate',\n",
       " '_processInputArguments',\n",
       " '_read',\n",
       " '_repos',\n",
       " '_resolveDatasetTypeAlias',\n",
       " '_setAndVerifyParentsLists',\n",
       " '_setDefaultMapper',\n",
       " '_setRepoDataTags',\n",
       " 'dataRef',\n",
       " 'datasetExists',\n",
       " 'datasetTypeAliasDict',\n",
       " 'defineAlias',\n",
       " 'get',\n",
       " 'getKeys',\n",
       " 'getMapperClass',\n",
       " 'getUri',\n",
       " 'log',\n",
       " 'put',\n",
       " 'queryMetadata',\n",
       " 'storage',\n",
       " 'subset']"
      ]
     },
     "execution_count": 64,
     "metadata": {},
     "output_type": "execute_result"
    }
   ],
   "source": [
    "dir(butler)"
   ]
  },
  {
   "cell_type": "code",
   "execution_count": 67,
   "metadata": {},
   "outputs": [
    {
     "data": {
      "text/plain": [
       "[(7274, 0, 'HSC-I', 8523)]"
      ]
     },
     "execution_count": 67,
     "metadata": {},
     "output_type": "execute_result"
    }
   ],
   "source": [
    "butler.queryMetadata('jointcal_photoCalib', ['visit', 'ccd', 'filter', 'tract'], dataId=data_id)"
   ]
  },
  {
   "cell_type": "code",
   "execution_count": 68,
   "metadata": {},
   "outputs": [
    {
     "data": {
      "text/plain": [
       "{'filter': 'HSC-I', 'ccd': 0, 'visit': 7274, 'tract': 8523}"
      ]
     },
     "execution_count": 68,
     "metadata": {},
     "output_type": "execute_result"
    }
   ],
   "source": [
    "data_id"
   ]
  },
  {
   "cell_type": "code",
   "execution_count": null,
   "metadata": {},
   "outputs": [],
   "source": []
  }
 ],
 "metadata": {
  "kernelspec": {
   "display_name": "LSST",
   "language": "python",
   "name": "lsst"
  },
  "language_info": {
   "codemirror_mode": {
    "name": "ipython",
    "version": 3
   },
   "file_extension": ".py",
   "mimetype": "text/x-python",
   "name": "python",
   "nbconvert_exporter": "python",
   "pygments_lexer": "ipython3",
   "version": "3.7.2"
  }
 },
 "nbformat": 4,
 "nbformat_minor": 2
}
