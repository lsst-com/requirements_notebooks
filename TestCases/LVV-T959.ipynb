{
 "cells": [
  {
   "cell_type": "markdown",
   "metadata": {},
   "source": [
    "# LVV-T959: Inter-Band Astrometric Performance\n",
    "\n",
    "**Written By: Bryce Kalmbach**\n",
    "\n",
    "**Last updated: 07-18-2019**\n",
    "\n",
    "**Tested on Stack Version: w_2019_28**\n",
    "\n",
    "## Requirements:\n",
    "\n",
    "[OSS-REQ-0388](https://docushare.lsst.org/docushare/dsweb/Get/LSE-030#page=68)\n",
    "\n",
    "1. RMS difference between separations measured in the r-band and those measured in any other filter is less than or equal to 10 milliarcsec.\n",
    "\n",
    "2. Fraction of separations measured relative to the r-band that can exceed the color difference outlier limit (20 milliarcsec) is less than or equal to 10 percent.\n",
    "\n",
    "## Proposed Test Case:\n",
    "\n",
    "1. Image an average field in all six bands.  Repeat at different airmasses.\n",
    "\n",
    "2. Perform source detection and astrometric measurements on the images from step 1\n",
    "\n",
    "3. Find separations between all pairs of sources in catalogs from step 2\n",
    "\n",
    "4. For each band, compute the RMS difference in source separations relative to the r-band.  Verify that this values is less than or equal to 10 milliarcseconds.\n",
    "\n",
    "5. Verify that no more than 10 percent of source separation measurements in any band vary by more than 20 milliarcseconds from the r band measurements"
   ]
  },
  {
   "cell_type": "markdown",
   "metadata": {},
   "source": [
    "### Import necessary tools"
   ]
  },
  {
   "cell_type": "code",
   "execution_count": null,
   "metadata": {},
   "outputs": [],
   "source": [
    "import os\n",
    "import numpy as np\n",
    "import matplotlib as mpl\n",
    "import matplotlib.pyplot as plt\n",
    "import pandas as pd"
   ]
  },
  {
   "cell_type": "code",
   "execution_count": null,
   "metadata": {},
   "outputs": [],
   "source": [
    "from lsst.daf.persistence import Butler\n",
    "import lsst.daf.persistence as daf_persistence\n",
    "from lsst.afw.table import MultiMatch\n",
    "\n",
    "from astropy.coordinates import SkyCoord\n",
    "from astropy import units as u\n",
    "\n",
    "from itertools import combinations"
   ]
  },
  {
   "cell_type": "code",
   "execution_count": null,
   "metadata": {},
   "outputs": [],
   "source": [
    "# Make our plots nice and readable\n",
    "plt.rcParams.update({'font.size': 18})"
   ]
  },
  {
   "cell_type": "markdown",
   "metadata": {},
   "source": [
    "### Set parameters for testing\n",
    "\n",
    "* `test_bandpass`: The notebook will set up to test astrometry in this bandpass against 'r'\n",
    "\n",
    "* `faint_r_lim`: If set to `None`, the notebook will calculate separations for every pair of objects that are present in all visits. This can take a long time or perhaps we want to see how astrometry changes as a function of magnitude. Therefore, we can set this to only keep sources with an r-band magnitude brighter than this limit."
   ]
  },
  {
   "cell_type": "code",
   "execution_count": null,
   "metadata": {},
   "outputs": [],
   "source": [
    "test_bandpass = 'g'\n",
    "\n",
    "faint_r_lim = 21. #None"
   ]
  },
  {
   "cell_type": "markdown",
   "metadata": {},
   "source": [
    "### Setup Butler to get Twinkles data"
   ]
  },
  {
   "cell_type": "code",
   "execution_count": null,
   "metadata": {},
   "outputs": [],
   "source": [
    "# Set up a butler\n",
    "datadir = '/project/shared/data/Twinkles_subset/output_data_v2/'\n",
    "butler = Butler(datadir)"
   ]
  },
  {
   "cell_type": "code",
   "execution_count": null,
   "metadata": {},
   "outputs": [],
   "source": [
    "# Get dataIds\n",
    "subset = butler.subset('src')"
   ]
  },
  {
   "cell_type": "markdown",
   "metadata": {},
   "source": [
    "Below we define methods to create a matched catalog for sources and create `objects` made up of individual sources detected in a single visit."
   ]
  },
  {
   "cell_type": "code",
   "execution_count": null,
   "metadata": {},
   "outputs": [],
   "source": [
    "def get_filter_visits(subset, bandpass):\n",
    "    \"\"\"\n",
    "    Get a list of the available visit numbers in a subset for a given bandpass.\n",
    "    \"\"\"\n",
    "    visit_list = []\n",
    "    for data_ref in subset:\n",
    "        data_id = data_ref.dataId\n",
    "        if data_id['filter'] == bandpass:\n",
    "            visit_list.append(data_id['visit'])\n",
    "    return visit_list"
   ]
  },
  {
   "cell_type": "code",
   "execution_count": null,
   "metadata": {},
   "outputs": [],
   "source": [
    "def get_matched_catalog(subset, bandpass_list):\n",
    "    \"\"\"\n",
    "    Create a matched catalog from a subset with observations in the bandpasses listed.\n",
    "    \"\"\"\n",
    "    \n",
    "    visit_list = []\n",
    "    for bandpass in bandpass_list:\n",
    "        bp_visits = get_filter_visits(subset, bandpass)\n",
    "        for v in bp_visits:\n",
    "            visit_list.append(v)\n",
    "\n",
    "    matched_cat = None\n",
    "    calexps = {}\n",
    "    visit_filter_dict = {}            \n",
    "\n",
    "    for data_ref in subset:\n",
    "        data_id = data_ref.dataId\n",
    "        if data_id['visit'] not in visit_list:\n",
    "            continue\n",
    "        print(data_id['visit'], ',', data_id['filter'])\n",
    "        src_cat = data_ref.get('src')\n",
    "        calexps[data_id['visit']] = data_ref.get('calexp')\n",
    "        if matched_cat is None:\n",
    "            id_fmt = {'visit':np.int64}\n",
    "            matched_cat = MultiMatch(src_cat.schema, id_fmt)\n",
    "        visit_filter_dict[str(data_id['visit'])] = data_id['filter']\n",
    "        matched_cat.add(src_cat, data_id)\n",
    "        \n",
    "    final_catalog = matched_cat.finish()\n",
    "    \n",
    "    return final_catalog, calexps, visit_filter_dict"
   ]
  },
  {
   "cell_type": "markdown",
   "metadata": {},
   "source": [
    "To start we create a pandas dataframe to hold information on each visit we have available."
   ]
  },
  {
   "cell_type": "code",
   "execution_count": null,
   "metadata": {},
   "outputs": [],
   "source": [
    "r_visits = get_filter_visits(subset, 'r')\n",
    "temp_df_r = pd.DataFrame(r_visits, columns=['visit'])\n",
    "temp_df_r['filter'] = 'r'\n",
    "\n",
    "test_visits = get_filter_visits(subset, test_bandpass)\n",
    "temp_df_test = pd.DataFrame(test_visits, columns=['visit'])\n",
    "temp_df_test['filter'] = test_bandpass\n",
    "\n",
    "visit_df = pd.concat([temp_df_r, temp_df_test]).reset_index(drop=True)"
   ]
  },
  {
   "cell_type": "markdown",
   "metadata": {},
   "source": [
    "Here we create the final matched catalog for all the visits in the r-band and the test bandpass. We keep the `calexps` to calculate magnitudes and `visit_filter_dict` contains a record of which filter goes with a visit."
   ]
  },
  {
   "cell_type": "code",
   "execution_count": null,
   "metadata": {},
   "outputs": [],
   "source": [
    "final_catalog, calexps, visit_filter_dict = get_matched_catalog(subset, ['r', test_bandpass])"
   ]
  },
  {
   "cell_type": "code",
   "execution_count": null,
   "metadata": {},
   "outputs": [],
   "source": [
    "# Only keep the columns we need going forward and convert to pandas dataframe\n",
    "final_catalog = final_catalog.asAstropy()\n",
    "final_catalog = final_catalog[['id', 'coord_ra', 'coord_dec', 'base_PsfFlux_instFlux', 'object', 'visit']]\n",
    "final_catalog = final_catalog.to_pandas()"
   ]
  },
  {
   "cell_type": "code",
   "execution_count": null,
   "metadata": {},
   "outputs": [],
   "source": [
    "# Add filter information into each line of the catalog\n",
    "filter_list = []\n",
    "for vis_num in final_catalog['visit'].values:\n",
    "    filter_list.append(visit_filter_dict[str(vis_num)])\n",
    "final_catalog['filter'] = filter_list"
   ]
  },
  {
   "cell_type": "code",
   "execution_count": null,
   "metadata": {},
   "outputs": [],
   "source": [
    "# Add in magnitude information for cuts\n",
    "mag = []\n",
    "for obj_row in final_catalog.values:\n",
    "    calib = calexps[obj_row[-2]].getPhotoCalib()\n",
    "    mag.append(calib.instFluxToMagnitude(obj_row[-4]))\n",
    "final_catalog['mag'] = mag"
   ]
  },
  {
   "cell_type": "code",
   "execution_count": null,
   "metadata": {},
   "outputs": [],
   "source": [
    "# Add in image quality info based upon PSF to visit dataframe\n",
    "# Code based upon https://github.com/lsst-com/notebooks/blob/master/image_quality_demo.ipynb\n",
    "psf_fwhm = []\n",
    "for obj_row in visit_df.values:\n",
    "    psf = calexps[obj_row[0]].getPsf()\n",
    "    shape = psf.computeShape()\n",
    "    fwhm = 2 * np.sqrt(2. * np.log(2)) * shape.getTraceRadius() * \\\n",
    "        calexps[obj_row[0]].getWcs().getPixelScale().asArcseconds()\n",
    "    psf_fwhm.append(fwhm)\n",
    "visit_df['psf_fwhm'] = psf_fwhm"
   ]
  },
  {
   "cell_type": "markdown",
   "metadata": {},
   "source": [
    "### Find separations in all pairs of sources\n",
    "\n",
    "The first thing we do is keep only the objects that appear in all visits so that we will have the highest confidence we are matching to the same sources in each filter."
   ]
  },
  {
   "cell_type": "code",
   "execution_count": null,
   "metadata": {},
   "outputs": [],
   "source": [
    "# Make pairs of all objects with detections in both filters\n",
    "# Faster to use numpy array than loop over pandas df\n",
    "# Currently keeps only the objects present in all visits\n",
    "unique, counts = np.unique(final_catalog['object'].values, return_counts=True)\n",
    "in_all = unique[np.where(counts == len(visit_filter_dict.keys()))[0]]\n",
    "num_unique_objects = len(in_all)\n",
    "print(\"Number of Objects present in all visits: %i\" % num_unique_objects)"
   ]
  },
  {
   "cell_type": "code",
   "execution_count": null,
   "metadata": {},
   "outputs": [],
   "source": [
    "keep_catalog = final_catalog[final_catalog['object'].isin(in_all)]"
   ]
  },
  {
   "cell_type": "markdown",
   "metadata": {},
   "source": [
    "If a r-band magnitude cut was set then this will trim the catalog appropriately."
   ]
  },
  {
   "cell_type": "code",
   "execution_count": null,
   "metadata": {},
   "outputs": [],
   "source": [
    "if faint_r_lim is not None:\n",
    "    bright_objects = np.unique(keep_catalog.query('filter == \"r\" and mag < %f' % faint_r_lim)['object'])\n",
    "    keep_catalog = keep_catalog[keep_catalog['object'].isin(bright_objects)]\n",
    "    num_unique_objects = len(bright_objects)\n",
    "    print(\"Number of Objects with r < %.2f present in all visits: %i\" % (faint_r_lim, num_unique_objects))"
   ]
  },
  {
   "cell_type": "code",
   "execution_count": null,
   "metadata": {},
   "outputs": [],
   "source": [
    "r_cat = keep_catalog.query('filter == \"r\"').reset_index(drop=True)\n",
    "test_cat = keep_catalog.query('filter == \"%s\"' % test_bandpass).reset_index(drop=True)"
   ]
  },
  {
   "cell_type": "markdown",
   "metadata": {},
   "source": [
    "The next thing to do is to compile a list of all possible pairs. It is recommended to set an r-band magnitude cut to keep this list a reasonable size or finding separations for *all* pairs in a visit may take a long time."
   ]
  },
  {
   "cell_type": "code",
   "execution_count": null,
   "metadata": {},
   "outputs": [],
   "source": [
    "pairs_list = list(combinations(np.arange(num_unique_objects), 2))"
   ]
  },
  {
   "cell_type": "markdown",
   "metadata": {},
   "source": [
    "Randomly choose a visit from each filter to compare. Could change this to pick based upon available properties."
   ]
  },
  {
   "cell_type": "code",
   "execution_count": null,
   "metadata": {},
   "outputs": [],
   "source": [
    "r_visit_df = visit_df.query('filter == \"%s\"' % 'r')\n",
    "test_visit_df = visit_df.query('filter == \"%s\"' % test_bandpass)"
   ]
  },
  {
   "cell_type": "code",
   "execution_count": null,
   "metadata": {},
   "outputs": [],
   "source": [
    "rand_state = np.random.RandomState(32)\n",
    "r_visit = rand_state.choice(r_visit_df['visit'].values)\n",
    "test_visit = rand_state.choice(test_visit_df['visit'].values)"
   ]
  },
  {
   "cell_type": "markdown",
   "metadata": {},
   "source": [
    "Finally we calculate the separations for all the object pairs in a single visit for each filter and then compare."
   ]
  },
  {
   "cell_type": "code",
   "execution_count": null,
   "metadata": {},
   "outputs": [],
   "source": [
    "def calc_separations(catalog, pairs_list, visit):\n",
    "    cat_seps = np.empty((len(pairs_list)))\n",
    "    print('Visit %i' % visit)\n",
    "    visit_cat = catalog.query('visit == %i' % visit)\n",
    "    coords = SkyCoord(visit_cat['coord_ra']*u.rad, visit_cat['coord_dec']*u.rad)\n",
    "    visit_seps = []\n",
    "    j = 0\n",
    "    for pair_1, pair_2 in pairs_list:\n",
    "        if pair_1 >= j:\n",
    "            print('Calculating Separations For Object %i out of %i' % (pair_1, num_unique_objects))\n",
    "            j += 50\n",
    "        visit_seps.append(coords[pair_1].separation(coords[pair_2]).arcsec)\n",
    "    cat_seps[:] = visit_seps\n",
    "        \n",
    "    return cat_seps"
   ]
  },
  {
   "cell_type": "code",
   "execution_count": null,
   "metadata": {},
   "outputs": [],
   "source": [
    "r_seps = calc_separations(r_cat, pairs_list, r_visit)"
   ]
  },
  {
   "cell_type": "code",
   "execution_count": null,
   "metadata": {},
   "outputs": [],
   "source": [
    "test_seps = calc_separations(test_cat, pairs_list, test_visit)"
   ]
  },
  {
   "cell_type": "code",
   "execution_count": null,
   "metadata": {},
   "outputs": [],
   "source": [
    "sep_differences = []\n",
    "for r_sep, test_sep in zip(r_seps, test_seps):\n",
    "    sep_differences.append(r_sep - test_sep)\n",
    "sep_differences = np.array(sep_differences)"
   ]
  },
  {
   "cell_type": "markdown",
   "metadata": {},
   "source": [
    "### Plot results against requirements\n",
    "\n",
    "1. RMS difference between separations measured in the r-band and those measured in any other filter is less than or equal to 10 milliarcsec."
   ]
  },
  {
   "cell_type": "code",
   "execution_count": null,
   "metadata": {},
   "outputs": [],
   "source": [
    "rms_diff = np.sqrt(np.mean(np.square(sep_differences)))"
   ]
  },
  {
   "cell_type": "code",
   "execution_count": null,
   "metadata": {},
   "outputs": [],
   "source": [
    "fig = plt.figure(figsize=(10, 8))\n",
    "plt.hist(np.abs(sep_differences), bins=20)\n",
    "plt.axvline(rms_diff, 0, 1, c='k', label='RMS difference to r-band separation = %.2f mas' % (rms_diff*1000.), lw=4)\n",
    "plt.axvline(0.010, 0, 1, c='r', label='Requirement = 10 milliarcsec', lw=4)\n",
    "plt.xlabel('Difference in Measured Separation to r-band Separation (arcsec)')\n",
    "plt.ylabel('Number of Pairs')\n",
    "plt.legend()"
   ]
  },
  {
   "cell_type": "markdown",
   "metadata": {},
   "source": [
    "2. Fraction of separations measured relative to the r-band that can exceed the color difference outlier limit (20 milliarcsec) is less than or equal to 10 percent."
   ]
  },
  {
   "cell_type": "code",
   "execution_count": null,
   "metadata": {},
   "outputs": [],
   "source": [
    "fig = plt.figure(figsize=(10, 8))\n",
    "n, bins, _ = plt.hist(np.abs(sep_differences), bins=np.arange(0., np.max(np.abs(sep_differences)), 0.01), cumulative=True, density=True)\n",
    "current_outlier_frac = n[np.where(bins < 0.02)[0][-1]]\n",
    "plt.axhline(current_outlier_frac, 0, 1, c='k', label='Outlier Percentage = %.2f%s' % ((1.-current_outlier_frac)*100, '%'), lw=4)\n",
    "plt.axhline(0.9, 0, 1, c='r', ls='--', label='90th percentile', lw=4)\n",
    "plt.axvline(0.020, 0, 1, c='r', label='Requirement: Outlier Fraction (> 20mas) <= 10%', lw=4)\n",
    "plt.xlabel('Difference in Measured Separation to r-band Separation (arcsec)')\n",
    "plt.ylabel('Cumulative Fraction of Pairs')\n",
    "plt.legend(loc=4)"
   ]
  },
  {
   "cell_type": "markdown",
   "metadata": {},
   "source": [
    "### Test against requirements\n",
    "\n",
    "If these fail with a new version of the stack our CI testing of notebooks will also fail and alert us."
   ]
  },
  {
   "cell_type": "code",
   "execution_count": null,
   "metadata": {},
   "outputs": [],
   "source": [
    "class RequirementFailure(ValueError):\n",
    "    \"Requirement not met.\""
   ]
  },
  {
   "cell_type": "code",
   "execution_count": null,
   "metadata": {},
   "outputs": [],
   "source": [
    "# Set up for potential error messages\n",
    "error_msg = \"\"\n",
    "error_present = False\n",
    "error_val = 0"
   ]
  },
  {
   "cell_type": "code",
   "execution_count": null,
   "metadata": {},
   "outputs": [],
   "source": [
    "# Test RMS of separation differences\n",
    "if rms_diff*1000. > 10.:\n",
    "    error_present = True\n",
    "    error_val += 1\n",
    "    error_msg += str('Error #%i: \\n' % error_val +\n",
    "                     'Failure RMS of differences in separations compared to r-band greater than 10 milliarcsec for bandpass: %s. ' % test_bandpass + \n",
    "                     'Test Value = %.2f mas. \\n' % (rms_diff*1000.))"
   ]
  },
  {
   "cell_type": "code",
   "execution_count": null,
   "metadata": {},
   "outputs": [],
   "source": [
    "# Test Outlier Fraction of separation differences\n",
    "if (1.-current_outlier_frac)*100 > 10.:\n",
    "    error_present = True\n",
    "    error_val += 1\n",
    "    error_msg += str('Error #%i: \\n' % error_val + \n",
    "                     'Separation Difference Outlier Fraction (pair separations > 20 mas ' +\n",
    "                     'different compared to r-band) is greater than 10%s for bandpass: %s. Test Value = %.2f%s \\n' % ('%', test_bandpass, \n",
    "                                                                                                                   (1.-current_outlier_frac)*100, '%'))"
   ]
  },
  {
   "cell_type": "code",
   "execution_count": null,
   "metadata": {},
   "outputs": [],
   "source": [
    "if error_present is True:\n",
    "    error_msg = str('%i Total Errors: \\n' % error_val + error_msg)\n",
    "    raise RequirementFailure(error_msg)"
   ]
  },
  {
   "cell_type": "code",
   "execution_count": null,
   "metadata": {},
   "outputs": [],
   "source": []
  }
 ],
 "metadata": {
  "kernelspec": {
   "display_name": "LSST",
   "language": "python",
   "name": "lsst"
  },
  "language_info": {
   "codemirror_mode": {
    "name": "ipython",
    "version": 3
   },
   "file_extension": ".py",
   "mimetype": "text/x-python",
   "name": "python",
   "nbconvert_exporter": "python",
   "pygments_lexer": "ipython3",
   "version": "3.7.2"
  }
 },
 "nbformat": 4,
 "nbformat_minor": 2
}
