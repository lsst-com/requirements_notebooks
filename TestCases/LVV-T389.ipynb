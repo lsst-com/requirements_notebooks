{
 "cells": [
  {
   "cell_type": "markdown",
   "metadata": {},
   "source": [
    "Some comments"
   ]
  },
  {
   "cell_type": "code",
   "execution_count": 1,
   "metadata": {},
   "outputs": [],
   "source": [
    "%matplotlib inline\n",
    "import matplotlib.pyplot as plt"
   ]
  },
  {
   "cell_type": "code",
   "execution_count": 2,
   "metadata": {},
   "outputs": [],
   "source": [
    "import os\n",
    "import copy\n",
    "import numpy as np\n",
    "repo_dir = '/datasets/hsc/repo/rerun/DM-13666/WIDE'\n",
    "assert os.path.isdir(repo_dir)\n",
    "\n",
    "import lsst.daf.persistence as daf_persistence\n",
    "butler = daf_persistence.Butler(repo_dir)"
   ]
  },
  {
   "cell_type": "code",
   "execution_count": 3,
   "metadata": {},
   "outputs": [],
   "source": [
    "coadd_skymap = butler.get('deepCoadd_skyMap')"
   ]
  },
  {
   "cell_type": "code",
   "execution_count": 4,
   "metadata": {},
   "outputs": [],
   "source": [
    "#dir(coadd_skymap)"
   ]
  },
  {
   "cell_type": "code",
   "execution_count": 5,
   "metadata": {},
   "outputs": [],
   "source": [
    "#help(coadd_skymap.findTractPatchList)"
   ]
  },
  {
   "cell_type": "code",
   "execution_count": 6,
   "metadata": {},
   "outputs": [],
   "source": [
    "import h5py\n",
    "spatial_lookup_filename = '/project/danielsf/valid_hsc_visit_extent.h5'\n",
    "assert os.path.isfile(spatial_lookup_filename)\n",
    "spatial_lookup = h5py.File(spatial_lookup_filename, 'r')"
   ]
  },
  {
   "cell_type": "code",
   "execution_count": 7,
   "metadata": {},
   "outputs": [],
   "source": [
    "visit_num = spatial_lookup['visit'][11625]"
   ]
  },
  {
   "cell_type": "code",
   "execution_count": 8,
   "metadata": {},
   "outputs": [],
   "source": [
    "all_visit = np.where(spatial_lookup['visit'][()]==visit_num)"
   ]
  },
  {
   "cell_type": "code",
   "execution_count": 9,
   "metadata": {},
   "outputs": [],
   "source": [
    "ra_min = spatial_lookup['ra_min'][()][all_visit].min()\n",
    "ra_max = spatial_lookup['ra_max'][()][all_visit].max()\n",
    "dec_min = spatial_lookup['dec_min'][()][all_visit].min()\n",
    "dec_max = spatial_lookup['dec_max'][()][all_visit].max()"
   ]
  },
  {
   "cell_type": "code",
   "execution_count": 10,
   "metadata": {},
   "outputs": [],
   "source": [
    "all_coverage = np.where(np.logical_and(spatial_lookup['ra_center'][()]>ra_min,\n",
    "                        np.logical_and(spatial_lookup['ra_center'][()]<ra_max,\n",
    "                        np.logical_and(spatial_lookup['dec_center'][()]>dec_min,\n",
    "                                       spatial_lookup['dec_center'][()]<dec_max))))"
   ]
  },
  {
   "cell_type": "code",
   "execution_count": 11,
   "metadata": {},
   "outputs": [
    {
     "data": {
      "text/plain": [
       "array([b'HSC-G', b'HSC-I', b'HSC-R', b'HSC-Y', b'HSC-Z'], dtype='|S5')"
      ]
     },
     "execution_count": 11,
     "metadata": {},
     "output_type": "execute_result"
    }
   ],
   "source": [
    "np.unique(spatial_lookup['filter'][()][all_coverage])"
   ]
  },
  {
   "cell_type": "code",
   "execution_count": 12,
   "metadata": {},
   "outputs": [],
   "source": [
    "import lsst.geom as lsst_geom"
   ]
  },
  {
   "cell_type": "code",
   "execution_count": 13,
   "metadata": {},
   "outputs": [],
   "source": [
    "pt_list = []\n",
    "for ra in np.arange(ra_min, ra_max, 0.005):\n",
    "    for dec in np.arange(dec_min, dec_max, 0.005):\n",
    "        pt_list.append(lsst_geom.SpherePoint(ra, dec, lsst_geom.radians))"
   ]
  },
  {
   "cell_type": "code",
   "execution_count": 14,
   "metadata": {},
   "outputs": [],
   "source": [
    "tract_patch_list = coadd_skymap.findTractPatchList(pt_list)"
   ]
  },
  {
   "cell_type": "code",
   "execution_count": 15,
   "metadata": {},
   "outputs": [
    {
     "data": {
      "text/plain": [
       "lsst.skymap.patchInfo.PatchInfo"
      ]
     },
     "execution_count": 15,
     "metadata": {},
     "output_type": "execute_result"
    }
   ],
   "source": [
    "type(tract_patch_list[0][1][0])"
   ]
  },
  {
   "cell_type": "code",
   "execution_count": 16,
   "metadata": {},
   "outputs": [],
   "source": [
    "blank_data_id = {'tract':tract_patch_list[0][0].getId(),\n",
    "           'patch': str(tract_patch_list[0][1][0].getIndex()).replace('(','').replace(')','').replace(' ','')}"
   ]
  },
  {
   "cell_type": "code",
   "execution_count": 17,
   "metadata": {},
   "outputs": [
    {
     "data": {
      "text/plain": [
       "{'filter': str, 'tract': int, 'patch': str}"
      ]
     },
     "execution_count": 17,
     "metadata": {},
     "output_type": "execute_result"
    }
   ],
   "source": [
    "butler.getKeys(datasetType='deepCoadd')"
   ]
  },
  {
   "cell_type": "code",
   "execution_count": 238,
   "metadata": {},
   "outputs": [
    {
     "name": "stderr",
     "output_type": "stream",
     "text": [
      "/opt/lsst/software/stack/python/miniconda3-4.5.12/envs/lsst-scipipe-1172c30/lib/python3.7/site-packages/ipykernel/__main__.py:61: RuntimeWarning: invalid value encountered in less\n",
      "/opt/lsst/software/stack/python/miniconda3-4.5.12/envs/lsst-scipipe-1172c30/lib/python3.7/site-packages/ipykernel/__main__.py:62: RuntimeWarning: invalid value encountered in less\n",
      "/opt/lsst/software/stack/python/miniconda3-4.5.12/envs/lsst-scipipe-1172c30/lib/python3.7/site-packages/ipykernel/__main__.py:63: RuntimeWarning: invalid value encountered in less\n"
     ]
    }
   ],
   "source": [
    "coadd_unq_id = []\n",
    "coadd_g_mags = []\n",
    "coadd_r_mags = []\n",
    "coadd_i_mags = []\n",
    "\n",
    "coadd_g_model = []\n",
    "coadd_r_model = []\n",
    "coadd_i_model = []\n",
    "\n",
    "coadd_ra = []\n",
    "coadd_dec = []\n",
    "\n",
    "tract_id = tract_patch_list[0][0].getId()\n",
    "for patch_obj in tract_patch_list[0][1][:50]:\n",
    "    patch_id = str(patch_obj.getIndex()).replace('(','').replace(')','').replace(' ','')\n",
    "    blank_data_id = {'tract': tract_id, 'patch':patch_id}\n",
    "\n",
    "    data_id_g = copy.deepcopy(blank_data_id)\n",
    "    data_id_g['filter'] = 'HSC-G'\n",
    "    data_id_r = copy.deepcopy(blank_data_id)\n",
    "    data_id_r['filter'] = 'HSC-R'\n",
    "    data_id_i = copy.deepcopy(blank_data_id)\n",
    "    data_id_i['filter'] = 'HSC-I'\n",
    "\n",
    "    data_g = butler.get('deepCoadd_forced_src', dataId=data_id_g)#.asAstropy()\n",
    "    data_r = butler.get('deepCoadd_forced_src', dataId=data_id_r)#.asAstropy()\n",
    "    data_i = butler.get('deepCoadd_forced_src', dataId=data_id_i)#.asAstropy()\n",
    "\n",
    "    extended_0 = np.logical_and(data_g['base_ClassificationExtendedness_value']==0,\n",
    "                 np.logical_and(data_i['base_ClassificationExtendedness_value']==0,\n",
    "                                data_r['base_ClassificationExtendedness_value']==0))\n",
    "\n",
    "    well_measured = np.logical_and(data_g['base_PsfFlux_flag']==0,\n",
    "                    np.logical_and(data_r['base_PsfFlux_flag']==0,\n",
    "                                   data_i['base_PsfFlux_flag']==0))\n",
    "    \n",
    "    #print(len(stars[0]))\n",
    "    \n",
    "    np.testing.assert_array_equal(data_g['id'], data_r['id'])\n",
    "    np.testing.assert_array_equal(data_g['id'], data_i['id'])\n",
    "    np.testing.assert_array_equal(data_g['coord_ra'], data_r['coord_ra'])\n",
    "    np.testing.assert_array_equal(data_g['coord_ra'], data_i['coord_ra'])\n",
    "    np.testing.assert_array_equal(data_g['coord_dec'], data_r['coord_dec'])\n",
    "    np.testing.assert_array_equal(data_g['coord_dec'], data_r['coord_dec'])\n",
    "\n",
    "    calib_g = butler.get('deepCoadd_calexp_photoCalib', dataId=data_id_g)\n",
    "    calib_r = butler.get('deepCoadd_calexp_photoCalib', dataId=data_id_r)\n",
    "    calib_i = butler.get('deepCoadd_calexp_photoCalib', dataId=data_id_i)\n",
    "    \n",
    "\n",
    "    g_mag = calib_g.instFluxToMagnitude(data_g, 'base_PsfFlux')\n",
    "    g_model = calib_g.instFluxToMagnitude(data_g, 'modelfit_CModel')\n",
    "    r_mag = calib_r.instFluxToMagnitude(data_r, 'base_PsfFlux')\n",
    "    r_model = calib_r.instFluxToMagnitude(data_r, 'modelfit_CModel')\n",
    "    i_mag = calib_i.instFluxToMagnitude(data_i, 'base_PsfFlux')\n",
    "    i_model = calib_i.instFluxToMagnitude(data_i, 'modelfit_CModel')\n",
    "\n",
    "    #bright_enough = np.logical_and(g_mag[:,0]<25.0,\n",
    "    #                np.logical_and(r_mag[:,0]<25.0, i_mag[:,0]<25.0))\n",
    "    \n",
    "    bright_enough = np.logical_and(np.abs(g_mag[:,0]-g_model[:,0])<0.03,\n",
    "                    np.logical_and(np.abs(r_mag[:,0]-r_model[:,0])<0.03,\n",
    "                                   np.abs(i_mag[:,0]-i_model[:,0])<0.03))\n",
    "    \n",
    "    is_finite = np.logical_and(np.isfinite(g_mag[:,0]),\n",
    "                np.logical_and(np.isfinite(r_mag[:,0]), np.isfinite(i_mag[:,0])))\n",
    "    \n",
    "    stars  = extended_0 & well_measured & bright_enough & is_finite\n",
    "    \n",
    "    coadd_g_mags.append(g_mag[:,0][stars])\n",
    "    coadd_g_model.append(g_model[:,0][stars])\n",
    "    coadd_r_mags.append(r_mag[:,0][stars])\n",
    "    coadd_r_model.append(r_model[:,0][stars])\n",
    "    coadd_i_mags.append(i_mag[:,0][stars])\n",
    "    coadd_i_model.append(i_model[:,0][stars])\n",
    "    \n",
    "    coadd_ra.append(data_g['coord_ra'][stars])\n",
    "    coadd_dec.append(data_g['coord_dec'][stars])\n",
    "    coadd_unq_id.append(data_g['id'][stars])\n",
    "\n",
    "    \n",
    "    #coadd_g_mags.append(calib_g.instFluxToMagnitude(data_g['base_PsfFlux_instFlux']))\n",
    "    #coadd_r_mags.append(calib_r.instFluxToMagnitude(data_r['base_PsfFlux_instFlux']))\n",
    "    #coadd_i_mags.append(calib_i.instFluxToMagnitude(data_i['base_PsfFlux_instFlux']))\n",
    "\n",
    "    \n",
    "coadd_unq_id = np.concatenate(coadd_unq_id)\n",
    "coadd_ra = np.concatenate(coadd_ra)\n",
    "coadd_dec = np.concatenate(coadd_dec)\n",
    "coadd_g_mags = np.concatenate(coadd_g_mags)\n",
    "coadd_r_mags = np.concatenate(coadd_r_mags)\n",
    "coadd_i_mags = np.concatenate(coadd_i_mags)\n",
    "coadd_g_model = np.concatenate(coadd_g_model)\n",
    "coadd_r_model = np.concatenate(coadd_r_model)\n",
    "coadd_i_model = np.concatenate(coadd_i_model)"
   ]
  },
  {
   "cell_type": "code",
   "execution_count": null,
   "metadata": {},
   "outputs": [],
   "source": []
  },
  {
   "cell_type": "code",
   "execution_count": 240,
   "metadata": {},
   "outputs": [
    {
     "data": {
      "image/png": "[encoded data removed]",
      "text/plain": [
       "<Figure size 720x720 with 1 Axes>"
      ]
     },
     "metadata": {
      "needs_background": "light"
     },
     "output_type": "display_data"
    },
    {
     "name": "stdout",
     "output_type": "stream",
     "text": [
      "18.73717223079709\n"
     ]
    }
   ],
   "source": [
    "plt.figure(figsize=(10,10))\n",
    "plt.scatter(coadd_g_mags, coadd_g_mags-coadd_g_model)\n",
    "plt.xlabel('g(PSF)')\n",
    "plt.ylabel('g(PSF)-g(cModel)')\n",
    "plt.ylim(-0.1,0.1)\n",
    "plt.show()\n",
    "print(coadd_g_mags.min())"
   ]
  },
  {
   "cell_type": "code",
   "execution_count": 241,
   "metadata": {},
   "outputs": [
    {
     "name": "stdout",
     "output_type": "stream",
     "text": [
      "15234\n"
     ]
    },
    {
     "data": {
      "image/png": "[encoded data removed]",
      "text/plain": [
       "<Figure size 720x720 with 1 Axes>"
      ]
     },
     "metadata": {
      "needs_background": "light"
     },
     "output_type": "display_data"
    }
   ],
   "source": [
    "plt.figure(figsize=(10,10))\n",
    "#plt.scatter(coadd_g_mags-coadd_r_mags, coadd_r_mags-coadd_i_mags,s=0.5)\n",
    "valid_meas = np.logical_and(np.isfinite(coadd_g_mags),\n",
    "                 np.logical_and(np.isfinite(coadd_r_mags), np.isfinite(coadd_i_mags)))\n",
    "\n",
    "bright_enough = np.logical_and(coadd_g_mags<25.0,\n",
    "                np.logical_and(coadd_r_mags<25.0, coadd_i_mags<25.0))\n",
    "\n",
    "valid = np.where(np.logical_and(valid_meas, bright_enough))\n",
    "print(len(valid[0]))\n",
    "plt.scatter(coadd_g_mags[valid]-coadd_r_mags[valid],\n",
    "            coadd_r_mags[valid]-coadd_i_mags[valid],s=0.5)\n",
    "\n",
    "#plt.hist2d(coadd_g_mags[valid]-coadd_r_mags[valid],\n",
    "#           coadd_r_mags[valid]-coadd_i_mags[valid], bins=(200,200), cmap=plt.cm.jet)\n",
    "plt.xlabel('g-r')\n",
    "plt.ylabel('r-i')\n",
    "#plt.ylim(20,35)\n",
    "#plt.xlim(-5,5)\n",
    "plt.show()"
   ]
  },
  {
   "cell_type": "code",
   "execution_count": 44,
   "metadata": {},
   "outputs": [],
   "source": [
    "import scipy.spatial as scipy_spatial\n",
    "coadd_ra_normalized = coadd_ra/np.cos(coadd_dec)\n",
    "coadd_spatial_data = np.array([coadd_ra_normalized, coadd_dec]).transpose()\n",
    "coadd_spatial_tree = scipy_spatial.cKDTree(coadd_spatial_data, leafsize=16)"
   ]
  },
  {
   "cell_type": "code",
   "execution_count": 136,
   "metadata": {},
   "outputs": [],
   "source": [
    "dex = all_coverage[0][0]\n",
    "data_id_single = {'visit': int(spatial_lookup['visit'][()][dex]),\n",
    "                  'ccd': int(spatial_lookup['ccd'][()][dex]),\n",
    "                  'filter': spatial_lookup['filter'][()][dex].decode()}\n",
    "data_single = butler.get('src', dataId=data_id_single)"
   ]
  },
  {
   "cell_type": "code",
   "execution_count": 140,
   "metadata": {},
   "outputs": [],
   "source": [
    "normalized_ra = data_single['coord_ra']/np.cos(data_single['coord_dec'])\n",
    "spatial_data = np.array([normalized_ra, data_single['coord_dec']]).transpose()"
   ]
  },
  {
   "cell_type": "code",
   "execution_count": 142,
   "metadata": {},
   "outputs": [],
   "source": [
    "fit_dist, fit_dex = coadd_spatial_tree.query(spatial_data)"
   ]
  },
  {
   "cell_type": "code",
   "execution_count": 163,
   "metadata": {},
   "outputs": [],
   "source": [
    "within_arcsec = np.where(np.logical_and(fit_dist<np.radians(1.0/3600.0),\n",
    "                                        data_single['base_ClassificationExtendedness_value']==0))"
   ]
  },
  {
   "cell_type": "code",
   "execution_count": 164,
   "metadata": {},
   "outputs": [],
   "source": [
    "id_within_arcsec = data_single['id'][within_arcsec]"
   ]
  },
  {
   "cell_type": "code",
   "execution_count": 165,
   "metadata": {},
   "outputs": [
    {
     "name": "stdout",
     "output_type": "stream",
     "text": [
      "41565959051280431 41566096490268933\n",
      "5404950054044057 5404950054044576\n"
     ]
    }
   ],
   "source": [
    "print(coadd_unq_id.min(),coadd_unq_id.max())\n",
    "print(id_within_arcsec.min(),id_within_arcsec.max())"
   ]
  },
  {
   "cell_type": "code",
   "execution_count": 166,
   "metadata": {},
   "outputs": [
    {
     "data": {
      "text/plain": [
       "array([0., 0., 0., 0., 0., 0., 0., 0., 0., 0., 0., 0., 0., 0., 0., 0., 0.,\n",
       "       0., 0., 0., 0., 0., 0., 0., 0., 0., 0., 0., 0., 0., 0., 0., 0., 0.,\n",
       "       0., 0., 0., 0., 0., 0., 0., 0., 0., 0., 0., 0., 0.])"
      ]
     },
     "execution_count": 166,
     "metadata": {},
     "output_type": "execute_result"
    }
   ],
   "source": [
    "data_single['base_ClassificationExtendedness_value'][within_arcsec]"
   ]
  },
  {
   "cell_type": "code",
   "execution_count": 167,
   "metadata": {},
   "outputs": [
    {
     "name": "stdout",
     "output_type": "stream",
     "text": [
      "47\n",
      "42\n"
     ]
    }
   ],
   "source": [
    "fit_dex_within = fit_dex[within_arcsec]\n",
    "print(len(fit_dex_within))\n",
    "print(len(np.unique(fit_dex_within)))"
   ]
  },
  {
   "cell_type": "code",
   "execution_count": 117,
   "metadata": {},
   "outputs": [],
   "source": [
    "data_g = butler.get('deepCoadd_forced_src', dataId=data_id_g).asAstropy()\n",
    "data_r = butler.get('deepCoadd_forced_src', dataId=data_id_r).asAstropy()\n",
    "data_i = butler.get('deepCoadd_forced_src', dataId=data_id_i).asAstropy()"
   ]
  },
  {
   "cell_type": "code",
   "execution_count": 106,
   "metadata": {},
   "outputs": [
    {
     "name": "stdout",
     "output_type": "stream",
     "text": [
      "base_ClassificationExtendedness_value\n",
      "base_ClassificationExtendedness_flag\n"
     ]
    }
   ],
   "source": [
    "for name in data.colnames:\n",
    "    if 'endedness' in name:\n",
    "        print(name)"
   ]
  },
  {
   "cell_type": "code",
   "execution_count": 87,
   "metadata": {},
   "outputs": [
    {
     "name": "stdout",
     "output_type": "stream",
     "text": [
      "data_id:  {'visit': 6292, 'ccd': 38, 'filter': 'HSC-G'}\n",
      "data_id_single:  {'visit': 6292, 'ccd': 38, 'filter': 'HSC-G'}\n",
      "ccd True\n",
      "visit True\n",
      "filter True\n",
      "data_id==data_id_single:  True\n",
      "data_id exists:  True\n",
      "data_id_single exists:  False\n",
      "<class 'str'>\n",
      "<class 'str'>\n"
     ]
    }
   ],
   "source": [
    "data_id = {}\n",
    "data_id['visit']=6292\n",
    "data_id['ccd']=38\n",
    "data_id['filter']='HSC-G'\n",
    "data_id_single['ccd'] = 38\n",
    "\n",
    "print('data_id: ',data_id)\n",
    "print('data_id_single: ',data_id_single)\n",
    "\n",
    "print('ccd',data_id['ccd']==data_id_single['ccd'])\n",
    "print('visit',data_id['visit']==data_id_single['visit'])\n",
    "print('filter',data_id['filter']==data_id_single['filter'])\n",
    "print('data_id==data_id_single: ',data_id==data_id_single)\n",
    "\n",
    "print('data_id exists: ',butler.datasetExists('src', dataId=data_id))\n",
    "print('data_id_single exists: ',butler.datasetExists('src', dataId=data_id_single))\n",
    "\n",
    "print(type(data_id['filter']))\n",
    "print(type(data_id_single['filter']))"
   ]
  },
  {
   "cell_type": "code",
   "execution_count": 130,
   "metadata": {},
   "outputs": [
    {
     "name": "stdout",
     "output_type": "stream",
     "text": [
      "True\n",
      "\n",
      "True\n",
      "\n",
      "b'HSC-G' <class 'numpy.bytes_'>\n",
      "{'ccd': 38, 'visit': 6292, 'filter': 'HSC-G'}\n",
      "True\n",
      "True\n",
      "True\n",
      "does it exist  True\n"
     ]
    },
    {
     "data": {
      "text/plain": [
       "int"
      ]
     },
     "execution_count": 130,
     "metadata": {},
     "output_type": "execute_result"
    }
   ],
   "source": [
    "data_id = {}\n",
    "data_id['ccd'] = 38\n",
    "data_id['visit'] = 6292\n",
    "data_id['filter'] = 'HSC-G'\n",
    "print(butler.datasetExists('src', dataId=data_id))\n",
    "print()\n",
    "\n",
    "data_id_b = {}\n",
    "data_id_b['ccd'] = 38\n",
    "data_id_b['visit'] = 6292\n",
    "data_id_b['filter'] = np.bytes_('HSC-G').decode()\n",
    "print(butler.datasetExists('src', dataId=data_id_b))\n",
    "print()\n",
    "filter_id = spatial_lookup['filter'][()][dex]\n",
    "print(filter_id,type(filter_id))\n",
    "data_id_b['filter'] = filter_id.decode()\n",
    "print(data_id_b)\n",
    "print(butler.datasetExists('src', dataId=data_id_b))\n",
    "\n",
    "print(data_id_b==data_id_single)\n",
    "print(butler.datasetExists('src', dataId=data_id_single))\n",
    "data_id_single['filter'] = 'HSC-G'\n",
    "data_id_single['visit'] = 6292\n",
    "#data_id_single.pop('visist')\n",
    "print('does it exist ',butler.datasetExists('src', dataId=data_id_single))\n",
    "type(data_id_single['visit'])"
   ]
  },
  {
   "cell_type": "code",
   "execution_count": 128,
   "metadata": {},
   "outputs": [
    {
     "data": {
      "text/plain": [
       "{'visit': 6292, 'ccd': 38, 'filter': 'HSC-G'}"
      ]
     },
     "execution_count": 128,
     "metadata": {},
     "output_type": "execute_result"
    }
   ],
   "source": [
    "data_id_single"
   ]
  },
  {
   "cell_type": "code",
   "execution_count": 110,
   "metadata": {},
   "outputs": [
    {
     "data": {
      "text/plain": [
       "'abcd'"
      ]
     },
     "execution_count": 110,
     "metadata": {},
     "output_type": "execute_result"
    }
   ],
   "source": [
    "np.bytes_('abcd').decode()"
   ]
  },
  {
   "cell_type": "code",
   "execution_count": 193,
   "metadata": {},
   "outputs": [
    {
     "data": {
      "text/plain": [
       "Schema(\n",
       "    (Field['L'](name=\"id\", doc=\"unique ID\"), Key<L>(offset=0, nElements=1)),\n",
       "    (Field['Angle'](name=\"coord_ra\", doc=\"position in ra/dec\"), Key<Angle>(offset=8, nElements=1)),\n",
       "    (Field['Angle'](name=\"coord_dec\", doc=\"position in ra/dec\"), Key<Angle>(offset=16, nElements=1)),\n",
       "    (Field['L'](name=\"parent\", doc=\"unique ID of parent source\"), Key<L>(offset=24, nElements=1)),\n",
       "    (Field['I'](name=\"deblend_nChild\", doc=\"Number of children this object has (defaults to 0)\"), Key<I>(offset=32, nElements=1)),\n",
       "    (Field['D'](name=\"base_SdssCentroid_x\", doc=\"centroid from Sdss Centroid algorithm\", units=\"pixel\"), Key<D>(offset=40, nElements=1)),\n",
       "    (Field['D'](name=\"base_SdssCentroid_y\", doc=\"centroid from Sdss Centroid algorithm\", units=\"pixel\"), Key<D>(offset=48, nElements=1)),\n",
       "    (Field['F'](name=\"base_SdssCentroid_xSigma\", doc=\"1-sigma uncertainty on x position\", units=\"pixel\"), Key<F>(offset=56, nElements=1)),\n",
       "    (Field['F'](name=\"base_SdssCentroid_ySigma\", doc=\"1-sigma uncertainty on y position\", units=\"pixel\"), Key<F>(offset=60, nElements=1)),\n",
       "    (Field['Flag'](name=\"base_SdssCentroid_flag\", doc=\"General Failure Flag\"), Key['Flag'](offset=64, bit=0)),\n",
       "    (Field['Flag'](name=\"base_SdssCentroid_flag_edge\", doc=\"Object too close to edge\"), Key['Flag'](offset=64, bit=1)),\n",
       "    (Field['Flag'](name=\"base_SdssCentroid_flag_noSecondDerivative\", doc=\"Vanishing second derivative\"), Key['Flag'](offset=64, bit=2)),\n",
       "    (Field['Flag'](name=\"base_SdssCentroid_flag_almostNoSecondDerivative\", doc=\"Almost vanishing second derivative\"), Key['Flag'](offset=64, bit=3)),\n",
       "    (Field['Flag'](name=\"base_SdssCentroid_flag_notAtMaximum\", doc=\"Object is not at a maximum\"), Key['Flag'](offset=64, bit=4)),\n",
       "    (Field['Flag'](name=\"base_SdssCentroid_flag_resetToPeak\", doc=\"set if CentroidChecker reset the centroid\"), Key['Flag'](offset=64, bit=5)),\n",
       "    (Field['D'](name=\"base_TransformedCentroid_x\", doc=\"transformed reference centroid column\", units=\"pixel\"), Key<D>(offset=72, nElements=1)),\n",
       "    (Field['D'](name=\"base_TransformedCentroid_y\", doc=\"transformed reference centroid row\", units=\"pixel\"), Key<D>(offset=80, nElements=1)),\n",
       "    (Field['Flag'](name=\"base_TransformedCentroid_flag\", doc=\"whether the reference centroid is marked as bad\"), Key['Flag'](offset=64, bit=6)),\n",
       "    (Field['Flag'](name=\"base_InputCount_flag\", doc=\"Set for any fatal failure\"), Key['Flag'](offset=64, bit=7)),\n",
       "    (Field['I'](name=\"base_InputCount_value\", doc=\"Number of images contributing at center, not including anyclipping\"), Key<I>(offset=88, nElements=1)),\n",
       "    (Field['Flag'](name=\"base_InputCount_flag_noInputs\", doc=\"No coadd inputs available\"), Key['Flag'](offset=64, bit=8)),\n",
       "    (Field['D'](name=\"base_SdssShape_xx\", doc=\"elliptical Gaussian adaptive moments\", units=\"pixel^2\"), Key<D>(offset=96, nElements=1)),\n",
       "    (Field['D'](name=\"base_SdssShape_yy\", doc=\"elliptical Gaussian adaptive moments\", units=\"pixel^2\"), Key<D>(offset=104, nElements=1)),\n",
       "    (Field['D'](name=\"base_SdssShape_xy\", doc=\"elliptical Gaussian adaptive moments\", units=\"pixel^2\"), Key<D>(offset=112, nElements=1)),\n",
       "    (Field['F'](name=\"base_SdssShape_xxSigma\", doc=\"1-sigma uncertainty on xx moment\", units=\"pixel^2\"), Key<F>(offset=120, nElements=1)),\n",
       "    (Field['F'](name=\"base_SdssShape_yySigma\", doc=\"1-sigma uncertainty on yy moment\", units=\"pixel^2\"), Key<F>(offset=124, nElements=1)),\n",
       "    (Field['F'](name=\"base_SdssShape_xySigma\", doc=\"1-sigma uncertainty on xy moment\", units=\"pixel^2\"), Key<F>(offset=128, nElements=1)),\n",
       "    (Field['D'](name=\"base_SdssShape_x\", doc=\"elliptical Gaussian adaptive moments\", units=\"pixel\"), Key<D>(offset=136, nElements=1)),\n",
       "    (Field['D'](name=\"base_SdssShape_y\", doc=\"elliptical Gaussian adaptive moments\", units=\"pixel\"), Key<D>(offset=144, nElements=1)),\n",
       "    (Field['D'](name=\"base_SdssShape_flux\", doc=\"elliptical Gaussian adaptive moments\", units=\"count\"), Key<D>(offset=152, nElements=1)),\n",
       "    (Field['D'](name=\"base_SdssShape_fluxSigma\", doc=\"1-sigma flux uncertainty\", units=\"count\"), Key<D>(offset=160, nElements=1)),\n",
       "    (Field['D'](name=\"base_SdssShape_psf_xx\", doc=\"adaptive moments of the PSF model at the object position\", units=\"pixel^2\"), Key<D>(offset=168, nElements=1)),\n",
       "    (Field['D'](name=\"base_SdssShape_psf_yy\", doc=\"adaptive moments of the PSF model at the object position\", units=\"pixel^2\"), Key<D>(offset=176, nElements=1)),\n",
       "    (Field['D'](name=\"base_SdssShape_psf_xy\", doc=\"adaptive moments of the PSF model at the object position\", units=\"pixel^2\"), Key<D>(offset=184, nElements=1)),\n",
       "    (Field['F'](name=\"base_SdssShape_flux_xx_Cov\", doc=\"uncertainty covariance between base_SdssShape_flux and base_SdssShape_xx\", units=\"count*pixel^2\"), Key<F>(offset=192, nElements=1)),\n",
       "    (Field['F'](name=\"base_SdssShape_flux_yy_Cov\", doc=\"uncertainty covariance between base_SdssShape_flux and base_SdssShape_yy\", units=\"count*pixel^2\"), Key<F>(offset=196, nElements=1)),\n",
       "    (Field['F'](name=\"base_SdssShape_flux_xy_Cov\", doc=\"uncertainty covariance between base_SdssShape_flux and base_SdssShape_xy\", units=\"count*pixel^2\"), Key<F>(offset=200, nElements=1)),\n",
       "    (Field['Flag'](name=\"base_SdssShape_flag\", doc=\"General Failure Flag\"), Key['Flag'](offset=64, bit=9)),\n",
       "    (Field['Flag'](name=\"base_SdssShape_flag_unweightedBad\", doc=\"Both weighted and unweighted moments were invalid\"), Key['Flag'](offset=64, bit=10)),\n",
       "    (Field['Flag'](name=\"base_SdssShape_flag_unweighted\", doc=\"Weighted moments converged to an invalid value; using unweighted moments\"), Key['Flag'](offset=64, bit=11)),\n",
       "    (Field['Flag'](name=\"base_SdssShape_flag_shift\", doc=\"centroid shifted by more than the maximum allowed amount\"), Key['Flag'](offset=64, bit=12)),\n",
       "    (Field['Flag'](name=\"base_SdssShape_flag_maxIter\", doc=\"Too many iterations in adaptive moments\"), Key['Flag'](offset=64, bit=13)),\n",
       "    (Field['Flag'](name=\"base_SdssShape_flag_psf\", doc=\"Failure in measuring PSF model shape\"), Key['Flag'](offset=64, bit=14)),\n",
       "    (Field['D'](name=\"base_TransformedShape_xx\", doc=\"transformed reference shape x^2 moment\", units=\"pixel^2\"), Key<D>(offset=208, nElements=1)),\n",
       "    (Field['D'](name=\"base_TransformedShape_yy\", doc=\"transformed reference shape y^2 moment\", units=\"pixel^2\"), Key<D>(offset=216, nElements=1)),\n",
       "    (Field['D'](name=\"base_TransformedShape_xy\", doc=\"transformed reference shape xy moment\", units=\"pixel^2\"), Key<D>(offset=224, nElements=1)),\n",
       "    (Field['Flag'](name=\"base_TransformedShape_flag\", doc=\"whether the reference shape is marked as bad\"), Key['Flag'](offset=64, bit=15)),\n",
       "    (Field['D'](name=\"modelfit_DoubleShapeletPsfApprox_0_xx\", doc=\"Double-Shapelet approximation to the PSF model at the position of this source\", units=\"pixel^2\"), Key<D>(offset=232, nElements=1)),\n",
       "    (Field['D'](name=\"modelfit_DoubleShapeletPsfApprox_0_yy\", doc=\"Double-Shapelet approximation to the PSF model at the position of this source\", units=\"pixel^2\"), Key<D>(offset=240, nElements=1)),\n",
       "    (Field['D'](name=\"modelfit_DoubleShapeletPsfApprox_0_xy\", doc=\"Double-Shapelet approximation to the PSF model at the position of this source\", units=\"pixel^2\"), Key<D>(offset=248, nElements=1)),\n",
       "    (Field['D'](name=\"modelfit_DoubleShapeletPsfApprox_0_x\", doc=\"Double-Shapelet approximation to the PSF model at the position of this source\", units=\"pixel\"), Key<D>(offset=256, nElements=1)),\n",
       "    (Field['D'](name=\"modelfit_DoubleShapeletPsfApprox_0_y\", doc=\"Double-Shapelet approximation to the PSF model at the position of this source\", units=\"pixel\"), Key<D>(offset=264, nElements=1)),\n",
       "    (Field['D'](name=\"modelfit_DoubleShapeletPsfApprox_0_0\", doc=\"Double-Shapelet approximation to the PSF model at the position of this source\"), Key<D>(offset=272, nElements=1)),\n",
       "    (Field['D'](name=\"modelfit_DoubleShapeletPsfApprox_0_1\", doc=\"Double-Shapelet approximation to the PSF model at the position of this source\"), Key<D>(offset=280, nElements=1)),\n",
       "    (Field['D'](name=\"modelfit_DoubleShapeletPsfApprox_0_2\", doc=\"Double-Shapelet approximation to the PSF model at the position of this source\"), Key<D>(offset=288, nElements=1)),\n",
       "    (Field['D'](name=\"modelfit_DoubleShapeletPsfApprox_0_3\", doc=\"Double-Shapelet approximation to the PSF model at the position of this source\"), Key<D>(offset=296, nElements=1)),\n",
       "    (Field['D'](name=\"modelfit_DoubleShapeletPsfApprox_0_4\", doc=\"Double-Shapelet approximation to the PSF model at the position of this source\"), Key<D>(offset=304, nElements=1)),\n",
       "    (Field['D'](name=\"modelfit_DoubleShapeletPsfApprox_0_5\", doc=\"Double-Shapelet approximation to the PSF model at the position of this source\"), Key<D>(offset=312, nElements=1)),\n",
       "    (Field['D'](name=\"modelfit_DoubleShapeletPsfApprox_1_xx\", doc=\"Double-Shapelet approximation to the PSF model at the position of this source\", units=\"pixel^2\"), Key<D>(offset=320, nElements=1)),\n",
       "    (Field['D'](name=\"modelfit_DoubleShapeletPsfApprox_1_yy\", doc=\"Double-Shapelet approximation to the PSF model at the position of this source\", units=\"pixel^2\"), Key<D>(offset=328, nElements=1)),\n",
       "    (Field['D'](name=\"modelfit_DoubleShapeletPsfApprox_1_xy\", doc=\"Double-Shapelet approximation to the PSF model at the position of this source\", units=\"pixel^2\"), Key<D>(offset=336, nElements=1)),\n",
       "    (Field['D'](name=\"modelfit_DoubleShapeletPsfApprox_1_x\", doc=\"Double-Shapelet approximation to the PSF model at the position of this source\", units=\"pixel\"), Key<D>(offset=344, nElements=1)),\n",
       "    (Field['D'](name=\"modelfit_DoubleShapeletPsfApprox_1_y\", doc=\"Double-Shapelet approximation to the PSF model at the position of this source\", units=\"pixel\"), Key<D>(offset=352, nElements=1)),\n",
       "    (Field['D'](name=\"modelfit_DoubleShapeletPsfApprox_1_0\", doc=\"Double-Shapelet approximation to the PSF model at the position of this source\"), Key<D>(offset=360, nElements=1)),\n",
       "    (Field['D'](name=\"modelfit_DoubleShapeletPsfApprox_1_1\", doc=\"Double-Shapelet approximation to the PSF model at the position of this source\"), Key<D>(offset=368, nElements=1)),\n",
       "    (Field['D'](name=\"modelfit_DoubleShapeletPsfApprox_1_2\", doc=\"Double-Shapelet approximation to the PSF model at the position of this source\"), Key<D>(offset=376, nElements=1)),\n",
       "    (Field['Flag'](name=\"modelfit_DoubleShapeletPsfApprox_flag\", doc=\"General Failure Flag\"), Key['Flag'](offset=64, bit=16)),\n",
       "    (Field['Flag'](name=\"modelfit_DoubleShapeletPsfApprox_flag_invalidPointForPsf\", doc=\"PSF model could not be evaluated at the source position\"), Key['Flag'](offset=64, bit=17)),\n",
       "    (Field['Flag'](name=\"modelfit_DoubleShapeletPsfApprox_flag_invalidMoments\", doc=\"Moments of the PSF model were not a valid ellipse\"), Key['Flag'](offset=64, bit=18)),\n",
       "    (Field['Flag'](name=\"modelfit_DoubleShapeletPsfApprox_flag_maxIterations\", doc=\"optimizer exceeded the maximum number (inner or outer) iterations\"), Key['Flag'](offset=64, bit=19)),\n",
       "    (Field['D'](name=\"base_CircularApertureFlux_3_0_flux\", doc=\"flux within 3.000000-pixel aperture\", units=\"count\"), Key<D>(offset=384, nElements=1)),\n",
       "    (Field['D'](name=\"base_CircularApertureFlux_3_0_fluxSigma\", doc=\"1-sigma flux uncertainty\", units=\"count\"), Key<D>(offset=392, nElements=1)),\n",
       "    (Field['Flag'](name=\"base_CircularApertureFlux_3_0_flag\", doc=\"General Failure Flag\"), Key['Flag'](offset=64, bit=20)),\n",
       "    (Field['Flag'](name=\"base_CircularApertureFlux_3_0_flag_apertureTruncated\", doc=\"aperture did not fit within measurement image\"), Key['Flag'](offset=64, bit=21)),\n",
       "    (Field['Flag'](name=\"base_CircularApertureFlux_3_0_flag_sincCoeffsTruncated\", doc=\"full sinc coefficient image did not fit within measurement image\"), Key['Flag'](offset=64, bit=22)),\n",
       "    (Field['D'](name=\"base_CircularApertureFlux_4_5_flux\", doc=\"flux within 4.500000-pixel aperture\", units=\"count\"), Key<D>(offset=400, nElements=1)),\n",
       "    (Field['D'](name=\"base_CircularApertureFlux_4_5_fluxSigma\", doc=\"1-sigma flux uncertainty\", units=\"count\"), Key<D>(offset=408, nElements=1)),\n",
       "    (Field['Flag'](name=\"base_CircularApertureFlux_4_5_flag\", doc=\"General Failure Flag\"), Key['Flag'](offset=64, bit=23)),\n",
       "    (Field['Flag'](name=\"base_CircularApertureFlux_4_5_flag_apertureTruncated\", doc=\"aperture did not fit within measurement image\"), Key['Flag'](offset=64, bit=24)),\n",
       "    (Field['Flag'](name=\"base_CircularApertureFlux_4_5_flag_sincCoeffsTruncated\", doc=\"full sinc coefficient image did not fit within measurement image\"), Key['Flag'](offset=64, bit=25)),\n",
       "    (Field['D'](name=\"base_CircularApertureFlux_6_0_flux\", doc=\"flux within 6.000000-pixel aperture\", units=\"count\"), Key<D>(offset=416, nElements=1)),\n",
       "    (Field['D'](name=\"base_CircularApertureFlux_6_0_fluxSigma\", doc=\"1-sigma flux uncertainty\", units=\"count\"), Key<D>(offset=424, nElements=1)),\n",
       "    (Field['Flag'](name=\"base_CircularApertureFlux_6_0_flag\", doc=\"General Failure Flag\"), Key['Flag'](offset=64, bit=26)),\n",
       "    (Field['Flag'](name=\"base_CircularApertureFlux_6_0_flag_apertureTruncated\", doc=\"aperture did not fit within measurement image\"), Key['Flag'](offset=64, bit=27)),\n",
       "    (Field['Flag'](name=\"base_CircularApertureFlux_6_0_flag_sincCoeffsTruncated\", doc=\"full sinc coefficient image did not fit within measurement image\"), Key['Flag'](offset=64, bit=28)),\n",
       "    (Field['D'](name=\"base_CircularApertureFlux_9_0_flux\", doc=\"flux within 9.000000-pixel aperture\", units=\"count\"), Key<D>(offset=432, nElements=1)),\n",
       "    (Field['D'](name=\"base_CircularApertureFlux_9_0_fluxSigma\", doc=\"1-sigma flux uncertainty\", units=\"count\"), Key<D>(offset=440, nElements=1)),\n",
       "    (Field['Flag'](name=\"base_CircularApertureFlux_9_0_flag\", doc=\"General Failure Flag\"), Key['Flag'](offset=64, bit=29)),\n",
       "    (Field['Flag'](name=\"base_CircularApertureFlux_9_0_flag_apertureTruncated\", doc=\"aperture did not fit within measurement image\"), Key['Flag'](offset=64, bit=30)),\n",
       "    (Field['Flag'](name=\"base_CircularApertureFlux_9_0_flag_sincCoeffsTruncated\", doc=\"full sinc coefficient image did not fit within measurement image\"), Key['Flag'](offset=64, bit=31)),\n",
       "    (Field['D'](name=\"base_CircularApertureFlux_12_0_flux\", doc=\"flux within 12.000000-pixel aperture\", units=\"count\"), Key<D>(offset=448, nElements=1)),\n",
       "    (Field['D'](name=\"base_CircularApertureFlux_12_0_fluxSigma\", doc=\"1-sigma flux uncertainty\", units=\"count\"), Key<D>(offset=456, nElements=1)),\n",
       "    (Field['Flag'](name=\"base_CircularApertureFlux_12_0_flag\", doc=\"General Failure Flag\"), Key['Flag'](offset=64, bit=32)),\n",
       "    (Field['Flag'](name=\"base_CircularApertureFlux_12_0_flag_apertureTruncated\", doc=\"aperture did not fit within measurement image\"), Key['Flag'](offset=64, bit=33)),\n",
       "    (Field['Flag'](name=\"base_CircularApertureFlux_12_0_flag_sincCoeffsTruncated\", doc=\"full sinc coefficient image did not fit within measurement image\"), Key['Flag'](offset=64, bit=34)),\n",
       "    (Field['D'](name=\"base_CircularApertureFlux_17_0_flux\", doc=\"flux within 17.000000-pixel aperture\", units=\"count\"), Key<D>(offset=464, nElements=1)),\n",
       "    (Field['D'](name=\"base_CircularApertureFlux_17_0_fluxSigma\", doc=\"1-sigma flux uncertainty\", units=\"count\"), Key<D>(offset=472, nElements=1)),\n",
       "    (Field['Flag'](name=\"base_CircularApertureFlux_17_0_flag\", doc=\"General Failure Flag\"), Key['Flag'](offset=64, bit=35)),\n",
       "    (Field['Flag'](name=\"base_CircularApertureFlux_17_0_flag_apertureTruncated\", doc=\"aperture did not fit within measurement image\"), Key['Flag'](offset=64, bit=36)),\n",
       "    (Field['D'](name=\"base_CircularApertureFlux_25_0_flux\", doc=\"flux within 25.000000-pixel aperture\", units=\"count\"), Key<D>(offset=480, nElements=1)),\n",
       "    (Field['D'](name=\"base_CircularApertureFlux_25_0_fluxSigma\", doc=\"1-sigma flux uncertainty\", units=\"count\"), Key<D>(offset=488, nElements=1)),\n",
       "    (Field['Flag'](name=\"base_CircularApertureFlux_25_0_flag\", doc=\"General Failure Flag\"), Key['Flag'](offset=64, bit=37)),\n",
       "    (Field['Flag'](name=\"base_CircularApertureFlux_25_0_flag_apertureTruncated\", doc=\"aperture did not fit within measurement image\"), Key['Flag'](offset=64, bit=38)),\n",
       "    (Field['D'](name=\"base_CircularApertureFlux_35_0_flux\", doc=\"flux within 35.000000-pixel aperture\", units=\"count\"), Key<D>(offset=496, nElements=1)),\n",
       "    (Field['D'](name=\"base_CircularApertureFlux_35_0_fluxSigma\", doc=\"1-sigma flux uncertainty\", units=\"count\"), Key<D>(offset=504, nElements=1)),\n",
       "    (Field['Flag'](name=\"base_CircularApertureFlux_35_0_flag\", doc=\"General Failure Flag\"), Key['Flag'](offset=64, bit=39)),\n",
       "    (Field['Flag'](name=\"base_CircularApertureFlux_35_0_flag_apertureTruncated\", doc=\"aperture did not fit within measurement image\"), Key['Flag'](offset=64, bit=40)),\n",
       "    (Field['D'](name=\"base_CircularApertureFlux_50_0_flux\", doc=\"flux within 50.000000-pixel aperture\", units=\"count\"), Key<D>(offset=512, nElements=1)),\n",
       "    (Field['D'](name=\"base_CircularApertureFlux_50_0_fluxSigma\", doc=\"1-sigma flux uncertainty\", units=\"count\"), Key<D>(offset=520, nElements=1)),\n",
       "    (Field['Flag'](name=\"base_CircularApertureFlux_50_0_flag\", doc=\"General Failure Flag\"), Key['Flag'](offset=64, bit=41)),\n",
       "    (Field['Flag'](name=\"base_CircularApertureFlux_50_0_flag_apertureTruncated\", doc=\"aperture did not fit within measurement image\"), Key['Flag'](offset=64, bit=42)),\n",
       "    (Field['D'](name=\"base_CircularApertureFlux_70_0_flux\", doc=\"flux within 70.000000-pixel aperture\", units=\"count\"), Key<D>(offset=528, nElements=1)),\n",
       "    (Field['D'](name=\"base_CircularApertureFlux_70_0_fluxSigma\", doc=\"1-sigma flux uncertainty\", units=\"count\"), Key<D>(offset=536, nElements=1)),\n",
       "    (Field['Flag'](name=\"base_CircularApertureFlux_70_0_flag\", doc=\"General Failure Flag\"), Key['Flag'](offset=64, bit=43)),\n",
       "    (Field['Flag'](name=\"base_CircularApertureFlux_70_0_flag_apertureTruncated\", doc=\"aperture did not fit within measurement image\"), Key['Flag'](offset=64, bit=44)),\n",
       "    (Field['D'](name=\"base_GaussianFlux_flux\", doc=\"flux from Gaussian Flux algorithm\", units=\"count\"), Key<D>(offset=544, nElements=1)),\n",
       "    (Field['D'](name=\"base_GaussianFlux_fluxSigma\", doc=\"1-sigma flux uncertainty\", units=\"count\"), Key<D>(offset=552, nElements=1)),\n",
       "    (Field['Flag'](name=\"base_GaussianFlux_flag\", doc=\"General Failure Flag\"), Key['Flag'](offset=64, bit=45)),\n",
       "    (Field['D'](name=\"base_LocalBackground_flux\", doc=\"background in annulus around source\", units=\"count\"), Key<D>(offset=560, nElements=1)),\n",
       "    (Field['D'](name=\"base_LocalBackground_fluxSigma\", doc=\"1-sigma flux uncertainty\", units=\"count\"), Key<D>(offset=568, nElements=1)),\n",
       "    (Field['Flag'](name=\"base_LocalBackground_flag\", doc=\"General Failure Flag\"), Key['Flag'](offset=64, bit=46)),\n",
       "    (Field['Flag'](name=\"base_LocalBackground_flag_noGoodPixels\", doc=\"no good pixels in the annulus\"), Key['Flag'](offset=64, bit=47)),\n",
       "    (Field['Flag'](name=\"base_LocalBackground_flag_noPsf\", doc=\"no PSF provided\"), Key['Flag'](offset=64, bit=48)),\n",
       "    (Field['Flag'](name=\"base_PixelFlags_flag\", doc=\"general failure flag, set if anything went wring\"), Key['Flag'](offset=64, bit=49)),\n",
       "    (Field['Flag'](name=\"base_PixelFlags_flag_offimage\", doc=\"Source center is off image\"), Key['Flag'](offset=64, bit=50)),\n",
       "    (Field['Flag'](name=\"base_PixelFlags_flag_edge\", doc=\"Source is outside usable exposure region (masked EDGE or NO_DATA)\"), Key['Flag'](offset=64, bit=51)),\n",
       "    (Field['Flag'](name=\"base_PixelFlags_flag_interpolated\", doc=\"Interpolated pixel in the Source footprint\"), Key['Flag'](offset=64, bit=52)),\n",
       "    (Field['Flag'](name=\"base_PixelFlags_flag_saturated\", doc=\"Saturated pixel in the Source footprint\"), Key['Flag'](offset=64, bit=53)),\n",
       "    (Field['Flag'](name=\"base_PixelFlags_flag_cr\", doc=\"Cosmic ray in the Source footprint\"), Key['Flag'](offset=64, bit=54)),\n",
       "    (Field['Flag'](name=\"base_PixelFlags_flag_bad\", doc=\"Bad pixel in the Source footprint\"), Key['Flag'](offset=64, bit=55)),\n",
       "    (Field['Flag'](name=\"base_PixelFlags_flag_suspect\", doc=\"Source''s footprint includes suspect pixels\"), Key['Flag'](offset=64, bit=56)),\n",
       "    (Field['Flag'](name=\"base_PixelFlags_flag_interpolatedCenter\", doc=\"Interpolated pixel in the Source center\"), Key['Flag'](offset=64, bit=57)),\n",
       "    (Field['Flag'](name=\"base_PixelFlags_flag_saturatedCenter\", doc=\"Saturated pixel in the Source center\"), Key['Flag'](offset=64, bit=58)),\n",
       "    (Field['Flag'](name=\"base_PixelFlags_flag_crCenter\", doc=\"Cosmic ray in the Source center\"), Key['Flag'](offset=64, bit=59)),\n",
       "    (Field['Flag'](name=\"base_PixelFlags_flag_suspectCenter\", doc=\"Source''s center is close to suspect pixels\"), Key['Flag'](offset=64, bit=60)),\n",
       "    (Field['Flag'](name=\"base_PixelFlags_flag_clippedCenter\", doc=\"Source center is close to CLIPPED pixels\"), Key['Flag'](offset=64, bit=61)),\n",
       "    (Field['Flag'](name=\"base_PixelFlags_flag_sensor_edgeCenter\", doc=\"Source center is close to SENSOR_EDGE pixels\"), Key['Flag'](offset=64, bit=62)),\n",
       "    (Field['Flag'](name=\"base_PixelFlags_flag_rejectedCenter\", doc=\"Source center is close to REJECTED pixels\"), Key['Flag'](offset=64, bit=63)),\n",
       "    (Field['Flag'](name=\"base_PixelFlags_flag_inexact_psfCenter\", doc=\"Source center is close to INEXACT_PSF pixels\"), Key['Flag'](offset=576, bit=0)),\n",
       "    (Field['Flag'](name=\"base_PixelFlags_flag_bright_objectCenter\", doc=\"Source center is close to BRIGHT_OBJECT pixels\"), Key['Flag'](offset=576, bit=1)),\n",
       "    (Field['Flag'](name=\"base_PixelFlags_flag_clipped\", doc=\"Source footprint includes CLIPPED pixels\"), Key['Flag'](offset=576, bit=2)),\n",
       "    (Field['Flag'](name=\"base_PixelFlags_flag_sensor_edge\", doc=\"Source footprint includes SENSOR_EDGE pixels\"), Key['Flag'](offset=576, bit=3)),\n",
       "    (Field['Flag'](name=\"base_PixelFlags_flag_rejected\", doc=\"Source footprint includes REJECTED pixels\"), Key['Flag'](offset=576, bit=4)),\n",
       "    (Field['Flag'](name=\"base_PixelFlags_flag_inexact_psf\", doc=\"Source footprint includes INEXACT_PSF pixels\"), Key['Flag'](offset=576, bit=5)),\n",
       "    (Field['Flag'](name=\"base_PixelFlags_flag_bright_object\", doc=\"Source footprint includes BRIGHT_OBJECT pixels\"), Key['Flag'](offset=576, bit=6)),\n",
       "    (Field['D'](name=\"base_PsfFlux_flux\", doc=\"flux derived from linear least-squares fit of PSF model\", units=\"count\"), Key<D>(offset=584, nElements=1)),\n",
       "    (Field['D'](name=\"base_PsfFlux_fluxSigma\", doc=\"1-sigma flux uncertainty\", units=\"count\"), Key<D>(offset=592, nElements=1)),\n",
       "    (Field['F'](name=\"base_PsfFlux_area\", doc=\"effective area of PSF\", units=\"pixel\"), Key<F>(offset=600, nElements=1)),\n",
       "    (Field['Flag'](name=\"base_PsfFlux_flag\", doc=\"General Failure Flag\"), Key['Flag'](offset=576, bit=7)),\n",
       "    (Field['Flag'](name=\"base_PsfFlux_flag_noGoodPixels\", doc=\"not enough non-rejected pixels in data to attempt the fit\"), Key['Flag'](offset=576, bit=8)),\n",
       "    (Field['Flag'](name=\"base_PsfFlux_flag_edge\", doc=\"object was too close to the edge of the image to use the full PSF model\"), Key['Flag'](offset=576, bit=9)),\n",
       "    (Field['Flag'](name=\"base_Variance_flag\", doc=\"Set for any fatal failure\"), Key['Flag'](offset=576, bit=10)),\n",
       "    (Field['D'](name=\"base_Variance_value\", doc=\"Variance at object position\"), Key<D>(offset=608, nElements=1)),\n",
       "    (Field['Flag'](name=\"base_Variance_flag_emptyFootprint\", doc=\"Set to True when the footprint has no usable pixels\"), Key['Flag'](offset=576, bit=11)),\n",
       "    (Field['D'](name=\"ext_photometryKron_KronFlux_flux\", doc=\"flux from Kron Flux algorithm\", units=\"count\"), Key<D>(offset=616, nElements=1)),\n",
       "    (Field['D'](name=\"ext_photometryKron_KronFlux_fluxSigma\", doc=\"1-sigma flux uncertainty\", units=\"count\"), Key<D>(offset=624, nElements=1)),\n",
       "    (Field['F'](name=\"ext_photometryKron_KronFlux_radius\", doc=\"Kron radius (sqrt(a*b))\"), Key<F>(offset=632, nElements=1)),\n",
       "    (Field['F'](name=\"ext_photometryKron_KronFlux_radius_for_radius\", doc=\"radius used to estimate <radius> (sqrt(a*b))\"), Key<F>(offset=636, nElements=1)),\n",
       "    (Field['F'](name=\"ext_photometryKron_KronFlux_psf_radius\", doc=\"Radius of PSF\"), Key<F>(offset=640, nElements=1)),\n",
       "    (Field['Flag'](name=\"ext_photometryKron_KronFlux_flag\", doc=\"general failure flag, set if anything went wrong\"), Key['Flag'](offset=576, bit=12)),\n",
       "    (Field['Flag'](name=\"ext_photometryKron_KronFlux_flag_edge\", doc=\"bad measurement due to image edge\"), Key['Flag'](offset=576, bit=13)),\n",
       "    (Field['Flag'](name=\"ext_photometryKron_KronFlux_flag_bad_shape_no_psf\", doc=\"bad shape and no PSF\"), Key['Flag'](offset=576, bit=14)),\n",
       "    (Field['Flag'](name=\"ext_photometryKron_KronFlux_flag_no_minimum_radius\", doc=\"minimum radius could not enforced: no minimum value or PSF\"), Key['Flag'](offset=576, bit=15)),\n",
       "    (Field['Flag'](name=\"ext_photometryKron_KronFlux_flag_no_fallback_radius\", doc=\"no minimum radius and no PSF provided\"), Key['Flag'](offset=576, bit=16)),\n",
       "    (Field['Flag'](name=\"ext_photometryKron_KronFlux_flag_bad_radius\", doc=\"bad Kron radius\"), Key['Flag'](offset=576, bit=17)),\n",
       "    (Field['Flag'](name=\"ext_photometryKron_KronFlux_flag_used_minimum_radius\", doc=\"used the minimum radius for the Kron aperture\"), Key['Flag'](offset=576, bit=18)),\n",
       "    (Field['Flag'](name=\"ext_photometryKron_KronFlux_flag_used_psf_radius\", doc=\"used the PSF Kron radius for the Kron aperture\"), Key['Flag'](offset=576, bit=19)),\n",
       "    (Field['Flag'](name=\"ext_photometryKron_KronFlux_flag_small_radius\", doc=\"measured Kron radius was smaller than that of the PSF\"), Key['Flag'](offset=576, bit=20)),\n",
       "    (Field['Flag'](name=\"ext_photometryKron_KronFlux_flag_bad_shape\", doc=\"shape for measuring Kron radius is bad; used PSF shape\"), Key['Flag'](offset=576, bit=21)),\n",
       "    (Field['F'](name=\"ext_convolved_ConvolvedFlux_seeing\", doc=\"original seeing (Gaussian sigma) at position\", units=\"pixel\"), Key<F>(offset=644, nElements=1)),\n",
       "    (Field['Flag'](name=\"ext_convolved_ConvolvedFlux_0_deconv\", doc=\"deconvolution required for seeing 3.500000; no measurement made\"), Key['Flag'](offset=576, bit=22)),\n",
       "    (Field['D'](name=\"ext_convolved_ConvolvedFlux_0_3_3_flux\", doc=\"flux within 3.300000-pixel aperture\", units=\"count\"), Key<D>(offset=648, nElements=1)),\n",
       "    (Field['D'](name=\"ext_convolved_ConvolvedFlux_0_3_3_fluxSigma\", doc=\"1-sigma flux uncertainty\", units=\"count\"), Key<D>(offset=656, nElements=1)),\n",
       "    (Field['Flag'](name=\"ext_convolved_ConvolvedFlux_0_3_3_flag\", doc=\"General Failure Flag\"), Key['Flag'](offset=576, bit=23)),\n",
       "    (Field['Flag'](name=\"ext_convolved_ConvolvedFlux_0_3_3_flag_apertureTruncated\", doc=\"aperture did not fit within measurement image\"), Key['Flag'](offset=576, bit=24)),\n",
       "    (Field['Flag'](name=\"ext_convolved_ConvolvedFlux_0_3_3_flag_sincCoeffsTruncated\", doc=\"full sinc coefficient image did not fit within measurement image\"), Key['Flag'](offset=576, bit=25)),\n",
       "    (Field['D'](name=\"ext_convolved_ConvolvedFlux_0_4_5_flux\", doc=\"flux within 4.500000-pixel aperture\", units=\"count\"), Key<D>(offset=664, nElements=1)),\n",
       "    (Field['D'](name=\"ext_convolved_ConvolvedFlux_0_4_5_fluxSigma\", doc=\"1-sigma flux uncertainty\", units=\"count\"), Key<D>(offset=672, nElements=1)),\n",
       "    (Field['Flag'](name=\"ext_convolved_ConvolvedFlux_0_4_5_flag\", doc=\"General Failure Flag\"), Key['Flag'](offset=576, bit=26)),\n",
       "    (Field['Flag'](name=\"ext_convolved_ConvolvedFlux_0_4_5_flag_apertureTruncated\", doc=\"aperture did not fit within measurement image\"), Key['Flag'](offset=576, bit=27)),\n",
       "    (Field['Flag'](name=\"ext_convolved_ConvolvedFlux_0_4_5_flag_sincCoeffsTruncated\", doc=\"full sinc coefficient image did not fit within measurement image\"), Key['Flag'](offset=576, bit=28)),\n",
       "    (Field['D'](name=\"ext_convolved_ConvolvedFlux_0_6_0_flux\", doc=\"flux within 6.000000-pixel aperture\", units=\"count\"), Key<D>(offset=680, nElements=1)),\n",
       "    (Field['D'](name=\"ext_convolved_ConvolvedFlux_0_6_0_fluxSigma\", doc=\"1-sigma flux uncertainty\", units=\"count\"), Key<D>(offset=688, nElements=1)),\n",
       "    (Field['Flag'](name=\"ext_convolved_ConvolvedFlux_0_6_0_flag\", doc=\"General Failure Flag\"), Key['Flag'](offset=576, bit=29)),\n",
       "    (Field['Flag'](name=\"ext_convolved_ConvolvedFlux_0_6_0_flag_apertureTruncated\", doc=\"aperture did not fit within measurement image\"), Key['Flag'](offset=576, bit=30)),\n",
       "    (Field['Flag'](name=\"ext_convolved_ConvolvedFlux_0_6_0_flag_sincCoeffsTruncated\", doc=\"full sinc coefficient image did not fit within measurement image\"), Key['Flag'](offset=576, bit=31)),\n",
       "    (Field['D'](name=\"ext_convolved_ConvolvedFlux_0_kron_flux\", doc=\"convolved Kron flux: seeing 3.500000\", units=\"count\"), Key<D>(offset=696, nElements=1)),\n",
       "    (Field['D'](name=\"ext_convolved_ConvolvedFlux_0_kron_fluxSigma\", doc=\"1-sigma flux uncertainty\", units=\"count\"), Key<D>(offset=704, nElements=1)),\n",
       "    (Field['Flag'](name=\"ext_convolved_ConvolvedFlux_0_kron_flag\", doc=\"convolved Kron flux failed: seeing 3.500000\"), Key['Flag'](offset=576, bit=32)),\n",
       "    (Field['Flag'](name=\"ext_convolved_ConvolvedFlux_1_deconv\", doc=\"deconvolution required for seeing 5.000000; no measurement made\"), Key['Flag'](offset=576, bit=33)),\n",
       "    (Field['D'](name=\"ext_convolved_ConvolvedFlux_1_3_3_flux\", doc=\"flux within 3.300000-pixel aperture\", units=\"count\"), Key<D>(offset=712, nElements=1)),\n",
       "    (Field['D'](name=\"ext_convolved_ConvolvedFlux_1_3_3_fluxSigma\", doc=\"1-sigma flux uncertainty\", units=\"count\"), Key<D>(offset=720, nElements=1)),\n",
       "    (Field['Flag'](name=\"ext_convolved_ConvolvedFlux_1_3_3_flag\", doc=\"General Failure Flag\"), Key['Flag'](offset=576, bit=34)),\n",
       "    (Field['Flag'](name=\"ext_convolved_ConvolvedFlux_1_3_3_flag_apertureTruncated\", doc=\"aperture did not fit within measurement image\"), Key['Flag'](offset=576, bit=35)),\n",
       "    (Field['Flag'](name=\"ext_convolved_ConvolvedFlux_1_3_3_flag_sincCoeffsTruncated\", doc=\"full sinc coefficient image did not fit within measurement image\"), Key['Flag'](offset=576, bit=36)),\n",
       "    (Field['D'](name=\"ext_convolved_ConvolvedFlux_1_4_5_flux\", doc=\"flux within 4.500000-pixel aperture\", units=\"count\"), Key<D>(offset=728, nElements=1)),\n",
       "    (Field['D'](name=\"ext_convolved_ConvolvedFlux_1_4_5_fluxSigma\", doc=\"1-sigma flux uncertainty\", units=\"count\"), Key<D>(offset=736, nElements=1)),\n",
       "    (Field['Flag'](name=\"ext_convolved_ConvolvedFlux_1_4_5_flag\", doc=\"General Failure Flag\"), Key['Flag'](offset=576, bit=37)),\n",
       "    (Field['Flag'](name=\"ext_convolved_ConvolvedFlux_1_4_5_flag_apertureTruncated\", doc=\"aperture did not fit within measurement image\"), Key['Flag'](offset=576, bit=38)),\n",
       "    (Field['Flag'](name=\"ext_convolved_ConvolvedFlux_1_4_5_flag_sincCoeffsTruncated\", doc=\"full sinc coefficient image did not fit within measurement image\"), Key['Flag'](offset=576, bit=39)),\n",
       "    (Field['D'](name=\"ext_convolved_ConvolvedFlux_1_6_0_flux\", doc=\"flux within 6.000000-pixel aperture\", units=\"count\"), Key<D>(offset=744, nElements=1)),\n",
       "    (Field['D'](name=\"ext_convolved_ConvolvedFlux_1_6_0_fluxSigma\", doc=\"1-sigma flux uncertainty\", units=\"count\"), Key<D>(offset=752, nElements=1)),\n",
       "    (Field['Flag'](name=\"ext_convolved_ConvolvedFlux_1_6_0_flag\", doc=\"General Failure Flag\"), Key['Flag'](offset=576, bit=40)),\n",
       "    (Field['Flag'](name=\"ext_convolved_ConvolvedFlux_1_6_0_flag_apertureTruncated\", doc=\"aperture did not fit within measurement image\"), Key['Flag'](offset=576, bit=41)),\n",
       "    (Field['Flag'](name=\"ext_convolved_ConvolvedFlux_1_6_0_flag_sincCoeffsTruncated\", doc=\"full sinc coefficient image did not fit within measurement image\"), Key['Flag'](offset=576, bit=42)),\n",
       "    (Field['D'](name=\"ext_convolved_ConvolvedFlux_1_kron_flux\", doc=\"convolved Kron flux: seeing 5.000000\", units=\"count\"), Key<D>(offset=760, nElements=1)),\n",
       "    (Field['D'](name=\"ext_convolved_ConvolvedFlux_1_kron_fluxSigma\", doc=\"1-sigma flux uncertainty\", units=\"count\"), Key<D>(offset=768, nElements=1)),\n",
       "    (Field['Flag'](name=\"ext_convolved_ConvolvedFlux_1_kron_flag\", doc=\"convolved Kron flux failed: seeing 5.000000\"), Key['Flag'](offset=576, bit=43)),\n",
       "    (Field['Flag'](name=\"ext_convolved_ConvolvedFlux_2_deconv\", doc=\"deconvolution required for seeing 6.500000; no measurement made\"), Key['Flag'](offset=576, bit=44)),\n",
       "    (Field['D'](name=\"ext_convolved_ConvolvedFlux_2_3_3_flux\", doc=\"flux within 3.300000-pixel aperture\", units=\"count\"), Key<D>(offset=776, nElements=1)),\n",
       "    (Field['D'](name=\"ext_convolved_ConvolvedFlux_2_3_3_fluxSigma\", doc=\"1-sigma flux uncertainty\", units=\"count\"), Key<D>(offset=784, nElements=1)),\n",
       "    (Field['Flag'](name=\"ext_convolved_ConvolvedFlux_2_3_3_flag\", doc=\"General Failure Flag\"), Key['Flag'](offset=576, bit=45)),\n",
       "    (Field['Flag'](name=\"ext_convolved_ConvolvedFlux_2_3_3_flag_apertureTruncated\", doc=\"aperture did not fit within measurement image\"), Key['Flag'](offset=576, bit=46)),\n",
       "    (Field['Flag'](name=\"ext_convolved_ConvolvedFlux_2_3_3_flag_sincCoeffsTruncated\", doc=\"full sinc coefficient image did not fit within measurement image\"), Key['Flag'](offset=576, bit=47)),\n",
       "    (Field['D'](name=\"ext_convolved_ConvolvedFlux_2_4_5_flux\", doc=\"flux within 4.500000-pixel aperture\", units=\"count\"), Key<D>(offset=792, nElements=1)),\n",
       "    (Field['D'](name=\"ext_convolved_ConvolvedFlux_2_4_5_fluxSigma\", doc=\"1-sigma flux uncertainty\", units=\"count\"), Key<D>(offset=800, nElements=1)),\n",
       "    (Field['Flag'](name=\"ext_convolved_ConvolvedFlux_2_4_5_flag\", doc=\"General Failure Flag\"), Key['Flag'](offset=576, bit=48)),\n",
       "    (Field['Flag'](name=\"ext_convolved_ConvolvedFlux_2_4_5_flag_apertureTruncated\", doc=\"aperture did not fit within measurement image\"), Key['Flag'](offset=576, bit=49)),\n",
       "    (Field['Flag'](name=\"ext_convolved_ConvolvedFlux_2_4_5_flag_sincCoeffsTruncated\", doc=\"full sinc coefficient image did not fit within measurement image\"), Key['Flag'](offset=576, bit=50)),\n",
       "    (Field['D'](name=\"ext_convolved_ConvolvedFlux_2_6_0_flux\", doc=\"flux within 6.000000-pixel aperture\", units=\"count\"), Key<D>(offset=808, nElements=1)),\n",
       "    (Field['D'](name=\"ext_convolved_ConvolvedFlux_2_6_0_fluxSigma\", doc=\"1-sigma flux uncertainty\", units=\"count\"), Key<D>(offset=816, nElements=1)),\n",
       "    (Field['Flag'](name=\"ext_convolved_ConvolvedFlux_2_6_0_flag\", doc=\"General Failure Flag\"), Key['Flag'](offset=576, bit=51)),\n",
       "    (Field['Flag'](name=\"ext_convolved_ConvolvedFlux_2_6_0_flag_apertureTruncated\", doc=\"aperture did not fit within measurement image\"), Key['Flag'](offset=576, bit=52)),\n",
       "    (Field['Flag'](name=\"ext_convolved_ConvolvedFlux_2_6_0_flag_sincCoeffsTruncated\", doc=\"full sinc coefficient image did not fit within measurement image\"), Key['Flag'](offset=576, bit=53)),\n",
       "    (Field['D'](name=\"ext_convolved_ConvolvedFlux_2_kron_flux\", doc=\"convolved Kron flux: seeing 6.500000\", units=\"count\"), Key<D>(offset=824, nElements=1)),\n",
       "    (Field['D'](name=\"ext_convolved_ConvolvedFlux_2_kron_fluxSigma\", doc=\"1-sigma flux uncertainty\", units=\"count\"), Key<D>(offset=832, nElements=1)),\n",
       "    (Field['Flag'](name=\"ext_convolved_ConvolvedFlux_2_kron_flag\", doc=\"convolved Kron flux failed: seeing 6.500000\"), Key['Flag'](offset=576, bit=54)),\n",
       "    (Field['Flag'](name=\"ext_convolved_ConvolvedFlux_3_deconv\", doc=\"deconvolution required for seeing 8.000000; no measurement made\"), Key['Flag'](offset=576, bit=55)),\n",
       "    (Field['D'](name=\"ext_convolved_ConvolvedFlux_3_3_3_flux\", doc=\"flux within 3.300000-pixel aperture\", units=\"count\"), Key<D>(offset=840, nElements=1)),\n",
       "    (Field['D'](name=\"ext_convolved_ConvolvedFlux_3_3_3_fluxSigma\", doc=\"1-sigma flux uncertainty\", units=\"count\"), Key<D>(offset=848, nElements=1)),\n",
       "    (Field['Flag'](name=\"ext_convolved_ConvolvedFlux_3_3_3_flag\", doc=\"General Failure Flag\"), Key['Flag'](offset=576, bit=56)),\n",
       "    (Field['Flag'](name=\"ext_convolved_ConvolvedFlux_3_3_3_flag_apertureTruncated\", doc=\"aperture did not fit within measurement image\"), Key['Flag'](offset=576, bit=57)),\n",
       "    (Field['Flag'](name=\"ext_convolved_ConvolvedFlux_3_3_3_flag_sincCoeffsTruncated\", doc=\"full sinc coefficient image did not fit within measurement image\"), Key['Flag'](offset=576, bit=58)),\n",
       "    (Field['D'](name=\"ext_convolved_ConvolvedFlux_3_4_5_flux\", doc=\"flux within 4.500000-pixel aperture\", units=\"count\"), Key<D>(offset=856, nElements=1)),\n",
       "    (Field['D'](name=\"ext_convolved_ConvolvedFlux_3_4_5_fluxSigma\", doc=\"1-sigma flux uncertainty\", units=\"count\"), Key<D>(offset=864, nElements=1)),\n",
       "    (Field['Flag'](name=\"ext_convolved_ConvolvedFlux_3_4_5_flag\", doc=\"General Failure Flag\"), Key['Flag'](offset=576, bit=59)),\n",
       "    (Field['Flag'](name=\"ext_convolved_ConvolvedFlux_3_4_5_flag_apertureTruncated\", doc=\"aperture did not fit within measurement image\"), Key['Flag'](offset=576, bit=60)),\n",
       "    (Field['Flag'](name=\"ext_convolved_ConvolvedFlux_3_4_5_flag_sincCoeffsTruncated\", doc=\"full sinc coefficient image did not fit within measurement image\"), Key['Flag'](offset=576, bit=61)),\n",
       "    (Field['D'](name=\"ext_convolved_ConvolvedFlux_3_6_0_flux\", doc=\"flux within 6.000000-pixel aperture\", units=\"count\"), Key<D>(offset=872, nElements=1)),\n",
       "    (Field['D'](name=\"ext_convolved_ConvolvedFlux_3_6_0_fluxSigma\", doc=\"1-sigma flux uncertainty\", units=\"count\"), Key<D>(offset=880, nElements=1)),\n",
       "    (Field['Flag'](name=\"ext_convolved_ConvolvedFlux_3_6_0_flag\", doc=\"General Failure Flag\"), Key['Flag'](offset=576, bit=62)),\n",
       "    (Field['Flag'](name=\"ext_convolved_ConvolvedFlux_3_6_0_flag_apertureTruncated\", doc=\"aperture did not fit within measurement image\"), Key['Flag'](offset=576, bit=63)),\n",
       "    (Field['Flag'](name=\"ext_convolved_ConvolvedFlux_3_6_0_flag_sincCoeffsTruncated\", doc=\"full sinc coefficient image did not fit within measurement image\"), Key['Flag'](offset=888, bit=0)),\n",
       "    (Field['D'](name=\"ext_convolved_ConvolvedFlux_3_kron_flux\", doc=\"convolved Kron flux: seeing 8.000000\", units=\"count\"), Key<D>(offset=896, nElements=1)),\n",
       "    (Field['D'](name=\"ext_convolved_ConvolvedFlux_3_kron_fluxSigma\", doc=\"1-sigma flux uncertainty\", units=\"count\"), Key<D>(offset=904, nElements=1)),\n",
       "    (Field['Flag'](name=\"ext_convolved_ConvolvedFlux_3_kron_flag\", doc=\"convolved Kron flux failed: seeing 8.000000\"), Key['Flag'](offset=888, bit=1)),\n",
       "    (Field['Flag'](name=\"ext_convolved_ConvolvedFlux_flag\", doc=\"error in running ConvolvedFluxPlugin\"), Key['Flag'](offset=888, bit=2)),\n",
       "    (Field['D'](name=\"modelfit_CModel_initial_flux\", doc=\"flux from the initial fit\", units=\"count\"), Key<D>(offset=912, nElements=1)),\n",
       "    (Field['D'](name=\"modelfit_CModel_initial_fluxSigma\", doc=\"flux uncertainty from the initial fit\", units=\"count\"), Key<D>(offset=920, nElements=1)),\n",
       "    (Field['Flag'](name=\"modelfit_CModel_initial_flag\", doc=\"flag set when the flux for the initial flux failed\"), Key['Flag'](offset=888, bit=3)),\n",
       "    (Field['D'](name=\"modelfit_CModel_initial_flux_inner\", doc=\"flux within the fit region, with no extrapolation\"), Key<D>(offset=928, nElements=1)),\n",
       "    (Field['Flag'](name=\"modelfit_CModel_initial_flag_badReference\", doc=\"The original fit in the reference catalog failed.\"), Key['Flag'](offset=888, bit=4)),\n",
       "    (Field['Flag'](name=\"modelfit_CModel_initial_flag_numericError\", doc=\"numerical underflow or overflow in model evaluation; usually this means the prior was insufficient to regularize the fit, or all pixel values were zero.\"), Key['Flag'](offset=888, bit=5)),\n",
       "    (Field['D'](name=\"modelfit_CModel_exp_flux\", doc=\"flux from the exponential fit\", units=\"count\"), Key<D>(offset=936, nElements=1)),\n",
       "    (Field['D'](name=\"modelfit_CModel_exp_fluxSigma\", doc=\"flux uncertainty from the exponential fit\", units=\"count\"), Key<D>(offset=944, nElements=1)),\n",
       "    (Field['Flag'](name=\"modelfit_CModel_exp_flag\", doc=\"flag set when the flux for the exponential flux failed\"), Key['Flag'](offset=888, bit=6)),\n",
       "    (Field['D'](name=\"modelfit_CModel_exp_flux_inner\", doc=\"flux within the fit region, with no extrapolation\"), Key<D>(offset=952, nElements=1)),\n",
       "    (Field['Flag'](name=\"modelfit_CModel_exp_flag_badReference\", doc=\"The original fit in the reference catalog failed.\"), Key['Flag'](offset=888, bit=7)),\n",
       "    (Field['Flag'](name=\"modelfit_CModel_exp_flag_numericError\", doc=\"numerical underflow or overflow in model evaluation; usually this means the prior was insufficient to regularize the fit, or all pixel values were zero.\"), Key['Flag'](offset=888, bit=8)),\n",
       "    (Field['D'](name=\"modelfit_CModel_dev_flux\", doc=\"flux from the de Vaucouleur fit\", units=\"count\"), Key<D>(offset=960, nElements=1)),\n",
       "    (Field['D'](name=\"modelfit_CModel_dev_fluxSigma\", doc=\"flux uncertainty from the de Vaucouleur fit\", units=\"count\"), Key<D>(offset=968, nElements=1)),\n",
       "    (Field['Flag'](name=\"modelfit_CModel_dev_flag\", doc=\"flag set when the flux for the de Vaucouleur flux failed\"), Key['Flag'](offset=888, bit=9)),\n",
       "    (Field['D'](name=\"modelfit_CModel_dev_flux_inner\", doc=\"flux within the fit region, with no extrapolation\"), Key<D>(offset=976, nElements=1)),\n",
       "    (Field['Flag'](name=\"modelfit_CModel_dev_flag_badReference\", doc=\"The original fit in the reference catalog failed.\"), Key['Flag'](offset=888, bit=10)),\n",
       "    (Field['Flag'](name=\"modelfit_CModel_dev_flag_numericError\", doc=\"numerical underflow or overflow in model evaluation; usually this means the prior was insufficient to regularize the fit, or all pixel values were zero.\"), Key['Flag'](offset=888, bit=11)),\n",
       "    (Field['D'](name=\"modelfit_CModel_flux\", doc=\"flux from the final cmodel fit\"), Key<D>(offset=984, nElements=1)),\n",
       "    (Field['D'](name=\"modelfit_CModel_fluxSigma\", doc=\"flux uncertainty from the final cmodel fit\"), Key<D>(offset=992, nElements=1)),\n",
       "    (Field['Flag'](name=\"modelfit_CModel_flag\", doc=\"flag set if the final cmodel fit (or any previous fit) failed\"), Key['Flag'](offset=888, bit=12)),\n",
       "    (Field['D'](name=\"modelfit_CModel_flux_inner\", doc=\"flux within the fit region, with no extrapolation\"), Key<D>(offset=1000, nElements=1)),\n",
       "    (Field['D'](name=\"modelfit_CModel_fracDev\", doc=\"fraction of flux in de Vaucouleur component\"), Key<D>(offset=1008, nElements=1)),\n",
       "    (Field['D'](name=\"modelfit_CModel_objective\", doc=\"-ln(likelihood) (chi^2) in cmodel fit\"), Key<D>(offset=1016, nElements=1)),\n",
       "    (Field['Flag'](name=\"modelfit_CModel_flag_region_maxArea\", doc=\"number of pixels in fit region exceeded the region.maxArea value\"), Key['Flag'](offset=888, bit=13)),\n",
       "    (Field['Flag'](name=\"modelfit_CModel_flag_region_maxBadPixelFraction\", doc=\"the fraction of bad/clipped pixels in the fit region exceeded region.maxBadPixelFraction\"), Key['Flag'](offset=888, bit=14)),\n",
       "    (Field['Flag'](name=\"modelfit_CModel_flag_badReference\", doc=\"The original fit in the reference catalog failed.\"), Key['Flag'](offset=888, bit=15)),\n",
       "    (Field['Flag'](name=\"modelfit_CModel_flag_noShapeletPsf\", doc=\"the multishapelet fit to the PSF model did not succeed\"), Key['Flag'](offset=888, bit=16)),\n",
       "    (Field['Flag'](name=\"modelfit_CModel_flag_badCentroid\", doc=\"input centroid was not within the fit region (probably because it''s not within the Footprint)\"), Key['Flag'](offset=888, bit=17)),\n",
       "    (Field['D'](name=\"undeblended_base_CircularApertureFlux_3_0_flux\", doc=\"flux within 3.000000-pixel aperture\", units=\"count\"), Key<D>(offset=1024, nElements=1)),\n",
       "    (Field['D'](name=\"undeblended_base_CircularApertureFlux_3_0_fluxSigma\", doc=\"1-sigma flux uncertainty\", units=\"count\"), Key<D>(offset=1032, nElements=1)),\n",
       "    (Field['Flag'](name=\"undeblended_base_CircularApertureFlux_3_0_flag\", doc=\"General Failure Flag\"), Key['Flag'](offset=888, bit=18)),\n",
       "    (Field['Flag'](name=\"undeblended_base_CircularApertureFlux_3_0_flag_apertureTruncated\", doc=\"aperture did not fit within measurement image\"), Key['Flag'](offset=888, bit=19)),\n",
       "    (Field['Flag'](name=\"undeblended_base_CircularApertureFlux_3_0_flag_sincCoeffsTruncated\", doc=\"full sinc coefficient image did not fit within measurement image\"), Key['Flag'](offset=888, bit=20)),\n",
       "    (Field['D'](name=\"undeblended_base_CircularApertureFlux_4_5_flux\", doc=\"flux within 4.500000-pixel aperture\", units=\"count\"), Key<D>(offset=1040, nElements=1)),\n",
       "    (Field['D'](name=\"undeblended_base_CircularApertureFlux_4_5_fluxSigma\", doc=\"1-sigma flux uncertainty\", units=\"count\"), Key<D>(offset=1048, nElements=1)),\n",
       "    (Field['Flag'](name=\"undeblended_base_CircularApertureFlux_4_5_flag\", doc=\"General Failure Flag\"), Key['Flag'](offset=888, bit=21)),\n",
       "    (Field['Flag'](name=\"undeblended_base_CircularApertureFlux_4_5_flag_apertureTruncated\", doc=\"aperture did not fit within measurement image\"), Key['Flag'](offset=888, bit=22)),\n",
       "    (Field['Flag'](name=\"undeblended_base_CircularApertureFlux_4_5_flag_sincCoeffsTruncated\", doc=\"full sinc coefficient image did not fit within measurement image\"), Key['Flag'](offset=888, bit=23)),\n",
       "    (Field['D'](name=\"undeblended_base_CircularApertureFlux_6_0_flux\", doc=\"flux within 6.000000-pixel aperture\", units=\"count\"), Key<D>(offset=1056, nElements=1)),\n",
       "    (Field['D'](name=\"undeblended_base_CircularApertureFlux_6_0_fluxSigma\", doc=\"1-sigma flux uncertainty\", units=\"count\"), Key<D>(offset=1064, nElements=1)),\n",
       "    (Field['Flag'](name=\"undeblended_base_CircularApertureFlux_6_0_flag\", doc=\"General Failure Flag\"), Key['Flag'](offset=888, bit=24)),\n",
       "    (Field['Flag'](name=\"undeblended_base_CircularApertureFlux_6_0_flag_apertureTruncated\", doc=\"aperture did not fit within measurement image\"), Key['Flag'](offset=888, bit=25)),\n",
       "    (Field['Flag'](name=\"undeblended_base_CircularApertureFlux_6_0_flag_sincCoeffsTruncated\", doc=\"full sinc coefficient image did not fit within measurement image\"), Key['Flag'](offset=888, bit=26)),\n",
       "    (Field['D'](name=\"undeblended_base_CircularApertureFlux_9_0_flux\", doc=\"flux within 9.000000-pixel aperture\", units=\"count\"), Key<D>(offset=1072, nElements=1)),\n",
       "    (Field['D'](name=\"undeblended_base_CircularApertureFlux_9_0_fluxSigma\", doc=\"1-sigma flux uncertainty\", units=\"count\"), Key<D>(offset=1080, nElements=1)),\n",
       "    (Field['Flag'](name=\"undeblended_base_CircularApertureFlux_9_0_flag\", doc=\"General Failure Flag\"), Key['Flag'](offset=888, bit=27)),\n",
       "    (Field['Flag'](name=\"undeblended_base_CircularApertureFlux_9_0_flag_apertureTruncated\", doc=\"aperture did not fit within measurement image\"), Key['Flag'](offset=888, bit=28)),\n",
       "    (Field['Flag'](name=\"undeblended_base_CircularApertureFlux_9_0_flag_sincCoeffsTruncated\", doc=\"full sinc coefficient image did not fit within measurement image\"), Key['Flag'](offset=888, bit=29)),\n",
       "    (Field['D'](name=\"undeblended_base_CircularApertureFlux_12_0_flux\", doc=\"flux within 12.000000-pixel aperture\", units=\"count\"), Key<D>(offset=1088, nElements=1)),\n",
       "    (Field['D'](name=\"undeblended_base_CircularApertureFlux_12_0_fluxSigma\", doc=\"1-sigma flux uncertainty\", units=\"count\"), Key<D>(offset=1096, nElements=1)),\n",
       "    (Field['Flag'](name=\"undeblended_base_CircularApertureFlux_12_0_flag\", doc=\"General Failure Flag\"), Key['Flag'](offset=888, bit=30)),\n",
       "    (Field['Flag'](name=\"undeblended_base_CircularApertureFlux_12_0_flag_apertureTruncated\", doc=\"aperture did not fit within measurement image\"), Key['Flag'](offset=888, bit=31)),\n",
       "    (Field['Flag'](name=\"undeblended_base_CircularApertureFlux_12_0_flag_sincCoeffsTruncated\", doc=\"full sinc coefficient image did not fit within measurement image\"), Key['Flag'](offset=888, bit=32)),\n",
       "    (Field['D'](name=\"undeblended_base_CircularApertureFlux_17_0_flux\", doc=\"flux within 17.000000-pixel aperture\", units=\"count\"), Key<D>(offset=1104, nElements=1)),\n",
       "    (Field['D'](name=\"undeblended_base_CircularApertureFlux_17_0_fluxSigma\", doc=\"1-sigma flux uncertainty\", units=\"count\"), Key<D>(offset=1112, nElements=1)),\n",
       "    (Field['Flag'](name=\"undeblended_base_CircularApertureFlux_17_0_flag\", doc=\"General Failure Flag\"), Key['Flag'](offset=888, bit=33)),\n",
       "    (Field['Flag'](name=\"undeblended_base_CircularApertureFlux_17_0_flag_apertureTruncated\", doc=\"aperture did not fit within measurement image\"), Key['Flag'](offset=888, bit=34)),\n",
       "    (Field['D'](name=\"undeblended_base_CircularApertureFlux_25_0_flux\", doc=\"flux within 25.000000-pixel aperture\", units=\"count\"), Key<D>(offset=1120, nElements=1)),\n",
       "    (Field['D'](name=\"undeblended_base_CircularApertureFlux_25_0_fluxSigma\", doc=\"1-sigma flux uncertainty\", units=\"count\"), Key<D>(offset=1128, nElements=1)),\n",
       "    (Field['Flag'](name=\"undeblended_base_CircularApertureFlux_25_0_flag\", doc=\"General Failure Flag\"), Key['Flag'](offset=888, bit=35)),\n",
       "    (Field['Flag'](name=\"undeblended_base_CircularApertureFlux_25_0_flag_apertureTruncated\", doc=\"aperture did not fit within measurement image\"), Key['Flag'](offset=888, bit=36)),\n",
       "    (Field['D'](name=\"undeblended_base_CircularApertureFlux_35_0_flux\", doc=\"flux within 35.000000-pixel aperture\", units=\"count\"), Key<D>(offset=1136, nElements=1)),\n",
       "    (Field['D'](name=\"undeblended_base_CircularApertureFlux_35_0_fluxSigma\", doc=\"1-sigma flux uncertainty\", units=\"count\"), Key<D>(offset=1144, nElements=1)),\n",
       "    (Field['Flag'](name=\"undeblended_base_CircularApertureFlux_35_0_flag\", doc=\"General Failure Flag\"), Key['Flag'](offset=888, bit=37)),\n",
       "    (Field['Flag'](name=\"undeblended_base_CircularApertureFlux_35_0_flag_apertureTruncated\", doc=\"aperture did not fit within measurement image\"), Key['Flag'](offset=888, bit=38)),\n",
       "    (Field['D'](name=\"undeblended_base_CircularApertureFlux_50_0_flux\", doc=\"flux within 50.000000-pixel aperture\", units=\"count\"), Key<D>(offset=1152, nElements=1)),\n",
       "    (Field['D'](name=\"undeblended_base_CircularApertureFlux_50_0_fluxSigma\", doc=\"1-sigma flux uncertainty\", units=\"count\"), Key<D>(offset=1160, nElements=1)),\n",
       "    (Field['Flag'](name=\"undeblended_base_CircularApertureFlux_50_0_flag\", doc=\"General Failure Flag\"), Key['Flag'](offset=888, bit=39)),\n",
       "    (Field['Flag'](name=\"undeblended_base_CircularApertureFlux_50_0_flag_apertureTruncated\", doc=\"aperture did not fit within measurement image\"), Key['Flag'](offset=888, bit=40)),\n",
       "    (Field['D'](name=\"undeblended_base_CircularApertureFlux_70_0_flux\", doc=\"flux within 70.000000-pixel aperture\", units=\"count\"), Key<D>(offset=1168, nElements=1)),\n",
       "    (Field['D'](name=\"undeblended_base_CircularApertureFlux_70_0_fluxSigma\", doc=\"1-sigma flux uncertainty\", units=\"count\"), Key<D>(offset=1176, nElements=1)),\n",
       "    (Field['Flag'](name=\"undeblended_base_CircularApertureFlux_70_0_flag\", doc=\"General Failure Flag\"), Key['Flag'](offset=888, bit=41)),\n",
       "    (Field['Flag'](name=\"undeblended_base_CircularApertureFlux_70_0_flag_apertureTruncated\", doc=\"aperture did not fit within measurement image\"), Key['Flag'](offset=888, bit=42)),\n",
       "    (Field['D'](name=\"undeblended_base_PsfFlux_flux\", doc=\"flux derived from linear least-squares fit of PSF model\", units=\"count\"), Key<D>(offset=1184, nElements=1)),\n",
       "    (Field['D'](name=\"undeblended_base_PsfFlux_fluxSigma\", doc=\"1-sigma flux uncertainty\", units=\"count\"), Key<D>(offset=1192, nElements=1)),\n",
       "    (Field['F'](name=\"undeblended_base_PsfFlux_area\", doc=\"effective area of PSF\", units=\"pixel\"), Key<F>(offset=1200, nElements=1)),\n",
       "    (Field['Flag'](name=\"undeblended_base_PsfFlux_flag\", doc=\"General Failure Flag\"), Key['Flag'](offset=888, bit=43)),\n",
       "    (Field['Flag'](name=\"undeblended_base_PsfFlux_flag_noGoodPixels\", doc=\"not enough non-rejected pixels in data to attempt the fit\"), Key['Flag'](offset=888, bit=44)),\n",
       "    (Field['Flag'](name=\"undeblended_base_PsfFlux_flag_edge\", doc=\"object was too close to the edge of the image to use the full PSF model\"), Key['Flag'](offset=888, bit=45)),\n",
       "    (Field['D'](name=\"undeblended_ext_photometryKron_KronFlux_flux\", doc=\"flux from Kron Flux algorithm\", units=\"count\"), Key<D>(offset=1208, nElements=1)),\n",
       "    (Field['D'](name=\"undeblended_ext_photometryKron_KronFlux_fluxSigma\", doc=\"1-sigma flux uncertainty\", units=\"count\"), Key<D>(offset=1216, nElements=1)),\n",
       "    (Field['F'](name=\"undeblended_ext_photometryKron_KronFlux_radius\", doc=\"Kron radius (sqrt(a*b))\"), Key<F>(offset=1224, nElements=1)),\n",
       "    (Field['F'](name=\"undeblended_ext_photometryKron_KronFlux_radius_for_radius\", doc=\"radius used to estimate <radius> (sqrt(a*b))\"), Key<F>(offset=1228, nElements=1)),\n",
       "    (Field['F'](name=\"undeblended_ext_photometryKron_KronFlux_psf_radius\", doc=\"Radius of PSF\"), Key<F>(offset=1232, nElements=1)),\n",
       "    (Field['Flag'](name=\"undeblended_ext_photometryKron_KronFlux_flag\", doc=\"general failure flag, set if anything went wrong\"), Key['Flag'](offset=888, bit=46)),\n",
       "    (Field['Flag'](name=\"undeblended_ext_photometryKron_KronFlux_flag_edge\", doc=\"bad measurement due to image edge\"), Key['Flag'](offset=888, bit=47)),\n",
       "    (Field['Flag'](name=\"undeblended_ext_photometryKron_KronFlux_flag_bad_shape_no_psf\", doc=\"bad shape and no PSF\"), Key['Flag'](offset=888, bit=48)),\n",
       "    (Field['Flag'](name=\"undeblended_ext_photometryKron_KronFlux_flag_no_minimum_radius\", doc=\"minimum radius could not enforced: no minimum value or PSF\"), Key['Flag'](offset=888, bit=49)),\n",
       "    (Field['Flag'](name=\"undeblended_ext_photometryKron_KronFlux_flag_no_fallback_radius\", doc=\"no minimum radius and no PSF provided\"), Key['Flag'](offset=888, bit=50)),\n",
       "    (Field['Flag'](name=\"undeblended_ext_photometryKron_KronFlux_flag_bad_radius\", doc=\"bad Kron radius\"), Key['Flag'](offset=888, bit=51)),\n",
       "    (Field['Flag'](name=\"undeblended_ext_photometryKron_KronFlux_flag_used_minimum_radius\", doc=\"used the minimum radius for the Kron aperture\"), Key['Flag'](offset=888, bit=52)),\n",
       "    (Field['Flag'](name=\"undeblended_ext_photometryKron_KronFlux_flag_used_psf_radius\", doc=\"used the PSF Kron radius for the Kron aperture\"), Key['Flag'](offset=888, bit=53)),\n",
       "    (Field['Flag'](name=\"undeblended_ext_photometryKron_KronFlux_flag_small_radius\", doc=\"measured Kron radius was smaller than that of the PSF\"), Key['Flag'](offset=888, bit=54)),\n",
       "    (Field['Flag'](name=\"undeblended_ext_photometryKron_KronFlux_flag_bad_shape\", doc=\"shape for measuring Kron radius is bad; used PSF shape\"), Key['Flag'](offset=888, bit=55)),\n",
       "    (Field['D'](name=\"ext_convolved_ConvolvedFlux_0_6_0_apCorr\", doc=\"aperture correction applied to ext_convolved_ConvolvedFlux_0_6_0\"), Key<D>(offset=1240, nElements=1)),\n",
       "    (Field['D'](name=\"ext_convolved_ConvolvedFlux_0_6_0_apCorrSigma\", doc=\"aperture correction applied to ext_convolved_ConvolvedFlux_0_6_0\"), Key<D>(offset=1248, nElements=1)),\n",
       "    (Field['Flag'](name=\"ext_convolved_ConvolvedFlux_0_6_0_flag_apCorr\", doc=\"set if unable to aperture correct ext_convolved_ConvolvedFlux_0_6_0\"), Key['Flag'](offset=888, bit=56)),\n",
       "    (Field['D'](name=\"ext_photometryKron_KronFlux_apCorr\", doc=\"aperture correction applied to ext_photometryKron_KronFlux\"), Key<D>(offset=1256, nElements=1)),\n",
       "    (Field['D'](name=\"ext_photometryKron_KronFlux_apCorrSigma\", doc=\"aperture correction applied to ext_photometryKron_KronFlux\"), Key<D>(offset=1264, nElements=1)),\n",
       "    (Field['Flag'](name=\"ext_photometryKron_KronFlux_flag_apCorr\", doc=\"set if unable to aperture correct ext_photometryKron_KronFlux\"), Key['Flag'](offset=888, bit=57)),\n",
       "    (Field['D'](name=\"ext_convolved_ConvolvedFlux_3_4_5_apCorr\", doc=\"aperture correction applied to ext_convolved_ConvolvedFlux_3_4_5\"), Key<D>(offset=1272, nElements=1)),\n",
       "    (Field['D'](name=\"ext_convolved_ConvolvedFlux_3_4_5_apCorrSigma\", doc=\"aperture correction applied to ext_convolved_ConvolvedFlux_3_4_5\"), Key<D>(offset=1280, nElements=1)),\n",
       "    (Field['Flag'](name=\"ext_convolved_ConvolvedFlux_3_4_5_flag_apCorr\", doc=\"set if unable to aperture correct ext_convolved_ConvolvedFlux_3_4_5\"), Key['Flag'](offset=888, bit=58)),\n",
       "    (Field['D'](name=\"ext_convolved_ConvolvedFlux_0_4_5_apCorr\", doc=\"aperture correction applied to ext_convolved_ConvolvedFlux_0_4_5\"), Key<D>(offset=1288, nElements=1)),\n",
       "    (Field['D'](name=\"ext_convolved_ConvolvedFlux_0_4_5_apCorrSigma\", doc=\"aperture correction applied to ext_convolved_ConvolvedFlux_0_4_5\"), Key<D>(offset=1296, nElements=1)),\n",
       "    (Field['Flag'](name=\"ext_convolved_ConvolvedFlux_0_4_5_flag_apCorr\", doc=\"set if unable to aperture correct ext_convolved_ConvolvedFlux_0_4_5\"), Key['Flag'](offset=888, bit=59)),\n",
       "    (Field['D'](name=\"base_PsfFlux_apCorr\", doc=\"aperture correction applied to base_PsfFlux\"), Key<D>(offset=1304, nElements=1)),\n",
       "    (Field['D'](name=\"base_PsfFlux_apCorrSigma\", doc=\"aperture correction applied to base_PsfFlux\"), Key<D>(offset=1312, nElements=1)),\n",
       "    (Field['Flag'](name=\"base_PsfFlux_flag_apCorr\", doc=\"set if unable to aperture correct base_PsfFlux\"), Key['Flag'](offset=888, bit=60)),\n",
       "    (Field['D'](name=\"modelfit_CModel_initial_apCorr\", doc=\"aperture correction applied to modelfit_CModel_initial\"), Key<D>(offset=1320, nElements=1)),\n",
       "    (Field['D'](name=\"modelfit_CModel_initial_apCorrSigma\", doc=\"aperture correction applied to modelfit_CModel_initial\"), Key<D>(offset=1328, nElements=1)),\n",
       "    (Field['Flag'](name=\"modelfit_CModel_initial_flag_apCorr\", doc=\"set if unable to aperture correct modelfit_CModel_initial\"), Key['Flag'](offset=888, bit=61)),\n",
       "    (Field['D'](name=\"ext_convolved_ConvolvedFlux_2_3_3_apCorr\", doc=\"aperture correction applied to ext_convolved_ConvolvedFlux_2_3_3\"), Key<D>(offset=1336, nElements=1)),\n",
       "    (Field['D'](name=\"ext_convolved_ConvolvedFlux_2_3_3_apCorrSigma\", doc=\"aperture correction applied to ext_convolved_ConvolvedFlux_2_3_3\"), Key<D>(offset=1344, nElements=1)),\n",
       "    (Field['Flag'](name=\"ext_convolved_ConvolvedFlux_2_3_3_flag_apCorr\", doc=\"set if unable to aperture correct ext_convolved_ConvolvedFlux_2_3_3\"), Key['Flag'](offset=888, bit=62)),\n",
       "    (Field['D'](name=\"ext_convolved_ConvolvedFlux_2_kron_apCorr\", doc=\"aperture correction applied to ext_convolved_ConvolvedFlux_2_kron\"), Key<D>(offset=1352, nElements=1)),\n",
       "    (Field['D'](name=\"ext_convolved_ConvolvedFlux_2_kron_apCorrSigma\", doc=\"aperture correction applied to ext_convolved_ConvolvedFlux_2_kron\"), Key<D>(offset=1360, nElements=1)),\n",
       "    (Field['Flag'](name=\"ext_convolved_ConvolvedFlux_2_kron_flag_apCorr\", doc=\"set if unable to aperture correct ext_convolved_ConvolvedFlux_2_kron\"), Key['Flag'](offset=888, bit=63)),\n",
       "    (Field['D'](name=\"ext_convolved_ConvolvedFlux_2_4_5_apCorr\", doc=\"aperture correction applied to ext_convolved_ConvolvedFlux_2_4_5\"), Key<D>(offset=1368, nElements=1)),\n",
       "    (Field['D'](name=\"ext_convolved_ConvolvedFlux_2_4_5_apCorrSigma\", doc=\"aperture correction applied to ext_convolved_ConvolvedFlux_2_4_5\"), Key<D>(offset=1376, nElements=1)),\n",
       "    (Field['Flag'](name=\"ext_convolved_ConvolvedFlux_2_4_5_flag_apCorr\", doc=\"set if unable to aperture correct ext_convolved_ConvolvedFlux_2_4_5\"), Key['Flag'](offset=1384, bit=0)),\n",
       "    (Field['D'](name=\"ext_convolved_ConvolvedFlux_1_3_3_apCorr\", doc=\"aperture correction applied to ext_convolved_ConvolvedFlux_1_3_3\"), Key<D>(offset=1392, nElements=1)),\n",
       "    (Field['D'](name=\"ext_convolved_ConvolvedFlux_1_3_3_apCorrSigma\", doc=\"aperture correction applied to ext_convolved_ConvolvedFlux_1_3_3\"), Key<D>(offset=1400, nElements=1)),\n",
       "    (Field['Flag'](name=\"ext_convolved_ConvolvedFlux_1_3_3_flag_apCorr\", doc=\"set if unable to aperture correct ext_convolved_ConvolvedFlux_1_3_3\"), Key['Flag'](offset=1384, bit=1)),\n",
       "    (Field['D'](name=\"base_GaussianFlux_apCorr\", doc=\"aperture correction applied to base_GaussianFlux\"), Key<D>(offset=1408, nElements=1)),\n",
       "    (Field['D'](name=\"base_GaussianFlux_apCorrSigma\", doc=\"aperture correction applied to base_GaussianFlux\"), Key<D>(offset=1416, nElements=1)),\n",
       "    (Field['Flag'](name=\"base_GaussianFlux_flag_apCorr\", doc=\"set if unable to aperture correct base_GaussianFlux\"), Key['Flag'](offset=1384, bit=2)),\n",
       "    (Field['D'](name=\"ext_convolved_ConvolvedFlux_0_kron_apCorr\", doc=\"aperture correction applied to ext_convolved_ConvolvedFlux_0_kron\"), Key<D>(offset=1424, nElements=1)),\n",
       "    (Field['D'](name=\"ext_convolved_ConvolvedFlux_0_kron_apCorrSigma\", doc=\"aperture correction applied to ext_convolved_ConvolvedFlux_0_kron\"), Key<D>(offset=1432, nElements=1)),\n",
       "    (Field['Flag'](name=\"ext_convolved_ConvolvedFlux_0_kron_flag_apCorr\", doc=\"set if unable to aperture correct ext_convolved_ConvolvedFlux_0_kron\"), Key['Flag'](offset=1384, bit=3)),\n",
       "    (Field['D'](name=\"modelfit_CModel_exp_apCorr\", doc=\"aperture correction applied to modelfit_CModel_exp\"), Key<D>(offset=1440, nElements=1)),\n",
       "    (Field['D'](name=\"modelfit_CModel_exp_apCorrSigma\", doc=\"aperture correction applied to modelfit_CModel_exp\"), Key<D>(offset=1448, nElements=1)),\n",
       "    (Field['Flag'](name=\"modelfit_CModel_exp_flag_apCorr\", doc=\"set if unable to aperture correct modelfit_CModel_exp\"), Key['Flag'](offset=1384, bit=4)),\n",
       "    (Field['D'](name=\"ext_convolved_ConvolvedFlux_3_3_3_apCorr\", doc=\"aperture correction applied to ext_convolved_ConvolvedFlux_3_3_3\"), Key<D>(offset=1456, nElements=1)),\n",
       "    (Field['D'](name=\"ext_convolved_ConvolvedFlux_3_3_3_apCorrSigma\", doc=\"aperture correction applied to ext_convolved_ConvolvedFlux_3_3_3\"), Key<D>(offset=1464, nElements=1)),\n",
       "    (Field['Flag'](name=\"ext_convolved_ConvolvedFlux_3_3_3_flag_apCorr\", doc=\"set if unable to aperture correct ext_convolved_ConvolvedFlux_3_3_3\"), Key['Flag'](offset=1384, bit=5)),\n",
       "    (Field['D'](name=\"ext_convolved_ConvolvedFlux_0_3_3_apCorr\", doc=\"aperture correction applied to ext_convolved_ConvolvedFlux_0_3_3\"), Key<D>(offset=1472, nElements=1)),\n",
       "    (Field['D'](name=\"ext_convolved_ConvolvedFlux_0_3_3_apCorrSigma\", doc=\"aperture correction applied to ext_convolved_ConvolvedFlux_0_3_3\"), Key<D>(offset=1480, nElements=1)),\n",
       "    (Field['Flag'](name=\"ext_convolved_ConvolvedFlux_0_3_3_flag_apCorr\", doc=\"set if unable to aperture correct ext_convolved_ConvolvedFlux_0_3_3\"), Key['Flag'](offset=1384, bit=6)),\n",
       "    (Field['D'](name=\"ext_convolved_ConvolvedFlux_1_kron_apCorr\", doc=\"aperture correction applied to ext_convolved_ConvolvedFlux_1_kron\"), Key<D>(offset=1488, nElements=1)),\n",
       "    (Field['D'](name=\"ext_convolved_ConvolvedFlux_1_kron_apCorrSigma\", doc=\"aperture correction applied to ext_convolved_ConvolvedFlux_1_kron\"), Key<D>(offset=1496, nElements=1)),\n",
       "    (Field['Flag'](name=\"ext_convolved_ConvolvedFlux_1_kron_flag_apCorr\", doc=\"set if unable to aperture correct ext_convolved_ConvolvedFlux_1_kron\"), Key['Flag'](offset=1384, bit=7)),\n",
       "    (Field['D'](name=\"modelfit_CModel_dev_apCorr\", doc=\"aperture correction applied to modelfit_CModel_dev\"), Key<D>(offset=1504, nElements=1)),\n",
       "    (Field['D'](name=\"modelfit_CModel_dev_apCorrSigma\", doc=\"aperture correction applied to modelfit_CModel_dev\"), Key<D>(offset=1512, nElements=1)),\n",
       "    (Field['Flag'](name=\"modelfit_CModel_dev_flag_apCorr\", doc=\"set if unable to aperture correct modelfit_CModel_dev\"), Key['Flag'](offset=1384, bit=8)),\n",
       "    (Field['D'](name=\"modelfit_CModel_apCorr\", doc=\"aperture correction applied to modelfit_CModel\"), Key<D>(offset=1520, nElements=1)),\n",
       "    (Field['D'](name=\"modelfit_CModel_apCorrSigma\", doc=\"aperture correction applied to modelfit_CModel\"), Key<D>(offset=1528, nElements=1)),\n",
       "    (Field['Flag'](name=\"modelfit_CModel_flag_apCorr\", doc=\"set if unable to aperture correct modelfit_CModel\"), Key['Flag'](offset=1384, bit=9)),\n",
       "    (Field['D'](name=\"ext_convolved_ConvolvedFlux_1_4_5_apCorr\", doc=\"aperture correction applied to ext_convolved_ConvolvedFlux_1_4_5\"), Key<D>(offset=1536, nElements=1)),\n",
       "    (Field['D'](name=\"ext_convolved_ConvolvedFlux_1_4_5_apCorrSigma\", doc=\"aperture correction applied to ext_convolved_ConvolvedFlux_1_4_5\"), Key<D>(offset=1544, nElements=1)),\n",
       "    (Field['Flag'](name=\"ext_convolved_ConvolvedFlux_1_4_5_flag_apCorr\", doc=\"set if unable to aperture correct ext_convolved_ConvolvedFlux_1_4_5\"), Key['Flag'](offset=1384, bit=10)),\n",
       "    (Field['D'](name=\"ext_convolved_ConvolvedFlux_3_kron_apCorr\", doc=\"aperture correction applied to ext_convolved_ConvolvedFlux_3_kron\"), Key<D>(offset=1552, nElements=1)),\n",
       "    (Field['D'](name=\"ext_convolved_ConvolvedFlux_3_kron_apCorrSigma\", doc=\"aperture correction applied to ext_convolved_ConvolvedFlux_3_kron\"), Key<D>(offset=1560, nElements=1)),\n",
       "    (Field['Flag'](name=\"ext_convolved_ConvolvedFlux_3_kron_flag_apCorr\", doc=\"set if unable to aperture correct ext_convolved_ConvolvedFlux_3_kron\"), Key['Flag'](offset=1384, bit=11)),\n",
       "    (Field['D'](name=\"ext_convolved_ConvolvedFlux_2_6_0_apCorr\", doc=\"aperture correction applied to ext_convolved_ConvolvedFlux_2_6_0\"), Key<D>(offset=1568, nElements=1)),\n",
       "    (Field['D'](name=\"ext_convolved_ConvolvedFlux_2_6_0_apCorrSigma\", doc=\"aperture correction applied to ext_convolved_ConvolvedFlux_2_6_0\"), Key<D>(offset=1576, nElements=1)),\n",
       "    (Field['Flag'](name=\"ext_convolved_ConvolvedFlux_2_6_0_flag_apCorr\", doc=\"set if unable to aperture correct ext_convolved_ConvolvedFlux_2_6_0\"), Key['Flag'](offset=1384, bit=12)),\n",
       "    (Field['D'](name=\"ext_convolved_ConvolvedFlux_1_6_0_apCorr\", doc=\"aperture correction applied to ext_convolved_ConvolvedFlux_1_6_0\"), Key<D>(offset=1584, nElements=1)),\n",
       "    (Field['D'](name=\"ext_convolved_ConvolvedFlux_1_6_0_apCorrSigma\", doc=\"aperture correction applied to ext_convolved_ConvolvedFlux_1_6_0\"), Key<D>(offset=1592, nElements=1)),\n",
       "    (Field['Flag'](name=\"ext_convolved_ConvolvedFlux_1_6_0_flag_apCorr\", doc=\"set if unable to aperture correct ext_convolved_ConvolvedFlux_1_6_0\"), Key['Flag'](offset=1384, bit=13)),\n",
       "    (Field['D'](name=\"ext_convolved_ConvolvedFlux_3_6_0_apCorr\", doc=\"aperture correction applied to ext_convolved_ConvolvedFlux_3_6_0\"), Key<D>(offset=1600, nElements=1)),\n",
       "    (Field['D'](name=\"ext_convolved_ConvolvedFlux_3_6_0_apCorrSigma\", doc=\"aperture correction applied to ext_convolved_ConvolvedFlux_3_6_0\"), Key<D>(offset=1608, nElements=1)),\n",
       "    (Field['Flag'](name=\"ext_convolved_ConvolvedFlux_3_6_0_flag_apCorr\", doc=\"set if unable to aperture correct ext_convolved_ConvolvedFlux_3_6_0\"), Key['Flag'](offset=1384, bit=14)),\n",
       "    (Field['D'](name=\"base_ClassificationExtendedness_value\", doc=\"Set to 1 for extended sources, 0 for point sources.\"), Key<D>(offset=1616, nElements=1)),\n",
       "    (Field['Flag'](name=\"base_ClassificationExtendedness_flag\", doc=\"Set to 1 for any fatal failure.\"), Key['Flag'](offset=1384, bit=15)),\n",
       "    'base_CircularApertureFlux_12_0_instFlux'->'base_CircularApertureFlux_12_0_flux'\n",
       "    'base_CircularApertureFlux_12_0_instFluxErr'->'base_CircularApertureFlux_12_0_fluxSigma'\n",
       "    'base_CircularApertureFlux_17_0_instFlux'->'base_CircularApertureFlux_17_0_flux'\n",
       "    'base_CircularApertureFlux_17_0_instFluxErr'->'base_CircularApertureFlux_17_0_fluxSigma'\n",
       "    'base_CircularApertureFlux_25_0_instFlux'->'base_CircularApertureFlux_25_0_flux'\n",
       "    'base_CircularApertureFlux_25_0_instFluxErr'->'base_CircularApertureFlux_25_0_fluxSigma'\n",
       "    'base_CircularApertureFlux_35_0_instFlux'->'base_CircularApertureFlux_35_0_flux'\n",
       "    'base_CircularApertureFlux_35_0_instFluxErr'->'base_CircularApertureFlux_35_0_fluxSigma'\n",
       "    'base_CircularApertureFlux_3_0_instFlux'->'base_CircularApertureFlux_3_0_flux'\n",
       "    'base_CircularApertureFlux_3_0_instFluxErr'->'base_CircularApertureFlux_3_0_fluxSigma'\n",
       "    'base_CircularApertureFlux_4_5_instFlux'->'base_CircularApertureFlux_4_5_flux'\n",
       "    'base_CircularApertureFlux_4_5_instFluxErr'->'base_CircularApertureFlux_4_5_fluxSigma'\n",
       "    'base_CircularApertureFlux_50_0_instFlux'->'base_CircularApertureFlux_50_0_flux'\n",
       "    'base_CircularApertureFlux_50_0_instFluxErr'->'base_CircularApertureFlux_50_0_fluxSigma'\n",
       "    'base_CircularApertureFlux_6_0_instFlux'->'base_CircularApertureFlux_6_0_flux'\n",
       "    'base_CircularApertureFlux_6_0_instFluxErr'->'base_CircularApertureFlux_6_0_fluxSigma'\n",
       "    'base_CircularApertureFlux_70_0_instFlux'->'base_CircularApertureFlux_70_0_flux'\n",
       "    'base_CircularApertureFlux_70_0_instFluxErr'->'base_CircularApertureFlux_70_0_fluxSigma'\n",
       "    'base_CircularApertureFlux_9_0_instFlux'->'base_CircularApertureFlux_9_0_flux'\n",
       "    'base_CircularApertureFlux_9_0_instFluxErr'->'base_CircularApertureFlux_9_0_fluxSigma'\n",
       "    'base_CircularApertureFlux_flag_badCentroid'->'base_TransformedCentroid_flag'\n",
       "    'base_GaussianFlux_apCorrErr'->'base_GaussianFlux_apCorrSigma'\n",
       "    'base_GaussianFlux_flag_badCentroid'->'base_TransformedCentroid_flag'\n",
       "    'base_GaussianFlux_flag_badShape'->'base_TransformedShape_flag'\n",
       "    'base_GaussianFlux_instFlux'->'base_GaussianFlux_flux'\n",
       "    'base_GaussianFlux_instFluxErr'->'base_GaussianFlux_fluxSigma'\n",
       "    'base_InputCount_flag_badCentroid'->'base_TransformedCentroid_flag'\n",
       "    'base_LocalBackground_flag_badCentroid'->'base_TransformedCentroid_flag'\n",
       "    'base_LocalBackground_instFlux'->'base_LocalBackground_flux'\n",
       "    'base_LocalBackground_instFluxErr'->'base_LocalBackground_fluxSigma'\n",
       "    'base_PsfFlux_apCorrErr'->'base_PsfFlux_apCorrSigma'\n",
       "    'base_PsfFlux_flag_badCentroid'->'base_TransformedCentroid_flag'\n",
       "    'base_PsfFlux_instFlux'->'base_PsfFlux_flux'\n",
       "    'base_PsfFlux_instFluxErr'->'base_PsfFlux_fluxSigma'\n",
       "    'base_SdssCentroid_flag_badInitialCentroid'->'base_TransformedCentroid_flag'\n",
       "    'base_SdssCentroid_xErr'->'base_SdssCentroid_xSigma'\n",
       "    'base_SdssCentroid_yErr'->'base_SdssCentroid_ySigma'\n",
       "    'base_SdssShape_flag_badCentroid'->'base_TransformedCentroid_flag'\n",
       "    'base_SdssShape_instFlux'->'base_SdssShape_flux'\n",
       "    'base_SdssShape_instFluxErr'->'base_SdssShape_fluxSigma'\n",
       "    'base_SdssShape_instFlux_xx_Cov'->'base_SdssShape_flux_xx_Cov'\n",
       "    'base_SdssShape_instFlux_xy_Cov'->'base_SdssShape_flux_xy_Cov'\n",
       "    'base_SdssShape_instFlux_yy_Cov'->'base_SdssShape_flux_yy_Cov'\n",
       "    'base_SdssShape_xxErr'->'base_SdssShape_xxSigma'\n",
       "    'base_SdssShape_xyErr'->'base_SdssShape_xySigma'\n",
       "    'base_SdssShape_yyErr'->'base_SdssShape_yySigma'\n",
       "    'base_Variance_flag_badCentroid'->'base_TransformedCentroid_flag'\n",
       "    'ext_convolved_ConvolvedFlux_0_3_3_apCorrErr'->'ext_convolved_ConvolvedFlux_0_3_3_apCorrSigma'\n",
       "    'ext_convolved_ConvolvedFlux_0_3_3_instFlux'->'ext_convolved_ConvolvedFlux_0_3_3_flux'\n",
       "    'ext_convolved_ConvolvedFlux_0_3_3_instFluxErr'->'ext_convolved_ConvolvedFlux_0_3_3_fluxSigma'\n",
       "    'ext_convolved_ConvolvedFlux_0_4_5_apCorrErr'->'ext_convolved_ConvolvedFlux_0_4_5_apCorrSigma'\n",
       "    'ext_convolved_ConvolvedFlux_0_4_5_instFlux'->'ext_convolved_ConvolvedFlux_0_4_5_flux'\n",
       "    'ext_convolved_ConvolvedFlux_0_4_5_instFluxErr'->'ext_convolved_ConvolvedFlux_0_4_5_fluxSigma'\n",
       "    'ext_convolved_ConvolvedFlux_0_6_0_apCorrErr'->'ext_convolved_ConvolvedFlux_0_6_0_apCorrSigma'\n",
       "    'ext_convolved_ConvolvedFlux_0_6_0_instFlux'->'ext_convolved_ConvolvedFlux_0_6_0_flux'\n",
       "    'ext_convolved_ConvolvedFlux_0_6_0_instFluxErr'->'ext_convolved_ConvolvedFlux_0_6_0_fluxSigma'\n",
       "    'ext_convolved_ConvolvedFlux_0_flag_badCentroid'->'base_TransformedCentroid_flag'\n",
       "    'ext_convolved_ConvolvedFlux_0_kron_apCorrErr'->'ext_convolved_ConvolvedFlux_0_kron_apCorrSigma'\n",
       "    'ext_convolved_ConvolvedFlux_0_kron_instFlux'->'ext_convolved_ConvolvedFlux_0_kron_flux'\n",
       "    'ext_convolved_ConvolvedFlux_0_kron_instFluxErr'->'ext_convolved_ConvolvedFlux_0_kron_fluxSigma'\n",
       "    'ext_convolved_ConvolvedFlux_1_3_3_apCorrErr'->'ext_convolved_ConvolvedFlux_1_3_3_apCorrSigma'\n",
       "    'ext_convolved_ConvolvedFlux_1_3_3_instFlux'->'ext_convolved_ConvolvedFlux_1_3_3_flux'\n",
       "    'ext_convolved_ConvolvedFlux_1_3_3_instFluxErr'->'ext_convolved_ConvolvedFlux_1_3_3_fluxSigma'\n",
       "    'ext_convolved_ConvolvedFlux_1_4_5_apCorrErr'->'ext_convolved_ConvolvedFlux_1_4_5_apCorrSigma'\n",
       "    'ext_convolved_ConvolvedFlux_1_4_5_instFlux'->'ext_convolved_ConvolvedFlux_1_4_5_flux'\n",
       "    'ext_convolved_ConvolvedFlux_1_4_5_instFluxErr'->'ext_convolved_ConvolvedFlux_1_4_5_fluxSigma'\n",
       "    'ext_convolved_ConvolvedFlux_1_6_0_apCorrErr'->'ext_convolved_ConvolvedFlux_1_6_0_apCorrSigma'\n",
       "    'ext_convolved_ConvolvedFlux_1_6_0_instFlux'->'ext_convolved_ConvolvedFlux_1_6_0_flux'\n",
       "    'ext_convolved_ConvolvedFlux_1_6_0_instFluxErr'->'ext_convolved_ConvolvedFlux_1_6_0_fluxSigma'\n",
       "    'ext_convolved_ConvolvedFlux_1_flag_badCentroid'->'base_TransformedCentroid_flag'\n",
       "    'ext_convolved_ConvolvedFlux_1_kron_apCorrErr'->'ext_convolved_ConvolvedFlux_1_kron_apCorrSigma'\n",
       "    'ext_convolved_ConvolvedFlux_1_kron_instFlux'->'ext_convolved_ConvolvedFlux_1_kron_flux'\n",
       "    'ext_convolved_ConvolvedFlux_1_kron_instFluxErr'->'ext_convolved_ConvolvedFlux_1_kron_fluxSigma'\n",
       "    'ext_convolved_ConvolvedFlux_2_3_3_apCorrErr'->'ext_convolved_ConvolvedFlux_2_3_3_apCorrSigma'\n",
       "    'ext_convolved_ConvolvedFlux_2_3_3_instFlux'->'ext_convolved_ConvolvedFlux_2_3_3_flux'\n",
       "    'ext_convolved_ConvolvedFlux_2_3_3_instFluxErr'->'ext_convolved_ConvolvedFlux_2_3_3_fluxSigma'\n",
       "    'ext_convolved_ConvolvedFlux_2_4_5_apCorrErr'->'ext_convolved_ConvolvedFlux_2_4_5_apCorrSigma'\n",
       "    'ext_convolved_ConvolvedFlux_2_4_5_instFlux'->'ext_convolved_ConvolvedFlux_2_4_5_flux'\n",
       "    'ext_convolved_ConvolvedFlux_2_4_5_instFluxErr'->'ext_convolved_ConvolvedFlux_2_4_5_fluxSigma'\n",
       "    'ext_convolved_ConvolvedFlux_2_6_0_apCorrErr'->'ext_convolved_ConvolvedFlux_2_6_0_apCorrSigma'\n",
       "    'ext_convolved_ConvolvedFlux_2_6_0_instFlux'->'ext_convolved_ConvolvedFlux_2_6_0_flux'\n",
       "    'ext_convolved_ConvolvedFlux_2_6_0_instFluxErr'->'ext_convolved_ConvolvedFlux_2_6_0_fluxSigma'\n",
       "    'ext_convolved_ConvolvedFlux_2_flag_badCentroid'->'base_TransformedCentroid_flag'\n",
       "    'ext_convolved_ConvolvedFlux_2_kron_apCorrErr'->'ext_convolved_ConvolvedFlux_2_kron_apCorrSigma'\n",
       "    'ext_convolved_ConvolvedFlux_2_kron_instFlux'->'ext_convolved_ConvolvedFlux_2_kron_flux'\n",
       "    'ext_convolved_ConvolvedFlux_2_kron_instFluxErr'->'ext_convolved_ConvolvedFlux_2_kron_fluxSigma'\n",
       "    'ext_convolved_ConvolvedFlux_3_3_3_apCorrErr'->'ext_convolved_ConvolvedFlux_3_3_3_apCorrSigma'\n",
       "    'ext_convolved_ConvolvedFlux_3_3_3_instFlux'->'ext_convolved_ConvolvedFlux_3_3_3_flux'\n",
       "    'ext_convolved_ConvolvedFlux_3_3_3_instFluxErr'->'ext_convolved_ConvolvedFlux_3_3_3_fluxSigma'\n",
       "    'ext_convolved_ConvolvedFlux_3_4_5_apCorrErr'->'ext_convolved_ConvolvedFlux_3_4_5_apCorrSigma'\n",
       "    'ext_convolved_ConvolvedFlux_3_4_5_instFlux'->'ext_convolved_ConvolvedFlux_3_4_5_flux'\n",
       "    'ext_convolved_ConvolvedFlux_3_4_5_instFluxErr'->'ext_convolved_ConvolvedFlux_3_4_5_fluxSigma'\n",
       "    'ext_convolved_ConvolvedFlux_3_6_0_apCorrErr'->'ext_convolved_ConvolvedFlux_3_6_0_apCorrSigma'\n",
       "    'ext_convolved_ConvolvedFlux_3_6_0_instFlux'->'ext_convolved_ConvolvedFlux_3_6_0_flux'\n",
       "    'ext_convolved_ConvolvedFlux_3_6_0_instFluxErr'->'ext_convolved_ConvolvedFlux_3_6_0_fluxSigma'\n",
       "    'ext_convolved_ConvolvedFlux_3_flag_badCentroid'->'base_TransformedCentroid_flag'\n",
       "    'ext_convolved_ConvolvedFlux_3_kron_apCorrErr'->'ext_convolved_ConvolvedFlux_3_kron_apCorrSigma'\n",
       "    'ext_convolved_ConvolvedFlux_3_kron_instFlux'->'ext_convolved_ConvolvedFlux_3_kron_flux'\n",
       "    'ext_convolved_ConvolvedFlux_3_kron_instFluxErr'->'ext_convolved_ConvolvedFlux_3_kron_fluxSigma'\n",
       "    'ext_convolved_ConvolvedFlux_flag_badCentroid'->'base_TransformedCentroid_flag'\n",
       "    'ext_photometryKron_KronFlux_apCorrErr'->'ext_photometryKron_KronFlux_apCorrSigma'\n",
       "    'ext_photometryKron_KronFlux_flag_badInitialCentroid'->'base_TransformedCentroid_flag'\n",
       "    'ext_photometryKron_KronFlux_instFlux'->'ext_photometryKron_KronFlux_flux'\n",
       "    'ext_photometryKron_KronFlux_instFluxErr'->'ext_photometryKron_KronFlux_fluxSigma'\n",
       "    'modelfit_CModel_apCorrErr'->'modelfit_CModel_apCorrSigma'\n",
       "    'modelfit_CModel_dev_apCorrErr'->'modelfit_CModel_dev_apCorrSigma'\n",
       "    'modelfit_CModel_dev_instFlux'->'modelfit_CModel_dev_flux'\n",
       "    'modelfit_CModel_dev_instFluxErr'->'modelfit_CModel_dev_fluxSigma'\n",
       "    'modelfit_CModel_dev_instFlux_inner'->'modelfit_CModel_dev_flux_inner'\n",
       "    'modelfit_CModel_exp_apCorrErr'->'modelfit_CModel_exp_apCorrSigma'\n",
       "    'modelfit_CModel_exp_instFlux'->'modelfit_CModel_exp_flux'\n",
       "    'modelfit_CModel_exp_instFluxErr'->'modelfit_CModel_exp_fluxSigma'\n",
       "    'modelfit_CModel_exp_instFlux_inner'->'modelfit_CModel_exp_flux_inner'\n",
       "    'modelfit_CModel_initial_apCorrErr'->'modelfit_CModel_initial_apCorrSigma'\n",
       "    'modelfit_CModel_initial_instFlux'->'modelfit_CModel_initial_flux'\n",
       "    'modelfit_CModel_initial_instFluxErr'->'modelfit_CModel_initial_fluxSigma'\n",
       "    'modelfit_CModel_initial_instFlux_inner'->'modelfit_CModel_initial_flux_inner'\n",
       "    'modelfit_CModel_instFlux'->'modelfit_CModel_flux'\n",
       "    'modelfit_CModel_instFluxErr'->'modelfit_CModel_fluxSigma'\n",
       "    'modelfit_CModel_instFlux_inner'->'modelfit_CModel_flux_inner'\n",
       "    'modelfit_DoubleShapeletPsfApprox_flag_badCentroid'->'base_TransformedCentroid_flag'\n",
       "    'slot_Centroid'->'base_TransformedCentroid'\n",
       "    'slot_ModelFlux'->'modelfit_CModel'\n",
       "    'slot_PsfFlux'->'base_PsfFlux'\n",
       "    'slot_PsfShape'->'base_SdssShape_psf'\n",
       "    'slot_Shape'->'base_TransformedShape'\n",
       "    'undeblended_base_CircularApertureFlux_12_0_instFlux'->'undeblended_base_CircularApertureFlux_12_0_flux'\n",
       "    'undeblended_base_CircularApertureFlux_12_0_instFluxErr'->'undeblended_base_CircularApertureFlux_12_0_fluxSigma'\n",
       "    'undeblended_base_CircularApertureFlux_17_0_instFlux'->'undeblended_base_CircularApertureFlux_17_0_flux'\n",
       "    'undeblended_base_CircularApertureFlux_17_0_instFluxErr'->'undeblended_base_CircularApertureFlux_17_0_fluxSigma'\n",
       "    'undeblended_base_CircularApertureFlux_25_0_instFlux'->'undeblended_base_CircularApertureFlux_25_0_flux'\n",
       "    'undeblended_base_CircularApertureFlux_25_0_instFluxErr'->'undeblended_base_CircularApertureFlux_25_0_fluxSigma'\n",
       "    'undeblended_base_CircularApertureFlux_35_0_instFlux'->'undeblended_base_CircularApertureFlux_35_0_flux'\n",
       "    'undeblended_base_CircularApertureFlux_35_0_instFluxErr'->'undeblended_base_CircularApertureFlux_35_0_fluxSigma'\n",
       "    'undeblended_base_CircularApertureFlux_3_0_instFlux'->'undeblended_base_CircularApertureFlux_3_0_flux'\n",
       "    'undeblended_base_CircularApertureFlux_3_0_instFluxErr'->'undeblended_base_CircularApertureFlux_3_0_fluxSigma'\n",
       "    'undeblended_base_CircularApertureFlux_4_5_instFlux'->'undeblended_base_CircularApertureFlux_4_5_flux'\n",
       "    'undeblended_base_CircularApertureFlux_4_5_instFluxErr'->'undeblended_base_CircularApertureFlux_4_5_fluxSigma'\n",
       "    'undeblended_base_CircularApertureFlux_50_0_instFlux'->'undeblended_base_CircularApertureFlux_50_0_flux'\n",
       "    'undeblended_base_CircularApertureFlux_50_0_instFluxErr'->'undeblended_base_CircularApertureFlux_50_0_fluxSigma'\n",
       "    'undeblended_base_CircularApertureFlux_6_0_instFlux'->'undeblended_base_CircularApertureFlux_6_0_flux'\n",
       "    'undeblended_base_CircularApertureFlux_6_0_instFluxErr'->'undeblended_base_CircularApertureFlux_6_0_fluxSigma'\n",
       "    'undeblended_base_CircularApertureFlux_70_0_instFlux'->'undeblended_base_CircularApertureFlux_70_0_flux'\n",
       "    'undeblended_base_CircularApertureFlux_70_0_instFluxErr'->'undeblended_base_CircularApertureFlux_70_0_fluxSigma'\n",
       "    'undeblended_base_CircularApertureFlux_9_0_instFlux'->'undeblended_base_CircularApertureFlux_9_0_flux'\n",
       "    'undeblended_base_CircularApertureFlux_9_0_instFluxErr'->'undeblended_base_CircularApertureFlux_9_0_fluxSigma'\n",
       "    'undeblended_base_CircularApertureFlux_flag_badCentroid'->'base_TransformedCentroid_flag'\n",
       "    'undeblended_base_PsfFlux_flag_badCentroid'->'base_TransformedCentroid_flag'\n",
       "    'undeblended_base_PsfFlux_instFlux'->'undeblended_base_PsfFlux_flux'\n",
       "    'undeblended_base_PsfFlux_instFluxErr'->'undeblended_base_PsfFlux_fluxSigma'\n",
       "    'undeblended_ext_photometryKron_KronFlux_flag_badInitialCentroid'->'base_TransformedCentroid_flag'\n",
       "    'undeblended_ext_photometryKron_KronFlux_instFlux'->'undeblended_ext_photometryKron_KronFlux_flux'\n",
       "    'undeblended_ext_photometryKron_KronFlux_instFluxErr'->'undeblended_ext_photometryKron_KronFlux_fluxSigma'\n",
       ")"
      ]
     },
     "execution_count": 193,
     "metadata": {},
     "output_type": "execute_result"
    }
   ],
   "source": [
    "data_g.getSchema()"
   ]
  },
  {
   "cell_type": "code",
   "execution_count": 196,
   "metadata": {},
   "outputs": [
    {
     "data": {
      "text/plain": [
       "array([        nan,         nan,         nan, ...,  0.67744539,\n",
       "       12.72597617, 12.0582546 ])"
      ]
     },
     "execution_count": 196,
     "metadata": {},
     "output_type": "execute_result"
    }
   ],
   "source": [
    "data_g['modelfit_CModel_flux']"
   ]
  },
  {
   "cell_type": "code",
   "execution_count": 139,
   "metadata": {},
   "outputs": [],
   "source": [
    "stars = np.where(data_g['base_ClassificationExtendedness_value']==0)"
   ]
  },
  {
   "cell_type": "code",
   "execution_count": 120,
   "metadata": {},
   "outputs": [
    {
     "data": {
      "text/html": [
       "&lt;Column name=&apos;id&apos; dtype=&apos;int64&apos; description=&apos;unique ID&apos; length=10&gt;\n",
       "<table>\n",
       "<tr><td>41565959051280385</td></tr>\n",
       "<tr><td>41565959051280386</td></tr>\n",
       "<tr><td>41565959051280387</td></tr>\n",
       "<tr><td>41565959051280389</td></tr>\n",
       "<tr><td>41565959051280390</td></tr>\n",
       "<tr><td>41565959051280391</td></tr>\n",
       "<tr><td>41565959051280392</td></tr>\n",
       "<tr><td>41565959051280393</td></tr>\n",
       "<tr><td>41565959051280394</td></tr>\n",
       "<tr><td>41565959051280395</td></tr>\n",
       "</table>"
      ],
      "text/plain": [
       "<Column name='id' dtype='int64' description='unique ID' length=10>\n",
       "41565959051280385\n",
       "41565959051280386\n",
       "41565959051280387\n",
       "41565959051280389\n",
       "41565959051280390\n",
       "41565959051280391\n",
       "41565959051280392\n",
       "41565959051280393\n",
       "41565959051280394\n",
       "41565959051280395"
      ]
     },
     "execution_count": 120,
     "metadata": {},
     "output_type": "execute_result"
    }
   ],
   "source": [
    "stars_r = np.where(data_r['base_ClassificationExtendedness_value']==0)\n",
    "data_g['id'][:10]"
   ]
  },
  {
   "cell_type": "code",
   "execution_count": 136,
   "metadata": {},
   "outputs": [],
   "source": [
    "np.testing.assert_array_equal(data_g['id'], data_r['id'])\n",
    "np.testing.assert_array_equal(data_g['id'], data_i['id'])"
   ]
  },
  {
   "cell_type": "code",
   "execution_count": 124,
   "metadata": {},
   "outputs": [
    {
     "data": {
      "text/plain": [
       "array([   19,    37,    47, ..., 24382, 24386, 24387])"
      ]
     },
     "execution_count": 124,
     "metadata": {},
     "output_type": "execute_result"
    }
   ],
   "source": [
    "stars_r[0]"
   ]
  },
  {
   "cell_type": "code",
   "execution_count": 125,
   "metadata": {},
   "outputs": [
    {
     "data": {
      "text/plain": [
       "array([   37,    49,    52, ..., 24382, 24385, 24389])"
      ]
     },
     "execution_count": 125,
     "metadata": {},
     "output_type": "execute_result"
    }
   ],
   "source": [
    "stars[0]"
   ]
  },
  {
   "cell_type": "code",
   "execution_count": 126,
   "metadata": {},
   "outputs": [
    {
     "data": {
      "text/plain": [
       "5309"
      ]
     },
     "execution_count": 126,
     "metadata": {},
     "output_type": "execute_result"
    }
   ],
   "source": [
    "len(stars_r[0])"
   ]
  },
  {
   "cell_type": "code",
   "execution_count": 127,
   "metadata": {},
   "outputs": [
    {
     "data": {
      "text/plain": [
       "4563"
      ]
     },
     "execution_count": 127,
     "metadata": {},
     "output_type": "execute_result"
    }
   ],
   "source": [
    "len(stars[0])"
   ]
  },
  {
   "cell_type": "code",
   "execution_count": 129,
   "metadata": {},
   "outputs": [
    {
     "data": {
      "text/plain": [
       "49"
      ]
     },
     "execution_count": 129,
     "metadata": {},
     "output_type": "execute_result"
    }
   ],
   "source": [
    "stars_r[0][3]"
   ]
  },
  {
   "cell_type": "code",
   "execution_count": 134,
   "metadata": {},
   "outputs": [
    {
     "data": {
      "text/plain": [
       "False"
      ]
     },
     "execution_count": 134,
     "metadata": {},
     "output_type": "execute_result"
    }
   ],
   "source": [
    "np.any(data_g['base_ClassificationExtendedness_flag'][stars])"
   ]
  },
  {
   "cell_type": "code",
   "execution_count": 152,
   "metadata": {},
   "outputs": [],
   "source": [
    "stars = np.where(np.logical_and(data_g['base_ClassificationExtendedness_value']==0,\n",
    "                 np.logical_and(data_i['base_ClassificationExtendedness_value']==0,\n",
    "                                data_r['base_ClassificationExtendedness_value']==0)))"
   ]
  },
  {
   "cell_type": "code",
   "execution_count": 153,
   "metadata": {},
   "outputs": [
    {
     "data": {
      "text/plain": [
       "2346"
      ]
     },
     "execution_count": 153,
     "metadata": {},
     "output_type": "execute_result"
    }
   ],
   "source": [
    "len(stars[0])"
   ]
  },
  {
   "cell_type": "code",
   "execution_count": 156,
   "metadata": {},
   "outputs": [],
   "source": [
    "calib = butler.get('deepCoadd_calexp_photoCalib', dataId=data_id_r)"
   ]
  },
  {
   "cell_type": "code",
   "execution_count": 158,
   "metadata": {},
   "outputs": [
    {
     "data": {
      "text/plain": [
       "['__class__',\n",
       " '__delattr__',\n",
       " '__dir__',\n",
       " '__doc__',\n",
       " '__eq__',\n",
       " '__format__',\n",
       " '__ge__',\n",
       " '__getattribute__',\n",
       " '__gt__',\n",
       " '__hash__',\n",
       " '__init__',\n",
       " '__init_subclass__',\n",
       " '__le__',\n",
       " '__lt__',\n",
       " '__module__',\n",
       " '__ne__',\n",
       " '__new__',\n",
       " '__reduce__',\n",
       " '__reduce_ex__',\n",
       " '__repr__',\n",
       " '__setattr__',\n",
       " '__sizeof__',\n",
       " '__str__',\n",
       " '__subclasshook__',\n",
       " '_getFlux',\n",
       " '_getFluxMag0',\n",
       " '_getMagnitude',\n",
       " '_getThrowOnNegativeFlux',\n",
       " '_setThrowOnNegativeFlux',\n",
       " 'calibrateCatalog',\n",
       " 'calibrateImage',\n",
       " 'computeScaledCalibration',\n",
       " 'computeScalingTo',\n",
       " 'getCalibrationErr',\n",
       " 'getCalibrationMean',\n",
       " 'getFlux',\n",
       " 'getFluxMag0',\n",
       " 'getInstFluxAtZeroMagnitude',\n",
       " 'getMagnitude',\n",
       " 'getThrowOnNegativeFlux',\n",
       " 'instFluxToMagnitude',\n",
       " 'instFluxToNanojansky',\n",
       " 'isPersistable',\n",
       " 'magnitudeToInstFlux',\n",
       " 'readFits',\n",
       " 'setFluxMag0',\n",
       " 'setThrowOnNegativeFlux',\n",
       " 'writeFits']"
      ]
     },
     "execution_count": 158,
     "metadata": {},
     "output_type": "execute_result"
    }
   ],
   "source": [
    "dir(calib)"
   ]
  },
  {
   "cell_type": "code",
   "execution_count": 161,
   "metadata": {},
   "outputs": [
    {
     "name": "stdout",
     "output_type": "stream",
     "text": [
      "Help on method instFluxToMagnitude in module lsst.afw.image.photoCalib:\n",
      "\n",
      "instFluxToMagnitude(...) method of lsst.afw.image.photoCalib.PhotoCalib instance\n",
      "    instFluxToMagnitude(*args, **kwargs)\n",
      "    Overloaded function.\n",
      "    \n",
      "    1. instFluxToMagnitude(self: lsst.afw.image.photoCalib.PhotoCalib, instFlux: float, point: lsst.geom.Point2D) -> float\n",
      "    \n",
      "    2. instFluxToMagnitude(self: lsst.afw.image.photoCalib.PhotoCalib, instFlux: float) -> float\n",
      "    \n",
      "    3. instFluxToMagnitude(self: lsst.afw.image.photoCalib.PhotoCalib, instFlux: float, instFluxErr: float, point: lsst.geom.Point2D) -> lsst.afw.image.photoCalib.Measurement\n",
      "    \n",
      "    4. instFluxToMagnitude(self: lsst.afw.image.photoCalib.PhotoCalib, instFlux: float, instFluxErr: float) -> lsst.afw.image.photoCalib.Measurement\n",
      "    \n",
      "    5. instFluxToMagnitude(self: lsst.afw.image.photoCalib.PhotoCalib, sourceRecord: lsst.afw.table.SourceRecord, instFluxField: str) -> lsst.afw.image.photoCalib.Measurement\n",
      "    \n",
      "    6. instFluxToMagnitude(self: lsst.afw.image.photoCalib.PhotoCalib, sourceCatalog: lsst.afw.table.SourceCatalog, instFluxField: str) -> ndarray::Array<double, 2, 2>\n",
      "    \n",
      "    7. instFluxToMagnitude(self: lsst.afw.image.photoCalib.PhotoCalib, sourceCatalog: lsst.afw.table.SourceCatalog, instFluxField: str, outField: str) -> None\n",
      "\n"
     ]
    }
   ],
   "source": [
    "help(calib.instFluxToMagnitude)"
   ]
  },
  {
   "cell_type": "code",
   "execution_count": 23,
   "metadata": {},
   "outputs": [
    {
     "name": "stdout",
     "output_type": "stream",
     "text": [
      "Help on method instFluxToMagnitude in module lsst.afw.image.photoCalib:\n",
      "\n",
      "instFluxToMagnitude(...) method of lsst.afw.image.photoCalib.PhotoCalib instance\n",
      "    instFluxToMagnitude(*args, **kwargs)\n",
      "    Overloaded function.\n",
      "    \n",
      "    1. instFluxToMagnitude(self: lsst.afw.image.photoCalib.PhotoCalib, instFlux: float, point: lsst.geom.Point2D) -> float\n",
      "    \n",
      "    2. instFluxToMagnitude(self: lsst.afw.image.photoCalib.PhotoCalib, instFlux: float) -> float\n",
      "    \n",
      "    3. instFluxToMagnitude(self: lsst.afw.image.photoCalib.PhotoCalib, instFlux: float, instFluxErr: float, point: lsst.geom.Point2D) -> lsst.afw.image.photoCalib.Measurement\n",
      "    \n",
      "    4. instFluxToMagnitude(self: lsst.afw.image.photoCalib.PhotoCalib, instFlux: float, instFluxErr: float) -> lsst.afw.image.photoCalib.Measurement\n",
      "    \n",
      "    5. instFluxToMagnitude(self: lsst.afw.image.photoCalib.PhotoCalib, sourceRecord: lsst.afw.table.SourceRecord, instFluxField: str) -> lsst.afw.image.photoCalib.Measurement\n",
      "    \n",
      "    6. instFluxToMagnitude(self: lsst.afw.image.photoCalib.PhotoCalib, sourceCatalog: lsst.afw.table.SourceCatalog, instFluxField: str) -> ndarray::Array<double, 2, 2>\n",
      "    \n",
      "    7. instFluxToMagnitude(self: lsst.afw.image.photoCalib.PhotoCalib, sourceCatalog: lsst.afw.table.SourceCatalog, instFluxField: str, outField: str) -> None\n",
      "\n"
     ]
    }
   ],
   "source": [
    "help(calib_g.instFluxToMagnitude)"
   ]
  },
  {
   "cell_type": "code",
   "execution_count": null,
   "metadata": {},
   "outputs": [],
   "source": []
  }
 ],
 "metadata": {
  "kernelspec": {
   "display_name": "LSST",
   "language": "python",
   "name": "lsst"
  },
  "language_info": {
   "codemirror_mode": {
    "name": "ipython",
    "version": 3
   },
   "file_extension": ".py",
   "mimetype": "text/x-python",
   "name": "python",
   "nbconvert_exporter": "python",
   "pygments_lexer": "ipython3",
   "version": "3.7.2"
  }
 },
 "nbformat": 4,
 "nbformat_minor": 2
}
