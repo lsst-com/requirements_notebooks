{
 "cells": [
  {
   "cell_type": "markdown",
   "metadata": {},
   "source": [
    "Some comments"
   ]
  },
  {
   "cell_type": "code",
   "execution_count": 1,
   "metadata": {},
   "outputs": [],
   "source": [
    "%matplotlib inline\n",
    "import matplotlib.pyplot as plt"
   ]
  },
  {
   "cell_type": "code",
   "execution_count": 2,
   "metadata": {},
   "outputs": [],
   "source": [
    "import os\n",
    "import copy\n",
    "import numpy as np\n",
    "repo_dir = '/datasets/hsc/repo/rerun/DM-13666/UDEEP'\n",
    "assert os.path.isdir(repo_dir)\n",
    "\n",
    "import lsst.daf.persistence as daf_persistence\n",
    "butler = daf_persistence.Butler(repo_dir)"
   ]
  },
  {
   "cell_type": "code",
   "execution_count": 3,
   "metadata": {},
   "outputs": [],
   "source": [
    "coadd_skymap = butler.get('deepCoadd_skyMap')"
   ]
  },
  {
   "cell_type": "code",
   "execution_count": 4,
   "metadata": {},
   "outputs": [],
   "source": [
    "#dir(coadd_skymap)"
   ]
  },
  {
   "cell_type": "code",
   "execution_count": 5,
   "metadata": {},
   "outputs": [],
   "source": [
    "#help(coadd_skymap.findTractPatchList)"
   ]
  },
  {
   "cell_type": "code",
   "execution_count": 6,
   "metadata": {},
   "outputs": [],
   "source": [
    "import h5py\n",
    "spatial_lookup_filename = '/project/danielsf/valid_hsc_visit_extent_udeep.h5'\n",
    "assert os.path.isfile(spatial_lookup_filename)\n",
    "spatial_lookup = h5py.File(spatial_lookup_filename, 'r')"
   ]
  },
  {
   "cell_type": "markdown",
   "metadata": {},
   "source": [
    "Specify the region of sky observed in visit 11625"
   ]
  },
  {
   "cell_type": "code",
   "execution_count": 7,
   "metadata": {},
   "outputs": [],
   "source": [
    "visit_num = spatial_lookup['visit'][11625]"
   ]
  },
  {
   "cell_type": "code",
   "execution_count": 8,
   "metadata": {},
   "outputs": [],
   "source": [
    "all_visit = np.where(spatial_lookup['visit'][()]==visit_num)"
   ]
  },
  {
   "cell_type": "code",
   "execution_count": 9,
   "metadata": {},
   "outputs": [],
   "source": [
    "ra_min = spatial_lookup['ra_min'][()][all_visit].min()\n",
    "ra_max = spatial_lookup['ra_max'][()][all_visit].max()\n",
    "dec_min = spatial_lookup['dec_min'][()][all_visit].min()\n",
    "dec_max = spatial_lookup['dec_max'][()][all_visit].max()"
   ]
  },
  {
   "cell_type": "code",
   "execution_count": 10,
   "metadata": {},
   "outputs": [],
   "source": [
    "all_coverage = np.where(np.logical_and(spatial_lookup['ra_center'][()]>ra_min,\n",
    "                        np.logical_and(spatial_lookup['ra_center'][()]<ra_max,\n",
    "                        np.logical_and(spatial_lookup['dec_center'][()]>dec_min,\n",
    "                                       spatial_lookup['dec_center'][()]<dec_max))))"
   ]
  },
  {
   "cell_type": "markdown",
   "metadata": {},
   "source": [
    "Find all the (tract, patch) pairs in that region"
   ]
  },
  {
   "cell_type": "code",
   "execution_count": 11,
   "metadata": {},
   "outputs": [],
   "source": [
    "import lsst.geom as lsst_geom"
   ]
  },
  {
   "cell_type": "code",
   "execution_count": 12,
   "metadata": {},
   "outputs": [],
   "source": [
    "pt_list = []\n",
    "for ra in np.arange(ra_min, ra_max, 0.005):\n",
    "    for dec in np.arange(dec_min, dec_max, 0.005):\n",
    "        pt_list.append(lsst_geom.SpherePoint(ra, dec, lsst_geom.radians))"
   ]
  },
  {
   "cell_type": "code",
   "execution_count": 13,
   "metadata": {},
   "outputs": [],
   "source": [
    "tract_patch_list = coadd_skymap.findTractPatchList(pt_list)"
   ]
  },
  {
   "cell_type": "code",
   "execution_count": 14,
   "metadata": {},
   "outputs": [
    {
     "data": {
      "text/plain": [
       "lsst.skymap.patchInfo.PatchInfo"
      ]
     },
     "execution_count": 14,
     "metadata": {},
     "output_type": "execute_result"
    }
   ],
   "source": [
    "type(tract_patch_list[0][1][0])"
   ]
  },
  {
   "cell_type": "code",
   "execution_count": 15,
   "metadata": {},
   "outputs": [
    {
     "data": {
      "text/plain": [
       "{'filter': str, 'tract': int, 'patch': str}"
      ]
     },
     "execution_count": 15,
     "metadata": {},
     "output_type": "execute_result"
    }
   ],
   "source": [
    "butler.getKeys(datasetType='deepCoadd')"
   ]
  },
  {
   "cell_type": "markdown",
   "metadata": {},
   "source": [
    "Define a method to select stars"
   ]
  },
  {
   "cell_type": "code",
   "execution_count": 16,
   "metadata": {},
   "outputs": [],
   "source": [
    "def select_stars(dataset, calib):\n",
    "    \"\"\"\n",
    "    Select all sources with\n",
    "    base_ClassificationExtendedness_value == 0\n",
    "    & base_PsfFlux_flag == 0\n",
    "    & np.abs(PsfMag-CModelMag)<0.03\n",
    "    & PsfMag<25.0\n",
    "    \n",
    "    Parameters\n",
    "    ----------\n",
    "    dataset -- a src or deepCoadd_forcedSrc catalog\n",
    "    calib -- the photometric calibration object needed to convert fluxes into mags\n",
    "    \n",
    "    Returns\n",
    "    -------\n",
    "    numpy array of PSF magnitudes\n",
    "    numpy array of cModel magnitudes\n",
    "    numpy array of booleans set to 'True' for everything that meets the criteria above\n",
    "    \"\"\"\n",
    "    extendedness_flag = dataset['base_ClassificationExtendedness_value']==0\n",
    "    well_measured_flag = dataset['base_PsfFlux_flag']==0\n",
    "    mag = calib.instFluxToMagnitude(dataset, 'base_PsfFlux')[:,0]\n",
    "    colnames = dataset.getSchema().getNames()\n",
    "    if 'modelfit_CModel_flux' in colnames:\n",
    "        model_mag = calib.instFluxToMagnitude(dataset, 'modelfit_CModel')[:,0]\n",
    "        mag_m_model_flag = np.abs(mag-model_mag)<0.03\n",
    "    else:\n",
    "        model_mag = np.NaN*np.ones(len(mag), dtype=float)\n",
    "        mag_m_model_flag = np.ones(len(mag), dtype=bool)\n",
    "    brightness_flag = mag<25.0\n",
    "    brightness_finite = np.isfinite(mag)\n",
    "    flag = extendedness_flag & well_measured_flag & mag_m_model_flag & brightness_finite & brightness_flag\n",
    "    return mag, model_mag, flag"
   ]
  },
  {
   "cell_type": "markdown",
   "metadata": {},
   "source": [
    "Get all the clear stars from the deepCoadd_forcedSrc catalog.  Plot the stellar locus."
   ]
  },
  {
   "cell_type": "code",
   "execution_count": 17,
   "metadata": {},
   "outputs": [
    {
     "name": "stderr",
     "output_type": "stream",
     "text": [
      "/opt/lsst/software/stack/python/miniconda3-4.5.12/envs/lsst-scipipe-1172c30/lib/python3.7/site-packages/ipykernel/__main__.py:26: RuntimeWarning: invalid value encountered in less\n"
     ]
    },
    {
     "name": "stdout",
     "output_type": "stream",
     "text": [
      "CPU times: user 1min 9s, sys: 11.6 s, total: 1min 21s\n",
      "Wall time: 2min 5s\n"
     ]
    }
   ],
   "source": [
    "%%time\n",
    "coadd_unq_id = []\n",
    "coadd_g_mags = []\n",
    "coadd_r_mags = []\n",
    "coadd_i_mags = []\n",
    "\n",
    "coadd_g_model = []\n",
    "coadd_r_model = []\n",
    "coadd_i_model = []\n",
    "\n",
    "coadd_ra = []\n",
    "coadd_dec = []\n",
    "\n",
    "for tract_sublist in tract_patch_list:\n",
    "    tract_id = tract_sublist[0].getId()\n",
    "    for patch_obj in tract_sublist[1]:\n",
    "        patch_id = str(patch_obj.getIndex()).replace('(','').replace(')','').replace(' ','')\n",
    "        blank_data_id = {'tract': tract_id, 'patch':patch_id}\n",
    "\n",
    "        data_id_g = copy.deepcopy(blank_data_id)\n",
    "        data_id_g['filter'] = 'HSC-G'\n",
    "        data_id_r = copy.deepcopy(blank_data_id)\n",
    "        data_id_r['filter'] = 'HSC-R'\n",
    "        data_id_i = copy.deepcopy(blank_data_id)\n",
    "        data_id_i['filter'] = 'HSC-I'\n",
    "\n",
    "        if not butler.datasetExists('deepCoadd_forced_src', dataId=data_id_g):\n",
    "            continue\n",
    "\n",
    "        if not butler.datasetExists('deepCoadd_forced_src', dataId=data_id_r):\n",
    "            continue\n",
    "\n",
    "        if not butler.datasetExists('deepCoadd_forced_src', dataId=data_id_i):\n",
    "            continue\n",
    "        #print('loading %s' % str(blank_data_id))\n",
    "        \n",
    "        data_g = butler.get('deepCoadd_forced_src', dataId=data_id_g)#.asAstropy()\n",
    "        data_r = butler.get('deepCoadd_forced_src', dataId=data_id_r)#.asAstropy()\n",
    "        data_i = butler.get('deepCoadd_forced_src', dataId=data_id_i)#.asAstropy()\n",
    "\n",
    "        np.testing.assert_array_equal(data_g['id'], data_r['id'])\n",
    "        np.testing.assert_array_equal(data_g['id'], data_i['id'])\n",
    "        np.testing.assert_array_equal(data_g['coord_ra'], data_r['coord_ra'])\n",
    "        np.testing.assert_array_equal(data_g['coord_ra'], data_i['coord_ra'])\n",
    "        np.testing.assert_array_equal(data_g['coord_dec'], data_r['coord_dec'])\n",
    "        np.testing.assert_array_equal(data_g['coord_dec'], data_r['coord_dec'])\n",
    "\n",
    "        calib_g = butler.get('deepCoadd_calexp_photoCalib', dataId=data_id_g)\n",
    "        calib_r = butler.get('deepCoadd_calexp_photoCalib', dataId=data_id_r)\n",
    "        calib_i = butler.get('deepCoadd_calexp_photoCalib', dataId=data_id_i)\n",
    "    \n",
    "        g_mag, g_model, star_g = select_stars(data_g, calib_g)\n",
    "        r_mag, r_model, star_r = select_stars(data_r, calib_r)\n",
    "        i_mag, i_model, star_i = select_stars(data_i, calib_i)\n",
    "        stars = np.where(star_g & star_r & star_i)\n",
    "\n",
    "        coadd_g_mags.append(g_mag[stars])\n",
    "        coadd_g_model.append(g_model[stars])\n",
    "        coadd_r_mags.append(r_mag[stars])\n",
    "        coadd_r_model.append(r_model[stars])\n",
    "        coadd_i_mags.append(i_mag[stars])\n",
    "        coadd_i_model.append(i_model[stars])\n",
    "    \n",
    "        coadd_ra.append(data_g['coord_ra'][stars])\n",
    "        coadd_dec.append(data_g['coord_dec'][stars])\n",
    "        coadd_unq_id.append(data_g['id'][stars])\n",
    "\n",
    "    \n",
    "        #coadd_g_mags.append(calib_g.instFluxToMagnitude(data_g['base_PsfFlux_instFlux']))\n",
    "        #coadd_r_mags.append(calib_r.instFluxToMagnitude(data_r['base_PsfFlux_instFlux']))\n",
    "        #coadd_i_mags.append(calib_i.instFluxToMagnitude(data_i['base_PsfFlux_instFlux']))\n",
    "\n",
    "    \n",
    "coadd_unq_id = np.concatenate(coadd_unq_id)\n",
    "coadd_ra = np.concatenate(coadd_ra)\n",
    "coadd_dec = np.concatenate(coadd_dec)\n",
    "coadd_g_mags = np.concatenate(coadd_g_mags)\n",
    "coadd_r_mags = np.concatenate(coadd_r_mags)\n",
    "coadd_i_mags = np.concatenate(coadd_i_mags)\n",
    "coadd_g_model = np.concatenate(coadd_g_model)\n",
    "coadd_r_model = np.concatenate(coadd_r_model)\n",
    "coadd_i_model = np.concatenate(coadd_i_model)"
   ]
  },
  {
   "cell_type": "code",
   "execution_count": 18,
   "metadata": {},
   "outputs": [
    {
     "name": "stdout",
     "output_type": "stream",
     "text": [
      "18129\n"
     ]
    }
   ],
   "source": [
    "print(len(coadd_g_mags))"
   ]
  },
  {
   "cell_type": "code",
   "execution_count": 19,
   "metadata": {},
   "outputs": [
    {
     "data": {
      "image/png": "[encoded data removed]",
      "text/plain": [
       "<Figure size 720x720 with 1 Axes>"
      ]
     },
     "metadata": {
      "needs_background": "light"
     },
     "output_type": "display_data"
    },
    {
     "name": "stdout",
     "output_type": "stream",
     "text": [
      "18.918516828728663\n"
     ]
    }
   ],
   "source": [
    "plt.figure(figsize=(10,10))\n",
    "plt.scatter(coadd_g_mags, coadd_g_mags-coadd_g_model)\n",
    "plt.xlabel('g(PSF)')\n",
    "plt.ylabel('g(PSF)-g(cModel)')\n",
    "plt.ylim(-0.1,0.1)\n",
    "plt.show()\n",
    "print(coadd_g_mags.min())"
   ]
  },
  {
   "cell_type": "code",
   "execution_count": 20,
   "metadata": {},
   "outputs": [
    {
     "name": "stdout",
     "output_type": "stream",
     "text": [
      "18129\n"
     ]
    },
    {
     "data": {
      "image/png": "[encoded data removed]",
      "text/plain": [
       "<Figure size 720x720 with 1 Axes>"
      ]
     },
     "metadata": {
      "needs_background": "light"
     },
     "output_type": "display_data"
    }
   ],
   "source": [
    "plt.figure(figsize=(10,10))\n",
    "#plt.scatter(coadd_g_mags-coadd_r_mags, coadd_r_mags-coadd_i_mags,s=0.5)\n",
    "valid_meas = np.logical_and(np.isfinite(coadd_g_mags),\n",
    "                 np.logical_and(np.isfinite(coadd_r_mags), np.isfinite(coadd_i_mags)))\n",
    "\n",
    "bright_enough = np.logical_and(coadd_g_mags<25.0,\n",
    "                np.logical_and(coadd_r_mags<25.0, coadd_i_mags<25.0))\n",
    "\n",
    "valid = np.where(np.logical_and(valid_meas, bright_enough))\n",
    "print(len(valid[0]))\n",
    "plt.scatter(coadd_g_mags-coadd_r_mags,\n",
    "            coadd_r_mags-coadd_i_mags,s=0.5)\n",
    "\n",
    "#plt.hist2d(coadd_g_mags[valid]-coadd_r_mags[valid],\n",
    "#           coadd_r_mags[valid]-coadd_i_mags[valid], bins=(200,200), cmap=plt.cm.jet)\n",
    "plt.xlabel('g-r')\n",
    "plt.ylabel('r-i')\n",
    "#plt.ylim(20,35)\n",
    "#plt.xlim(-5,5)\n",
    "plt.show()"
   ]
  },
  {
   "cell_type": "markdown",
   "metadata": {},
   "source": [
    "Build a KDTree of these sources for association with single image sources later on"
   ]
  },
  {
   "cell_type": "code",
   "execution_count": 21,
   "metadata": {},
   "outputs": [],
   "source": [
    "import scipy.spatial as scipy_spatial\n",
    "coadd_ra_normalized = coadd_ra/np.cos(coadd_dec)\n",
    "coadd_spatial_data = np.array([coadd_ra_normalized, coadd_dec]).transpose()\n",
    "coadd_spatial_tree = scipy_spatial.cKDTree(coadd_spatial_data, leafsize=16)"
   ]
  },
  {
   "cell_type": "code",
   "execution_count": null,
   "metadata": {},
   "outputs": [],
   "source": [
    "print(len(all_coverage[0]))"
   ]
  },
  {
   "cell_type": "markdown",
   "metadata": {},
   "source": [
    "Get the RA, Dec, magnitue, and filter of all of the single image stars in HSC UDEEP\n",
    "\n",
    "(This will take a few hours, if you haven't already queried them from the butler and stored them in an hdf5 file)"
   ]
  },
  {
   "cell_type": "code",
   "execution_count": 22,
   "metadata": {},
   "outputs": [],
   "source": [
    "#%%prun -s cumulative -D sfd_profile.sav\n",
    "import time\n",
    "\n",
    "single_exposure_data_name = '/project/danielsf/udeep_single_visit_all_of_them.h5'\n",
    "\n",
    "if os.path.exists(single_exposure_data_name):\n",
    "    with h5py.File(single_exposure_data_name, 'r') as in_file:\n",
    "        single_ra = in_file['ra'][()]\n",
    "        single_dec = in_file['dec'][()]\n",
    "        single_mag = in_file['mag'][()]\n",
    "        single_filter = in_file['filter'][()] \n",
    "\n",
    "else:\n",
    "    t_start = time.time()\n",
    "    single_ra = []\n",
    "    single_dec = []\n",
    "    single_mag = []\n",
    "    single_filter = []\n",
    "    ct_single = 0\n",
    "    n_visits = len(spatial_lookup['filter'][()])\n",
    "\n",
    "    for single_dex in range(n_visits):\n",
    "        filter_name = spatial_lookup['filter'][()][single_dex]\n",
    "        data_id_single = {'visit': int(spatial_lookup['visit'][()][single_dex]),\n",
    "                          'ccd': int(spatial_lookup['ccd'][()][single_dex]),\n",
    "                          'filter': filter_name.decode()}\n",
    "        try:\n",
    "            data_single = butler.get('src', dataId=data_id_single, immediate=True)\n",
    "            calib_single = butler.get('calexp_photoCalib', dataId=data_id_single, immediate=True)\n",
    "        except:\n",
    "            continue\n",
    "        psf_mag, model_mag, star_dex = select_stars(data_single, calib_single)\n",
    "        single_ra.append(data_single['coord_ra'][star_dex])\n",
    "        single_dec.append(data_single['coord_dec'][star_dex])\n",
    "        single_mag.append(psf_mag[star_dex])\n",
    "        single_filter.append([filter_name]*np.sum(star_dex))\n",
    "        assert len(single_filter[-1]) == len(single_ra[-1])\n",
    "        ct_single += 1\n",
    "        if ct_single % 200 == 0:\n",
    "            duration = (time.time()-t_start)/3600.0\n",
    "            per = duration/ct_single\n",
    "            pred = per*n_visits\n",
    "            print('got %d in %.2e hrs (%.2e; %.2e)' % (ct_single, duration, per, pred))\n",
    "\n",
    "    single_ra = np.concatenate(single_ra)\n",
    "    single_dec = np.concatenate(single_dec)\n",
    "    single_mag = np.concatenate(single_mag)\n",
    "    single_filter = np.concatenate(single_filter)\n",
    "\n",
    "    with h5py.File(single_exposure_data_name, 'w') as out_file:\n",
    "        out_file.create_dataset('ra', data=single_ra)\n",
    "        out_file.create_dataset('dec', data=single_dec)\n",
    "        out_file.create_dataset('mag', data=single_mag)\n",
    "        out_file.create_dataset('filter', data=single_filter)\n",
    "\n",
    "    with open('/project/danielsf/single_data_log.txt', 'w') as out_file:\n",
    "        out_file.write('all done %d\\n' % ct_single)\n",
    "\n",
    "    print('all done')\n",
    "\n"
   ]
  },
  {
   "cell_type": "code",
   "execution_count": null,
   "metadata": {},
   "outputs": [],
   "source": [
    "print(len(single_ra))"
   ]
  },
  {
   "cell_type": "markdown",
   "metadata": {},
   "source": [
    "Associate single image sources with coadd forced sources"
   ]
  },
  {
   "cell_type": "code",
   "execution_count": 23,
   "metadata": {},
   "outputs": [],
   "source": [
    "single_ra_normalized = single_ra/np.cos(single_dec)\n",
    "single_spatial_data = np.array([single_ra_normalized, single_dec]).transpose()"
   ]
  },
  {
   "cell_type": "code",
   "execution_count": 24,
   "metadata": {},
   "outputs": [
    {
     "name": "stdout",
     "output_type": "stream",
     "text": [
      "CPU times: user 15 s, sys: 279 ms, total: 15.3 s\n",
      "Wall time: 15.3 s\n"
     ]
    }
   ],
   "source": [
    "%%time\n",
    "fit_dist, fit_dex = coadd_spatial_tree.query(single_spatial_data, k=2)"
   ]
  },
  {
   "cell_type": "code",
   "execution_count": 25,
   "metadata": {},
   "outputs": [],
   "source": [
    "# Select only those stars that are within 0.05 arcseconds of a coadd force source\n",
    "# and for whom the nearest neighbor is 10 times closer than the next nearest neighbor\n",
    "\n",
    "fit_d_trans = fit_dist.transpose()\n",
    "fit_d_ratio = fit_d_trans[0]/fit_d_trans[1]\n",
    "fit_d_arcsec= fit_d_trans[0]/np.radians(1/3600)\n",
    "\n",
    "valid = np.where(np.logical_and(fit_d_ratio<0.1, fit_d_arcsec<0.05))"
   ]
  },
  {
   "cell_type": "code",
   "execution_count": null,
   "metadata": {},
   "outputs": [],
   "source": [
    "print(len(valid[0]))"
   ]
  },
  {
   "cell_type": "code",
   "execution_count": 26,
   "metadata": {},
   "outputs": [
    {
     "name": "stdout",
     "output_type": "stream",
     "text": [
      "231722\n",
      "2952\n"
     ]
    }
   ],
   "source": [
    "fit_dex_trans = fit_dex.transpose()\n",
    "single_fit_id = fit_dex_trans[0][valid]\n",
    "single_fit_unq_id, unq_cts = np.unique(single_fit_id, return_counts=True)\n",
    "print(len(single_fit_id))\n",
    "print(len(single_fit_unq_id))\n",
    "single_fit_ra = single_ra[valid]\n",
    "single_fit_dec = single_dec[valid]\n",
    "single_fit_mag = single_mag[valid]\n",
    "single_fit_filter = single_filter[valid]"
   ]
  },
  {
   "cell_type": "markdown",
   "metadata": {},
   "source": [
    "Find the relevant statistics of each source's measured magnitude distributions"
   ]
  },
  {
   "cell_type": "code",
   "execution_count": 27,
   "metadata": {},
   "outputs": [],
   "source": [
    "unq_filter_list = np.unique(single_fit_filter)\n",
    "rms_by_filter = {}\n",
    "mean_by_filter = {}\n",
    "median_by_filter = {}\n",
    "ct_by_filter = {}\n",
    "for filter_name in unq_filter_list:\n",
    "    rms_by_filter[filter_name] = []\n",
    "    mean_by_filter[filter_name] = []\n",
    "    median_by_filter[filter_name] = []\n",
    "    ct_by_filter[filter_name] = []\n",
    "    is_filter = (single_fit_filter==filter_name)\n",
    "    for unq_id in single_fit_unq_id:\n",
    "        is_obj = (single_fit_id==unq_id)\n",
    "        of_interest = is_filter & is_obj\n",
    "        if np.sum(of_interest)>10:\n",
    "            rms_by_filter[filter_name].append(np.std(single_fit_mag[of_interest]))\n",
    "            mean_by_filter[filter_name].append(np.mean(single_fit_mag[of_interest]))\n",
    "            median_by_filter[filter_name].append(np.median(single_fit_mag[of_interest]))\n",
    "            ct_by_filter[filter_name].append(np.sum(of_interest))\n",
    "\n",
    "for filter_name in rms_by_filter:\n",
    "    rms_by_filter[filter_name] = np.array(rms_by_filter[filter_name])\n",
    "    mean_by_filter[filter_name] = np.array(mean_by_filter[filter_name])\n",
    "    median_by_filter[filter_name] = np.array(median_by_filter[filter_name])\n",
    "    ct_by_filter[filter_name] = np.array(ct_by_filter[filter_name])"
   ]
  },
  {
   "cell_type": "markdown",
   "metadata": {},
   "source": [
    "Plot distribution of RMS scatter in magnitude measurements"
   ]
  },
  {
   "cell_type": "code",
   "execution_count": 28,
   "metadata": {},
   "outputs": [
    {
     "data": {
      "image/png": "[encoded data removed]",
      "text/plain": [
       "<Figure size 720x720 with 1 Axes>"
      ]
     },
     "metadata": {
      "needs_background": "light"
     },
     "output_type": "display_data"
    },
    {
     "data": {
      "image/png": "[encoded data removed]",
      "text/plain": [
       "<Figure size 720x720 with 1 Axes>"
      ]
     },
     "metadata": {
      "needs_background": "light"
     },
     "output_type": "display_data"
    },
    {
     "data": {
      "image/png": "[encoded data removed]",
      "text/plain": [
       "<Figure size 720x720 with 1 Axes>"
      ]
     },
     "metadata": {
      "needs_background": "light"
     },
     "output_type": "display_data"
    },
    {
     "data": {
      "image/png": "[encoded data removed]",
      "text/plain": [
       "<Figure size 720x720 with 1 Axes>"
      ]
     },
     "metadata": {
      "needs_background": "light"
     },
     "output_type": "display_data"
    },
    {
     "data": {
      "image/png": "[encoded data removed]",
      "text/plain": [
       "<Figure size 720x720 with 1 Axes>"
      ]
     },
     "metadata": {
      "needs_background": "light"
     },
     "output_type": "display_data"
    }
   ],
   "source": [
    "pa_limit = {}\n",
    "pa_limit[b'HSC-Y'] = 0.0075\n",
    "pa_limit[b'HSC-Z'] = 0.0075\n",
    "pa_limit[b'HSC-G'] = 0.005\n",
    "pa_limit[b'HSC-R'] = 0.005\n",
    "pa_limit[b'HSC-I'] = 0.005\n",
    "\n",
    "for bp in [b'HSC-G', b'HSC-R', b'HSC-I', b'HSC-Z', b'HSC-Y']:\n",
    "    plt.figure(figsize=(10,10))\n",
    "    #plt.hist(median_by_filter[bp]-mean_by_filter[bp], label='median-mean', bins=20)\n",
    "    plt.hist(rms_by_filter[bp], alpha=0.7, label='RMS', bins=20)\n",
    "    plt.legend()\n",
    "    plt.xlabel('RMS in %s' % bp.decode())\n",
    "    plt.ylabel('ct')\n",
    "    plt.axvline(pa_limit[bp], color='r', linestyle='--')\n",
    "    plt.show()"
   ]
  },
  {
   "cell_type": "markdown",
   "metadata": {},
   "source": [
    "### Do not execute below this line"
   ]
  },
  {
   "cell_type": "code",
   "execution_count": null,
   "metadata": {},
   "outputs": [],
   "source": [
    "mag_of_interest = single_fit_mag[is_y_and_obj]\n",
    "print(np.mean(mag_of_interest))\n",
    "print(np.std(mag_of_interest))\n",
    "print(np.median(mag_of_interest-np.mean(mag_of_interest)))"
   ]
  },
  {
   "cell_type": "code",
   "execution_count": null,
   "metadata": {},
   "outputs": [],
   "source": [
    "single_id = single_unq_id\n",
    "single_unq_id = np.unique(single_id)"
   ]
  },
  {
   "cell_type": "code",
   "execution_count": null,
   "metadata": {},
   "outputs": [],
   "source": [
    "print(single_ra.min(), single_ra.max())\n",
    "print(single_dec.min(), single_dec.max())\n",
    "print(coadd_dec.min(), coadd_dec.max())"
   ]
  },
  {
   "cell_type": "code",
   "execution_count": null,
   "metadata": {},
   "outputs": [],
   "source": [
    "in_ra = (single_ra>=coadd_ra.min()) & (single_ra<=coadd_ra.max())\n",
    "in_dec = (single_dec>=coadd_dec.min()) & (single_dec<=coadd_dec.max())\n",
    "inside = in_ra & in_dec\n",
    "print(np.sum(inside))\n",
    "print(single_spatial_data.shape)\n",
    "print(len(single_ra))"
   ]
  },
  {
   "cell_type": "code",
   "execution_count": null,
   "metadata": {},
   "outputs": [],
   "source": [
    "ct_id = []\n",
    "for ii in single_unq_id:\n",
    "    ct_id.append(len(np.where(single_id==ii)[0]))\n",
    "ct_id = np.array(ct_id)\n",
    "print(np.argmax(ct_id))"
   ]
  },
  {
   "cell_type": "code",
   "execution_count": null,
   "metadata": {},
   "outputs": [],
   "source": [
    "valid = np.where(single_id==single_unq_id[1168])"
   ]
  },
  {
   "cell_type": "code",
   "execution_count": null,
   "metadata": {},
   "outputs": [],
   "source": [
    "print(np.unique(single_filter))"
   ]
  },
  {
   "cell_type": "code",
   "execution_count": null,
   "metadata": {},
   "outputs": [],
   "source": [
    "np.unique(spatial_lookup['ra_max'][()])"
   ]
  },
  {
   "cell_type": "code",
   "execution_count": null,
   "metadata": {},
   "outputs": [],
   "source": [
    "dex = all_coverage[0][0]\n",
    "data_id_single = {'visit': int(spatial_lookup['visit'][()][dex]),\n",
    "                  'ccd': int(spatial_lookup['ccd'][()][dex]),\n",
    "                  'filter': spatial_lookup['filter'][()][dex].decode()}\n",
    "data_single = butler.get('src', dataId=data_id_single)\n",
    "calib_single = butler.get('calexp_photoCalib', dataId=data_id_single)"
   ]
  },
  {
   "cell_type": "code",
   "execution_count": null,
   "metadata": {},
   "outputs": [],
   "source": [
    "#data_single.getSchema()"
   ]
  },
  {
   "cell_type": "code",
   "execution_count": null,
   "metadata": {},
   "outputs": [],
   "source": [
    "psf_mag, model_mag, star_dex = select_stars(data_single, calib_single)"
   ]
  },
  {
   "cell_type": "code",
   "execution_count": null,
   "metadata": {},
   "outputs": [],
   "source": [
    "subs = data_single.subset(star_dex)"
   ]
  },
  {
   "cell_type": "code",
   "execution_count": null,
   "metadata": {},
   "outputs": [],
   "source": [
    "psf_mag_2, model_mag_2, star_dex_2 = select_stars(subs, calib_single)"
   ]
  },
  {
   "cell_type": "code",
   "execution_count": null,
   "metadata": {},
   "outputs": [],
   "source": [
    "np.array_equal(subs['id'], data_single['id'][star_dex])"
   ]
  },
  {
   "cell_type": "code",
   "execution_count": null,
   "metadata": {},
   "outputs": [],
   "source": [
    "normalized_ra = data_single['coord_ra']/np.cos(data_single['coord_dec'])\n",
    "spatial_data = np.array([normalized_ra, data_single['coord_dec']]).transpose()"
   ]
  },
  {
   "cell_type": "code",
   "execution_count": null,
   "metadata": {},
   "outputs": [],
   "source": [
    "fit_dist, fit_dex = coadd_spatial_tree.query(spatial_data)"
   ]
  },
  {
   "cell_type": "code",
   "execution_count": null,
   "metadata": {},
   "outputs": [],
   "source": [
    "within_arcsec = np.where(np.logical_and(fit_dist<np.radians(1.0/3600.0),\n",
    "                                        data_single['base_ClassificationExtendedness_value']==0))"
   ]
  },
  {
   "cell_type": "code",
   "execution_count": null,
   "metadata": {},
   "outputs": [],
   "source": [
    "id_within_arcsec = data_single['id'][within_arcsec]"
   ]
  },
  {
   "cell_type": "code",
   "execution_count": null,
   "metadata": {},
   "outputs": [],
   "source": [
    "print(coadd_unq_id.min(),coadd_unq_id.max())\n",
    "print(id_within_arcsec.min(),id_within_arcsec.max())"
   ]
  },
  {
   "cell_type": "code",
   "execution_count": null,
   "metadata": {},
   "outputs": [],
   "source": [
    "data_single['base_ClassificationExtendedness_value'][within_arcsec]"
   ]
  },
  {
   "cell_type": "code",
   "execution_count": null,
   "metadata": {},
   "outputs": [],
   "source": [
    "fit_dex_within = fit_dex[within_arcsec]\n",
    "print(len(fit_dex_within))\n",
    "print(len(np.unique(fit_dex_within)))"
   ]
  },
  {
   "cell_type": "code",
   "execution_count": null,
   "metadata": {},
   "outputs": [],
   "source": [
    "data_g = butler.get('deepCoadd_forced_src', dataId=data_id_g).asAstropy()\n",
    "data_r = butler.get('deepCoadd_forced_src', dataId=data_id_r).asAstropy()\n",
    "data_i = butler.get('deepCoadd_forced_src', dataId=data_id_i).asAstropy()"
   ]
  },
  {
   "cell_type": "code",
   "execution_count": null,
   "metadata": {},
   "outputs": [],
   "source": [
    "for name in data.colnames:\n",
    "    if 'endedness' in name:\n",
    "        print(name)"
   ]
  },
  {
   "cell_type": "code",
   "execution_count": null,
   "metadata": {},
   "outputs": [],
   "source": [
    "data_id = {}\n",
    "data_id['visit']=6292\n",
    "data_id['ccd']=38\n",
    "data_id['filter']='HSC-G'\n",
    "data_id_single['ccd'] = 38\n",
    "\n",
    "print('data_id: ',data_id)\n",
    "print('data_id_single: ',data_id_single)\n",
    "\n",
    "print('ccd',data_id['ccd']==data_id_single['ccd'])\n",
    "print('visit',data_id['visit']==data_id_single['visit'])\n",
    "print('filter',data_id['filter']==data_id_single['filter'])\n",
    "print('data_id==data_id_single: ',data_id==data_id_single)\n",
    "\n",
    "print('data_id exists: ',butler.datasetExists('src', dataId=data_id))\n",
    "print('data_id_single exists: ',butler.datasetExists('src', dataId=data_id_single))\n",
    "\n",
    "print(type(data_id['filter']))\n",
    "print(type(data_id_single['filter']))"
   ]
  },
  {
   "cell_type": "code",
   "execution_count": null,
   "metadata": {},
   "outputs": [],
   "source": [
    "data_id = {}\n",
    "data_id['ccd'] = 38\n",
    "data_id['visit'] = 6292\n",
    "data_id['filter'] = 'HSC-G'\n",
    "print(butler.datasetExists('src', dataId=data_id))\n",
    "print()\n",
    "\n",
    "data_id_b = {}\n",
    "data_id_b['ccd'] = 38\n",
    "data_id_b['visit'] = 6292\n",
    "data_id_b['filter'] = np.bytes_('HSC-G').decode()\n",
    "print(butler.datasetExists('src', dataId=data_id_b))\n",
    "print()\n",
    "filter_id = spatial_lookup['filter'][()][dex]\n",
    "print(filter_id,type(filter_id))\n",
    "data_id_b['filter'] = filter_id.decode()\n",
    "print(data_id_b)\n",
    "print(butler.datasetExists('src', dataId=data_id_b))\n",
    "\n",
    "print(data_id_b==data_id_single)\n",
    "print(butler.datasetExists('src', dataId=data_id_single))\n",
    "data_id_single['filter'] = 'HSC-G'\n",
    "data_id_single['visit'] = 6292\n",
    "#data_id_single.pop('visist')\n",
    "print('does it exist ',butler.datasetExists('src', dataId=data_id_single))\n",
    "type(data_id_single['visit'])"
   ]
  },
  {
   "cell_type": "code",
   "execution_count": null,
   "metadata": {},
   "outputs": [],
   "source": [
    "data_id_single"
   ]
  },
  {
   "cell_type": "code",
   "execution_count": null,
   "metadata": {},
   "outputs": [],
   "source": [
    "np.bytes_('abcd').decode()"
   ]
  },
  {
   "cell_type": "code",
   "execution_count": null,
   "metadata": {},
   "outputs": [],
   "source": [
    "data_g.getSchema()"
   ]
  },
  {
   "cell_type": "code",
   "execution_count": null,
   "metadata": {},
   "outputs": [],
   "source": [
    "data_g['modelfit_CModel_flux']"
   ]
  },
  {
   "cell_type": "code",
   "execution_count": null,
   "metadata": {},
   "outputs": [],
   "source": [
    "stars = np.where(data_g['base_ClassificationExtendedness_value']==0)"
   ]
  },
  {
   "cell_type": "code",
   "execution_count": null,
   "metadata": {},
   "outputs": [],
   "source": [
    "stars_r = np.where(data_r['base_ClassificationExtendedness_value']==0)\n",
    "data_g['id'][:10]"
   ]
  },
  {
   "cell_type": "code",
   "execution_count": null,
   "metadata": {},
   "outputs": [],
   "source": [
    "np.testing.assert_array_equal(data_g['id'], data_r['id'])\n",
    "np.testing.assert_array_equal(data_g['id'], data_i['id'])"
   ]
  },
  {
   "cell_type": "code",
   "execution_count": null,
   "metadata": {},
   "outputs": [],
   "source": [
    "stars_r[0]"
   ]
  },
  {
   "cell_type": "code",
   "execution_count": null,
   "metadata": {},
   "outputs": [],
   "source": [
    "stars[0]"
   ]
  },
  {
   "cell_type": "code",
   "execution_count": null,
   "metadata": {},
   "outputs": [],
   "source": [
    "len(stars_r[0])"
   ]
  },
  {
   "cell_type": "code",
   "execution_count": null,
   "metadata": {},
   "outputs": [],
   "source": [
    "len(stars[0])"
   ]
  },
  {
   "cell_type": "code",
   "execution_count": null,
   "metadata": {},
   "outputs": [],
   "source": [
    "stars_r[0][3]"
   ]
  },
  {
   "cell_type": "code",
   "execution_count": null,
   "metadata": {},
   "outputs": [],
   "source": [
    "np.any(data_g['base_ClassificationExtendedness_flag'][stars])"
   ]
  },
  {
   "cell_type": "code",
   "execution_count": null,
   "metadata": {},
   "outputs": [],
   "source": [
    "stars = np.where(np.logical_and(data_g['base_ClassificationExtendedness_value']==0,\n",
    "                 np.logical_and(data_i['base_ClassificationExtendedness_value']==0,\n",
    "                                data_r['base_ClassificationExtendedness_value']==0)))"
   ]
  },
  {
   "cell_type": "code",
   "execution_count": null,
   "metadata": {},
   "outputs": [],
   "source": [
    "len(stars[0])"
   ]
  },
  {
   "cell_type": "code",
   "execution_count": null,
   "metadata": {},
   "outputs": [],
   "source": [
    "calib = butler.get('deepCoadd_calexp_photoCalib', dataId=data_id_r)"
   ]
  },
  {
   "cell_type": "code",
   "execution_count": null,
   "metadata": {},
   "outputs": [],
   "source": [
    "dir(calib)"
   ]
  },
  {
   "cell_type": "code",
   "execution_count": null,
   "metadata": {},
   "outputs": [],
   "source": [
    "help(calib.instFluxToMagnitude)"
   ]
  },
  {
   "cell_type": "code",
   "execution_count": null,
   "metadata": {},
   "outputs": [],
   "source": [
    "help(calib_g.instFluxToMagnitude)"
   ]
  },
  {
   "cell_type": "code",
   "execution_count": null,
   "metadata": {},
   "outputs": [],
   "source": [
    "type(data_g.getSchema().getNames())"
   ]
  },
  {
   "cell_type": "code",
   "execution_count": null,
   "metadata": {},
   "outputs": [],
   "source": [
    "colnames = data_g.getSchema().getNames()"
   ]
  },
  {
   "cell_type": "code",
   "execution_count": null,
   "metadata": {},
   "outputs": [],
   "source": [
    "'modelfit_CModel_flux' in colnames"
   ]
  },
  {
   "cell_type": "code",
   "execution_count": null,
   "metadata": {},
   "outputs": [],
   "source": [
    "len(all_coverage[0])"
   ]
  },
  {
   "cell_type": "code",
   "execution_count": null,
   "metadata": {},
   "outputs": [],
   "source": [
    "dir(butler)"
   ]
  },
  {
   "cell_type": "code",
   "execution_count": null,
   "metadata": {},
   "outputs": [],
   "source": [
    "help(butler.get)"
   ]
  },
  {
   "cell_type": "markdown",
   "metadata": {},
   "source": [
    "Find udeep regions"
   ]
  },
  {
   "cell_type": "code",
   "execution_count": null,
   "metadata": {},
   "outputs": [],
   "source": [
    "udeep_center_ra = [30.0, 240.0, 14*15.0]\n",
    "udeep_regions = []\n",
    "for ii in range(3):\n",
    "    udeep_regions.append([[360.0,0.0],[90.0,-90.0]])"
   ]
  },
  {
   "cell_type": "code",
   "execution_count": null,
   "metadata": {},
   "outputs": [],
   "source": [
    "ra_c_arr = np.degrees(spatial_lookup['ra_center'][()])\n",
    "dec_c_arr = np.degrees(spatial_lookup['dec_center'][()])\n",
    "ra_min_arr = np.degrees(spatial_lookup['ra_min'][()])\n",
    "ra_max_arr = np.degrees(spatial_lookup['ra_max'][()])\n",
    "dec_min_arr = np.degrees(spatial_lookup['dec_min'][()])\n",
    "dec_max_arr = np.degrees(spatial_lookup['dec_max'][()])\n",
    "drac0 = np.abs(ra_c_arr-udeep_center_ra[0])\n",
    "drac1 = np.abs(ra_c_arr-udeep_center_ra[1])\n",
    "drac2 = np.abs(ra_c_arr-udeep_center_ra[2])\n",
    "\n",
    "v0 = np.where(np.logical_and(drac0<drac1, drac0<drac2))\n",
    "v1 = np.where(np.logical_and(drac1<=drac0, drac1<drac2))\n",
    "v2 = np.where(np.logical_and(drac2<=drac0, drac2<=drac0))\n",
    "\n",
    "print(len(v0[0])+len(v1[0])+len(v2[0]))\n",
    "print(len(ra_c_arr))\n",
    "print(len(v1[0]))\n",
    "\n",
    "for ii, vv in enumerate([v0, v1, v2]):\n",
    "    if len(vv[0])>0:\n",
    "        udeep_regions[ii][0][0] = ra_min_arr[vv].min()\n",
    "        udeep_regions[ii][0][1] = ra_max_arr[vv].max()\n",
    "        udeep_regions[ii][1][0] = dec_min_arr[vv].min()\n",
    "        udeep_regions[ii][1][1] = dec_max_arr[vv].max()\n"
   ]
  },
  {
   "cell_type": "code",
   "execution_count": null,
   "metadata": {},
   "outputs": [],
   "source": [
    "udeep_regions[0]"
   ]
  },
  {
   "cell_type": "code",
   "execution_count": null,
   "metadata": {},
   "outputs": [],
   "source": [
    "udeep_regions[1]"
   ]
  },
  {
   "cell_type": "code",
   "execution_count": null,
   "metadata": {},
   "outputs": [],
   "source": [
    "udeep_regions[2]"
   ]
  },
  {
   "cell_type": "code",
   "execution_count": null,
   "metadata": {},
   "outputs": [],
   "source": []
  },
  {
   "cell_type": "code",
   "execution_count": null,
   "metadata": {},
   "outputs": [],
   "source": []
  }
 ],
 "metadata": {
  "kernelspec": {
   "display_name": "LSST",
   "language": "python",
   "name": "lsst"
  },
  "language_info": {
   "codemirror_mode": {
    "name": "ipython",
    "version": 3
   },
   "file_extension": ".py",
   "mimetype": "text/x-python",
   "name": "python",
   "nbconvert_exporter": "python",
   "pygments_lexer": "ipython3",
   "version": "3.7.2"
  }
 },
 "nbformat": 4,
 "nbformat_minor": 2
}
