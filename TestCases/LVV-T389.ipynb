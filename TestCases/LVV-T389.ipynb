{
 "cells": [
  {
   "cell_type": "markdown",
   "metadata": {},
   "source": [
    "Some comments"
   ]
  },
  {
   "cell_type": "code",
   "execution_count": 1,
   "metadata": {},
   "outputs": [],
   "source": [
    "%matplotlib inline\n",
    "import matplotlib.pyplot as plt"
   ]
  },
  {
   "cell_type": "code",
   "execution_count": 3,
   "metadata": {},
   "outputs": [],
   "source": [
    "import os\n",
    "import numpy as np\n",
    "repo_dir = '/datasets/hsc/repo/rerun/DM-13666/WIDE'\n",
    "assert os.path.isdir(repo_dir)\n",
    "\n",
    "import lsst.daf.persistence as daf_persistence\n",
    "butler = daf_persistence.Butler(repo_dir)"
   ]
  },
  {
   "cell_type": "code",
   "execution_count": 5,
   "metadata": {},
   "outputs": [],
   "source": [
    "coadd_skymap = butler.get('deepCoadd_skyMap')"
   ]
  },
  {
   "cell_type": "code",
   "execution_count": 6,
   "metadata": {},
   "outputs": [
    {
     "data": {
      "text/plain": [
       "['ConfigClass',\n",
       " '__class__',\n",
       " '__delattr__',\n",
       " '__dict__',\n",
       " '__dir__',\n",
       " '__doc__',\n",
       " '__eq__',\n",
       " '__format__',\n",
       " '__ge__',\n",
       " '__getattribute__',\n",
       " '__getitem__',\n",
       " '__gt__',\n",
       " '__hash__',\n",
       " '__init__',\n",
       " '__init_subclass__',\n",
       " '__iter__',\n",
       " '__le__',\n",
       " '__len__',\n",
       " '__lt__',\n",
       " '__module__',\n",
       " '__ne__',\n",
       " '__new__',\n",
       " '__reduce__',\n",
       " '__reduce_ex__',\n",
       " '__repr__',\n",
       " '__setattr__',\n",
       " '__sizeof__',\n",
       " '__str__',\n",
       " '__subclasshook__',\n",
       " '__weakref__',\n",
       " '_decToRingNum',\n",
       " '_numTracts',\n",
       " '_raStart',\n",
       " '_raToTractNum',\n",
       " '_ringNums',\n",
       " '_ringSize',\n",
       " '_sha1',\n",
       " '_tractCache',\n",
       " '_tractInfo',\n",
       " '_tractInfoList',\n",
       " '_version',\n",
       " '_wcsFactory',\n",
       " 'config',\n",
       " 'findAllTracts',\n",
       " 'findClosestTractPatchList',\n",
       " 'findTract',\n",
       " 'findTractPatchList',\n",
       " 'generateTract',\n",
       " 'getRingIndices',\n",
       " 'getSha1',\n",
       " 'logSkyMapInfo',\n",
       " 'register',\n",
       " 'updateSha1']"
      ]
     },
     "execution_count": 6,
     "metadata": {},
     "output_type": "execute_result"
    }
   ],
   "source": [
    "dir(coadd_skymap)"
   ]
  },
  {
   "cell_type": "code",
   "execution_count": 42,
   "metadata": {},
   "outputs": [
    {
     "name": "stdout",
     "output_type": "stream",
     "text": [
      "Help on method findTractPatchList in module lsst.skymap.ringsSkyMap:\n",
      "\n",
      "findTractPatchList(coordList) method of lsst.skymap.ringsSkyMap.RingsSkyMap instance\n",
      "    Find tracts and patches that overlap a region.\n",
      "    \n",
      "    Parameters\n",
      "    ----------\n",
      "    coordList : `list` of `lsst.geom.SpherePoint`\n",
      "        List of ICRS sky coordinates to search for.\n",
      "    \n",
      "    Returns\n",
      "    -------\n",
      "    reList : `list` of (`TractInfo`, `list` of `PatchInfo`)\n",
      "        For tracts and patches that contain, or may contain, the specified\n",
      "        region. The list will be empty if there is no overlap.\n",
      "    \n",
      "    Notes\n",
      "    -----\n",
      "    **warning:**\n",
      "        This uses a naive algorithm that may find some tracts and patches\n",
      "        that do not overlap the region (especially if the region is not a\n",
      "        rectangle aligned along patch x, y).\n",
      "\n"
     ]
    }
   ],
   "source": [
    "help(coadd_skymap.findTractPatchList)"
   ]
  },
  {
   "cell_type": "code",
   "execution_count": 10,
   "metadata": {},
   "outputs": [],
   "source": [
    "import h5py\n",
    "spatial_lookup_filename = '/project/danielsf/valid_hsc_visit_extent.h5'\n",
    "assert os.path.isfile(spatial_lookup_filename)\n",
    "spatial_lookup = h5py.File(spatial_lookup_filename, 'r')"
   ]
  },
  {
   "cell_type": "code",
   "execution_count": 33,
   "metadata": {},
   "outputs": [
    {
     "data": {
      "text/plain": [
       "6316"
      ]
     },
     "execution_count": 33,
     "metadata": {},
     "output_type": "execute_result"
    }
   ],
   "source": [
    "spatial_lookup['visit'][11625]"
   ]
  },
  {
   "cell_type": "code",
   "execution_count": 34,
   "metadata": {},
   "outputs": [],
   "source": [
    "visit_num = 6316\n",
    "all_visit = np.where(spatial_lookup['visit'][()]==visit_num)"
   ]
  },
  {
   "cell_type": "code",
   "execution_count": 37,
   "metadata": {},
   "outputs": [],
   "source": [
    "ra_min = spatial_lookup['ra_min'][()][all_visit].min()\n",
    "ra_max = spatial_lookup['ra_max'][()][all_visit].max()\n",
    "dec_min = spatial_lookup['dec_min'][()][all_visit].min()\n",
    "dec_max = spatial_lookup['dec_max'][()][all_visit].max()"
   ]
  },
  {
   "cell_type": "code",
   "execution_count": 40,
   "metadata": {},
   "outputs": [],
   "source": [
    "all_coverage = np.where(np.logical_and(spatial_lookup['ra_center'][()]>ra_min,\n",
    "                        np.logical_and(spatial_lookup['ra_center'][()]<ra_max,\n",
    "                        np.logical_and(spatial_lookup['dec_center'][()]>dec_min,\n",
    "                                       spatial_lookup['dec_center'][()]<dec_max))))"
   ]
  },
  {
   "cell_type": "code",
   "execution_count": 41,
   "metadata": {},
   "outputs": [
    {
     "data": {
      "text/plain": [
       "array([b'HSC-G', b'HSC-I', b'HSC-R', b'HSC-Y', b'HSC-Z'], dtype='|S5')"
      ]
     },
     "execution_count": 41,
     "metadata": {},
     "output_type": "execute_result"
    }
   ],
   "source": [
    "np.unique(spatial_lookup['filter'][()][all_coverage])"
   ]
  },
  {
   "cell_type": "code",
   "execution_count": 43,
   "metadata": {},
   "outputs": [],
   "source": [
    "import lsst.geom as lsst_geom"
   ]
  },
  {
   "cell_type": "code",
   "execution_count": 50,
   "metadata": {},
   "outputs": [],
   "source": [
    "pt_list = []\n",
    "for ra in np.arange(ra_min, ra_max, 0.005):\n",
    "    for dec in np.arange(dec_min, dec_max, 0.005):\n",
    "        pt_list.append(lsst_geom.SpherePoint(ra, dec, lsst_geom.radians))"
   ]
  },
  {
   "cell_type": "code",
   "execution_count": 52,
   "metadata": {},
   "outputs": [],
   "source": [
    "tract_patch_list = coadd_skymap.findTractPatchList(pt_list)"
   ]
  },
  {
   "cell_type": "code",
   "execution_count": 64,
   "metadata": {},
   "outputs": [
    {
     "data": {
      "text/plain": [
       "lsst.skymap.patchInfo.PatchInfo"
      ]
     },
     "execution_count": 64,
     "metadata": {},
     "output_type": "execute_result"
    }
   ],
   "source": [
    "type(tract_patch_list[0][1][0])"
   ]
  },
  {
   "cell_type": "code",
   "execution_count": 97,
   "metadata": {},
   "outputs": [],
   "source": [
    "data_id = {'tract':tract_patch_list[0][0].getId(),\n",
    "           'patch': str(tract_patch_list[0][1][0].getIndex()).replace('(','').replace(')','').replace(' ',''),\n",
    "           'filter':'HSC-Y'}"
   ]
  },
  {
   "cell_type": "code",
   "execution_count": 70,
   "metadata": {},
   "outputs": [
    {
     "data": {
      "text/plain": [
       "{'filter': str, 'tract': int, 'patch': str}"
      ]
     },
     "execution_count": 70,
     "metadata": {},
     "output_type": "execute_result"
    }
   ],
   "source": [
    "butler.getKeys(datasetType='deepCoadd')"
   ]
  },
  {
   "cell_type": "code",
   "execution_count": 116,
   "metadata": {},
   "outputs": [],
   "source": [
    "import copy\n",
    "data_id_g = copy.deepcopy(data_id)\n",
    "data_id_g['filter'] = 'HSC-G'\n",
    "data_id_r = copy.deepcopy(data_id)\n",
    "data_id_r['filter'] = 'HSC-R'\n",
    "data_id_i = copy.deepcopy(data_id)\n",
    "data_id_i['filter'] = 'HSC-I'\n"
   ]
  },
  {
   "cell_type": "code",
   "execution_count": 115,
   "metadata": {},
   "outputs": [
    {
     "data": {
      "text/plain": [
       "{'tract': 9451, 'patch': '0,5', 'filter': ['HSC-G']}"
      ]
     },
     "execution_count": 115,
     "metadata": {},
     "output_type": "execute_result"
    }
   ],
   "source": [
    "data_id_g"
   ]
  },
  {
   "cell_type": "code",
   "execution_count": 117,
   "metadata": {},
   "outputs": [],
   "source": [
    "data_g = butler.get('deepCoadd_forced_src', dataId=data_id_g).asAstropy()\n",
    "data_r = butler.get('deepCoadd_forced_src', dataId=data_id_r).asAstropy()\n",
    "data_i = butler.get('deepCoadd_forced_src', dataId=data_id_i).asAstropy()"
   ]
  },
  {
   "cell_type": "code",
   "execution_count": 106,
   "metadata": {},
   "outputs": [
    {
     "name": "stdout",
     "output_type": "stream",
     "text": [
      "base_ClassificationExtendedness_value\n",
      "base_ClassificationExtendedness_flag\n"
     ]
    }
   ],
   "source": [
    "for name in data.colnames:\n",
    "    if 'endedness' in name:\n",
    "        print(name)"
   ]
  },
  {
   "cell_type": "code",
   "execution_count": 100,
   "metadata": {},
   "outputs": [
    {
     "data": {
      "text/plain": [
       "24392"
      ]
     },
     "execution_count": 100,
     "metadata": {},
     "output_type": "execute_result"
    }
   ],
   "source": [
    "len(data)"
   ]
  },
  {
   "cell_type": "code",
   "execution_count": 139,
   "metadata": {},
   "outputs": [],
   "source": [
    "stars = np.where(data_g['base_ClassificationExtendedness_value']==0)"
   ]
  },
  {
   "cell_type": "code",
   "execution_count": 120,
   "metadata": {},
   "outputs": [
    {
     "data": {
      "text/html": [
       "&lt;Column name=&apos;id&apos; dtype=&apos;int64&apos; description=&apos;unique ID&apos; length=10&gt;\n",
       "<table>\n",
       "<tr><td>41565959051280385</td></tr>\n",
       "<tr><td>41565959051280386</td></tr>\n",
       "<tr><td>41565959051280387</td></tr>\n",
       "<tr><td>41565959051280389</td></tr>\n",
       "<tr><td>41565959051280390</td></tr>\n",
       "<tr><td>41565959051280391</td></tr>\n",
       "<tr><td>41565959051280392</td></tr>\n",
       "<tr><td>41565959051280393</td></tr>\n",
       "<tr><td>41565959051280394</td></tr>\n",
       "<tr><td>41565959051280395</td></tr>\n",
       "</table>"
      ],
      "text/plain": [
       "<Column name='id' dtype='int64' description='unique ID' length=10>\n",
       "41565959051280385\n",
       "41565959051280386\n",
       "41565959051280387\n",
       "41565959051280389\n",
       "41565959051280390\n",
       "41565959051280391\n",
       "41565959051280392\n",
       "41565959051280393\n",
       "41565959051280394\n",
       "41565959051280395"
      ]
     },
     "execution_count": 120,
     "metadata": {},
     "output_type": "execute_result"
    }
   ],
   "source": [
    "stars_r = np.where(data_r['base_ClassificationExtendedness_value']==0)\n",
    "data_g['id'][:10]"
   ]
  },
  {
   "cell_type": "code",
   "execution_count": 136,
   "metadata": {},
   "outputs": [],
   "source": [
    "np.testing.assert_array_equal(data_g['id'], data_r['id'])\n",
    "np.testing.assert_array_equal(data_g['id'], data_i['id'])"
   ]
  },
  {
   "cell_type": "code",
   "execution_count": 124,
   "metadata": {},
   "outputs": [
    {
     "data": {
      "text/plain": [
       "array([   19,    37,    47, ..., 24382, 24386, 24387])"
      ]
     },
     "execution_count": 124,
     "metadata": {},
     "output_type": "execute_result"
    }
   ],
   "source": [
    "stars_r[0]"
   ]
  },
  {
   "cell_type": "code",
   "execution_count": 125,
   "metadata": {},
   "outputs": [
    {
     "data": {
      "text/plain": [
       "array([   37,    49,    52, ..., 24382, 24385, 24389])"
      ]
     },
     "execution_count": 125,
     "metadata": {},
     "output_type": "execute_result"
    }
   ],
   "source": [
    "stars[0]"
   ]
  },
  {
   "cell_type": "code",
   "execution_count": 126,
   "metadata": {},
   "outputs": [
    {
     "data": {
      "text/plain": [
       "5309"
      ]
     },
     "execution_count": 126,
     "metadata": {},
     "output_type": "execute_result"
    }
   ],
   "source": [
    "len(stars_r[0])"
   ]
  },
  {
   "cell_type": "code",
   "execution_count": 127,
   "metadata": {},
   "outputs": [
    {
     "data": {
      "text/plain": [
       "4563"
      ]
     },
     "execution_count": 127,
     "metadata": {},
     "output_type": "execute_result"
    }
   ],
   "source": [
    "len(stars[0])"
   ]
  },
  {
   "cell_type": "code",
   "execution_count": 129,
   "metadata": {},
   "outputs": [
    {
     "data": {
      "text/plain": [
       "49"
      ]
     },
     "execution_count": 129,
     "metadata": {},
     "output_type": "execute_result"
    }
   ],
   "source": [
    "stars_r[0][3]"
   ]
  },
  {
   "cell_type": "code",
   "execution_count": 134,
   "metadata": {},
   "outputs": [
    {
     "data": {
      "text/plain": [
       "False"
      ]
     },
     "execution_count": 134,
     "metadata": {},
     "output_type": "execute_result"
    }
   ],
   "source": [
    "np.any(data_g['base_ClassificationExtendedness_flag'][stars])"
   ]
  },
  {
   "cell_type": "code",
   "execution_count": 152,
   "metadata": {},
   "outputs": [],
   "source": [
    "stars = np.where(np.logical_and(data_g['base_ClassificationExtendedness_value']==0,\n",
    "                 np.logical_and(data_i['base_ClassificationExtendedness_value']==0,\n",
    "                                data_r['base_ClassificationExtendedness_value']==0)))"
   ]
  },
  {
   "cell_type": "code",
   "execution_count": 153,
   "metadata": {},
   "outputs": [
    {
     "data": {
      "text/plain": [
       "2346"
      ]
     },
     "execution_count": 153,
     "metadata": {},
     "output_type": "execute_result"
    }
   ],
   "source": [
    "len(stars[0])"
   ]
  },
  {
   "cell_type": "code",
   "execution_count": 156,
   "metadata": {},
   "outputs": [],
   "source": [
    "calib = butler.get('deepCoadd_calexp_photoCalib', dataId=data_id_r)"
   ]
  },
  {
   "cell_type": "code",
   "execution_count": 158,
   "metadata": {},
   "outputs": [
    {
     "data": {
      "text/plain": [
       "['__class__',\n",
       " '__delattr__',\n",
       " '__dir__',\n",
       " '__doc__',\n",
       " '__eq__',\n",
       " '__format__',\n",
       " '__ge__',\n",
       " '__getattribute__',\n",
       " '__gt__',\n",
       " '__hash__',\n",
       " '__init__',\n",
       " '__init_subclass__',\n",
       " '__le__',\n",
       " '__lt__',\n",
       " '__module__',\n",
       " '__ne__',\n",
       " '__new__',\n",
       " '__reduce__',\n",
       " '__reduce_ex__',\n",
       " '__repr__',\n",
       " '__setattr__',\n",
       " '__sizeof__',\n",
       " '__str__',\n",
       " '__subclasshook__',\n",
       " '_getFlux',\n",
       " '_getFluxMag0',\n",
       " '_getMagnitude',\n",
       " '_getThrowOnNegativeFlux',\n",
       " '_setThrowOnNegativeFlux',\n",
       " 'calibrateCatalog',\n",
       " 'calibrateImage',\n",
       " 'computeScaledCalibration',\n",
       " 'computeScalingTo',\n",
       " 'getCalibrationErr',\n",
       " 'getCalibrationMean',\n",
       " 'getFlux',\n",
       " 'getFluxMag0',\n",
       " 'getInstFluxAtZeroMagnitude',\n",
       " 'getMagnitude',\n",
       " 'getThrowOnNegativeFlux',\n",
       " 'instFluxToMagnitude',\n",
       " 'instFluxToNanojansky',\n",
       " 'isPersistable',\n",
       " 'magnitudeToInstFlux',\n",
       " 'readFits',\n",
       " 'setFluxMag0',\n",
       " 'setThrowOnNegativeFlux',\n",
       " 'writeFits']"
      ]
     },
     "execution_count": 158,
     "metadata": {},
     "output_type": "execute_result"
    }
   ],
   "source": [
    "dir(calib)"
   ]
  },
  {
   "cell_type": "code",
   "execution_count": 161,
   "metadata": {},
   "outputs": [
    {
     "name": "stdout",
     "output_type": "stream",
     "text": [
      "Help on method instFluxToMagnitude in module lsst.afw.image.photoCalib:\n",
      "\n",
      "instFluxToMagnitude(...) method of lsst.afw.image.photoCalib.PhotoCalib instance\n",
      "    instFluxToMagnitude(*args, **kwargs)\n",
      "    Overloaded function.\n",
      "    \n",
      "    1. instFluxToMagnitude(self: lsst.afw.image.photoCalib.PhotoCalib, instFlux: float, point: lsst.geom.Point2D) -> float\n",
      "    \n",
      "    2. instFluxToMagnitude(self: lsst.afw.image.photoCalib.PhotoCalib, instFlux: float) -> float\n",
      "    \n",
      "    3. instFluxToMagnitude(self: lsst.afw.image.photoCalib.PhotoCalib, instFlux: float, instFluxErr: float, point: lsst.geom.Point2D) -> lsst.afw.image.photoCalib.Measurement\n",
      "    \n",
      "    4. instFluxToMagnitude(self: lsst.afw.image.photoCalib.PhotoCalib, instFlux: float, instFluxErr: float) -> lsst.afw.image.photoCalib.Measurement\n",
      "    \n",
      "    5. instFluxToMagnitude(self: lsst.afw.image.photoCalib.PhotoCalib, sourceRecord: lsst.afw.table.SourceRecord, instFluxField: str) -> lsst.afw.image.photoCalib.Measurement\n",
      "    \n",
      "    6. instFluxToMagnitude(self: lsst.afw.image.photoCalib.PhotoCalib, sourceCatalog: lsst.afw.table.SourceCatalog, instFluxField: str) -> ndarray::Array<double, 2, 2>\n",
      "    \n",
      "    7. instFluxToMagnitude(self: lsst.afw.image.photoCalib.PhotoCalib, sourceCatalog: lsst.afw.table.SourceCatalog, instFluxField: str, outField: str) -> None\n",
      "\n"
     ]
    }
   ],
   "source": [
    "help(calib.instFluxToMagnitude)"
   ]
  },
  {
   "cell_type": "code",
   "execution_count": null,
   "metadata": {},
   "outputs": [],
   "source": []
  }
 ],
 "metadata": {
  "kernelspec": {
   "display_name": "LSST",
   "language": "python",
   "name": "lsst"
  },
  "language_info": {
   "codemirror_mode": {
    "name": "ipython",
    "version": 3
   },
   "file_extension": ".py",
   "mimetype": "text/x-python",
   "name": "python",
   "nbconvert_exporter": "python",
   "pygments_lexer": "ipython3",
   "version": "3.7.2"
  }
 },
 "nbformat": 4,
 "nbformat_minor": 2
}
