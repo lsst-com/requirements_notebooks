{
 "cells": [
  {
   "cell_type": "markdown",
   "metadata": {},
   "source": [
    "Some comments"
   ]
  },
  {
   "cell_type": "code",
   "execution_count": 1,
   "metadata": {},
   "outputs": [],
   "source": [
    "%matplotlib inline\n",
    "import matplotlib.pyplot as plt"
   ]
  },
  {
   "cell_type": "code",
   "execution_count": 2,
   "metadata": {},
   "outputs": [],
   "source": [
    "import os\n",
    "import copy\n",
    "import numpy as np\n",
    "repo_dir = '/datasets/hsc/repo/rerun/DM-13666/UDEEP'\n",
    "assert os.path.isdir(repo_dir)\n",
    "\n",
    "import lsst.daf.persistence as daf_persistence\n",
    "butler = daf_persistence.Butler(repo_dir)"
   ]
  },
  {
   "cell_type": "code",
   "execution_count": 3,
   "metadata": {},
   "outputs": [],
   "source": [
    "coadd_skymap = butler.get('deepCoadd_skyMap')"
   ]
  },
  {
   "cell_type": "code",
   "execution_count": 4,
   "metadata": {},
   "outputs": [],
   "source": [
    "#dir(coadd_skymap)"
   ]
  },
  {
   "cell_type": "code",
   "execution_count": 5,
   "metadata": {},
   "outputs": [],
   "source": [
    "#help(coadd_skymap.findTractPatchList)"
   ]
  },
  {
   "cell_type": "code",
   "execution_count": 4,
   "metadata": {},
   "outputs": [],
   "source": [
    "import h5py\n",
    "spatial_lookup_filename = '/project/danielsf/valid_hsc_visit_extent_udeep.h5'\n",
    "assert os.path.isfile(spatial_lookup_filename)\n",
    "spatial_lookup = h5py.File(spatial_lookup_filename, 'r')"
   ]
  },
  {
   "cell_type": "code",
   "execution_count": 5,
   "metadata": {},
   "outputs": [],
   "source": [
    "visit_num = spatial_lookup['visit'][11625]"
   ]
  },
  {
   "cell_type": "code",
   "execution_count": 6,
   "metadata": {},
   "outputs": [],
   "source": [
    "all_visit = np.where(spatial_lookup['visit'][()]==visit_num)"
   ]
  },
  {
   "cell_type": "code",
   "execution_count": 7,
   "metadata": {},
   "outputs": [],
   "source": [
    "ra_min = spatial_lookup['ra_min'][()][all_visit].min()\n",
    "ra_max = spatial_lookup['ra_max'][()][all_visit].max()\n",
    "dec_min = spatial_lookup['dec_min'][()][all_visit].min()\n",
    "dec_max = spatial_lookup['dec_max'][()][all_visit].max()"
   ]
  },
  {
   "cell_type": "code",
   "execution_count": 8,
   "metadata": {},
   "outputs": [],
   "source": [
    "all_coverage = np.where(np.logical_and(spatial_lookup['ra_center'][()]>ra_min,\n",
    "                        np.logical_and(spatial_lookup['ra_center'][()]<ra_max,\n",
    "                        np.logical_and(spatial_lookup['dec_center'][()]>dec_min,\n",
    "                                       spatial_lookup['dec_center'][()]<dec_max))))"
   ]
  },
  {
   "cell_type": "code",
   "execution_count": 9,
   "metadata": {},
   "outputs": [
    {
     "data": {
      "text/plain": [
       "array([b'HSC-G', b'HSC-I', b'HSC-R', b'HSC-Y', b'HSC-Z', b'NB081',\n",
       "       b'NB092'], dtype='|S5')"
      ]
     },
     "execution_count": 9,
     "metadata": {},
     "output_type": "execute_result"
    }
   ],
   "source": [
    "np.unique(spatial_lookup['filter'][()][all_coverage])"
   ]
  },
  {
   "cell_type": "code",
   "execution_count": 10,
   "metadata": {},
   "outputs": [],
   "source": [
    "import lsst.geom as lsst_geom"
   ]
  },
  {
   "cell_type": "code",
   "execution_count": 11,
   "metadata": {},
   "outputs": [],
   "source": [
    "pt_list = []\n",
    "for ra in np.arange(ra_min, ra_max, 0.005):\n",
    "    for dec in np.arange(dec_min, dec_max, 0.005):\n",
    "        pt_list.append(lsst_geom.SpherePoint(ra, dec, lsst_geom.radians))"
   ]
  },
  {
   "cell_type": "code",
   "execution_count": 12,
   "metadata": {},
   "outputs": [],
   "source": [
    "tract_patch_list = coadd_skymap.findTractPatchList(pt_list)"
   ]
  },
  {
   "cell_type": "code",
   "execution_count": 13,
   "metadata": {},
   "outputs": [
    {
     "data": {
      "text/plain": [
       "lsst.skymap.patchInfo.PatchInfo"
      ]
     },
     "execution_count": 13,
     "metadata": {},
     "output_type": "execute_result"
    }
   ],
   "source": [
    "type(tract_patch_list[0][1][0])"
   ]
  },
  {
   "cell_type": "code",
   "execution_count": 14,
   "metadata": {},
   "outputs": [],
   "source": [
    "blank_data_id = {'tract':tract_patch_list[0][0].getId(),\n",
    "           'patch': str(tract_patch_list[0][1][0].getIndex()).replace('(','').replace(')','').replace(' ','')}"
   ]
  },
  {
   "cell_type": "code",
   "execution_count": 15,
   "metadata": {},
   "outputs": [
    {
     "data": {
      "text/plain": [
       "{'filter': str, 'tract': int, 'patch': str}"
      ]
     },
     "execution_count": 15,
     "metadata": {},
     "output_type": "execute_result"
    }
   ],
   "source": [
    "butler.getKeys(datasetType='deepCoadd')"
   ]
  },
  {
   "cell_type": "code",
   "execution_count": 16,
   "metadata": {},
   "outputs": [],
   "source": [
    "def select_stars(dataset, calib):\n",
    "    extendedness_flag = dataset['base_ClassificationExtendedness_value']==0\n",
    "    well_measured_flag = dataset['base_PsfFlux_flag']==0\n",
    "    mag = calib.instFluxToMagnitude(dataset, 'base_PsfFlux')[:,0]\n",
    "    colnames = dataset.getSchema().getNames()\n",
    "    if 'modelfit_CModel_flux' in colnames:\n",
    "        model_mag = calib.instFluxToMagnitude(dataset, 'modelfit_CModel')[:,0]\n",
    "        mag_m_model_flag = np.abs(mag-model_mag)<0.03\n",
    "    else:\n",
    "        model_mag = np.NaN*np.ones(len(mag), dtype=float)\n",
    "        mag_m_model_flag = np.ones(len(mag), dtype=bool)\n",
    "    brightness_flag = mag<25.0\n",
    "    brightness_finite = np.isfinite(mag)\n",
    "    flag = extendedness_flag & well_measured_flag & mag_m_model_flag & brightness_finite & brightness_flag\n",
    "    return mag, model_mag, flag"
   ]
  },
  {
   "cell_type": "code",
   "execution_count": 17,
   "metadata": {},
   "outputs": [
    {
     "name": "stderr",
     "output_type": "stream",
     "text": [
      "/opt/lsst/software/stack/python/miniconda3-4.5.12/envs/lsst-scipipe-1172c30/lib/python3.7/site-packages/ipykernel/__main__.py:8: RuntimeWarning: invalid value encountered in less\n"
     ]
    },
    {
     "name": "stdout",
     "output_type": "stream",
     "text": [
      "CPU times: user 1min 8s, sys: 17.1 s, total: 1min 25s\n",
      "Wall time: 2min 5s\n"
     ]
    }
   ],
   "source": [
    "%%time\n",
    "coadd_unq_id = []\n",
    "coadd_g_mags = []\n",
    "coadd_r_mags = []\n",
    "coadd_i_mags = []\n",
    "\n",
    "coadd_g_model = []\n",
    "coadd_r_model = []\n",
    "coadd_i_model = []\n",
    "\n",
    "coadd_ra = []\n",
    "coadd_dec = []\n",
    "\n",
    "for tract_sublist in tract_patch_list:\n",
    "    tract_id = tract_sublist[0].getId()\n",
    "    for patch_obj in tract_sublist[1]:\n",
    "        patch_id = str(patch_obj.getIndex()).replace('(','').replace(')','').replace(' ','')\n",
    "        blank_data_id = {'tract': tract_id, 'patch':patch_id}\n",
    "\n",
    "        data_id_g = copy.deepcopy(blank_data_id)\n",
    "        data_id_g['filter'] = 'HSC-G'\n",
    "        data_id_r = copy.deepcopy(blank_data_id)\n",
    "        data_id_r['filter'] = 'HSC-R'\n",
    "        data_id_i = copy.deepcopy(blank_data_id)\n",
    "        data_id_i['filter'] = 'HSC-I'\n",
    "\n",
    "        if not butler.datasetExists('deepCoadd_forced_src', dataId=data_id_g):\n",
    "            continue\n",
    "\n",
    "        if not butler.datasetExists('deepCoadd_forced_src', dataId=data_id_r):\n",
    "            continue\n",
    "\n",
    "        if not butler.datasetExists('deepCoadd_forced_src', dataId=data_id_i):\n",
    "            continue\n",
    "        #print('loading %s' % str(blank_data_id))\n",
    "        \n",
    "        data_g = butler.get('deepCoadd_forced_src', dataId=data_id_g)#.asAstropy()\n",
    "        data_r = butler.get('deepCoadd_forced_src', dataId=data_id_r)#.asAstropy()\n",
    "        data_i = butler.get('deepCoadd_forced_src', dataId=data_id_i)#.asAstropy()\n",
    "\n",
    "        np.testing.assert_array_equal(data_g['id'], data_r['id'])\n",
    "        np.testing.assert_array_equal(data_g['id'], data_i['id'])\n",
    "        np.testing.assert_array_equal(data_g['coord_ra'], data_r['coord_ra'])\n",
    "        np.testing.assert_array_equal(data_g['coord_ra'], data_i['coord_ra'])\n",
    "        np.testing.assert_array_equal(data_g['coord_dec'], data_r['coord_dec'])\n",
    "        np.testing.assert_array_equal(data_g['coord_dec'], data_r['coord_dec'])\n",
    "\n",
    "        calib_g = butler.get('deepCoadd_calexp_photoCalib', dataId=data_id_g)\n",
    "        calib_r = butler.get('deepCoadd_calexp_photoCalib', dataId=data_id_r)\n",
    "        calib_i = butler.get('deepCoadd_calexp_photoCalib', dataId=data_id_i)\n",
    "    \n",
    "        g_mag, g_model, star_g = select_stars(data_g, calib_g)\n",
    "        r_mag, r_model, star_r = select_stars(data_r, calib_r)\n",
    "        i_mag, i_model, star_i = select_stars(data_i, calib_i)\n",
    "        stars = np.where(star_g & star_r & star_i)\n",
    "\n",
    "        coadd_g_mags.append(g_mag[stars])\n",
    "        coadd_g_model.append(g_model[stars])\n",
    "        coadd_r_mags.append(r_mag[stars])\n",
    "        coadd_r_model.append(r_model[stars])\n",
    "        coadd_i_mags.append(i_mag[stars])\n",
    "        coadd_i_model.append(i_model[stars])\n",
    "    \n",
    "        coadd_ra.append(data_g['coord_ra'][stars])\n",
    "        coadd_dec.append(data_g['coord_dec'][stars])\n",
    "        coadd_unq_id.append(data_g['id'][stars])\n",
    "\n",
    "    \n",
    "        #coadd_g_mags.append(calib_g.instFluxToMagnitude(data_g['base_PsfFlux_instFlux']))\n",
    "        #coadd_r_mags.append(calib_r.instFluxToMagnitude(data_r['base_PsfFlux_instFlux']))\n",
    "        #coadd_i_mags.append(calib_i.instFluxToMagnitude(data_i['base_PsfFlux_instFlux']))\n",
    "\n",
    "    \n",
    "coadd_unq_id = np.concatenate(coadd_unq_id)\n",
    "coadd_ra = np.concatenate(coadd_ra)\n",
    "coadd_dec = np.concatenate(coadd_dec)\n",
    "coadd_g_mags = np.concatenate(coadd_g_mags)\n",
    "coadd_r_mags = np.concatenate(coadd_r_mags)\n",
    "coadd_i_mags = np.concatenate(coadd_i_mags)\n",
    "coadd_g_model = np.concatenate(coadd_g_model)\n",
    "coadd_r_model = np.concatenate(coadd_r_model)\n",
    "coadd_i_model = np.concatenate(coadd_i_model)"
   ]
  },
  {
   "cell_type": "code",
   "execution_count": 18,
   "metadata": {},
   "outputs": [
    {
     "name": "stdout",
     "output_type": "stream",
     "text": [
      "18129\n"
     ]
    }
   ],
   "source": [
    "print(len(coadd_g_mags))"
   ]
  },
  {
   "cell_type": "code",
   "execution_count": 19,
   "metadata": {},
   "outputs": [
    {
     "data": {
      "image/png": "[encoded data removed]",
      "text/plain": [
       "<Figure size 720x720 with 1 Axes>"
      ]
     },
     "metadata": {
      "needs_background": "light"
     },
     "output_type": "display_data"
    },
    {
     "name": "stdout",
     "output_type": "stream",
     "text": [
      "18.918516828728663\n"
     ]
    }
   ],
   "source": [
    "plt.figure(figsize=(10,10))\n",
    "plt.scatter(coadd_g_mags, coadd_g_mags-coadd_g_model)\n",
    "plt.xlabel('g(PSF)')\n",
    "plt.ylabel('g(PSF)-g(cModel)')\n",
    "plt.ylim(-0.1,0.1)\n",
    "plt.show()\n",
    "print(coadd_g_mags.min())"
   ]
  },
  {
   "cell_type": "code",
   "execution_count": 20,
   "metadata": {},
   "outputs": [
    {
     "name": "stdout",
     "output_type": "stream",
     "text": [
      "18129\n"
     ]
    },
    {
     "data": {
      "image/png": "[encoded data removed]",
      "text/plain": [
       "<Figure size 720x720 with 1 Axes>"
      ]
     },
     "metadata": {
      "needs_background": "light"
     },
     "output_type": "display_data"
    }
   ],
   "source": [
    "plt.figure(figsize=(10,10))\n",
    "#plt.scatter(coadd_g_mags-coadd_r_mags, coadd_r_mags-coadd_i_mags,s=0.5)\n",
    "valid_meas = np.logical_and(np.isfinite(coadd_g_mags),\n",
    "                 np.logical_and(np.isfinite(coadd_r_mags), np.isfinite(coadd_i_mags)))\n",
    "\n",
    "bright_enough = np.logical_and(coadd_g_mags<25.0,\n",
    "                np.logical_and(coadd_r_mags<25.0, coadd_i_mags<25.0))\n",
    "\n",
    "valid = np.where(np.logical_and(valid_meas, bright_enough))\n",
    "print(len(valid[0]))\n",
    "plt.scatter(coadd_g_mags-coadd_r_mags,\n",
    "            coadd_r_mags-coadd_i_mags,s=0.5)\n",
    "\n",
    "#plt.hist2d(coadd_g_mags[valid]-coadd_r_mags[valid],\n",
    "#           coadd_r_mags[valid]-coadd_i_mags[valid], bins=(200,200), cmap=plt.cm.jet)\n",
    "plt.xlabel('g-r')\n",
    "plt.ylabel('r-i')\n",
    "#plt.ylim(20,35)\n",
    "#plt.xlim(-5,5)\n",
    "plt.show()"
   ]
  },
  {
   "cell_type": "code",
   "execution_count": 49,
   "metadata": {},
   "outputs": [],
   "source": [
    "import scipy.spatial as scipy_spatial\n",
    "coadd_ra_normalized = coadd_ra/np.cos(coadd_dec)\n",
    "coadd_spatial_data = np.array([coadd_ra_normalized, coadd_dec]).transpose()\n",
    "coadd_spatial_tree = scipy_spatial.cKDTree(coadd_spatial_data, leafsize=16)"
   ]
  },
  {
   "cell_type": "code",
   "execution_count": 26,
   "metadata": {},
   "outputs": [
    {
     "name": "stdout",
     "output_type": "stream",
     "text": [
      "19123\n"
     ]
    }
   ],
   "source": [
    "print(len(all_coverage[0]))"
   ]
  },
  {
   "cell_type": "code",
   "execution_count": 78,
   "metadata": {},
   "outputs": [
    {
     "name": "stdout",
     "output_type": "stream",
     "text": [
      "got 200 in 2.53e-03 hrs (1.27e-05; 5.03e-01)\n",
      "got 400 in 5.83e-03 hrs (1.46e-05; 5.79e-01)\n",
      "got 600 in 1.44e-02 hrs (2.40e-05; 9.53e-01)\n",
      "got 800 in 2.79e-02 hrs (3.48e-05; 1.38e+00)\n",
      "got 1000 in 4.28e-02 hrs (4.28e-05; 1.70e+00)\n",
      "got 1200 in 5.55e-02 hrs (4.62e-05; 1.84e+00)\n",
      "got 1400 in 6.82e-02 hrs (4.87e-05; 1.94e+00)\n",
      "got 1600 in 8.11e-02 hrs (5.07e-05; 2.01e+00)\n",
      "got 1800 in 9.72e-02 hrs (5.40e-05; 2.15e+00)\n",
      "got 2000 in 1.14e-01 hrs (5.70e-05; 2.27e+00)\n",
      "got 2200 in 1.31e-01 hrs (5.97e-05; 2.37e+00)\n",
      "got 2400 in 1.48e-01 hrs (6.18e-05; 2.46e+00)\n",
      "got 2600 in 1.67e-01 hrs (6.41e-05; 2.55e+00)\n",
      "got 2800 in 1.85e-01 hrs (6.60e-05; 2.62e+00)\n",
      "got 3000 in 2.02e-01 hrs (6.74e-05; 2.68e+00)\n",
      "got 3200 in 2.18e-01 hrs (6.82e-05; 2.71e+00)\n",
      "got 3400 in 2.37e-01 hrs (6.97e-05; 2.77e+00)\n",
      "got 3600 in 2.50e-01 hrs (6.96e-05; 2.77e+00)\n",
      "got 3800 in 2.64e-01 hrs (6.94e-05; 2.76e+00)\n",
      "got 4000 in 2.79e-01 hrs (6.97e-05; 2.77e+00)\n",
      "all done\n"
     ]
    }
   ],
   "source": [
    "#%%prun -s cumulative -D sfd_profile.sav\n",
    "\n",
    "import time\n",
    "t_start = time.time()\n",
    "single_ra = []\n",
    "single_dec = []\n",
    "single_mag = []\n",
    "single_filter = []\n",
    "ct_single = 0\n",
    "#for single_dex in all_coverage[0][:2000]:\n",
    "n_visits = len(spatial_lookup['filter'][()])\n",
    "\n",
    "#for single_dex in range(n_visits):\n",
    "for single_dex in all_coverage[0][:4000]:\n",
    "    filter_name = spatial_lookup['filter'][()][single_dex]\n",
    "    data_id_single = {'visit': int(spatial_lookup['visit'][()][single_dex]),\n",
    "                      'ccd': int(spatial_lookup['ccd'][()][single_dex]),\n",
    "                      'filter': filter_name.decode()}\n",
    "    data_single = butler.get('src', dataId=data_id_single, immediate=True)\n",
    "    calib_single = butler.get('calexp_photoCalib', dataId=data_id_single, immediate=True)\n",
    "    psf_mag, model_mag, star_dex = select_stars(data_single, calib_single)\n",
    "    single_ra.append(data_single['coord_ra'][star_dex])\n",
    "    single_dec.append(data_single['coord_dec'][star_dex])\n",
    "    single_mag.append(psf_mag[star_dex])\n",
    "    single_filter.append([filter_name]*np.sum(star_dex))\n",
    "    assert len(single_filter[-1]) == len(single_ra[-1])\n",
    "    ct_single += 1\n",
    "    if ct_single % 200 == 0:\n",
    "        duration = (time.time()-t_start)/3600.0\n",
    "        per = duration/ct_single\n",
    "        pred = per*n_visits\n",
    "        print('got %d in %.2e hrs (%.2e; %.2e)' % (ct_single, duration, per, pred))\n",
    "\n",
    "\n",
    "single_ra = np.concatenate(single_ra)\n",
    "single_dec = np.concatenate(single_dec)\n",
    "single_mag = np.concatenate(single_mag)\n",
    "single_filter = np.concatenate(single_filter)\n",
    "\n",
    "\n",
    "single_exposure_data_name = '/project/danielsf/udeep_single_visit.h5'\n",
    "with h5py.File(single_exposure_data_name, 'w') as out_file:\n",
    "    out_file.create_dataset('ra', data=single_ra)\n",
    "    out_file.create_dataset('dec', data=single_dec)\n",
    "    out_file.create_dataset('mag', data=single_mag)\n",
    "    out_file.create_dataset('filter', data=single_filter)\n",
    "\n",
    "with open('/project/danielsf/single_data_log.txt', 'w') as out_file:\n",
    "    out_file.write('all done %d\\n' % ct_single)\n",
    "\n",
    "print('all done')\n",
    "\n"
   ]
  },
  {
   "cell_type": "code",
   "execution_count": 77,
   "metadata": {},
   "outputs": [
    {
     "name": "stdout",
     "output_type": "stream",
     "text": [
      "19123\n"
     ]
    }
   ],
   "source": [
    "print(len(all_coverage[0]))"
   ]
  },
  {
   "cell_type": "code",
   "execution_count": 79,
   "metadata": {},
   "outputs": [
    {
     "name": "stdout",
     "output_type": "stream",
     "text": [
      "b'HSC-G' 97640\n",
      "b'HSC-I' 348479\n",
      "b'HSC-R' 88143\n",
      "b'HSC-Y' 300631\n",
      "834893\n",
      "834893\n"
     ]
    }
   ],
   "source": [
    "for filter_name in np.unique(single_filter):\n",
    "    n_obs = len(np.where(single_filter==filter_name)[0])\n",
    "    print(filter_name, n_obs)\n",
    "print(len(single_filter))\n",
    "print(len(single_ra))"
   ]
  },
  {
   "cell_type": "code",
   "execution_count": 64,
   "metadata": {},
   "outputs": [],
   "source": [
    "import pstats\n",
    "profile = pstats.Stats('sfd_profile.sav')"
   ]
  },
  {
   "cell_type": "code",
   "execution_count": 68,
   "metadata": {},
   "outputs": [
    {
     "name": "stdout",
     "output_type": "stream",
     "text": [
      "Wed Aug  7 22:12:53 2019    sfd_profile.sav\n",
      "\n",
      "         5570368 function calls (5532368 primitive calls) in 444.495 seconds\n",
      "\n",
      "   Random listing order was used\n",
      "   List reduced from 206 to 1 due to restriction <'select_stars'>\n",
      "\n",
      "   ncalls  tottime  percall  cumtime  percall filename:lineno(function)\n",
      "     2000    1.204    0.001    1.552    0.001 <ipython-input-18-07bec45d3264>:1(select_stars)\n",
      "\n",
      "\n"
     ]
    },
    {
     "data": {
      "text/plain": [
       "<pstats.Stats at 0x7f4bec2ff9e8>"
      ]
     },
     "execution_count": 68,
     "metadata": {},
     "output_type": "execute_result"
    }
   ],
   "source": [
    "profile.print_stats('select_stars')"
   ]
  },
  {
   "cell_type": "code",
   "execution_count": 68,
   "metadata": {},
   "outputs": [
    {
     "name": "stdout",
     "output_type": "stream",
     "text": [
      "5549765\n",
      "5549765\n",
      "50715429\n",
      "50715429\n",
      "(50715429,)\n",
      "(5549765,)\n"
     ]
    }
   ],
   "source": [
    "single_exposure_data_name = '/project/danielsf/udeep_single_visit.h5'\n",
    "with h5py.File(single_exposure_data_name, 'r') as in_file:\n",
    "    single_ra = in_file['ra'][()]\n",
    "    single_dec = in_file['dec'][()]\n",
    "    single_mag = in_file['mag'][()]\n",
    "    single_filter = in_file['filter'][()]\n",
    "print(len(single_ra))\n",
    "print(len(single_dec))\n",
    "print(len(single_mag))\n",
    "print(len(single_filter))\n",
    "print(single_mag.shape)\n",
    "print(single_ra.shape)"
   ]
  },
  {
   "cell_type": "code",
   "execution_count": 80,
   "metadata": {},
   "outputs": [],
   "source": [
    "single_ra_normalized = single_ra/np.cos(single_dec)\n",
    "single_spatial_data = np.array([single_ra_normalized, single_dec]).transpose()"
   ]
  },
  {
   "cell_type": "code",
   "execution_count": 81,
   "metadata": {},
   "outputs": [
    {
     "name": "stdout",
     "output_type": "stream",
     "text": [
      "CPU times: user 694 ms, sys: 15.8 ms, total: 710 ms\n",
      "Wall time: 711 ms\n"
     ]
    }
   ],
   "source": [
    "%%time\n",
    "fit_dist, fit_dex = coadd_spatial_tree.query(single_spatial_data, k=2)"
   ]
  },
  {
   "cell_type": "code",
   "execution_count": 157,
   "metadata": {},
   "outputs": [],
   "source": [
    "# Select only those stars that are within 0.05 arcseconds of a coadd force source\n",
    "# and for whom the nearest neighbor is 10 times closer than the next nearest neighbor\n",
    "\n",
    "fit_d_trans = fit_dist.transpose()\n",
    "fit_d_ratio = fit_d_trans[0]/fit_d_trans[1]\n",
    "fit_d_arcsec= fit_d_trans[0]/np.radians(1/3600)\n",
    "\n",
    "valid = np.where(np.logical_and(fit_d_ratio<0.1, fit_d_arcsec<0.05))"
   ]
  },
  {
   "cell_type": "code",
   "execution_count": 158,
   "metadata": {},
   "outputs": [
    {
     "name": "stdout",
     "output_type": "stream",
     "text": [
      "58130\n"
     ]
    }
   ],
   "source": [
    "print(len(valid[0]))"
   ]
  },
  {
   "cell_type": "code",
   "execution_count": 159,
   "metadata": {},
   "outputs": [
    {
     "name": "stdout",
     "output_type": "stream",
     "text": [
      "58130\n",
      "2829\n"
     ]
    }
   ],
   "source": [
    "fit_dex_trans = fit_dex.transpose()\n",
    "single_fit_id = fit_dex_trans[0][valid]\n",
    "single_fit_unq_id, unq_cts = np.unique(single_fit_id, return_counts=True)\n",
    "print(len(single_fit_id))\n",
    "print(len(single_fit_unq_id))\n",
    "single_fit_ra = single_ra[valid]\n",
    "single_fit_dec = single_dec[valid]\n",
    "single_fit_mag = single_mag[valid]\n",
    "single_fit_filter = single_filter[valid]"
   ]
  },
  {
   "cell_type": "code",
   "execution_count": 160,
   "metadata": {},
   "outputs": [],
   "source": [
    "unq_filter_list = np.unique(single_fit_filter)\n",
    "rms_by_filter = {}\n",
    "mean_by_filter = {}\n",
    "median_by_filter = {}\n",
    "ct_by_filter = {}\n",
    "for filter_name in unq_filter_list:\n",
    "    rms_by_filter[filter_name] = []\n",
    "    mean_by_filter[filter_name] = []\n",
    "    median_by_filter[filter_name] = []\n",
    "    ct_by_filter[filter_name] = []\n",
    "    is_filter = (single_fit_filter==filter_name)\n",
    "    for unq_id in single_fit_unq_id:\n",
    "        is_obj = (single_fit_id==unq_id)\n",
    "        of_interest = is_filter & is_obj\n",
    "        if np.sum(of_interest)>10:\n",
    "            rms_by_filter[filter_name].append(np.std(single_fit_mag[of_interest]))\n",
    "            mean_by_filter[filter_name].append(np.mean(single_fit_mag[of_interest]))\n",
    "            median_by_filter[filter_name].append(np.median(single_fit_mag[of_interest]))\n",
    "            ct_by_filter[filter_name].append(np.sum(of_interest))\n",
    "\n",
    "for filter_name in rms_by_filter:\n",
    "    rms_by_filter[filter_name] = np.array(rms_by_filter[filter_name])\n",
    "    mean_by_filter[filter_name] = np.array(mean_by_filter[filter_name])\n",
    "    median_by_filter[filter_name] = np.array(median_by_filter[filter_name])\n",
    "    ct_by_filter[filter_name] = np.array(ct_by_filter[filter_name])"
   ]
  },
  {
   "cell_type": "code",
   "execution_count": 161,
   "metadata": {},
   "outputs": [
    {
     "name": "stdout",
     "output_type": "stream",
     "text": [
      "b'HSC-G' 25\n",
      "b'HSC-I' 922\n",
      "b'HSC-R' 0\n",
      "b'HSC-Y' 929\n"
     ]
    }
   ],
   "source": [
    "for filter_name in rms_by_filter:\n",
    "    print(filter_name, len(rms_by_filter[filter_name]))"
   ]
  },
  {
   "cell_type": "code",
   "execution_count": 163,
   "metadata": {},
   "outputs": [],
   "source": [
    "#ct_by_filter[b'HSC-Y']"
   ]
  },
  {
   "cell_type": "code",
   "execution_count": 166,
   "metadata": {},
   "outputs": [
    {
     "data": {
      "image/png": "[encoded data removed]",
      "text/plain": [
       "<Figure size 720x720 with 1 Axes>"
      ]
     },
     "metadata": {
      "needs_background": "light"
     },
     "output_type": "display_data"
    },
    {
     "data": {
      "image/png": "[encoded data removed]",
      "text/plain": [
       "<Figure size 720x720 with 1 Axes>"
      ]
     },
     "metadata": {
      "needs_background": "light"
     },
     "output_type": "display_data"
    },
    {
     "data": {
      "image/png": "[encoded data removed]",
      "text/plain": [
       "<Figure size 720x720 with 1 Axes>"
      ]
     },
     "metadata": {
      "needs_background": "light"
     },
     "output_type": "display_data"
    }
   ],
   "source": [
    "pa_limit = {}\n",
    "pa_limit[b'HSC-Y'] = 0.0075\n",
    "pa_limit[b'HSC-G'] = 0.005\n",
    "pa_limit[b'HSC-R'] = 0.005\n",
    "pa_limit[b'HSC-I'] = 0.005\n",
    "\n",
    "for bp in [b'HSC-G', b'HSC-I', b'HSC-Y']:\n",
    "    plt.figure(figsize=(10,10))\n",
    "    #plt.hist(median_by_filter[bp]-mean_by_filter[bp], label='median-mean', bins=20)\n",
    "    plt.hist(rms_by_filter[bp], alpha=0.7, label='RMS', bins=20)\n",
    "    plt.legend()\n",
    "    plt.xlabel('RMS in %s' % bp.decode())\n",
    "    plt.ylabel('ct')\n",
    "    plt.axvline(pa_limit[bp], color='r', linestyle='--')\n",
    "    plt.show()"
   ]
  },
  {
   "cell_type": "code",
   "execution_count": 104,
   "metadata": {},
   "outputs": [
    {
     "name": "stdout",
     "output_type": "stream",
     "text": [
      "19.76193234097509\n",
      "0.08009453055584428\n",
      "0.026363517799225633\n"
     ]
    }
   ],
   "source": [
    "mag_of_interest = single_fit_mag[is_y_and_obj]\n",
    "print(np.mean(mag_of_interest))\n",
    "print(np.std(mag_of_interest))\n",
    "print(np.median(mag_of_interest-np.mean(mag_of_interest)))"
   ]
  },
  {
   "cell_type": "code",
   "execution_count": 88,
   "metadata": {},
   "outputs": [],
   "source": [
    "single_id = single_unq_id\n",
    "single_unq_id = np.unique(single_id)"
   ]
  },
  {
   "cell_type": "code",
   "execution_count": 47,
   "metadata": {},
   "outputs": [
    {
     "name": "stdout",
     "output_type": "stream",
     "text": [
      "0.5858461011902701 2.6371228980118318\n",
      "-0.09906064506036683 0.05368999408705541\n",
      "-0.09849824762930104 -0.0729959065428838\n"
     ]
    }
   ],
   "source": [
    "print(single_ra.min(), single_ra.max())\n",
    "print(single_dec.min(), single_dec.max())\n",
    "print(coadd_dec.min(), coadd_dec.max())"
   ]
  },
  {
   "cell_type": "code",
   "execution_count": 63,
   "metadata": {},
   "outputs": [
    {
     "name": "stdout",
     "output_type": "stream",
     "text": [
      "1920708\n",
      "(5549765, 2)\n",
      "5549765\n"
     ]
    }
   ],
   "source": [
    "in_ra = (single_ra>=coadd_ra.min()) & (single_ra<=coadd_ra.max())\n",
    "in_dec = (single_dec>=coadd_dec.min()) & (single_dec<=coadd_dec.max())\n",
    "inside = in_ra & in_dec\n",
    "print(np.sum(inside))\n",
    "print(single_spatial_data.shape)\n",
    "print(len(single_ra))"
   ]
  },
  {
   "cell_type": "code",
   "execution_count": 110,
   "metadata": {},
   "outputs": [
    {
     "name": "stdout",
     "output_type": "stream",
     "text": [
      "1168\n"
     ]
    }
   ],
   "source": [
    "ct_id = []\n",
    "for ii in single_unq_id:\n",
    "    ct_id.append(len(np.where(single_id==ii)[0]))\n",
    "ct_id = np.array(ct_id)\n",
    "print(np.argmax(ct_id))"
   ]
  },
  {
   "cell_type": "code",
   "execution_count": 111,
   "metadata": {},
   "outputs": [],
   "source": [
    "valid = np.where(single_id==single_unq_id[1168])"
   ]
  },
  {
   "cell_type": "code",
   "execution_count": 113,
   "metadata": {},
   "outputs": [
    {
     "name": "stdout",
     "output_type": "stream",
     "text": [
      "[b'HSC-Y']\n"
     ]
    }
   ],
   "source": [
    "print(np.unique(single_filter))"
   ]
  },
  {
   "cell_type": "code",
   "execution_count": 117,
   "metadata": {},
   "outputs": [
    {
     "data": {
      "text/plain": [
       "array([0.5889144 , 0.58891458, 0.58891579, ..., 2.63714844, 2.63714872,\n",
       "       2.63715068])"
      ]
     },
     "execution_count": 117,
     "metadata": {},
     "output_type": "execute_result"
    }
   ],
   "source": [
    "np.unique(spatial_lookup['ra_max'][()])"
   ]
  },
  {
   "cell_type": "code",
   "execution_count": null,
   "metadata": {},
   "outputs": [],
   "source": [
    "dex = all_coverage[0][0]\n",
    "data_id_single = {'visit': int(spatial_lookup['visit'][()][dex]),\n",
    "                  'ccd': int(spatial_lookup['ccd'][()][dex]),\n",
    "                  'filter': spatial_lookup['filter'][()][dex].decode()}\n",
    "data_single = butler.get('src', dataId=data_id_single)\n",
    "calib_single = butler.get('calexp_photoCalib', dataId=data_id_single)"
   ]
  },
  {
   "cell_type": "code",
   "execution_count": null,
   "metadata": {},
   "outputs": [],
   "source": [
    "#data_single.getSchema()"
   ]
  },
  {
   "cell_type": "code",
   "execution_count": null,
   "metadata": {},
   "outputs": [],
   "source": [
    "psf_mag, model_mag, star_dex = select_stars(data_single, calib_single)"
   ]
  },
  {
   "cell_type": "code",
   "execution_count": null,
   "metadata": {},
   "outputs": [],
   "source": [
    "subs = data_single.subset(star_dex)"
   ]
  },
  {
   "cell_type": "code",
   "execution_count": null,
   "metadata": {},
   "outputs": [],
   "source": [
    "psf_mag_2, model_mag_2, star_dex_2 = select_stars(subs, calib_single)"
   ]
  },
  {
   "cell_type": "code",
   "execution_count": null,
   "metadata": {},
   "outputs": [],
   "source": [
    "np.array_equal(subs['id'], data_single['id'][star_dex])"
   ]
  },
  {
   "cell_type": "code",
   "execution_count": null,
   "metadata": {},
   "outputs": [],
   "source": [
    "normalized_ra = data_single['coord_ra']/np.cos(data_single['coord_dec'])\n",
    "spatial_data = np.array([normalized_ra, data_single['coord_dec']]).transpose()"
   ]
  },
  {
   "cell_type": "code",
   "execution_count": null,
   "metadata": {},
   "outputs": [],
   "source": [
    "fit_dist, fit_dex = coadd_spatial_tree.query(spatial_data)"
   ]
  },
  {
   "cell_type": "code",
   "execution_count": null,
   "metadata": {},
   "outputs": [],
   "source": [
    "within_arcsec = np.where(np.logical_and(fit_dist<np.radians(1.0/3600.0),\n",
    "                                        data_single['base_ClassificationExtendedness_value']==0))"
   ]
  },
  {
   "cell_type": "code",
   "execution_count": null,
   "metadata": {},
   "outputs": [],
   "source": [
    "id_within_arcsec = data_single['id'][within_arcsec]"
   ]
  },
  {
   "cell_type": "code",
   "execution_count": null,
   "metadata": {},
   "outputs": [],
   "source": [
    "print(coadd_unq_id.min(),coadd_unq_id.max())\n",
    "print(id_within_arcsec.min(),id_within_arcsec.max())"
   ]
  },
  {
   "cell_type": "code",
   "execution_count": null,
   "metadata": {},
   "outputs": [],
   "source": [
    "data_single['base_ClassificationExtendedness_value'][within_arcsec]"
   ]
  },
  {
   "cell_type": "code",
   "execution_count": null,
   "metadata": {},
   "outputs": [],
   "source": [
    "fit_dex_within = fit_dex[within_arcsec]\n",
    "print(len(fit_dex_within))\n",
    "print(len(np.unique(fit_dex_within)))"
   ]
  },
  {
   "cell_type": "code",
   "execution_count": null,
   "metadata": {},
   "outputs": [],
   "source": [
    "data_g = butler.get('deepCoadd_forced_src', dataId=data_id_g).asAstropy()\n",
    "data_r = butler.get('deepCoadd_forced_src', dataId=data_id_r).asAstropy()\n",
    "data_i = butler.get('deepCoadd_forced_src', dataId=data_id_i).asAstropy()"
   ]
  },
  {
   "cell_type": "code",
   "execution_count": null,
   "metadata": {},
   "outputs": [],
   "source": [
    "for name in data.colnames:\n",
    "    if 'endedness' in name:\n",
    "        print(name)"
   ]
  },
  {
   "cell_type": "code",
   "execution_count": null,
   "metadata": {},
   "outputs": [],
   "source": [
    "data_id = {}\n",
    "data_id['visit']=6292\n",
    "data_id['ccd']=38\n",
    "data_id['filter']='HSC-G'\n",
    "data_id_single['ccd'] = 38\n",
    "\n",
    "print('data_id: ',data_id)\n",
    "print('data_id_single: ',data_id_single)\n",
    "\n",
    "print('ccd',data_id['ccd']==data_id_single['ccd'])\n",
    "print('visit',data_id['visit']==data_id_single['visit'])\n",
    "print('filter',data_id['filter']==data_id_single['filter'])\n",
    "print('data_id==data_id_single: ',data_id==data_id_single)\n",
    "\n",
    "print('data_id exists: ',butler.datasetExists('src', dataId=data_id))\n",
    "print('data_id_single exists: ',butler.datasetExists('src', dataId=data_id_single))\n",
    "\n",
    "print(type(data_id['filter']))\n",
    "print(type(data_id_single['filter']))"
   ]
  },
  {
   "cell_type": "code",
   "execution_count": null,
   "metadata": {},
   "outputs": [],
   "source": [
    "data_id = {}\n",
    "data_id['ccd'] = 38\n",
    "data_id['visit'] = 6292\n",
    "data_id['filter'] = 'HSC-G'\n",
    "print(butler.datasetExists('src', dataId=data_id))\n",
    "print()\n",
    "\n",
    "data_id_b = {}\n",
    "data_id_b['ccd'] = 38\n",
    "data_id_b['visit'] = 6292\n",
    "data_id_b['filter'] = np.bytes_('HSC-G').decode()\n",
    "print(butler.datasetExists('src', dataId=data_id_b))\n",
    "print()\n",
    "filter_id = spatial_lookup['filter'][()][dex]\n",
    "print(filter_id,type(filter_id))\n",
    "data_id_b['filter'] = filter_id.decode()\n",
    "print(data_id_b)\n",
    "print(butler.datasetExists('src', dataId=data_id_b))\n",
    "\n",
    "print(data_id_b==data_id_single)\n",
    "print(butler.datasetExists('src', dataId=data_id_single))\n",
    "data_id_single['filter'] = 'HSC-G'\n",
    "data_id_single['visit'] = 6292\n",
    "#data_id_single.pop('visist')\n",
    "print('does it exist ',butler.datasetExists('src', dataId=data_id_single))\n",
    "type(data_id_single['visit'])"
   ]
  },
  {
   "cell_type": "code",
   "execution_count": null,
   "metadata": {},
   "outputs": [],
   "source": [
    "data_id_single"
   ]
  },
  {
   "cell_type": "code",
   "execution_count": null,
   "metadata": {},
   "outputs": [],
   "source": [
    "np.bytes_('abcd').decode()"
   ]
  },
  {
   "cell_type": "code",
   "execution_count": null,
   "metadata": {},
   "outputs": [],
   "source": [
    "data_g.getSchema()"
   ]
  },
  {
   "cell_type": "code",
   "execution_count": null,
   "metadata": {},
   "outputs": [],
   "source": [
    "data_g['modelfit_CModel_flux']"
   ]
  },
  {
   "cell_type": "code",
   "execution_count": null,
   "metadata": {},
   "outputs": [],
   "source": [
    "stars = np.where(data_g['base_ClassificationExtendedness_value']==0)"
   ]
  },
  {
   "cell_type": "code",
   "execution_count": null,
   "metadata": {},
   "outputs": [],
   "source": [
    "stars_r = np.where(data_r['base_ClassificationExtendedness_value']==0)\n",
    "data_g['id'][:10]"
   ]
  },
  {
   "cell_type": "code",
   "execution_count": null,
   "metadata": {},
   "outputs": [],
   "source": [
    "np.testing.assert_array_equal(data_g['id'], data_r['id'])\n",
    "np.testing.assert_array_equal(data_g['id'], data_i['id'])"
   ]
  },
  {
   "cell_type": "code",
   "execution_count": null,
   "metadata": {},
   "outputs": [],
   "source": [
    "stars_r[0]"
   ]
  },
  {
   "cell_type": "code",
   "execution_count": null,
   "metadata": {},
   "outputs": [],
   "source": [
    "stars[0]"
   ]
  },
  {
   "cell_type": "code",
   "execution_count": null,
   "metadata": {},
   "outputs": [],
   "source": [
    "len(stars_r[0])"
   ]
  },
  {
   "cell_type": "code",
   "execution_count": null,
   "metadata": {},
   "outputs": [],
   "source": [
    "len(stars[0])"
   ]
  },
  {
   "cell_type": "code",
   "execution_count": null,
   "metadata": {},
   "outputs": [],
   "source": [
    "stars_r[0][3]"
   ]
  },
  {
   "cell_type": "code",
   "execution_count": null,
   "metadata": {},
   "outputs": [],
   "source": [
    "np.any(data_g['base_ClassificationExtendedness_flag'][stars])"
   ]
  },
  {
   "cell_type": "code",
   "execution_count": null,
   "metadata": {},
   "outputs": [],
   "source": [
    "stars = np.where(np.logical_and(data_g['base_ClassificationExtendedness_value']==0,\n",
    "                 np.logical_and(data_i['base_ClassificationExtendedness_value']==0,\n",
    "                                data_r['base_ClassificationExtendedness_value']==0)))"
   ]
  },
  {
   "cell_type": "code",
   "execution_count": null,
   "metadata": {},
   "outputs": [],
   "source": [
    "len(stars[0])"
   ]
  },
  {
   "cell_type": "code",
   "execution_count": null,
   "metadata": {},
   "outputs": [],
   "source": [
    "calib = butler.get('deepCoadd_calexp_photoCalib', dataId=data_id_r)"
   ]
  },
  {
   "cell_type": "code",
   "execution_count": null,
   "metadata": {},
   "outputs": [],
   "source": [
    "dir(calib)"
   ]
  },
  {
   "cell_type": "code",
   "execution_count": null,
   "metadata": {},
   "outputs": [],
   "source": [
    "help(calib.instFluxToMagnitude)"
   ]
  },
  {
   "cell_type": "code",
   "execution_count": null,
   "metadata": {},
   "outputs": [],
   "source": [
    "help(calib_g.instFluxToMagnitude)"
   ]
  },
  {
   "cell_type": "code",
   "execution_count": null,
   "metadata": {},
   "outputs": [],
   "source": [
    "type(data_g.getSchema().getNames())"
   ]
  },
  {
   "cell_type": "code",
   "execution_count": null,
   "metadata": {},
   "outputs": [],
   "source": [
    "colnames = data_g.getSchema().getNames()"
   ]
  },
  {
   "cell_type": "code",
   "execution_count": null,
   "metadata": {},
   "outputs": [],
   "source": [
    "'modelfit_CModel_flux' in colnames"
   ]
  },
  {
   "cell_type": "code",
   "execution_count": 124,
   "metadata": {},
   "outputs": [
    {
     "data": {
      "text/plain": [
       "19123"
      ]
     },
     "execution_count": 124,
     "metadata": {},
     "output_type": "execute_result"
    }
   ],
   "source": [
    "len(all_coverage[0])"
   ]
  },
  {
   "cell_type": "code",
   "execution_count": 125,
   "metadata": {},
   "outputs": [
    {
     "data": {
      "text/plain": [
       "['GENERATION',\n",
       " '__class__',\n",
       " '__delattr__',\n",
       " '__dict__',\n",
       " '__dir__',\n",
       " '__doc__',\n",
       " '__eq__',\n",
       " '__format__',\n",
       " '__ge__',\n",
       " '__getattribute__',\n",
       " '__gt__',\n",
       " '__hash__',\n",
       " '__init__',\n",
       " '__init_subclass__',\n",
       " '__le__',\n",
       " '__lt__',\n",
       " '__module__',\n",
       " '__ne__',\n",
       " '__new__',\n",
       " '__reduce__',\n",
       " '__reduce_ex__',\n",
       " '__repr__',\n",
       " '__setattr__',\n",
       " '__sizeof__',\n",
       " '__str__',\n",
       " '__subclasshook__',\n",
       " '__weakref__',\n",
       " '_addParents',\n",
       " '_assignDefaultMapper',\n",
       " '_connectParentRepoDatas',\n",
       " '_convertV1Args',\n",
       " '_getBypassFunc',\n",
       " '_getCfgs',\n",
       " '_getDefaultMapper',\n",
       " '_getOldButlerRepositoryCfg',\n",
       " '_getParentRepoData',\n",
       " '_getParentVal',\n",
       " '_getParents',\n",
       " '_getRepositoryCfg',\n",
       " '_initArgs',\n",
       " '_initRepo',\n",
       " '_locate',\n",
       " '_processInputArguments',\n",
       " '_read',\n",
       " '_repos',\n",
       " '_resolveDatasetTypeAlias',\n",
       " '_setAndVerifyParentsLists',\n",
       " '_setDefaultMapper',\n",
       " '_setRepoDataTags',\n",
       " 'dataRef',\n",
       " 'datasetExists',\n",
       " 'datasetTypeAliasDict',\n",
       " 'defineAlias',\n",
       " 'get',\n",
       " 'getKeys',\n",
       " 'getMapperClass',\n",
       " 'getUri',\n",
       " 'log',\n",
       " 'put',\n",
       " 'queryMetadata',\n",
       " 'storage',\n",
       " 'subset']"
      ]
     },
     "execution_count": 125,
     "metadata": {},
     "output_type": "execute_result"
    }
   ],
   "source": [
    "dir(butler)"
   ]
  },
  {
   "cell_type": "code",
   "execution_count": 127,
   "metadata": {},
   "outputs": [
    {
     "name": "stdout",
     "output_type": "stream",
     "text": [
      "Help on method get in module lsst.daf.persistence.butler:\n",
      "\n",
      "get(datasetType, dataId=None, immediate=True, **rest) method of lsst.daf.persistence.butler.Butler instance\n",
      "    Retrieves a dataset given an input collection data id.\n",
      "    \n",
      "    Parameters\n",
      "    ----------\n",
      "    datasetType - string\n",
      "        The type of dataset to retrieve.\n",
      "    dataId - dict\n",
      "        The data id.\n",
      "    immediate - bool\n",
      "        If False use a proxy for delayed loading.\n",
      "    **rest\n",
      "        keyword arguments for the data id.\n",
      "    \n",
      "    Returns\n",
      "    -------\n",
      "        An object retrieved from the dataset (or a proxy for one).\n",
      "\n"
     ]
    }
   ],
   "source": [
    "help(butler.get)"
   ]
  },
  {
   "cell_type": "code",
   "execution_count": null,
   "metadata": {},
   "outputs": [],
   "source": []
  }
 ],
 "metadata": {
  "kernelspec": {
   "display_name": "LSST",
   "language": "python",
   "name": "lsst"
  },
  "language_info": {
   "codemirror_mode": {
    "name": "ipython",
    "version": 3
   },
   "file_extension": ".py",
   "mimetype": "text/x-python",
   "name": "python",
   "nbconvert_exporter": "python",
   "pygments_lexer": "ipython3",
   "version": "3.7.2"
  }
 },
 "nbformat": 4,
 "nbformat_minor": 2
}
